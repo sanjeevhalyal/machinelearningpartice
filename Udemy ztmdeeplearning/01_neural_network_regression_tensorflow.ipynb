{
 "cells": [
  {
   "cell_type": "markdown",
   "id": "564426a8",
   "metadata": {},
   "source": [
    "# Intro regeression neural network using TensorFlow"
   ]
  },
  {
   "cell_type": "code",
   "execution_count": 2,
   "id": "b050a725",
   "metadata": {},
   "outputs": [
    {
     "data": {
      "text/plain": [
       "'2.10.0'"
      ]
     },
     "execution_count": 2,
     "metadata": {},
     "output_type": "execute_result"
    }
   ],
   "source": [
    "import tensorflow as tf\n",
    "tf.__version__"
   ]
  },
  {
   "cell_type": "code",
   "execution_count": 35,
   "id": "1dd3df0e",
   "metadata": {},
   "outputs": [
    {
     "data": {
      "image/png": "[encoded data removed]",
      "text/plain": [
       "<Figure size 640x480 with 1 Axes>"
      ]
     },
     "metadata": {},
     "output_type": "display_data"
    }
   ],
   "source": [
    "import numpy as np\n",
    "import matplotlib.pyplot as plt\n",
    "# Create features (using tensors)\n",
    "X = tf.constant([-7.0, -4.0, -1.0, 2.0, 5.0, 8.0, 11.0, 14.0])\n",
    "\n",
    "# Create labels (using tensors)\n",
    "y = tf.constant([3.0, 6.0, 9.0, 12.0, 15.0, 18.0, 21.0, 24.0])\n",
    "# Visualize it\n",
    "plt.scatter(X, y);"
   ]
  },
  {
   "cell_type": "code",
   "execution_count": 3,
   "id": "907e3155",
   "metadata": {},
   "outputs": [
    {
     "data": {
      "text/plain": [
       "(<tf.Tensor: shape=(3,), dtype=string, numpy=array([b'bedroom', b'bathroom', b'garage'], dtype=object)>,\n",
       " <tf.Tensor: shape=(1,), dtype=int32, numpy=array([939700], dtype=int32)>)"
      ]
     },
     "execution_count": 3,
     "metadata": {},
     "output_type": "execute_result"
    }
   ],
   "source": [
    "house_info = tf.constant([\"bedroom\", \"bathroom\", \"garage\"])\n",
    "house_price = tf.constant([939700])\n",
    "house_info, house_price"
   ]
  },
  {
   "cell_type": "code",
   "execution_count": 4,
   "id": "6b3b8a73",
   "metadata": {},
   "outputs": [
    {
     "name": "stdout",
     "output_type": "stream",
     "text": [
      "Epoch 1/10\n"
     ]
    },
    {
     "name": "stderr",
     "output_type": "stream",
     "text": [
      "2022-10-19 08:16:13.382616: W tensorflow/core/platform/profile_utils/cpu_utils.cc:128] Failed to get CPU frequency: 0 Hz\n"
     ]
    },
    {
     "name": "stdout",
     "output_type": "stream",
     "text": [
      "1/1 [==============================] - 0s 304ms/step - loss: 14.6429 - mae: 14.6429\n",
      "Epoch 2/10\n",
      "1/1 [==============================] - 0s 6ms/step - loss: 14.5104 - mae: 14.5104\n",
      "Epoch 3/10\n",
      "1/1 [==============================] - 0s 6ms/step - loss: 14.3779 - mae: 14.3779\n",
      "Epoch 4/10\n",
      "1/1 [==============================] - 0s 6ms/step - loss: 14.2454 - mae: 14.2454\n",
      "Epoch 5/10\n",
      "1/1 [==============================] - 0s 6ms/step - loss: 14.1129 - mae: 14.1129\n",
      "Epoch 6/10\n",
      "1/1 [==============================] - 0s 6ms/step - loss: 13.9804 - mae: 13.9804\n",
      "Epoch 7/10\n",
      "1/1 [==============================] - 0s 6ms/step - loss: 13.8479 - mae: 13.8479\n",
      "Epoch 8/10\n",
      "1/1 [==============================] - 0s 6ms/step - loss: 13.7154 - mae: 13.7154\n",
      "Epoch 9/10\n",
      "1/1 [==============================] - 0s 6ms/step - loss: 13.5829 - mae: 13.5829\n",
      "Epoch 10/10\n",
      "1/1 [==============================] - 0s 6ms/step - loss: 13.4504 - mae: 13.4504\n"
     ]
    },
    {
     "name": "stderr",
     "output_type": "stream",
     "text": [
      "2022-10-19 08:16:13.629514: I tensorflow/core/grappler/optimizers/custom_graph_optimizer_registry.cc:114] Plugin optimizer for device_type GPU is enabled.\n"
     ]
    },
    {
     "data": {
      "text/plain": [
       "<keras.callbacks.History at 0x1678d19d0>"
      ]
     },
     "execution_count": 4,
     "metadata": {},
     "output_type": "execute_result"
    }
   ],
   "source": [
    "tf.random.set_seed(42)\n",
    "\n",
    "model = tf.keras.Sequential()\n",
    "model.add(tf.keras.layers.Dense(1))\n",
    "\n",
    "model.compile(loss=tf.keras.losses.mae, optimizer=tf.keras.optimizers.SGD(), metrics=[\"mae\"])\n",
    "model.fit(tf.expand_dims(X,axis=1),tf.expand_dims(y,axis=1), epochs=10)"
   ]
  },
  {
   "cell_type": "code",
   "execution_count": 5,
   "id": "fa478ab7",
   "metadata": {},
   "outputs": [
    {
     "name": "stdout",
     "output_type": "stream",
     "text": [
      "1/1 [==============================] - 0s 56ms/step\n"
     ]
    },
    {
     "name": "stderr",
     "output_type": "stream",
     "text": [
      "2022-10-19 08:16:13.847118: I tensorflow/core/grappler/optimizers/custom_graph_optimizer_registry.cc:114] Plugin optimizer for device_type GPU is enabled.\n"
     ]
    },
    {
     "data": {
      "text/plain": [
       "array([[0.4988237]], dtype=float32)"
      ]
     },
     "execution_count": 5,
     "metadata": {},
     "output_type": "execute_result"
    }
   ],
   "source": [
    "model.predict([17])"
   ]
  },
  {
   "cell_type": "markdown",
   "id": "43cc0ea8",
   "metadata": {},
   "source": [
    "# Improve model"
   ]
  },
  {
   "cell_type": "code",
   "execution_count": 6,
   "id": "b0244aaf",
   "metadata": {},
   "outputs": [
    {
     "name": "stdout",
     "output_type": "stream",
     "text": [
      "Epoch 1/100\n",
      "1/1 [==============================] - 0s 367ms/step - loss: 13.5095 - mae: 13.5095\n",
      "Epoch 2/100\n",
      "1/1 [==============================] - 0s 8ms/step - loss: 8.4415 - mae: 8.4415\n",
      "Epoch 3/100\n",
      "1/1 [==============================] - 0s 9ms/step - loss: 11.4376 - mae: 11.4376\n",
      "Epoch 4/100\n",
      "1/1 [==============================] - 0s 8ms/step - loss: 5.6379 - mae: 5.6379\n",
      "Epoch 5/100\n",
      "1/1 [==============================] - 0s 8ms/step - loss: 7.3734 - mae: 7.3734\n",
      "Epoch 6/100\n",
      "1/1 [==============================] - 0s 8ms/step - loss: 7.3896 - mae: 7.3896\n",
      "Epoch 7/100\n",
      "1/1 [==============================] - 0s 8ms/step - loss: 4.5952 - mae: 4.5952\n",
      "Epoch 8/100\n",
      "1/1 [==============================] - 0s 7ms/step - loss: 2.8576 - mae: 2.8576\n",
      "Epoch 9/100\n"
     ]
    },
    {
     "name": "stderr",
     "output_type": "stream",
     "text": [
      "2022-10-19 08:16:14.151971: I tensorflow/core/grappler/optimizers/custom_graph_optimizer_registry.cc:114] Plugin optimizer for device_type GPU is enabled.\n"
     ]
    },
    {
     "name": "stdout",
     "output_type": "stream",
     "text": [
      "1/1 [==============================] - 0s 8ms/step - loss: 3.7547 - mae: 3.7547\n",
      "Epoch 10/100\n",
      "1/1 [==============================] - 0s 8ms/step - loss: 1.6498 - mae: 1.6498\n",
      "Epoch 11/100\n",
      "1/1 [==============================] - 0s 7ms/step - loss: 2.7980 - mae: 2.7980\n",
      "Epoch 12/100\n",
      "1/1 [==============================] - 0s 7ms/step - loss: 1.6207 - mae: 1.6207\n",
      "Epoch 13/100\n",
      "1/1 [==============================] - 0s 9ms/step - loss: 2.1461 - mae: 2.1461\n",
      "Epoch 14/100\n",
      "1/1 [==============================] - 0s 7ms/step - loss: 1.4246 - mae: 1.4246\n",
      "Epoch 15/100\n",
      "1/1 [==============================] - 0s 7ms/step - loss: 1.9303 - mae: 1.9303\n",
      "Epoch 16/100\n",
      "1/1 [==============================] - 0s 8ms/step - loss: 0.9970 - mae: 0.9970\n",
      "Epoch 17/100\n",
      "1/1 [==============================] - 0s 8ms/step - loss: 3.6299 - mae: 3.6299\n",
      "Epoch 18/100\n",
      "1/1 [==============================] - 0s 8ms/step - loss: 3.5550 - mae: 3.5550\n",
      "Epoch 19/100\n",
      "1/1 [==============================] - 0s 7ms/step - loss: 0.7934 - mae: 0.7934\n",
      "Epoch 20/100\n",
      "1/1 [==============================] - 0s 7ms/step - loss: 2.9800 - mae: 2.9800\n",
      "Epoch 21/100\n",
      "1/1 [==============================] - 0s 7ms/step - loss: 3.1596 - mae: 3.1596\n",
      "Epoch 22/100\n",
      "1/1 [==============================] - 0s 7ms/step - loss: 1.5919 - mae: 1.5919\n",
      "Epoch 23/100\n",
      "1/1 [==============================] - 0s 8ms/step - loss: 2.4940 - mae: 2.4940\n",
      "Epoch 24/100\n",
      "1/1 [==============================] - 0s 7ms/step - loss: 2.9187 - mae: 2.9187\n",
      "Epoch 25/100\n",
      "1/1 [==============================] - 0s 7ms/step - loss: 1.2674 - mae: 1.2674\n",
      "Epoch 26/100\n",
      "1/1 [==============================] - 0s 8ms/step - loss: 2.7387 - mae: 2.7387\n",
      "Epoch 27/100\n",
      "1/1 [==============================] - 0s 8ms/step - loss: 3.5397 - mae: 3.5397\n",
      "Epoch 28/100\n",
      "1/1 [==============================] - 0s 7ms/step - loss: 2.9066 - mae: 2.9066\n",
      "Epoch 29/100\n",
      "1/1 [==============================] - 0s 8ms/step - loss: 1.0397 - mae: 1.0397\n",
      "Epoch 30/100\n",
      "1/1 [==============================] - 0s 8ms/step - loss: 2.1415 - mae: 2.1415\n",
      "Epoch 31/100\n",
      "1/1 [==============================] - 0s 7ms/step - loss: 2.1229 - mae: 2.1229\n",
      "Epoch 32/100\n",
      "1/1 [==============================] - 0s 8ms/step - loss: 0.9446 - mae: 0.9446\n",
      "Epoch 33/100\n",
      "1/1 [==============================] - 0s 9ms/step - loss: 2.4530 - mae: 2.4530\n",
      "Epoch 34/100\n",
      "1/1 [==============================] - 0s 7ms/step - loss: 2.6962 - mae: 2.6962\n",
      "Epoch 35/100\n",
      "1/1 [==============================] - 0s 7ms/step - loss: 1.4751 - mae: 1.4751\n",
      "Epoch 36/100\n",
      "1/1 [==============================] - 0s 8ms/step - loss: 1.9022 - mae: 1.9022\n",
      "Epoch 37/100\n",
      "1/1 [==============================] - 0s 8ms/step - loss: 2.3062 - mae: 2.3062\n",
      "Epoch 38/100\n",
      "1/1 [==============================] - 0s 7ms/step - loss: 1.0623 - mae: 1.0623\n",
      "Epoch 39/100\n",
      "1/1 [==============================] - 0s 7ms/step - loss: 1.6902 - mae: 1.6902\n",
      "Epoch 40/100\n",
      "1/1 [==============================] - 0s 9ms/step - loss: 1.6903 - mae: 1.6903\n",
      "Epoch 41/100\n",
      "1/1 [==============================] - 0s 8ms/step - loss: 0.8802 - mae: 0.8802\n",
      "Epoch 42/100\n",
      "1/1 [==============================] - 0s 8ms/step - loss: 1.4050 - mae: 1.4050\n",
      "Epoch 43/100\n",
      "1/1 [==============================] - 0s 8ms/step - loss: 0.8279 - mae: 0.8279\n",
      "Epoch 44/100\n",
      "1/1 [==============================] - 0s 8ms/step - loss: 1.3610 - mae: 1.3610\n",
      "Epoch 45/100\n",
      "1/1 [==============================] - 0s 7ms/step - loss: 1.5318 - mae: 1.5318\n",
      "Epoch 46/100\n",
      "1/1 [==============================] - 0s 9ms/step - loss: 0.9012 - mae: 0.9012\n",
      "Epoch 47/100\n",
      "1/1 [==============================] - 0s 7ms/step - loss: 1.0680 - mae: 1.0680\n",
      "Epoch 48/100\n",
      "1/1 [==============================] - 0s 8ms/step - loss: 0.7919 - mae: 0.7919\n",
      "Epoch 49/100\n",
      "1/1 [==============================] - 0s 7ms/step - loss: 0.8901 - mae: 0.8901\n",
      "Epoch 50/100\n",
      "1/1 [==============================] - 0s 8ms/step - loss: 0.7064 - mae: 0.7064\n",
      "Epoch 51/100\n",
      "1/1 [==============================] - 0s 7ms/step - loss: 0.5107 - mae: 0.5107\n",
      "Epoch 52/100\n",
      "1/1 [==============================] - 0s 7ms/step - loss: 1.0050 - mae: 1.0050\n",
      "Epoch 53/100\n",
      "1/1 [==============================] - 0s 8ms/step - loss: 0.6695 - mae: 0.6695\n",
      "Epoch 54/100\n",
      "1/1 [==============================] - 0s 8ms/step - loss: 0.8737 - mae: 0.8737\n",
      "Epoch 55/100\n",
      "1/1 [==============================] - 0s 8ms/step - loss: 1.0971 - mae: 1.0971\n",
      "Epoch 56/100\n",
      "1/1 [==============================] - 0s 7ms/step - loss: 0.7222 - mae: 0.7222\n",
      "Epoch 57/100\n",
      "1/1 [==============================] - 0s 8ms/step - loss: 1.8266 - mae: 1.8266\n",
      "Epoch 58/100\n",
      "1/1 [==============================] - 0s 8ms/step - loss: 1.5466 - mae: 1.5466\n",
      "Epoch 59/100\n",
      "1/1 [==============================] - 0s 7ms/step - loss: 0.7425 - mae: 0.7425\n",
      "Epoch 60/100\n",
      "1/1 [==============================] - 0s 7ms/step - loss: 0.7817 - mae: 0.7817\n",
      "Epoch 61/100\n",
      "1/1 [==============================] - 0s 7ms/step - loss: 1.2179 - mae: 1.2179\n",
      "Epoch 62/100\n",
      "1/1 [==============================] - 0s 7ms/step - loss: 1.1792 - mae: 1.1792\n",
      "Epoch 63/100\n",
      "1/1 [==============================] - 0s 7ms/step - loss: 0.8122 - mae: 0.8122\n",
      "Epoch 64/100\n",
      "1/1 [==============================] - 0s 7ms/step - loss: 0.7555 - mae: 0.7555\n",
      "Epoch 65/100\n",
      "1/1 [==============================] - 0s 8ms/step - loss: 1.1708 - mae: 1.1708\n",
      "Epoch 66/100\n",
      "1/1 [==============================] - 0s 7ms/step - loss: 1.5118 - mae: 1.5118\n",
      "Epoch 67/100\n",
      "1/1 [==============================] - 0s 7ms/step - loss: 0.4827 - mae: 0.4827\n",
      "Epoch 68/100\n",
      "1/1 [==============================] - 0s 7ms/step - loss: 1.7629 - mae: 1.7629\n",
      "Epoch 69/100\n",
      "1/1 [==============================] - 0s 7ms/step - loss: 1.6075 - mae: 1.6075\n",
      "Epoch 70/100\n",
      "1/1 [==============================] - 0s 7ms/step - loss: 0.6352 - mae: 0.6352\n",
      "Epoch 71/100\n",
      "1/1 [==============================] - 0s 8ms/step - loss: 1.0005 - mae: 1.0005\n",
      "Epoch 72/100\n",
      "1/1 [==============================] - 0s 7ms/step - loss: 0.4960 - mae: 0.4960\n",
      "Epoch 73/100\n",
      "1/1 [==============================] - 0s 7ms/step - loss: 0.8850 - mae: 0.8850\n",
      "Epoch 74/100\n",
      "1/1 [==============================] - 0s 7ms/step - loss: 0.5460 - mae: 0.5460\n",
      "Epoch 75/100\n",
      "1/1 [==============================] - 0s 7ms/step - loss: 1.3341 - mae: 1.3341\n",
      "Epoch 76/100\n",
      "1/1 [==============================] - 0s 7ms/step - loss: 0.8470 - mae: 0.8470\n",
      "Epoch 77/100\n",
      "1/1 [==============================] - 0s 7ms/step - loss: 1.3863 - mae: 1.3863\n",
      "Epoch 78/100\n",
      "1/1 [==============================] - 0s 7ms/step - loss: 1.6920 - mae: 1.6920\n",
      "Epoch 79/100\n",
      "1/1 [==============================] - 0s 7ms/step - loss: 0.7682 - mae: 0.7682\n",
      "Epoch 80/100\n",
      "1/1 [==============================] - 0s 8ms/step - loss: 1.2978 - mae: 1.2978\n",
      "Epoch 81/100\n",
      "1/1 [==============================] - 0s 7ms/step - loss: 0.9308 - mae: 0.9308\n",
      "Epoch 82/100\n",
      "1/1 [==============================] - 0s 8ms/step - loss: 0.9148 - mae: 0.9148\n",
      "Epoch 83/100\n",
      "1/1 [==============================] - 0s 7ms/step - loss: 0.9526 - mae: 0.9526\n",
      "Epoch 84/100\n",
      "1/1 [==============================] - 0s 7ms/step - loss: 0.8480 - mae: 0.8480\n",
      "Epoch 85/100\n",
      "1/1 [==============================] - 0s 7ms/step - loss: 0.9165 - mae: 0.9165\n",
      "Epoch 86/100\n",
      "1/1 [==============================] - 0s 7ms/step - loss: 0.4328 - mae: 0.4328\n",
      "Epoch 87/100\n",
      "1/1 [==============================] - 0s 7ms/step - loss: 0.8796 - mae: 0.8796\n",
      "Epoch 88/100\n",
      "1/1 [==============================] - 0s 8ms/step - loss: 0.4469 - mae: 0.4469\n",
      "Epoch 89/100\n",
      "1/1 [==============================] - 0s 7ms/step - loss: 0.8547 - mae: 0.8547\n",
      "Epoch 90/100\n",
      "1/1 [==============================] - 0s 7ms/step - loss: 0.6168 - mae: 0.6168\n",
      "Epoch 91/100\n",
      "1/1 [==============================] - 0s 7ms/step - loss: 0.7771 - mae: 0.7771\n",
      "Epoch 92/100\n",
      "1/1 [==============================] - 0s 8ms/step - loss: 0.9878 - mae: 0.9878\n",
      "Epoch 93/100\n",
      "1/1 [==============================] - 0s 7ms/step - loss: 0.6439 - mae: 0.6439\n",
      "Epoch 94/100\n",
      "1/1 [==============================] - 0s 8ms/step - loss: 1.0579 - mae: 1.0579\n",
      "Epoch 95/100\n",
      "1/1 [==============================] - 0s 8ms/step - loss: 0.7069 - mae: 0.7069\n",
      "Epoch 96/100\n",
      "1/1 [==============================] - 0s 7ms/step - loss: 1.3029 - mae: 1.3029\n",
      "Epoch 97/100\n",
      "1/1 [==============================] - 0s 7ms/step - loss: 0.8370 - mae: 0.8370\n",
      "Epoch 98/100\n",
      "1/1 [==============================] - 0s 8ms/step - loss: 1.4342 - mae: 1.4342\n",
      "Epoch 99/100\n",
      "1/1 [==============================] - 0s 8ms/step - loss: 1.6020 - mae: 1.6020\n",
      "Epoch 100/100\n",
      "1/1 [==============================] - 0s 7ms/step - loss: 0.5982 - mae: 0.5982\n"
     ]
    },
    {
     "data": {
      "text/plain": [
       "<keras.callbacks.History at 0x1684484f0>"
      ]
     },
     "execution_count": 6,
     "metadata": {},
     "output_type": "execute_result"
    }
   ],
   "source": [
    "model = tf.keras.Sequential()\n",
    "model.add(tf.keras.layers.Dense(100, activation=\"softmax\"))\n",
    "model.add(tf.keras.layers.Dense(100, activation=\"relu\"))\n",
    "model.add(tf.keras.layers.Dense(100, activation=\"relu\"))\n",
    "model.add(tf.keras.layers.Dense(1))\n",
    "model.compile(loss=tf.keras.losses.mae, optimizer=tf.keras.optimizers.Adam(learning_rate=0.1), metrics=[\"mae\"])\n",
    "model.fit(tf.expand_dims(X,axis=1),tf.expand_dims(y,axis=1), epochs=100)"
   ]
  },
  {
   "cell_type": "code",
   "execution_count": 36,
   "id": "c86f381e",
   "metadata": {},
   "outputs": [],
   "source": [
    "X = tf.range(-100, 100, 4)\n",
    "y = X + 10\n",
    "X, y\n",
    "X_train, X_test = tf.expand_dims(X[:30],axis=1), tf.expand_dims(X[20:],axis=1)\n",
    "y_train, y_test = tf.expand_dims(y[:30],axis=1), tf.expand_dims(y[20:],axis=1)\n"
   ]
  },
  {
   "cell_type": "code",
   "execution_count": 37,
   "id": "0fd936d6",
   "metadata": {},
   "outputs": [
    {
     "name": "stdout",
     "output_type": "stream",
     "text": [
      "Epoch 1/100\n"
     ]
    },
    {
     "name": "stderr",
     "output_type": "stream",
     "text": [
      "2022-10-22 18:33:40.641699: I tensorflow/core/grappler/optimizers/custom_graph_optimizer_registry.cc:114] Plugin optimizer for device_type GPU is enabled.\n"
     ]
    },
    {
     "name": "stdout",
     "output_type": "stream",
     "text": [
      "1/1 [==============================] - 1s 1s/step - loss: 4.0926 - hinge: 4.0926\n",
      "Epoch 2/100\n",
      "1/1 [==============================] - 0s 9ms/step - loss: 658.3040 - hinge: 658.3040\n",
      "Epoch 3/100\n",
      "1/1 [==============================] - 0s 10ms/step - loss: 3.9897 - hinge: 3.9897\n",
      "Epoch 4/100\n",
      "1/1 [==============================] - 0s 10ms/step - loss: 0.3455 - hinge: 0.3455\n",
      "Epoch 5/100\n",
      "1/1 [==============================] - 0s 9ms/step - loss: 0.4579 - hinge: 0.4579\n",
      "Epoch 6/100\n",
      "1/1 [==============================] - 0s 9ms/step - loss: 0.4792 - hinge: 0.4792\n",
      "Epoch 7/100\n",
      "1/1 [==============================] - 0s 9ms/step - loss: 0.4326 - hinge: 0.4326\n",
      "Epoch 8/100\n",
      "1/1 [==============================] - 0s 9ms/step - loss: 0.3318 - hinge: 0.3318\n",
      "Epoch 9/100\n",
      "1/1 [==============================] - 0s 9ms/step - loss: 0.1466 - hinge: 0.1466\n",
      "Epoch 10/100\n",
      "1/1 [==============================] - 0s 9ms/step - loss: 312.9363 - hinge: 312.9363\n",
      "Epoch 11/100\n",
      "1/1 [==============================] - 0s 9ms/step - loss: 0.3309 - hinge: 0.3309\n",
      "Epoch 12/100\n",
      "1/1 [==============================] - 0s 9ms/step - loss: 0.7338 - hinge: 0.7338\n",
      "Epoch 13/100\n",
      "1/1 [==============================] - 0s 9ms/step - loss: 1.0781 - hinge: 1.0781\n",
      "Epoch 14/100\n",
      "1/1 [==============================] - 0s 9ms/step - loss: 1.3664 - hinge: 1.3664\n",
      "Epoch 15/100\n",
      "1/1 [==============================] - 0s 10ms/step - loss: 1.6126 - hinge: 1.6126\n",
      "Epoch 16/100\n",
      "1/1 [==============================] - 0s 10ms/step - loss: 1.8187 - hinge: 1.8187\n",
      "Epoch 17/100\n",
      "1/1 [==============================] - 0s 10ms/step - loss: 1.9790 - hinge: 1.9790\n",
      "Epoch 18/100\n",
      "1/1 [==============================] - 0s 9ms/step - loss: 2.0962 - hinge: 2.0962\n",
      "Epoch 19/100\n",
      "1/1 [==============================] - 0s 9ms/step - loss: 2.1653 - hinge: 2.1653\n",
      "Epoch 20/100\n",
      "1/1 [==============================] - 0s 10ms/step - loss: 2.1887 - hinge: 2.1887\n",
      "Epoch 21/100\n",
      "1/1 [==============================] - 0s 10ms/step - loss: 2.1663 - hinge: 2.1663\n",
      "Epoch 22/100\n",
      "1/1 [==============================] - 0s 9ms/step - loss: 2.0954 - hinge: 2.0954\n",
      "Epoch 23/100\n",
      "1/1 [==============================] - 0s 10ms/step - loss: 1.9727 - hinge: 1.9727\n",
      "Epoch 24/100\n",
      "1/1 [==============================] - 0s 9ms/step - loss: 1.7944 - hinge: 1.7944\n",
      "Epoch 25/100\n",
      "1/1 [==============================] - 0s 9ms/step - loss: 1.5599 - hinge: 1.5599\n",
      "Epoch 26/100\n",
      "1/1 [==============================] - 0s 10ms/step - loss: 1.2694 - hinge: 1.2694\n",
      "Epoch 27/100\n",
      "1/1 [==============================] - 0s 9ms/step - loss: 0.9164 - hinge: 0.9164\n",
      "Epoch 28/100\n",
      "1/1 [==============================] - 0s 10ms/step - loss: 0.4946 - hinge: 0.4946\n",
      "Epoch 29/100\n",
      "1/1 [==============================] - 0s 9ms/step - loss: 77.8766 - hinge: 77.8766\n",
      "Epoch 30/100\n",
      "1/1 [==============================] - 0s 9ms/step - loss: 0.8940 - hinge: 0.8940\n",
      "Epoch 31/100\n",
      "1/1 [==============================] - 0s 8ms/step - loss: 1.7152 - hinge: 1.7152\n",
      "Epoch 32/100\n",
      "1/1 [==============================] - 0s 9ms/step - loss: 2.4796 - hinge: 2.4796\n",
      "Epoch 33/100\n",
      "1/1 [==============================] - 0s 9ms/step - loss: 5.2216 - hinge: 5.2216\n",
      "Epoch 34/100\n",
      "1/1 [==============================] - 0s 9ms/step - loss: 3.8170 - hinge: 3.8170\n",
      "Epoch 35/100\n",
      "1/1 [==============================] - 0s 10ms/step - loss: 4.4064 - hinge: 4.4064\n",
      "Epoch 36/100\n",
      "1/1 [==============================] - 0s 9ms/step - loss: 4.9517 - hinge: 4.9517\n",
      "Epoch 37/100\n",
      "1/1 [==============================] - 0s 9ms/step - loss: 5.4492 - hinge: 5.4492\n",
      "Epoch 38/100\n",
      "1/1 [==============================] - 0s 10ms/step - loss: 5.8971 - hinge: 5.8971\n",
      "Epoch 39/100\n",
      "1/1 [==============================] - 0s 9ms/step - loss: 6.3027 - hinge: 6.3027\n",
      "Epoch 40/100\n",
      "1/1 [==============================] - 0s 15ms/step - loss: 6.6731 - hinge: 6.6731\n",
      "Epoch 41/100\n",
      "1/1 [==============================] - 0s 8ms/step - loss: 7.0093 - hinge: 7.0093\n",
      "Epoch 42/100\n",
      "1/1 [==============================] - 0s 10ms/step - loss: 7.3124 - hinge: 7.3124\n",
      "Epoch 43/100\n",
      "1/1 [==============================] - 0s 10ms/step - loss: 7.5829 - hinge: 7.5829\n",
      "Epoch 44/100\n",
      "1/1 [==============================] - 0s 8ms/step - loss: 7.8221 - hinge: 7.8221\n",
      "Epoch 45/100\n",
      "1/1 [==============================] - 0s 17ms/step - loss: 8.0315 - hinge: 8.0315\n",
      "Epoch 46/100\n",
      "1/1 [==============================] - 0s 10ms/step - loss: 8.2110 - hinge: 8.2110\n",
      "Epoch 47/100\n",
      "1/1 [==============================] - 0s 9ms/step - loss: 8.3608 - hinge: 8.3608\n",
      "Epoch 48/100\n",
      "1/1 [==============================] - 0s 9ms/step - loss: 8.4793 - hinge: 8.4793\n",
      "Epoch 49/100\n",
      "1/1 [==============================] - 0s 9ms/step - loss: 8.5662 - hinge: 8.5662\n",
      "Epoch 50/100\n",
      "1/1 [==============================] - 0s 9ms/step - loss: 8.6202 - hinge: 8.6202\n",
      "Epoch 51/100\n",
      "1/1 [==============================] - 0s 10ms/step - loss: 8.6387 - hinge: 8.6387\n",
      "Epoch 52/100\n",
      "1/1 [==============================] - 0s 8ms/step - loss: 8.6189 - hinge: 8.6189\n",
      "Epoch 53/100\n",
      "1/1 [==============================] - 0s 9ms/step - loss: 8.5591 - hinge: 8.5591\n",
      "Epoch 54/100\n",
      "1/1 [==============================] - 0s 11ms/step - loss: 8.4567 - hinge: 8.4567\n",
      "Epoch 55/100\n",
      "1/1 [==============================] - 0s 9ms/step - loss: 8.3088 - hinge: 8.3088\n",
      "Epoch 56/100\n",
      "1/1 [==============================] - 0s 9ms/step - loss: 8.1141 - hinge: 8.1141\n",
      "Epoch 57/100\n",
      "1/1 [==============================] - 0s 9ms/step - loss: 7.8680 - hinge: 7.8680\n",
      "Epoch 58/100\n",
      "1/1 [==============================] - 0s 9ms/step - loss: 7.5661 - hinge: 7.5660\n",
      "Epoch 59/100\n",
      "1/1 [==============================] - 0s 8ms/step - loss: 7.1812 - hinge: 7.1812\n",
      "Epoch 60/100\n",
      "1/1 [==============================] - 0s 10ms/step - loss: 6.7201 - hinge: 6.7201\n",
      "Epoch 61/100\n",
      "1/1 [==============================] - 0s 10ms/step - loss: 6.1787 - hinge: 6.1787\n",
      "Epoch 62/100\n",
      "1/1 [==============================] - 0s 10ms/step - loss: 5.5497 - hinge: 5.5497\n",
      "Epoch 63/100\n",
      "1/1 [==============================] - 0s 10ms/step - loss: 4.8275 - hinge: 4.8275\n",
      "Epoch 64/100\n",
      "1/1 [==============================] - 0s 9ms/step - loss: 4.0017 - hinge: 4.0017\n",
      "Epoch 65/100\n",
      "1/1 [==============================] - 0s 10ms/step - loss: 3.0663 - hinge: 3.0663\n",
      "Epoch 66/100\n",
      "1/1 [==============================] - 0s 9ms/step - loss: 2.0432 - hinge: 2.0432\n",
      "Epoch 67/100\n",
      "1/1 [==============================] - 0s 10ms/step - loss: 0.9514 - hinge: 0.9514\n",
      "Epoch 68/100\n",
      "1/1 [==============================] - 0s 9ms/step - loss: 0.1554 - hinge: 0.1554\n",
      "Epoch 69/100\n",
      "1/1 [==============================] - 0s 9ms/step - loss: 6.3416 - hinge: 6.3416\n",
      "Epoch 70/100\n",
      "1/1 [==============================] - 0s 8ms/step - loss: 0.0437 - hinge: 0.0437\n",
      "Epoch 71/100\n",
      "1/1 [==============================] - 0s 8ms/step - loss: 0.2577 - hinge: 0.2577\n",
      "Epoch 72/100\n",
      "1/1 [==============================] - 0s 9ms/step - loss: 0.7010 - hinge: 0.7010\n",
      "Epoch 73/100\n",
      "1/1 [==============================] - 0s 9ms/step - loss: 1.1195 - hinge: 1.1195\n",
      "Epoch 74/100\n",
      "1/1 [==============================] - 0s 9ms/step - loss: 1.4799 - hinge: 1.4799\n",
      "Epoch 75/100\n",
      "1/1 [==============================] - 0s 8ms/step - loss: 1.7912 - hinge: 1.7912\n",
      "Epoch 76/100\n",
      "1/1 [==============================] - 0s 9ms/step - loss: 2.0656 - hinge: 2.0656\n",
      "Epoch 77/100\n",
      "1/1 [==============================] - 0s 8ms/step - loss: 2.3094 - hinge: 2.3094\n",
      "Epoch 78/100\n",
      "1/1 [==============================] - 0s 9ms/step - loss: 2.5270 - hinge: 2.5270\n",
      "Epoch 79/100\n",
      "1/1 [==============================] - 0s 9ms/step - loss: 2.7049 - hinge: 2.7049\n",
      "Epoch 80/100\n",
      "1/1 [==============================] - 0s 9ms/step - loss: 2.8478 - hinge: 2.8478\n",
      "Epoch 81/100\n",
      "1/1 [==============================] - 0s 9ms/step - loss: 2.9627 - hinge: 2.9627\n",
      "Epoch 82/100\n",
      "1/1 [==============================] - 0s 12ms/step - loss: 3.0521 - hinge: 3.0521\n",
      "Epoch 83/100\n",
      "1/1 [==============================] - 0s 10ms/step - loss: 3.1179 - hinge: 3.1179\n",
      "Epoch 84/100\n",
      "1/1 [==============================] - 0s 10ms/step - loss: 3.1631 - hinge: 3.1631\n",
      "Epoch 85/100\n",
      "1/1 [==============================] - 0s 9ms/step - loss: 3.1900 - hinge: 3.1900\n",
      "Epoch 86/100\n",
      "1/1 [==============================] - 0s 9ms/step - loss: 3.2004 - hinge: 3.2004\n",
      "Epoch 87/100\n",
      "1/1 [==============================] - 0s 8ms/step - loss: 3.2080 - hinge: 3.2080\n",
      "Epoch 88/100\n",
      "1/1 [==============================] - 0s 10ms/step - loss: 3.2073 - hinge: 3.2073\n",
      "Epoch 89/100\n",
      "1/1 [==============================] - 0s 9ms/step - loss: 3.1987 - hinge: 3.1987\n",
      "Epoch 90/100\n",
      "1/1 [==============================] - 0s 8ms/step - loss: 3.1882 - hinge: 3.1882\n",
      "Epoch 91/100\n",
      "1/1 [==============================] - 0s 8ms/step - loss: 3.1714 - hinge: 3.1714\n",
      "Epoch 92/100\n",
      "1/1 [==============================] - 0s 8ms/step - loss: 3.1486 - hinge: 3.1486\n",
      "Epoch 93/100\n",
      "1/1 [==============================] - 0s 9ms/step - loss: 3.1286 - hinge: 3.1286\n",
      "Epoch 94/100\n",
      "1/1 [==============================] - 0s 8ms/step - loss: 3.1049 - hinge: 3.1049\n",
      "Epoch 95/100\n",
      "1/1 [==============================] - 0s 8ms/step - loss: 3.0773 - hinge: 3.0773\n",
      "Epoch 96/100\n",
      "1/1 [==============================] - 0s 8ms/step - loss: 3.0461 - hinge: 3.0461\n",
      "Epoch 97/100\n",
      "1/1 [==============================] - 0s 8ms/step - loss: 3.0120 - hinge: 3.0120\n",
      "Epoch 98/100\n",
      "1/1 [==============================] - 0s 9ms/step - loss: 2.9755 - hinge: 2.9755\n",
      "Epoch 99/100\n",
      "1/1 [==============================] - 0s 9ms/step - loss: 2.9368 - hinge: 2.9368\n",
      "Epoch 100/100\n",
      "1/1 [==============================] - 0s 9ms/step - loss: 2.8958 - hinge: 2.8958\n"
     ]
    },
    {
     "data": {
      "text/plain": [
       "<keras.callbacks.History at 0x16d2457c0>"
      ]
     },
     "execution_count": 37,
     "metadata": {},
     "output_type": "execute_result"
    }
   ],
   "source": [
    "model = tf.keras.Sequential()\n",
    "model.add(tf.keras.layers.Dense(100, activation=\"relu\"))\n",
    "model.add(tf.keras.layers.Dense(100, activation=\"relu\"))\n",
    "model.add(tf.keras.layers.Dense(100, activation=\"relu\"))\n",
    "model.add(tf.keras.layers.Dense(1))\n",
    "model.compile(loss=tf.keras.losses.hinge, optimizer=tf.keras.optimizers.Adam(learning_rate=0.01), metrics=[\"hinge\"])\n",
    "model.fit(X_train, y_train, epochs=100)\n"
   ]
  },
  {
   "cell_type": "code",
   "execution_count": 38,
   "id": "81ca63f9",
   "metadata": {},
   "outputs": [
    {
     "name": "stdout",
     "output_type": "stream",
     "text": [
      "Model: \"sequential_1\"\n",
      "_________________________________________________________________\n",
      " Layer (type)                Output Shape              Param #   \n",
      "=================================================================\n",
      " dense_4 (Dense)             (None, 100)               200       \n",
      "                                                                 \n",
      " dense_5 (Dense)             (None, 100)               10100     \n",
      "                                                                 \n",
      " dense_6 (Dense)             (None, 100)               10100     \n",
      "                                                                 \n",
      " dense_7 (Dense)             (None, 1)                 101       \n",
      "                                                                 \n",
      "=================================================================\n",
      "Total params: 20,501\n",
      "Trainable params: 20,501\n",
      "Non-trainable params: 0\n",
      "_________________________________________________________________\n"
     ]
    }
   ],
   "source": [
    "model.summary()"
   ]
  },
  {
   "cell_type": "code",
   "execution_count": 39,
   "id": "032f82a6",
   "metadata": {},
   "outputs": [
    {
     "name": "stdout",
     "output_type": "stream",
     "text": [
      "Model: \"sequential_2\"\n",
      "_________________________________________________________________\n",
      " Layer (type)                Output Shape              Param #   \n",
      "=================================================================\n",
      " dense_8 (Dense)             (None, 1)                 2         \n",
      "                                                                 \n",
      "=================================================================\n",
      "Total params: 2\n",
      "Trainable params: 2\n",
      "Non-trainable params: 0\n",
      "_________________________________________________________________\n"
     ]
    }
   ],
   "source": [
    "tf.random.set_seed(42)\n",
    "\n",
    "model = tf.keras.Sequential()\n",
    "model.add(tf.keras.layers.Dense(1, input_shape=[1]))\n",
    "\n",
    "model.compile(loss=tf.keras.losses.mae, optimizer=tf.keras.optimizers.SGD(), metrics=[\"mae\"])\n",
    "\n",
    "model.summary()"
   ]
  },
  {
   "cell_type": "markdown",
   "id": "699366ae",
   "metadata": {},
   "source": [
    "Dense is fully connected layer\n",
    "\n",
    "- total params - all params\n",
    "- trainable - params/nodes which can be updated.\n",
    "- non trainable - are not updatedable, like in transfer leraning.\n",
    "\n",
    "Dense layer has concept of weights and bias.\n"
   ]
  },
  {
   "cell_type": "code",
   "execution_count": 11,
   "id": "b020ab17",
   "metadata": {},
   "outputs": [
    {
     "name": "stderr",
     "output_type": "stream",
     "text": [
      "2022-10-19 08:16:17.886485: I tensorflow/core/grappler/optimizers/custom_graph_optimizer_registry.cc:114] Plugin optimizer for device_type GPU is enabled.\n"
     ]
    },
    {
     "data": {
      "text/plain": [
       "<keras.callbacks.History at 0x16bf82580>"
      ]
     },
     "execution_count": 11,
     "metadata": {},
     "output_type": "execute_result"
    }
   ],
   "source": [
    "model.fit(X_train, y_train, epochs=100, verbose=0)"
   ]
  },
  {
   "cell_type": "code",
   "execution_count": 12,
   "id": "d4c0f986",
   "metadata": {},
   "outputs": [
    {
     "name": "stdout",
     "output_type": "stream",
     "text": [
      "Model: \"sequential_3\"\n",
      "_________________________________________________________________\n",
      " Layer (type)                Output Shape              Param #   \n",
      "=================================================================\n",
      " dense_9 (Dense)             (None, 1)                 2         \n",
      "                                                                 \n",
      "=================================================================\n",
      "Total params: 2\n",
      "Trainable params: 2\n",
      "Non-trainable params: 0\n",
      "_________________________________________________________________\n"
     ]
    }
   ],
   "source": [
    "model.summary()"
   ]
  },
  {
   "cell_type": "code",
   "execution_count": 13,
   "id": "b72e7915",
   "metadata": {},
   "outputs": [],
   "source": [
    "model = tf.keras.Sequential(name=\"one and only\")\n",
    "model.add(tf.keras.layers.Dense(10, input_shape=[1], name=\"input\"))\n",
    "model.add(tf.keras.layers.Dense(100, activation=\"relu\", name=\"output\"))\n",
    "model.compile(loss=tf.keras.losses.mae, optimizer=tf.keras.optimizers.SGD(), metrics=[\"mae\"])"
   ]
  },
  {
   "cell_type": "code",
   "execution_count": 14,
   "id": "2dcaae66",
   "metadata": {},
   "outputs": [
    {
     "name": "stdout",
     "output_type": "stream",
     "text": [
      "Model: \"one and only\"\n",
      "_________________________________________________________________\n",
      " Layer (type)                Output Shape              Param #   \n",
      "=================================================================\n",
      " input (Dense)               (None, 10)                20        \n",
      "                                                                 \n",
      " output (Dense)              (None, 100)               1100      \n",
      "                                                                 \n",
      "=================================================================\n",
      "Total params: 1,120\n",
      "Trainable params: 1,120\n",
      "Non-trainable params: 0\n",
      "_________________________________________________________________\n"
     ]
    }
   ],
   "source": [
    "model.summary()\n"
   ]
  },
  {
   "cell_type": "code",
   "execution_count": 15,
   "id": "2c08e6c5",
   "metadata": {},
   "outputs": [
    {
     "data": {
      "image/png": "[encoded data removed]",
      "text/plain": [
       "<IPython.core.display.Image object>"
      ]
     },
     "execution_count": 15,
     "metadata": {},
     "output_type": "execute_result"
    }
   ],
   "source": [
    "from tensorflow.keras.utils import plot_model\n",
    "plot_model(model, show_shapes=True)"
   ]
  },
  {
   "cell_type": "markdown",
   "id": "94d5ff7e",
   "metadata": {},
   "source": [
    "Visualize prediction"
   ]
  },
  {
   "cell_type": "code",
   "execution_count": 90,
   "id": "a2be6dfe",
   "metadata": {},
   "outputs": [
    {
     "data": {
      "text/plain": [
       "(40, 10)"
      ]
     },
     "execution_count": 90,
     "metadata": {},
     "output_type": "execute_result"
    }
   ],
   "source": [
    "X = np.arange(-100, 100, 4)\n",
    "y = X + 10\n",
    "# Split data into train and test sets\n",
    "X_train = X[:40] # first 40 examples (80% of data)\n",
    "y_train = y[:40]\n",
    "\n",
    "X_test = X[40:] # last 10 examples (20% of data)\n",
    "y_test = y[40:]\n",
    "\n",
    "len(X_train), len(X_test)"
   ]
  },
  {
   "cell_type": "code",
   "execution_count": 188,
   "id": "b2484f88",
   "metadata": {},
   "outputs": [
    {
     "name": "stderr",
     "output_type": "stream",
     "text": [
      "2022-10-23 10:18:04.787327: I tensorflow/core/grappler/optimizers/custom_graph_optimizer_registry.cc:114] Plugin optimizer for device_type GPU is enabled.\n"
     ]
    },
    {
     "data": {
      "text/plain": [
       "<keras.callbacks.History at 0x2d9d63df0>"
      ]
     },
     "execution_count": 188,
     "metadata": {},
     "output_type": "execute_result"
    }
   ],
   "source": [
    "tf.random.set_seed(42)\n",
    "\n",
    "# Replicate model_1 and add an extra layer\n",
    "model = tf.keras.Sequential()\n",
    "model.add(tf.keras.layers.Dense(100, activation=\"relu\"))\n",
    "model.add(tf.keras.layers.Dense(200, activation=\"relu\"))\n",
    "model.add(tf.keras.layers.Dense(50, activation=\"softplus\"))\n",
    "model.add(tf.keras.layers.Dense(1))\n",
    "model.compile(loss=tf.keras.losses.mae, optimizer=tf.keras.optimizers.Adam(learning_rate=0.01), metrics=[\"mae\"])\n",
    "\n",
    "\n",
    "\n",
    "# Fit the model\n",
    "model.fit(tf.expand_dims(X_train, axis=-1), y_train, epochs=100, verbose=0) # set verbose to 0 for less output\n"
   ]
  },
  {
   "cell_type": "code",
   "execution_count": 189,
   "id": "50fa6507",
   "metadata": {},
   "outputs": [
    {
     "name": "stdout",
     "output_type": "stream",
     "text": [
      "1/1 [==============================] - 0s 50ms/step\n"
     ]
    },
    {
     "name": "stderr",
     "output_type": "stream",
     "text": [
      "2022-10-23 10:18:06.298395: I tensorflow/core/grappler/optimizers/custom_graph_optimizer_registry.cc:114] Plugin optimizer for device_type GPU is enabled.\n"
     ]
    },
    {
     "data": {
      "text/plain": [
       "(array([[ 73.122284],\n",
       "        [ 77.35736 ],\n",
       "        [ 81.594086],\n",
       "        [ 85.83226 ],\n",
       "        [ 90.07164 ],\n",
       "        [ 94.31208 ],\n",
       "        [ 98.5534  ],\n",
       "        [102.79547 ],\n",
       "        [107.03822 ],\n",
       "        [111.28155 ]], dtype=float32),\n",
       " array([ 70,  74,  78,  82,  86,  90,  94,  98, 102, 106]))"
      ]
     },
     "execution_count": 189,
     "metadata": {},
     "output_type": "execute_result"
    }
   ],
   "source": [
    "y_pred = model.predict(X_test)\n",
    "y_pred, y_test"
   ]
  },
  {
   "cell_type": "code",
   "execution_count": 190,
   "id": "8b36547f",
   "metadata": {},
   "outputs": [
    {
     "data": {
      "image/png": "[encoded data removed]",
      "text/plain": [
       "<Figure size 1000x700 with 1 Axes>"
      ]
     },
     "metadata": {},
     "output_type": "display_data"
    }
   ],
   "source": [
    "def plot_prediction(train_data, train_label, test_data, test_label, pred):\n",
    "    plt.figure(figsize=(10,7))\n",
    "    plt.scatter(train_data,train_label, c=\"b\", label=\"train\")\n",
    "    plt.scatter(test_data,test_label, c=\"g\", label=\"test\")\n",
    "    plt.scatter(test_data,pred, c=\"r\", label=\"pred\")\n",
    "    plt.legend()\n",
    "plot_prediction(X_train, y_train, X_test, y_test, y_pred)"
   ]
  },
  {
   "cell_type": "markdown",
   "id": "30964460",
   "metadata": {},
   "source": [
    "Evaluation metric\n",
    "- mean absolute error\n",
    "- mean square error (sensitive to larger errors)\n",
    "- huber (less sensitive to outliers)"
   ]
  },
  {
   "cell_type": "code",
   "execution_count": 191,
   "id": "7e17129d",
   "metadata": {},
   "outputs": [
    {
     "name": "stdout",
     "output_type": "stream",
     "text": [
      "1/1 [==============================] - 0s 126ms/step - loss: 4.1958 - mae: 4.1958\n"
     ]
    },
    {
     "name": "stderr",
     "output_type": "stream",
     "text": [
      "2022-10-23 10:18:25.404080: I tensorflow/core/grappler/optimizers/custom_graph_optimizer_registry.cc:114] Plugin optimizer for device_type GPU is enabled.\n"
     ]
    },
    {
     "data": {
      "text/plain": [
       "[4.195835113525391, 4.195835113525391]"
      ]
     },
     "execution_count": 191,
     "metadata": {},
     "output_type": "execute_result"
    }
   ],
   "source": [
    "model.evaluate(X_test, y_test) # worked better on test data."
   ]
  },
  {
   "cell_type": "code",
   "execution_count": 192,
   "id": "cc13c2e5",
   "metadata": {},
   "outputs": [],
   "source": [
    "# MAE\n",
    "mae = tf.keras.losses.MeanAbsoluteError(\n",
    "    reduction=tf.keras.losses.Reduction.AUTO, \n",
    "    name='mean_absolute_error'\n",
    ")"
   ]
  },
  {
   "cell_type": "code",
   "execution_count": 193,
   "id": "ae66f156",
   "metadata": {},
   "outputs": [
    {
     "data": {
      "text/plain": [
       "14.071101"
      ]
     },
     "execution_count": 193,
     "metadata": {},
     "output_type": "execute_result"
    }
   ],
   "source": [
    "loss = mae(y_test, y_pred)\n",
    "loss.numpy()"
   ]
  },
  {
   "cell_type": "code",
   "execution_count": 194,
   "id": "ac0a2c99",
   "metadata": {},
   "outputs": [
    {
     "data": {
      "text/plain": [
       "(<tf.Tensor: shape=(10,), dtype=float32, numpy=\n",
       " array([ 70.,  74.,  78.,  82.,  86.,  90.,  94.,  98., 102., 106.],\n",
       "       dtype=float32)>,\n",
       " <tf.Tensor: shape=(10,), dtype=float32, numpy=\n",
       " array([ 73.122284,  77.35736 ,  81.594086,  85.83226 ,  90.07164 ,\n",
       "         94.31208 ,  98.5534  , 102.79547 , 107.03822 , 111.28155 ],\n",
       "       dtype=float32)>)"
      ]
     },
     "execution_count": 194,
     "metadata": {},
     "output_type": "execute_result"
    }
   ],
   "source": [
    "tf.cast(tf.squeeze(y_test), dtype=tf.float32), tf.squeeze(tf.constant(y_pred))"
   ]
  },
  {
   "cell_type": "code",
   "execution_count": 195,
   "id": "470e63b5",
   "metadata": {},
   "outputs": [
    {
     "data": {
      "text/plain": [
       "<tf.Tensor: shape=(), dtype=float32, numpy=4.195835>"
      ]
     },
     "execution_count": 195,
     "metadata": {},
     "output_type": "execute_result"
    }
   ],
   "source": [
    "tf.metrics.mean_absolute_error(y_true=tf.squeeze(y_test), y_pred=tf.squeeze(tf.constant(y_pred)))"
   ]
  },
  {
   "cell_type": "code",
   "execution_count": 196,
   "id": "fb5fa4be",
   "metadata": {},
   "outputs": [],
   "source": [
    "# MSE\n",
    "mse = tf.keras.losses.MeanSquaredError(\n",
    "    reduction=tf.keras.losses.Reduction.AUTO, \n",
    ")"
   ]
  },
  {
   "cell_type": "code",
   "execution_count": 197,
   "id": "d230bfe7",
   "metadata": {},
   "outputs": [
    {
     "data": {
      "text/plain": [
       "297.92456"
      ]
     },
     "execution_count": 197,
     "metadata": {},
     "output_type": "execute_result"
    }
   ],
   "source": [
    "loss = mse(y_test, y_pred)\n",
    "loss.numpy()"
   ]
  },
  {
   "cell_type": "code",
   "execution_count": 198,
   "id": "7c9ed772",
   "metadata": {},
   "outputs": [
    {
     "data": {
      "text/plain": [
       "<tf.Tensor: shape=(), dtype=float32, numpy=18.08049>"
      ]
     },
     "execution_count": 198,
     "metadata": {},
     "output_type": "execute_result"
    }
   ],
   "source": [
    "tf.metrics.mean_squared_error(y_true=tf.squeeze(y_test), y_pred=tf.squeeze(tf.constant(y_pred)))"
   ]
  },
  {
   "cell_type": "code",
   "execution_count": 25,
   "id": "16a4ae4f",
   "metadata": {},
   "outputs": [],
   "source": [
    "def mae(y_true, y_pred):\n",
    "    return tf.metrics.mean_absolute_error(y_true, y_pred)\n",
    "\n",
    "def mse(y_true, y_pred):\n",
    "    return tf.metrics.mean_squared_error(y_true, y_pred)"
   ]
  },
  {
   "cell_type": "markdown",
   "id": "8ca12153",
   "metadata": {},
   "source": [
    "Expierments to imporve model\n",
    "```\n",
    "ML explorer -Visualize, visualize, visualize\n",
    "ML practitioner - Expierment, expierment, expierment\n",
    "```\n",
    "```\n",
    "Build -fit -evaluate - tweak -Build- fit - evaluate -tweak ...\n",
    "```"
   ]
  },
  {
   "cell_type": "markdown",
   "id": "d0b51521",
   "metadata": {},
   "source": [
    "Tweak is one of below:\n",
    "- Get more data \n",
    "- Make model larger\n",
    "- Train longer"
   ]
  },
  {
   "cell_type": "markdown",
   "id": "1b570c1b",
   "metadata": {},
   "source": [
    "### Start small and increase complexity when needed"
   ]
  },
  {
   "cell_type": "markdown",
   "id": "9e7b7a40",
   "metadata": {},
   "source": [
    "#### Goal is to reduce the time between expierments, get to know what doesn't and what work. "
   ]
  },
  {
   "cell_type": "markdown",
   "id": "5a9b62ab",
   "metadata": {},
   "source": [
    "Tracking expierments:\n",
    "- tensorboard (builtin) - track modeling expierment.\n",
    "- weights and bias -  pulgs straight into tensorboard.\n"
   ]
  },
  {
   "cell_type": "code",
   "execution_count": 199,
   "id": "edb1b68a",
   "metadata": {},
   "outputs": [
    {
     "name": "stdout",
     "output_type": "stream",
     "text": [
      "INFO:tensorflow:Assets written to: first_save/assets\n"
     ]
    }
   ],
   "source": [
    "# checkboard look up later\n",
    "model.save(\"first_save\")\n",
    "model.save(\"first_save.h5\")"
   ]
  },
  {
   "cell_type": "code",
   "execution_count": 200,
   "id": "ef423ef0",
   "metadata": {},
   "outputs": [],
   "source": [
    "m1 = tf.keras.models.load_model(\"first_save\")"
   ]
  },
  {
   "cell_type": "code",
   "execution_count": 201,
   "id": "98e7ec5f",
   "metadata": {},
   "outputs": [],
   "source": [
    "m2 = tf.keras.models.load_model(\"first_save.h5\")"
   ]
  },
  {
   "cell_type": "markdown",
   "id": "ade3f749",
   "metadata": {},
   "source": [
    "### Regression medical cost"
   ]
  },
  {
   "cell_type": "code",
   "execution_count": 2,
   "id": "477dbec5",
   "metadata": {},
   "outputs": [],
   "source": [
    "import tensorflow as tf\n",
    "import pandas as pd\n",
    "import matplotlib as plt"
   ]
  },
  {
   "cell_type": "code",
   "execution_count": 3,
   "id": "93b5628d",
   "metadata": {},
   "outputs": [],
   "source": [
    "insurance = pd.read_csv(\"https://gist.githubusercontent.com/meperezcuello/82a9f1c1c473d6585e750ad2e3c05a41/raw/d42d226d0dd64e7f5395a0eec1b9190a10edbc03/Medical_Cost.csv\")"
   ]
  },
  {
   "cell_type": "code",
   "execution_count": 4,
   "id": "518e26b6-5023-4765-ad88-f128981a5075",
   "metadata": {},
   "outputs": [
    {
     "data": {
      "text/html": [
       "<div>\n",
       "<style scoped>\n",
       "    .dataframe tbody tr th:only-of-type {\n",
       "        vertical-align: middle;\n",
       "    }\n",
       "\n",
       "    .dataframe tbody tr th {\n",
       "        vertical-align: top;\n",
       "    }\n",
       "\n",
       "    .dataframe thead th {\n",
       "        text-align: right;\n",
       "    }\n",
       "</style>\n",
       "<table border=\"1\" class=\"dataframe\">\n",
       "  <thead>\n",
       "    <tr style=\"text-align: right;\">\n",
       "      <th></th>\n",
       "      <th>age</th>\n",
       "      <th>sex</th>\n",
       "      <th>bmi</th>\n",
       "      <th>children</th>\n",
       "      <th>smoker</th>\n",
       "      <th>region</th>\n",
       "      <th>charges</th>\n",
       "    </tr>\n",
       "  </thead>\n",
       "  <tbody>\n",
       "    <tr>\n",
       "      <th>0</th>\n",
       "      <td>19</td>\n",
       "      <td>female</td>\n",
       "      <td>27.900</td>\n",
       "      <td>0</td>\n",
       "      <td>yes</td>\n",
       "      <td>southwest</td>\n",
       "      <td>16884.92400</td>\n",
       "    </tr>\n",
       "    <tr>\n",
       "      <th>1</th>\n",
       "      <td>18</td>\n",
       "      <td>male</td>\n",
       "      <td>33.770</td>\n",
       "      <td>1</td>\n",
       "      <td>no</td>\n",
       "      <td>southeast</td>\n",
       "      <td>1725.55230</td>\n",
       "    </tr>\n",
       "    <tr>\n",
       "      <th>2</th>\n",
       "      <td>28</td>\n",
       "      <td>male</td>\n",
       "      <td>33.000</td>\n",
       "      <td>3</td>\n",
       "      <td>no</td>\n",
       "      <td>southeast</td>\n",
       "      <td>4449.46200</td>\n",
       "    </tr>\n",
       "    <tr>\n",
       "      <th>3</th>\n",
       "      <td>33</td>\n",
       "      <td>male</td>\n",
       "      <td>22.705</td>\n",
       "      <td>0</td>\n",
       "      <td>no</td>\n",
       "      <td>northwest</td>\n",
       "      <td>21984.47061</td>\n",
       "    </tr>\n",
       "    <tr>\n",
       "      <th>4</th>\n",
       "      <td>32</td>\n",
       "      <td>male</td>\n",
       "      <td>28.880</td>\n",
       "      <td>0</td>\n",
       "      <td>no</td>\n",
       "      <td>northwest</td>\n",
       "      <td>3866.85520</td>\n",
       "    </tr>\n",
       "    <tr>\n",
       "      <th>...</th>\n",
       "      <td>...</td>\n",
       "      <td>...</td>\n",
       "      <td>...</td>\n",
       "      <td>...</td>\n",
       "      <td>...</td>\n",
       "      <td>...</td>\n",
       "      <td>...</td>\n",
       "    </tr>\n",
       "    <tr>\n",
       "      <th>1333</th>\n",
       "      <td>50</td>\n",
       "      <td>male</td>\n",
       "      <td>30.970</td>\n",
       "      <td>3</td>\n",
       "      <td>no</td>\n",
       "      <td>northwest</td>\n",
       "      <td>10600.54830</td>\n",
       "    </tr>\n",
       "    <tr>\n",
       "      <th>1334</th>\n",
       "      <td>18</td>\n",
       "      <td>female</td>\n",
       "      <td>31.920</td>\n",
       "      <td>0</td>\n",
       "      <td>no</td>\n",
       "      <td>northeast</td>\n",
       "      <td>2205.98080</td>\n",
       "    </tr>\n",
       "    <tr>\n",
       "      <th>1335</th>\n",
       "      <td>18</td>\n",
       "      <td>female</td>\n",
       "      <td>36.850</td>\n",
       "      <td>0</td>\n",
       "      <td>no</td>\n",
       "      <td>southeast</td>\n",
       "      <td>1629.83350</td>\n",
       "    </tr>\n",
       "    <tr>\n",
       "      <th>1336</th>\n",
       "      <td>21</td>\n",
       "      <td>female</td>\n",
       "      <td>25.800</td>\n",
       "      <td>0</td>\n",
       "      <td>no</td>\n",
       "      <td>southwest</td>\n",
       "      <td>2007.94500</td>\n",
       "    </tr>\n",
       "    <tr>\n",
       "      <th>1337</th>\n",
       "      <td>61</td>\n",
       "      <td>female</td>\n",
       "      <td>29.070</td>\n",
       "      <td>0</td>\n",
       "      <td>yes</td>\n",
       "      <td>northwest</td>\n",
       "      <td>29141.36030</td>\n",
       "    </tr>\n",
       "  </tbody>\n",
       "</table>\n",
       "<p>1338 rows × 7 columns</p>\n",
       "</div>"
      ],
      "text/plain": [
       "      age     sex     bmi  children smoker     region      charges\n",
       "0      19  female  27.900         0    yes  southwest  16884.92400\n",
       "1      18    male  33.770         1     no  southeast   1725.55230\n",
       "2      28    male  33.000         3     no  southeast   4449.46200\n",
       "3      33    male  22.705         0     no  northwest  21984.47061\n",
       "4      32    male  28.880         0     no  northwest   3866.85520\n",
       "...   ...     ...     ...       ...    ...        ...          ...\n",
       "1333   50    male  30.970         3     no  northwest  10600.54830\n",
       "1334   18  female  31.920         0     no  northeast   2205.98080\n",
       "1335   18  female  36.850         0     no  southeast   1629.83350\n",
       "1336   21  female  25.800         0     no  southwest   2007.94500\n",
       "1337   61  female  29.070         0    yes  northwest  29141.36030\n",
       "\n",
       "[1338 rows x 7 columns]"
      ]
     },
     "execution_count": 4,
     "metadata": {},
     "output_type": "execute_result"
    }
   ],
   "source": [
    "insurance"
   ]
  },
  {
   "cell_type": "code",
   "execution_count": 5,
   "id": "8d368807-cd42-4f63-9ec6-8938d2624b2d",
   "metadata": {},
   "outputs": [],
   "source": [
    "\n",
    "pd_data = pd.get_dummies(insurance)\n",
    "\n"
   ]
  },
  {
   "cell_type": "code",
   "execution_count": 6,
   "id": "e6194e47-ef2d-466d-98e8-6bf9e0a5837a",
   "metadata": {},
   "outputs": [
    {
     "data": {
      "text/plain": [
       "(      age     bmi  children  sex_female  sex_male  smoker_no  smoker_yes  \\\n",
       " 0      19  27.900         0           1         0          0           1   \n",
       " 1      18  33.770         1           0         1          1           0   \n",
       " 2      28  33.000         3           0         1          1           0   \n",
       " 3      33  22.705         0           0         1          1           0   \n",
       " 4      32  28.880         0           0         1          1           0   \n",
       " ...   ...     ...       ...         ...       ...        ...         ...   \n",
       " 1333   50  30.970         3           0         1          1           0   \n",
       " 1334   18  31.920         0           1         0          1           0   \n",
       " 1335   18  36.850         0           1         0          1           0   \n",
       " 1336   21  25.800         0           1         0          1           0   \n",
       " 1337   61  29.070         0           1         0          0           1   \n",
       " \n",
       "       region_northeast  region_northwest  region_southeast  region_southwest  \n",
       " 0                    0                 0                 0                 1  \n",
       " 1                    0                 0                 1                 0  \n",
       " 2                    0                 0                 1                 0  \n",
       " 3                    0                 1                 0                 0  \n",
       " 4                    0                 1                 0                 0  \n",
       " ...                ...               ...               ...               ...  \n",
       " 1333                 0                 1                 0                 0  \n",
       " 1334                 1                 0                 0                 0  \n",
       " 1335                 0                 0                 1                 0  \n",
       " 1336                 0                 0                 0                 1  \n",
       " 1337                 0                 1                 0                 0  \n",
       " \n",
       " [1338 rows x 11 columns],\n",
       " 0       16884.92400\n",
       " 1        1725.55230\n",
       " 2        4449.46200\n",
       " 3       21984.47061\n",
       " 4        3866.85520\n",
       "            ...     \n",
       " 1333    10600.54830\n",
       " 1334     2205.98080\n",
       " 1335     1629.83350\n",
       " 1336     2007.94500\n",
       " 1337    29141.36030\n",
       " Name: charges, Length: 1338, dtype: float64)"
      ]
     },
     "execution_count": 6,
     "metadata": {},
     "output_type": "execute_result"
    }
   ],
   "source": [
    "X = pd_data.loc[:, pd_data.columns!=\"charges\"]\n",
    "y = pd_data[\"charges\"]\n",
    "X, y"
   ]
  },
  {
   "cell_type": "code",
   "execution_count": 7,
   "id": "28debd93-999b-4d54-8026-1481006538f7",
   "metadata": {},
   "outputs": [],
   "source": [
    "X_train = X.sample(frac=0.8,random_state=0)\n",
    "X_test = X.drop(X_train.index)"
   ]
  },
  {
   "cell_type": "code",
   "execution_count": 8,
   "id": "3ef55809-3290-4f25-b156-55e123e68881",
   "metadata": {},
   "outputs": [],
   "source": [
    "y_train = y.sample(frac=0.8,random_state=0)\n",
    "y_test = y.drop(X_train.index)"
   ]
  },
  {
   "cell_type": "code",
   "execution_count": 9,
   "id": "0216975b-671c-477f-8b25-efe4564b8c08",
   "metadata": {},
   "outputs": [
    {
     "name": "stdout",
     "output_type": "stream",
     "text": [
      "Metal device set to: Apple M1 Pro\n"
     ]
    },
    {
     "name": "stderr",
     "output_type": "stream",
     "text": [
      "2022-10-29 09:08:47.719016: I tensorflow/core/common_runtime/pluggable_device/pluggable_device_factory.cc:306] Could not identify NUMA node of platform GPU ID 0, defaulting to 0. Your kernel may not have been built with NUMA support.\n",
      "2022-10-29 09:08:47.720209: I tensorflow/core/common_runtime/pluggable_device/pluggable_device_factory.cc:272] Created TensorFlow device (/job:localhost/replica:0/task:0/device:GPU:0 with 0 MB memory) -> physical PluggableDevice (device: 0, name: METAL, pci bus id: <undefined>)\n"
     ]
    },
    {
     "data": {
      "text/plain": [
       "<tf.Tensor: shape=(1070, 11), dtype=float64, numpy=\n",
       "array([[52.   , 30.2  ,  1.   , ...,  0.   ,  0.   ,  1.   ],\n",
       "       [47.   , 29.37 ,  1.   , ...,  0.   ,  1.   ,  0.   ],\n",
       "       [48.   , 40.565,  2.   , ...,  1.   ,  0.   ,  0.   ],\n",
       "       ...,\n",
       "       [42.   , 26.6  ,  0.   , ...,  1.   ,  0.   ,  0.   ],\n",
       "       [37.   , 26.4  ,  0.   , ...,  0.   ,  1.   ,  0.   ],\n",
       "       [57.   , 28.1  ,  0.   , ...,  0.   ,  0.   ,  1.   ]])>"
      ]
     },
     "execution_count": 9,
     "metadata": {},
     "output_type": "execute_result"
    }
   ],
   "source": [
    "tf.constant(X_train)"
   ]
  },
  {
   "cell_type": "code",
   "execution_count": 11,
   "id": "7fb4162b-abb9-497c-8c55-3e468274005a",
   "metadata": {},
   "outputs": [
    {
     "name": "stdout",
     "output_type": "stream",
     "text": [
      "Model: \"sequential\"\n",
      "_________________________________________________________________\n",
      " Layer (type)                Output Shape              Param #   \n",
      "=================================================================\n",
      " dense (Dense)               (None, 1)                 12        \n",
      "                                                                 \n",
      " dense_1 (Dense)             (None, 100)               200       \n",
      "                                                                 \n",
      " dense_2 (Dense)             (None, 100)               10100     \n",
      "                                                                 \n",
      " dense_3 (Dense)             (None, 1)                 101       \n",
      "                                                                 \n",
      "=================================================================\n",
      "Total params: 10,413\n",
      "Trainable params: 10,413\n",
      "Non-trainable params: 0\n",
      "_________________________________________________________________\n"
     ]
    }
   ],
   "source": [
    "tf.random.set_seed(42)\n",
    "model = tf.keras.Sequential()\n",
    "model.add(tf.keras.layers.Dense(1, input_shape=[11]))\n",
    "model.add(tf.keras.layers.Dense(100, activation=\"relu\"))\n",
    "model.add(tf.keras.layers.Dense(100, activation=\"relu\"))\n",
    "model.add(tf.keras.layers.Dense(1))\n",
    "model.compile(loss=tf.keras.losses.mae, optimizer=tf.keras.optimizers.Adam(learning_rate=0.1), metrics=[\"mae\"])\n",
    "model.summary()\n"
   ]
  },
  {
   "cell_type": "code",
   "execution_count": 261,
   "id": "193d0d19-8616-4613-b62e-5afe1a9f2c38",
   "metadata": {},
   "outputs": [
    {
     "name": "stderr",
     "output_type": "stream",
     "text": [
      "2022-10-23 10:54:26.928713: I tensorflow/core/grappler/optimizers/custom_graph_optimizer_registry.cc:114] Plugin optimizer for device_type GPU is enabled.\n"
     ]
    },
    {
     "data": {
      "text/plain": [
       "<keras.callbacks.History at 0x2f3831160>"
      ]
     },
     "execution_count": 261,
     "metadata": {},
     "output_type": "execute_result"
    }
   ],
   "source": [
    "model.fit(X_train,y_train, epochs=100, verbose=0)"
   ]
  },
  {
   "cell_type": "code",
   "execution_count": 262,
   "id": "41e5a1bb-3532-4bf3-99db-49ab17bef363",
   "metadata": {},
   "outputs": [
    {
     "name": "stdout",
     "output_type": "stream",
     "text": [
      "9/9 [==============================] - 0s 3ms/step\n"
     ]
    },
    {
     "name": "stderr",
     "output_type": "stream",
     "text": [
      "2022-10-23 10:54:44.995568: I tensorflow/core/grappler/optimizers/custom_graph_optimizer_registry.cc:114] Plugin optimizer for device_type GPU is enabled.\n"
     ]
    }
   ],
   "source": [
    "y_pred = model.predict(X_test)"
   ]
  },
  {
   "cell_type": "code",
   "execution_count": 264,
   "id": "dcbdb8dd-c2f7-47a4-8970-fb97fdbc6604",
   "metadata": {},
   "outputs": [
    {
     "data": {
      "text/plain": [
       "(<tf.Tensor: shape=(), dtype=float64, numpy=13321.659820884855>,\n",
       " <tf.Tensor: shape=(), dtype=float64, numpy=330642576.33852273>)"
      ]
     },
     "execution_count": 264,
     "metadata": {},
     "output_type": "execute_result"
    }
   ],
   "source": [
    "mae(y_pred, y_test), mse(y_pred, y_test)"
   ]
  },
  {
   "cell_type": "code",
   "execution_count": 35,
   "id": "5d2c2fb2-7c9f-4bf1-8fd3-94802be9ebbc",
   "metadata": {},
   "outputs": [
    {
     "name": "stdout",
     "output_type": "stream",
     "text": [
      "Model: \"sequential_3\"\n",
      "_________________________________________________________________\n",
      " Layer (type)                Output Shape              Param #   \n",
      "=================================================================\n",
      " dense_8 (Dense)             (None, 1)                 12        \n",
      "                                                                 \n",
      " dense_9 (Dense)             (None, 100)               200       \n",
      "                                                                 \n",
      " dense_10 (Dense)            (None, 50)                5050      \n",
      "                                                                 \n",
      " dense_11 (Dense)            (None, 1)                 51        \n",
      "                                                                 \n",
      "=================================================================\n",
      "Total params: 5,313\n",
      "Trainable params: 5,313\n",
      "Non-trainable params: 0\n",
      "_________________________________________________________________\n"
     ]
    }
   ],
   "source": [
    "tf.random.set_seed(42)\n",
    "model = tf.keras.Sequential()\n",
    "model.add(tf.keras.layers.Dense(1, input_shape=[11]))\n",
    "model.add(tf.keras.layers.Dense(100, activation=\"sigmoid\"))\n",
    "model.add(tf.keras.layers.Dense(50, activation=\"relu\"))\n",
    "model.add(tf.keras.layers.Dense(1))\n",
    "model.compile(loss=tf.keras.losses.mae, optimizer=tf.keras.optimizers.SGD(), metrics=[\"mae\"])\n",
    "model.summary()\n"
   ]
  },
  {
   "cell_type": "code",
   "execution_count": 36,
   "id": "7d41d4f8-eaae-4c2d-b188-ebdba99ef15f",
   "metadata": {},
   "outputs": [
    {
     "name": "stderr",
     "output_type": "stream",
     "text": [
      "2022-10-23 20:48:41.793122: I tensorflow/core/grappler/optimizers/custom_graph_optimizer_registry.cc:114] Plugin optimizer for device_type GPU is enabled.\n"
     ]
    },
    {
     "data": {
      "text/plain": [
       "<keras.callbacks.History at 0x2a2606850>"
      ]
     },
     "execution_count": 36,
     "metadata": {},
     "output_type": "execute_result"
    }
   ],
   "source": [
    "model.fit(X_train,y_train, epochs=100, verbose=0)"
   ]
  },
  {
   "cell_type": "code",
   "execution_count": 39,
   "id": "ae7a65df-4d14-4db8-ad3e-9f5ed38e05f7",
   "metadata": {},
   "outputs": [
    {
     "name": "stdout",
     "output_type": "stream",
     "text": [
      "9/9 [==============================] - 0s 4ms/step - loss: 8683.5684 - mae: 8683.5684\n"
     ]
    },
    {
     "data": {
      "text/plain": [
       "[8683.568359375, 8683.568359375]"
      ]
     },
     "execution_count": 39,
     "metadata": {},
     "output_type": "execute_result"
    }
   ],
   "source": [
    "y_eval = model.evaluate(X_test,y_test)\n",
    "y_eval"
   ]
  },
  {
   "cell_type": "code",
   "execution_count": 317,
   "id": "08b2a956-edd3-471c-876f-8325f999cb93",
   "metadata": {},
   "outputs": [
    {
     "name": "stdout",
     "output_type": "stream",
     "text": [
      "9/9 [==============================] - 0s 3ms/step\n"
     ]
    },
    {
     "name": "stderr",
     "output_type": "stream",
     "text": [
      "2022-10-23 11:06:00.753287: I tensorflow/core/grappler/optimizers/custom_graph_optimizer_registry.cc:114] Plugin optimizer for device_type GPU is enabled.\n"
     ]
    }
   ],
   "source": [
    "y_pred = model.evaluate(X_test,)"
   ]
  },
  {
   "cell_type": "code",
   "execution_count": 319,
   "id": "6ae40df0-5b66-413d-b314-00f6adc6bf73",
   "metadata": {},
   "outputs": [
    {
     "data": {
      "text/plain": [
       "(<tf.Tensor: shape=(), dtype=float64, numpy=9006.447044617753>,\n",
       " <tf.Tensor: shape=(), dtype=float64, numpy=184289053.0830607>)"
      ]
     },
     "execution_count": 319,
     "metadata": {},
     "output_type": "execute_result"
    }
   ],
   "source": [
    "mae(y_pred, y_test), mse(y_pred, y_test)"
   ]
  },
  {
   "cell_type": "code",
   "execution_count": 320,
   "id": "20ce327c-42cb-4a41-89fe-4f45478eabd2",
   "metadata": {},
   "outputs": [],
   "source": [
    "# udemy code"
   ]
  },
  {
   "cell_type": "code",
   "execution_count": 12,
   "id": "d77a81fc-ed99-4d7d-843a-307fa1ffeeb0",
   "metadata": {},
   "outputs": [],
   "source": [
    "X = pd_data.drop(\"charges\", axis=1)\n",
    "y = pd_data[\"charges\"]"
   ]
  },
  {
   "cell_type": "code",
   "execution_count": 13,
   "id": "5bf3d56f-fb23-4dcd-b38e-91ced3be155f",
   "metadata": {},
   "outputs": [
    {
     "data": {
      "text/html": [
       "<div>\n",
       "<style scoped>\n",
       "    .dataframe tbody tr th:only-of-type {\n",
       "        vertical-align: middle;\n",
       "    }\n",
       "\n",
       "    .dataframe tbody tr th {\n",
       "        vertical-align: top;\n",
       "    }\n",
       "\n",
       "    .dataframe thead th {\n",
       "        text-align: right;\n",
       "    }\n",
       "</style>\n",
       "<table border=\"1\" class=\"dataframe\">\n",
       "  <thead>\n",
       "    <tr style=\"text-align: right;\">\n",
       "      <th></th>\n",
       "      <th>age</th>\n",
       "      <th>bmi</th>\n",
       "      <th>children</th>\n",
       "      <th>sex_female</th>\n",
       "      <th>sex_male</th>\n",
       "      <th>smoker_no</th>\n",
       "      <th>smoker_yes</th>\n",
       "      <th>region_northeast</th>\n",
       "      <th>region_northwest</th>\n",
       "      <th>region_southeast</th>\n",
       "      <th>region_southwest</th>\n",
       "    </tr>\n",
       "  </thead>\n",
       "  <tbody>\n",
       "    <tr>\n",
       "      <th>0</th>\n",
       "      <td>19</td>\n",
       "      <td>27.900</td>\n",
       "      <td>0</td>\n",
       "      <td>1</td>\n",
       "      <td>0</td>\n",
       "      <td>0</td>\n",
       "      <td>1</td>\n",
       "      <td>0</td>\n",
       "      <td>0</td>\n",
       "      <td>0</td>\n",
       "      <td>1</td>\n",
       "    </tr>\n",
       "    <tr>\n",
       "      <th>1</th>\n",
       "      <td>18</td>\n",
       "      <td>33.770</td>\n",
       "      <td>1</td>\n",
       "      <td>0</td>\n",
       "      <td>1</td>\n",
       "      <td>1</td>\n",
       "      <td>0</td>\n",
       "      <td>0</td>\n",
       "      <td>0</td>\n",
       "      <td>1</td>\n",
       "      <td>0</td>\n",
       "    </tr>\n",
       "    <tr>\n",
       "      <th>2</th>\n",
       "      <td>28</td>\n",
       "      <td>33.000</td>\n",
       "      <td>3</td>\n",
       "      <td>0</td>\n",
       "      <td>1</td>\n",
       "      <td>1</td>\n",
       "      <td>0</td>\n",
       "      <td>0</td>\n",
       "      <td>0</td>\n",
       "      <td>1</td>\n",
       "      <td>0</td>\n",
       "    </tr>\n",
       "    <tr>\n",
       "      <th>3</th>\n",
       "      <td>33</td>\n",
       "      <td>22.705</td>\n",
       "      <td>0</td>\n",
       "      <td>0</td>\n",
       "      <td>1</td>\n",
       "      <td>1</td>\n",
       "      <td>0</td>\n",
       "      <td>0</td>\n",
       "      <td>1</td>\n",
       "      <td>0</td>\n",
       "      <td>0</td>\n",
       "    </tr>\n",
       "    <tr>\n",
       "      <th>4</th>\n",
       "      <td>32</td>\n",
       "      <td>28.880</td>\n",
       "      <td>0</td>\n",
       "      <td>0</td>\n",
       "      <td>1</td>\n",
       "      <td>1</td>\n",
       "      <td>0</td>\n",
       "      <td>0</td>\n",
       "      <td>1</td>\n",
       "      <td>0</td>\n",
       "      <td>0</td>\n",
       "    </tr>\n",
       "  </tbody>\n",
       "</table>\n",
       "</div>"
      ],
      "text/plain": [
       "   age     bmi  children  sex_female  sex_male  smoker_no  smoker_yes  \\\n",
       "0   19  27.900         0           1         0          0           1   \n",
       "1   18  33.770         1           0         1          1           0   \n",
       "2   28  33.000         3           0         1          1           0   \n",
       "3   33  22.705         0           0         1          1           0   \n",
       "4   32  28.880         0           0         1          1           0   \n",
       "\n",
       "   region_northeast  region_northwest  region_southeast  region_southwest  \n",
       "0                 0                 0                 0                 1  \n",
       "1                 0                 0                 1                 0  \n",
       "2                 0                 0                 1                 0  \n",
       "3                 0                 1                 0                 0  \n",
       "4                 0                 1                 0                 0  "
      ]
     },
     "execution_count": 13,
     "metadata": {},
     "output_type": "execute_result"
    }
   ],
   "source": [
    "X.head()"
   ]
  },
  {
   "cell_type": "code",
   "execution_count": 14,
   "id": "cc0df8d2-c217-47ae-8b68-30c39a1a3765",
   "metadata": {},
   "outputs": [
    {
     "data": {
      "text/plain": [
       "0    16884.92400\n",
       "1     1725.55230\n",
       "2     4449.46200\n",
       "3    21984.47061\n",
       "4     3866.85520\n",
       "Name: charges, dtype: float64"
      ]
     },
     "execution_count": 14,
     "metadata": {},
     "output_type": "execute_result"
    }
   ],
   "source": [
    "y.head()"
   ]
  },
  {
   "cell_type": "code",
   "execution_count": 18,
   "id": "6eb2114a-0bb4-4c64-ac97-3590b704baa8",
   "metadata": {},
   "outputs": [],
   "source": [
    "from sklearn.model_selection import train_test_split\n",
    "X_train, X_test, y_train, y_test = train_test_split(X, y, test_size=0.2, random_state=42)"
   ]
  },
  {
   "cell_type": "code",
   "execution_count": 20,
   "id": "106c5974-e35f-4bd2-b021-0becd10c6693",
   "metadata": {},
   "outputs": [
    {
     "data": {
      "text/plain": [
       "(1338, 1070, 268)"
      ]
     },
     "execution_count": 20,
     "metadata": {},
     "output_type": "execute_result"
    }
   ],
   "source": [
    "len(X), len(X_train), len(X_test)"
   ]
  },
  {
   "cell_type": "code",
   "execution_count": 40,
   "id": "05b23113-6dc7-4fc8-924d-aae45e60492f",
   "metadata": {},
   "outputs": [
    {
     "name": "stderr",
     "output_type": "stream",
     "text": [
      "2022-10-23 21:02:17.737164: I tensorflow/core/grappler/optimizers/custom_graph_optimizer_registry.cc:114] Plugin optimizer for device_type GPU is enabled.\n"
     ]
    },
    {
     "name": "stdout",
     "output_type": "stream",
     "text": [
      "9/9 [==============================] - 0s 4ms/step - loss: 7110.7573 - mae: 7110.7573\n"
     ]
    },
    {
     "name": "stderr",
     "output_type": "stream",
     "text": [
      "2022-10-23 21:02:28.857861: I tensorflow/core/grappler/optimizers/custom_graph_optimizer_registry.cc:114] Plugin optimizer for device_type GPU is enabled.\n"
     ]
    }
   ],
   "source": [
    "tf.random.set_seed(42)\n",
    "\n",
    "insurance_model = tf.keras.Sequential()\n",
    "insurance_model.add(tf.keras.layers.Dense(10))\n",
    "insurance_model.add(tf.keras.layers.Dense(1))\n",
    "\n",
    "insurance_model.compile(loss=tf.keras.losses.mae, optimizer=tf.keras.optimizers.SGD(), metrics=[\"mae\"])\n",
    "\n",
    "insurance_model.fit(X_train, y_train, epochs=100, verbose=0)\n",
    "y_pred = insurance_model.evaluate(X_test, y_test)"
   ]
  },
  {
   "cell_type": "code",
   "execution_count": 41,
   "id": "7ce6fb01-36dc-4368-a733-4159d51f2a70",
   "metadata": {},
   "outputs": [
    {
     "data": {
      "text/plain": [
       "[7110.75732421875, 7110.75732421875]"
      ]
     },
     "execution_count": 41,
     "metadata": {},
     "output_type": "execute_result"
    }
   ],
   "source": [
    "y_pred"
   ]
  },
  {
   "cell_type": "code",
   "execution_count": 52,
   "id": "3be36c6b-8dd0-461d-b3ee-092e9a3a14b9",
   "metadata": {},
   "outputs": [
    {
     "name": "stderr",
     "output_type": "stream",
     "text": [
      "2022-10-23 21:09:25.435677: I tensorflow/core/grappler/optimizers/custom_graph_optimizer_registry.cc:114] Plugin optimizer for device_type GPU is enabled.\n"
     ]
    },
    {
     "name": "stdout",
     "output_type": "stream",
     "text": [
      "9/9 [==============================] - 0s 4ms/step - loss: 7002.5122 - mae: 7002.5122\n"
     ]
    },
    {
     "name": "stderr",
     "output_type": "stream",
     "text": [
      "2022-10-23 21:09:35.705643: I tensorflow/core/grappler/optimizers/custom_graph_optimizer_registry.cc:114] Plugin optimizer for device_type GPU is enabled.\n"
     ]
    },
    {
     "data": {
      "text/plain": [
       "[7002.51220703125, 7002.51220703125]"
      ]
     },
     "execution_count": 52,
     "metadata": {},
     "output_type": "execute_result"
    }
   ],
   "source": [
    "tf.random.set_seed(42)\n",
    "\n",
    "insurance_model = tf.keras.Sequential()\n",
    "insurance_model.add(tf.keras.layers.Dense(1, input_shape=[11]))\n",
    "model.add(tf.keras.layers.Dense(100, activation=\"softmax\"))\n",
    "model.add(tf.keras.layers.Dense(10, activation=\"relu\"))\n",
    "\n",
    "\n",
    "insurance_model.compile(loss=tf.keras.losses.mae, optimizer=tf.keras.optimizers.Adam(), metrics=[\"mae\"])\n",
    "\n",
    "insurance_model.fit(X_train, y_train, epochs=100, verbose=0)\n",
    "y_pred = insurance_model.evaluate(X_test, y_test)\n",
    "y_pred"
   ]
  },
  {
   "cell_type": "code",
   "execution_count": 50,
   "id": "29db1c5a-8195-4c9c-bd4f-b53a402d8563",
   "metadata": {},
   "outputs": [
    {
     "name": "stderr",
     "output_type": "stream",
     "text": [
      "2022-10-23 21:06:52.544519: I tensorflow/core/grappler/optimizers/custom_graph_optimizer_registry.cc:114] Plugin optimizer for device_type GPU is enabled.\n"
     ]
    },
    {
     "name": "stdout",
     "output_type": "stream",
     "text": [
      "9/9 [==============================] - 0s 4ms/step - loss: 6621.4507 - mae: 6621.4507\n"
     ]
    },
    {
     "name": "stderr",
     "output_type": "stream",
     "text": [
      "2022-10-23 21:08:31.731202: I tensorflow/core/grappler/optimizers/custom_graph_optimizer_registry.cc:114] Plugin optimizer for device_type GPU is enabled.\n"
     ]
    },
    {
     "data": {
      "text/plain": [
       "[6621.45068359375, 6621.45068359375]"
      ]
     },
     "execution_count": 50,
     "metadata": {},
     "output_type": "execute_result"
    }
   ],
   "source": [
    "tf.random.set_seed(42)\n",
    "\n",
    "insurance_model = tf.keras.Sequential()\n",
    "insurance_model.add(tf.keras.layers.Dense(1, input_shape=[11]))\n",
    "model.add(tf.keras.layers.Dense(200, activation=\"softmax\"))\n",
    "model.add(tf.keras.layers.Dense(100, activation=\"relu\"))\n",
    "\n",
    "insurance_model.compile(loss=tf.keras.losses.mae, optimizer=tf.keras.optimizers.SGD(), metrics=[\"mae\"])\n",
    "\n",
    "insurance_model.fit(X_train, y_train, epochs=200, verbose=0)\n",
    "y_pred = insurance_model.evaluate(X_test, y_test)\n",
    "y_pred"
   ]
  },
  {
   "cell_type": "markdown",
   "id": "3cedea33",
   "metadata": {},
   "source": [
    "To try imporve model.\n",
    "- add extra layer\n",
    "- train longer\n"
   ]
  },
  {
   "cell_type": "code",
   "execution_count": 14,
   "id": "a78d728f",
   "metadata": {},
   "outputs": [
    {
     "name": "stderr",
     "output_type": "stream",
     "text": [
      "2022-10-25 07:15:50.512739: I tensorflow/core/grappler/optimizers/custom_graph_optimizer_registry.cc:114] Plugin optimizer for device_type GPU is enabled.\n"
     ]
    },
    {
     "name": "stdout",
     "output_type": "stream",
     "text": [
      "9/9 [==============================] - 0s 5ms/step - loss: 5717.9458 - mae: 5717.9458\n"
     ]
    },
    {
     "name": "stderr",
     "output_type": "stream",
     "text": [
      "2022-10-25 07:16:04.841811: I tensorflow/core/grappler/optimizers/custom_graph_optimizer_registry.cc:114] Plugin optimizer for device_type GPU is enabled.\n"
     ]
    }
   ],
   "source": [
    "tf.random.set_seed(42)\n",
    "\n",
    "insurance_model = tf.keras.Sequential()\n",
    "insurance_model.add(tf.keras.layers.Dense(100))\n",
    "insurance_model.add(tf.keras.layers.Dense(10))\n",
    "insurance_model.add(tf.keras.layers.Dense(1))\n",
    "\n",
    "insurance_model.compile(loss=tf.keras.losses.mae, optimizer=tf.keras.optimizers.Adam(), metrics=[\"mae\"])\n",
    "\n",
    "insurance_model.fit(X_train, y_train, epochs=100, verbose=0)\n",
    "y_pred = insurance_model.evaluate(X_test, y_test)"
   ]
  },
  {
   "cell_type": "code",
   "execution_count": 15,
   "id": "eaf4a6ef",
   "metadata": {},
   "outputs": [
    {
     "data": {
      "text/plain": [
       "[5717.94580078125, 5717.94580078125]"
      ]
     },
     "execution_count": 15,
     "metadata": {},
     "output_type": "execute_result"
    }
   ],
   "source": [
    "y_pred"
   ]
  },
  {
   "cell_type": "code",
   "execution_count": 17,
   "id": "73c93f19",
   "metadata": {},
   "outputs": [
    {
     "name": "stderr",
     "output_type": "stream",
     "text": [
      "2022-10-25 07:16:41.750555: I tensorflow/core/grappler/optimizers/custom_graph_optimizer_registry.cc:114] Plugin optimizer for device_type GPU is enabled.\n"
     ]
    },
    {
     "name": "stdout",
     "output_type": "stream",
     "text": [
      "9/9 [==============================] - 0s 6ms/step - loss: 14111.9023 - mae: 14111.9023\n"
     ]
    },
    {
     "name": "stderr",
     "output_type": "stream",
     "text": [
      "2022-10-25 07:17:12.398685: I tensorflow/core/grappler/optimizers/custom_graph_optimizer_registry.cc:114] Plugin optimizer for device_type GPU is enabled.\n"
     ]
    },
    {
     "data": {
      "text/plain": [
       "[14111.90234375, 14111.90234375]"
      ]
     },
     "execution_count": 17,
     "metadata": {},
     "output_type": "execute_result"
    }
   ],
   "source": [
    "# didn't work\n",
    "tf.random.set_seed(42)\n",
    "\n",
    "insurance_model = tf.keras.Sequential()\n",
    "insurance_model.add(tf.keras.layers.Dense(1, input_shape=[11]))\n",
    "insurance_model.add(tf.keras.layers.Dense(200, activation=\"softmax\"))\n",
    "insurance_model.add(tf.keras.layers.Dense(100, activation=\"relu\"))\n",
    "\n",
    "insurance_model.compile(loss=tf.keras.losses.mae, optimizer=tf.keras.optimizers.Adam(), metrics=[\"mae\"])\n",
    "\n",
    "insurance_model.fit(X_train, y_train, epochs=200, verbose=0)\n",
    "y_pred = insurance_model.evaluate(X_test, y_test)\n",
    "y_pred"
   ]
  },
  {
   "cell_type": "code",
   "execution_count": 31,
   "id": "a5c6f974",
   "metadata": {},
   "outputs": [
    {
     "name": "stderr",
     "output_type": "stream",
     "text": [
      "2022-10-25 07:26:41.033286: I tensorflow/core/grappler/optimizers/custom_graph_optimizer_registry.cc:114] Plugin optimizer for device_type GPU is enabled.\n"
     ]
    },
    {
     "name": "stdout",
     "output_type": "stream",
     "text": [
      "9/9 [==============================] - 0s 6ms/step - loss: 4078.7388 - mae: 4078.7388\n"
     ]
    },
    {
     "name": "stderr",
     "output_type": "stream",
     "text": [
      "2022-10-25 07:27:15.534953: I tensorflow/core/grappler/optimizers/custom_graph_optimizer_registry.cc:114] Plugin optimizer for device_type GPU is enabled.\n"
     ]
    },
    {
     "data": {
      "text/plain": [
       "[4078.73876953125, 4078.73876953125]"
      ]
     },
     "execution_count": 31,
     "metadata": {},
     "output_type": "execute_result"
    }
   ],
   "source": [
    "tf.random.set_seed(42)\n",
    "\n",
    "insurance_model = tf.keras.Sequential()\n",
    "insurance_model.add(tf.keras.layers.Dense(100))\n",
    "insurance_model.add(tf.keras.layers.Dense(10))\n",
    "insurance_model.add(tf.keras.layers.Dense(1))\n",
    "\n",
    "insurance_model.compile(loss=tf.keras.losses.mae, optimizer=tf.keras.optimizers.Adam(), metrics=[\"mae\"])\n",
    "\n",
    "history = insurance_model.fit(X_train, y_train, epochs=200, verbose=0)\n",
    "y_pred = insurance_model.evaluate(X_test, y_test)\n",
    "y_pred"
   ]
  },
  {
   "cell_type": "code",
   "execution_count": 32,
   "id": "a35f2fe7",
   "metadata": {
    "scrolled": true
   },
   "outputs": [
    {
     "data": {
      "image/png": "[encoded data removed]",
      "text/plain": [
       "<Figure size 640x480 with 1 Axes>"
      ]
     },
     "metadata": {},
     "output_type": "display_data"
    }
   ],
   "source": [
    "# plot history\n",
    "dd = pd.DataFrame(history.history).plot()\n",
    "# plt.ylabel(\"loss\")\n",
    "# plt.xlabel(\"epochs\")"
   ]
  },
  {
   "cell_type": "code",
   "execution_count": 25,
   "id": "2650a412",
   "metadata": {},
   "outputs": [
    {
     "name": "stdout",
     "output_type": "stream",
     "text": [
      "<keras.callbacks.History object at 0x28a530730>\n"
     ]
    }
   ],
   "source": [
    "print(history)"
   ]
  },
  {
   "cell_type": "code",
   "execution_count": 33,
   "id": "a5763d20",
   "metadata": {},
   "outputs": [
    {
     "name": "stderr",
     "output_type": "stream",
     "text": [
      "2022-10-25 07:28:34.522218: I tensorflow/core/grappler/optimizers/custom_graph_optimizer_registry.cc:114] Plugin optimizer for device_type GPU is enabled.\n"
     ]
    },
    {
     "name": "stdout",
     "output_type": "stream",
     "text": [
      "9/9 [==============================] - 0s 4ms/step - loss: 4095.8950 - mae: 4095.8950\n"
     ]
    },
    {
     "name": "stderr",
     "output_type": "stream",
     "text": [
      "2022-10-25 07:29:44.541786: I tensorflow/core/grappler/optimizers/custom_graph_optimizer_registry.cc:114] Plugin optimizer for device_type GPU is enabled.\n"
     ]
    },
    {
     "data": {
      "text/plain": [
       "[4095.89501953125, 4095.89501953125]"
      ]
     },
     "execution_count": 33,
     "metadata": {},
     "output_type": "execute_result"
    }
   ],
   "source": [
    "tf.random.set_seed(42)\n",
    "\n",
    "insurance_model = tf.keras.Sequential()\n",
    "insurance_model.add(tf.keras.layers.Dense(100))\n",
    "insurance_model.add(tf.keras.layers.Dense(10))\n",
    "insurance_model.add(tf.keras.layers.Dense(1))\n",
    "\n",
    "insurance_model.compile(loss=tf.keras.losses.mae, optimizer=tf.keras.optimizers.Adam(), metrics=[\"mae\"])\n",
    "\n",
    "history = insurance_model.fit(X_train, y_train, epochs=500, verbose=0)\n",
    "y_pred = insurance_model.evaluate(X_test, y_test)\n",
    "y_pred\n"
   ]
  },
  {
   "cell_type": "code",
   "execution_count": 34,
   "id": "ce875a0d-f9b4-402a-96a0-01cfe940b386",
   "metadata": {},
   "outputs": [
    {
     "data": {
      "image/png": "[encoded data removed]",
      "text/plain": [
       "<Figure size 640x480 with 1 Axes>"
      ]
     },
     "metadata": {},
     "output_type": "display_data"
    }
   ],
   "source": [
    "dd = pd.DataFrame(history.history).plot()"
   ]
  },
  {
   "cell_type": "markdown",
   "id": "1d0c1ae2",
   "metadata": {},
   "source": [
    "### Preprocessing (normalization and standardization)\n",
    "Neural networks perfer normalization\n",
    "using sckit learn\n",
    "min max scalar, or standardscalar (*learn more about it*)(if in doubt use both)\n"
   ]
  },
  {
   "cell_type": "code",
   "execution_count": 2,
   "id": "d0e62d7e",
   "metadata": {},
   "outputs": [],
   "source": [
    "import tensorflow as tf\n",
    "import pandas as pd\n",
    "import matplotlib as plt"
   ]
  },
  {
   "cell_type": "code",
   "execution_count": 3,
   "id": "cefe49dd",
   "metadata": {},
   "outputs": [],
   "source": [
    "insurance = pd.read_csv(\"https://gist.githubusercontent.com/meperezcuello/82a9f1c1c473d6585e750ad2e3c05a41/raw/d42d226d0dd64e7f5395a0eec1b9190a10edbc03/Medical_Cost.csv\")"
   ]
  },
  {
   "cell_type": "code",
   "execution_count": 4,
   "id": "f5f0a7e1",
   "metadata": {},
   "outputs": [
    {
     "data": {
      "text/html": [
       "<div>\n",
       "<style scoped>\n",
       "    .dataframe tbody tr th:only-of-type {\n",
       "        vertical-align: middle;\n",
       "    }\n",
       "\n",
       "    .dataframe tbody tr th {\n",
       "        vertical-align: top;\n",
       "    }\n",
       "\n",
       "    .dataframe thead th {\n",
       "        text-align: right;\n",
       "    }\n",
       "</style>\n",
       "<table border=\"1\" class=\"dataframe\">\n",
       "  <thead>\n",
       "    <tr style=\"text-align: right;\">\n",
       "      <th></th>\n",
       "      <th>age</th>\n",
       "      <th>sex</th>\n",
       "      <th>bmi</th>\n",
       "      <th>children</th>\n",
       "      <th>smoker</th>\n",
       "      <th>region</th>\n",
       "      <th>charges</th>\n",
       "    </tr>\n",
       "  </thead>\n",
       "  <tbody>\n",
       "    <tr>\n",
       "      <th>0</th>\n",
       "      <td>19</td>\n",
       "      <td>female</td>\n",
       "      <td>27.900</td>\n",
       "      <td>0</td>\n",
       "      <td>yes</td>\n",
       "      <td>southwest</td>\n",
       "      <td>16884.92400</td>\n",
       "    </tr>\n",
       "    <tr>\n",
       "      <th>1</th>\n",
       "      <td>18</td>\n",
       "      <td>male</td>\n",
       "      <td>33.770</td>\n",
       "      <td>1</td>\n",
       "      <td>no</td>\n",
       "      <td>southeast</td>\n",
       "      <td>1725.55230</td>\n",
       "    </tr>\n",
       "    <tr>\n",
       "      <th>2</th>\n",
       "      <td>28</td>\n",
       "      <td>male</td>\n",
       "      <td>33.000</td>\n",
       "      <td>3</td>\n",
       "      <td>no</td>\n",
       "      <td>southeast</td>\n",
       "      <td>4449.46200</td>\n",
       "    </tr>\n",
       "    <tr>\n",
       "      <th>3</th>\n",
       "      <td>33</td>\n",
       "      <td>male</td>\n",
       "      <td>22.705</td>\n",
       "      <td>0</td>\n",
       "      <td>no</td>\n",
       "      <td>northwest</td>\n",
       "      <td>21984.47061</td>\n",
       "    </tr>\n",
       "    <tr>\n",
       "      <th>4</th>\n",
       "      <td>32</td>\n",
       "      <td>male</td>\n",
       "      <td>28.880</td>\n",
       "      <td>0</td>\n",
       "      <td>no</td>\n",
       "      <td>northwest</td>\n",
       "      <td>3866.85520</td>\n",
       "    </tr>\n",
       "    <tr>\n",
       "      <th>...</th>\n",
       "      <td>...</td>\n",
       "      <td>...</td>\n",
       "      <td>...</td>\n",
       "      <td>...</td>\n",
       "      <td>...</td>\n",
       "      <td>...</td>\n",
       "      <td>...</td>\n",
       "    </tr>\n",
       "    <tr>\n",
       "      <th>1333</th>\n",
       "      <td>50</td>\n",
       "      <td>male</td>\n",
       "      <td>30.970</td>\n",
       "      <td>3</td>\n",
       "      <td>no</td>\n",
       "      <td>northwest</td>\n",
       "      <td>10600.54830</td>\n",
       "    </tr>\n",
       "    <tr>\n",
       "      <th>1334</th>\n",
       "      <td>18</td>\n",
       "      <td>female</td>\n",
       "      <td>31.920</td>\n",
       "      <td>0</td>\n",
       "      <td>no</td>\n",
       "      <td>northeast</td>\n",
       "      <td>2205.98080</td>\n",
       "    </tr>\n",
       "    <tr>\n",
       "      <th>1335</th>\n",
       "      <td>18</td>\n",
       "      <td>female</td>\n",
       "      <td>36.850</td>\n",
       "      <td>0</td>\n",
       "      <td>no</td>\n",
       "      <td>southeast</td>\n",
       "      <td>1629.83350</td>\n",
       "    </tr>\n",
       "    <tr>\n",
       "      <th>1336</th>\n",
       "      <td>21</td>\n",
       "      <td>female</td>\n",
       "      <td>25.800</td>\n",
       "      <td>0</td>\n",
       "      <td>no</td>\n",
       "      <td>southwest</td>\n",
       "      <td>2007.94500</td>\n",
       "    </tr>\n",
       "    <tr>\n",
       "      <th>1337</th>\n",
       "      <td>61</td>\n",
       "      <td>female</td>\n",
       "      <td>29.070</td>\n",
       "      <td>0</td>\n",
       "      <td>yes</td>\n",
       "      <td>northwest</td>\n",
       "      <td>29141.36030</td>\n",
       "    </tr>\n",
       "  </tbody>\n",
       "</table>\n",
       "<p>1338 rows × 7 columns</p>\n",
       "</div>"
      ],
      "text/plain": [
       "      age     sex     bmi  children smoker     region      charges\n",
       "0      19  female  27.900         0    yes  southwest  16884.92400\n",
       "1      18    male  33.770         1     no  southeast   1725.55230\n",
       "2      28    male  33.000         3     no  southeast   4449.46200\n",
       "3      33    male  22.705         0     no  northwest  21984.47061\n",
       "4      32    male  28.880         0     no  northwest   3866.85520\n",
       "...   ...     ...     ...       ...    ...        ...          ...\n",
       "1333   50    male  30.970         3     no  northwest  10600.54830\n",
       "1334   18  female  31.920         0     no  northeast   2205.98080\n",
       "1335   18  female  36.850         0     no  southeast   1629.83350\n",
       "1336   21  female  25.800         0     no  southwest   2007.94500\n",
       "1337   61  female  29.070         0    yes  northwest  29141.36030\n",
       "\n",
       "[1338 rows x 7 columns]"
      ]
     },
     "execution_count": 4,
     "metadata": {},
     "output_type": "execute_result"
    }
   ],
   "source": [
    "insurance"
   ]
  },
  {
   "cell_type": "code",
   "execution_count": 5,
   "id": "0fd63cf1",
   "metadata": {},
   "outputs": [],
   "source": [
    "\n",
    "pd_data = pd.get_dummies(insurance)\n",
    "\n"
   ]
  },
  {
   "cell_type": "code",
   "execution_count": 6,
   "id": "e03e1db7",
   "metadata": {},
   "outputs": [
    {
     "data": {
      "text/plain": [
       "(      age     bmi  children  sex_female  sex_male  smoker_no  smoker_yes  \\\n",
       " 0      19  27.900         0           1         0          0           1   \n",
       " 1      18  33.770         1           0         1          1           0   \n",
       " 2      28  33.000         3           0         1          1           0   \n",
       " 3      33  22.705         0           0         1          1           0   \n",
       " 4      32  28.880         0           0         1          1           0   \n",
       " ...   ...     ...       ...         ...       ...        ...         ...   \n",
       " 1333   50  30.970         3           0         1          1           0   \n",
       " 1334   18  31.920         0           1         0          1           0   \n",
       " 1335   18  36.850         0           1         0          1           0   \n",
       " 1336   21  25.800         0           1         0          1           0   \n",
       " 1337   61  29.070         0           1         0          0           1   \n",
       " \n",
       "       region_northeast  region_northwest  region_southeast  region_southwest  \n",
       " 0                    0                 0                 0                 1  \n",
       " 1                    0                 0                 1                 0  \n",
       " 2                    0                 0                 1                 0  \n",
       " 3                    0                 1                 0                 0  \n",
       " 4                    0                 1                 0                 0  \n",
       " ...                ...               ...               ...               ...  \n",
       " 1333                 0                 1                 0                 0  \n",
       " 1334                 1                 0                 0                 0  \n",
       " 1335                 0                 0                 1                 0  \n",
       " 1336                 0                 0                 0                 1  \n",
       " 1337                 0                 1                 0                 0  \n",
       " \n",
       " [1338 rows x 11 columns],\n",
       " 0       16884.92400\n",
       " 1        1725.55230\n",
       " 2        4449.46200\n",
       " 3       21984.47061\n",
       " 4        3866.85520\n",
       "            ...     \n",
       " 1333    10600.54830\n",
       " 1334     2205.98080\n",
       " 1335     1629.83350\n",
       " 1336     2007.94500\n",
       " 1337    29141.36030\n",
       " Name: charges, Length: 1338, dtype: float64)"
      ]
     },
     "execution_count": 6,
     "metadata": {},
     "output_type": "execute_result"
    }
   ],
   "source": [
    "X = pd_data.loc[:, pd_data.columns!=\"charges\"]\n",
    "y = pd_data[\"charges\"]\n",
    "X, y "
   ]
  },
  {
   "cell_type": "code",
   "execution_count": 7,
   "id": "325f6e53",
   "metadata": {},
   "outputs": [],
   "source": [
    "X_train = X.sample(frac=0.8,random_state=0)\n",
    "X_test = X.drop(X_train.index)"
   ]
  },
  {
   "cell_type": "code",
   "execution_count": 8,
   "id": "1f5c895f",
   "metadata": {},
   "outputs": [],
   "source": [
    "y_train = y.sample(frac=0.8,random_state=0)\n",
    "y_test = y.drop(X_train.index)"
   ]
  },
  {
   "cell_type": "code",
   "execution_count": 9,
   "id": "169a28b3",
   "metadata": {},
   "outputs": [
    {
     "data": {
      "text/plain": [
       "<AxesSubplot:ylabel='Frequency'>"
      ]
     },
     "execution_count": 9,
     "metadata": {},
     "output_type": "execute_result"
    },
    {
     "data": {
      "image/png": "[encoded data removed]",
      "text/plain": [
       "<Figure size 640x480 with 1 Axes>"
      ]
     },
     "metadata": {},
     "output_type": "display_data"
    }
   ],
   "source": [
    "X[\"age\"].plot(kind=\"hist\")"
   ]
  },
  {
   "cell_type": "code",
   "execution_count": 10,
   "id": "566d2d5d",
   "metadata": {},
   "outputs": [
    {
     "data": {
      "text/plain": [
       "<AxesSubplot:ylabel='Frequency'>"
      ]
     },
     "execution_count": 10,
     "metadata": {},
     "output_type": "execute_result"
    },
    {
     "data": {
      "image/png": "[encoded data removed]",
      "text/plain": [
       "<Figure size 640x480 with 1 Axes>"
      ]
     },
     "metadata": {},
     "output_type": "display_data"
    }
   ],
   "source": [
    "X[\"bmi\"].plot(kind=\"hist\")"
   ]
  },
  {
   "cell_type": "code",
   "execution_count": 11,
   "id": "2bf780dc",
   "metadata": {},
   "outputs": [
    {
     "data": {
      "text/plain": [
       "0    574\n",
       "1    324\n",
       "2    240\n",
       "3    157\n",
       "4     25\n",
       "5     18\n",
       "Name: children, dtype: int64"
      ]
     },
     "execution_count": 11,
     "metadata": {},
     "output_type": "execute_result"
    }
   ],
   "source": [
    "X[\"children\"].value_counts()"
   ]
  },
  {
   "cell_type": "code",
   "execution_count": 12,
   "id": "28049a56",
   "metadata": {},
   "outputs": [],
   "source": [
    "from sklearn.compose import make_column_transformer\n",
    "from sklearn.preprocessing import MinMaxScaler, OneHotEncoder"
   ]
  },
  {
   "cell_type": "code",
   "execution_count": 13,
   "id": "d14a6353",
   "metadata": {},
   "outputs": [],
   "source": [
    "ct = make_column_transformer((MinMaxScaler(), [\"age\", \"bmi\", \"children\"]),\n",
    "                            (OneHotEncoder(handle_unknown=\"ignore\"), [\"sex\", \"smoker\", \"region\"] ))"
   ]
  },
  {
   "cell_type": "code",
   "execution_count": 14,
   "id": "a1086aaf",
   "metadata": {},
   "outputs": [],
   "source": [
    "X = insurance.drop(\"charges\", axis=1)\n",
    "y = insurance[\"charges\"]"
   ]
  },
  {
   "cell_type": "code",
   "execution_count": 15,
   "id": "673da083",
   "metadata": {},
   "outputs": [],
   "source": [
    "from sklearn.model_selection import train_test_split\n",
    "\n",
    "X_train, X_test, y_train, y_test = train_test_split(X,y, test_size=0.2, random_state=42)\n"
   ]
  },
  {
   "cell_type": "code",
   "execution_count": 16,
   "id": "26a084ba",
   "metadata": {},
   "outputs": [
    {
     "data": {
      "text/plain": [
       "(array([[0.60869565, 0.10734463, 0.4       , ..., 1.        , 0.        ,\n",
       "         0.        ],\n",
       "        [0.63043478, 0.22491256, 0.        , ..., 0.        , 0.        ,\n",
       "         0.        ],\n",
       "        [0.73913043, 0.23944041, 0.        , ..., 0.        , 1.        ,\n",
       "         0.        ],\n",
       "        ...,\n",
       "        [0.86956522, 0.24791499, 0.        , ..., 0.        , 0.        ,\n",
       "         0.        ],\n",
       "        [0.41304348, 0.85122411, 0.4       , ..., 0.        , 0.        ,\n",
       "         1.        ],\n",
       "        [0.80434783, 0.37503363, 0.        , ..., 0.        , 0.        ,\n",
       "         1.        ]]),\n",
       " array([[0.58695652, 0.24791499, 0.4       , ..., 0.        , 0.        ,\n",
       "         0.        ],\n",
       "        [0.39130435, 0.37826204, 0.        , ..., 1.        , 0.        ,\n",
       "         0.        ],\n",
       "        [1.        , 0.29391983, 0.        , ..., 1.        , 0.        ,\n",
       "         0.        ],\n",
       "        ...,\n",
       "        [0.43478261, 0.32458972, 0.2       , ..., 0.        , 0.        ,\n",
       "         0.        ],\n",
       "        [0.7826087 , 0.84611246, 0.        , ..., 0.        , 1.        ,\n",
       "         0.        ],\n",
       "        [0.7173913 , 0.49071832, 0.2       , ..., 0.        , 0.        ,\n",
       "         1.        ]]))"
      ]
     },
     "execution_count": 16,
     "metadata": {},
     "output_type": "execute_result"
    }
   ],
   "source": [
    "ct.fit(X_train)\n",
    "\n",
    "X_train_normal = ct.transform(X_train)\n",
    "X_test_normal = ct.transform(X_test)\n",
    "\n",
    "X_train_normal, X_test_normal"
   ]
  },
  {
   "cell_type": "code",
   "execution_count": 39,
   "id": "a29bdb00",
   "metadata": {},
   "outputs": [
    {
     "name": "stderr",
     "output_type": "stream",
     "text": [
      "2022-10-29 09:35:24.165703: W tensorflow/core/platform/profile_utils/cpu_utils.cc:128] Failed to get CPU frequency: 0 Hz\n",
      "2022-10-29 09:35:24.689754: I tensorflow/core/grappler/optimizers/custom_graph_optimizer_registry.cc:114] Plugin optimizer for device_type GPU is enabled.\n"
     ]
    },
    {
     "name": "stdout",
     "output_type": "stream",
     "text": [
      "1/9 [==>...........................] - ETA: 0s - loss: 3111.9119 - mae: 3111.9119"
     ]
    },
    {
     "name": "stderr",
     "output_type": "stream",
     "text": [
      "2022-10-29 09:36:54.701058: I tensorflow/core/grappler/optimizers/custom_graph_optimizer_registry.cc:114] Plugin optimizer for device_type GPU is enabled.\n"
     ]
    },
    {
     "name": "stdout",
     "output_type": "stream",
     "text": [
      "9/9 [==============================] - 0s 22ms/step - loss: 3160.6506 - mae: 3160.6506\n"
     ]
    },
    {
     "data": {
      "text/plain": [
       "[3160.650634765625, 3160.650634765625]"
      ]
     },
     "execution_count": 39,
     "metadata": {},
     "output_type": "execute_result"
    }
   ],
   "source": [
    "tf.random.set_seed(42)\n",
    "\n",
    "insurance_model = tf.keras.Sequential()\n",
    "insurance_model.add(tf.keras.layers.Dense(100))\n",
    "insurance_model.add(tf.keras.layers.Dense(10))\n",
    "insurance_model.add(tf.keras.layers.Dense(1))\n",
    "\n",
    "insurance_model.compile(loss=tf.keras.losses.mae, optimizer=tf.keras.optimizers.Adam(), metrics=[\"mae\"])\n",
    "\n",
    "history = insurance_model.fit(X_train_normal, y_train, epochs=500, verbose=0)\n",
    "y_pred = insurance_model.evaluate(X_test_normal, y_test)\n",
    "y_pred"
   ]
  },
  {
   "cell_type": "code",
   "execution_count": 40,
   "id": "e8413ca8",
   "metadata": {},
   "outputs": [
    {
     "data": {
      "image/png": "[encoded data removed]",
      "text/plain": [
       "<Figure size 640x480 with 1 Axes>"
      ]
     },
     "metadata": {},
     "output_type": "display_data"
    }
   ],
   "source": [
    "dd = pd.DataFrame(history.history).plot()"
   ]
  },
  {
   "cell_type": "code",
   "execution_count": 41,
   "id": "e5a3f4ce",
   "metadata": {},
   "outputs": [
    {
     "name": "stderr",
     "output_type": "stream",
     "text": [
      "2022-10-29 09:38:58.858653: I tensorflow/core/grappler/optimizers/custom_graph_optimizer_registry.cc:114] Plugin optimizer for device_type GPU is enabled.\n"
     ]
    },
    {
     "name": "stdout",
     "output_type": "stream",
     "text": [
      "9/9 [==============================] - 0s 5ms/step - loss: 3439.7205 - mae: 3439.7205\n"
     ]
    },
    {
     "name": "stderr",
     "output_type": "stream",
     "text": [
      "2022-10-29 09:39:16.658196: I tensorflow/core/grappler/optimizers/custom_graph_optimizer_registry.cc:114] Plugin optimizer for device_type GPU is enabled.\n"
     ]
    },
    {
     "data": {
      "text/plain": [
       "[3439.720458984375, 3439.720458984375]"
      ]
     },
     "execution_count": 41,
     "metadata": {},
     "output_type": "execute_result"
    }
   ],
   "source": [
    "tf.random.set_seed(42)\n",
    "\n",
    "insurance_model = tf.keras.Sequential()\n",
    "insurance_model.add(tf.keras.layers.Dense(100))\n",
    "insurance_model.add(tf.keras.layers.Dense(10))\n",
    "insurance_model.add(tf.keras.layers.Dense(1))\n",
    "\n",
    "insurance_model.compile(loss=tf.keras.losses.mae, optimizer=tf.keras.optimizers.Adam(), metrics=[\"mae\"])\n",
    "\n",
    "history = insurance_model.fit(X_train_normal, y_train, epochs=100, verbose=0)\n",
    "y_pred = insurance_model.evaluate(X_test_normal, y_test)\n",
    "y_pred"
   ]
  },
  {
   "cell_type": "code",
   "execution_count": 42,
   "id": "3db26e33",
   "metadata": {},
   "outputs": [
    {
     "data": {
      "image/png": "[encoded data removed]",
      "text/plain": [
       "<Figure size 640x480 with 1 Axes>"
      ]
     },
     "metadata": {},
     "output_type": "display_data"
    }
   ],
   "source": [
    "dd = pd.DataFrame(history.history).plot()"
   ]
  },
  {
   "cell_type": "code",
   "execution_count": 19,
   "id": "8d45cd3f",
   "metadata": {},
   "outputs": [
    {
     "name": "stderr",
     "output_type": "stream",
     "text": [
      "2022-10-30 10:11:48.697543: I tensorflow/core/grappler/optimizers/custom_graph_optimizer_registry.cc:114] Plugin optimizer for device_type GPU is enabled.\n"
     ]
    },
    {
     "name": "stdout",
     "output_type": "stream",
     "text": [
      "9/9 [==============================] - 0s 5ms/step - loss: 3361.6387 - mae: 3361.6387\n"
     ]
    },
    {
     "name": "stderr",
     "output_type": "stream",
     "text": [
      "2022-10-30 10:12:04.334988: I tensorflow/core/grappler/optimizers/custom_graph_optimizer_registry.cc:114] Plugin optimizer for device_type GPU is enabled.\n"
     ]
    },
    {
     "data": {
      "text/plain": [
       "[3361.638671875, 3361.638671875]"
      ]
     },
     "execution_count": 19,
     "metadata": {},
     "output_type": "execute_result"
    }
   ],
   "source": [
    "tf.random.set_seed(42)\n",
    "\n",
    "insurance_model = tf.keras.Sequential()\n",
    "insurance_model.add(tf.keras.layers.Dense(100, activation=\"relu\"))\n",
    "insurance_model.add(tf.keras.layers.Dense(10))\n",
    "insurance_model.add(tf.keras.layers.Dense(1))\n",
    "\n",
    "insurance_model.compile(loss=tf.keras.losses.mae, optimizer=tf.keras.optimizers.Adam(), metrics=[\"mae\"])\n",
    "\n",
    "history = insurance_model.fit(X_train_normal, y_train, epochs=100, verbose=0)\n",
    "y_pred = insurance_model.evaluate(X_test_normal, y_test)\n",
    "y_pred"
   ]
  },
  {
   "cell_type": "code",
   "execution_count": null,
   "id": "3edffbc4",
   "metadata": {},
   "outputs": [],
   "source": []
  }
 ],
 "metadata": {
  "kernelspec": {
   "display_name": "Python 3 (ipykernel)",
   "language": "python",
   "name": "python3"
  },
  "language_info": {
   "codemirror_mode": {
    "name": "ipython",
    "version": 3
   },
   "file_extension": ".py",
   "mimetype": "text/x-python",
   "name": "python",
   "nbconvert_exporter": "python",
   "pygments_lexer": "ipython3",
   "version": "3.8.13"
  }
 },
 "nbformat": 4,
 "nbformat_minor": 5
}
