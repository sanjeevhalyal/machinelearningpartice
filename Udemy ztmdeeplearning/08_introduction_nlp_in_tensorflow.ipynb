{
 "cells": [
  {
   "cell_type": "markdown",
   "id": "fa462162-d2c9-41b1-bf24-8070be9f737d",
   "metadata": {},
   "source": [
    "# Introduction to NLP fundamental using tensorflow\n",
    "Deriving information from text or speech\n",
    "\n",
    "or sequence 2 sequence generation"
   ]
  },
  {
   "cell_type": "code",
   "execution_count": 1,
   "id": "99dab05e-feef-4146-91cb-b94208b0bc87",
   "metadata": {},
   "outputs": [],
   "source": [
    "# !wget https://raw.githubusercontent.com/mrdbourke/tensorflow-deep-learning/main/extras/helper_functions.py\n",
    "from helper_functions import unzip_data,create_tensorboard_callback, plot_loss_curves, compare_historys"
   ]
  },
  {
   "cell_type": "markdown",
   "id": "471fde6b-1314-42a3-9f15-c07ae2e9ee40",
   "metadata": {},
   "source": [
    "## Get Data\n",
    "twitter disaster"
   ]
  },
  {
   "cell_type": "code",
   "execution_count": 2,
   "id": "947d882c-b21b-4971-ab4f-c43aa01a0563",
   "metadata": {},
   "outputs": [
    {
     "name": "stdout",
     "output_type": "stream",
     "text": [
      "--2023-03-22 20:06:00--  https://storage.googleapis.com/ztm_tf_course/nlp_getting_started.zip\n",
      "Resolving storage.googleapis.com (storage.googleapis.com)... 74.125.193.128, 209.85.202.128, 172.253.116.128, ...\n",
      "Connecting to storage.googleapis.com (storage.googleapis.com)|74.125.193.128|:443... connected.\n",
      "HTTP request sent, awaiting response... 200 OK\n",
      "Length: 607343 (593K) [application/zip]\n",
      "Saving to: ‘nlp_getting_started.zip’\n",
      "\n",
      "nlp_getting_started 100%[===================>] 593.11K  1.10MB/s    in 0.5s    \n",
      "\n",
      "2023-03-22 20:06:01 (1.10 MB/s) - ‘nlp_getting_started.zip’ saved [607343/607343]\n",
      "\n"
     ]
    }
   ],
   "source": [
    "# !wget https://storage.googleapis.com/ztm_tf_course/nlp_getting_started.zip"
   ]
  },
  {
   "cell_type": "code",
   "execution_count": 3,
   "id": "713bf194-7768-4d7d-9a5c-b1bd24c016b9",
   "metadata": {},
   "outputs": [],
   "source": [
    "# unzip_data(\"nlp_getting_started.zip\")"
   ]
  },
  {
   "cell_type": "markdown",
   "id": "6e14920b-dccc-41d8-85c8-1aad2a8191ad",
   "metadata": {},
   "source": [
    "# Visualize, Visualize, Visualize\n",
    "\n",
    "can use panda (limited by ram)\n",
    "using tf load_text\n",
    "using python loader"
   ]
  },
  {
   "cell_type": "code",
   "execution_count": 6,
   "id": "eaa0aa83-e3a1-4bb7-a776-e2fd71b7c422",
   "metadata": {},
   "outputs": [
    {
     "data": {
      "text/html": [
       "<div>\n",
       "<style scoped>\n",
       "    .dataframe tbody tr th:only-of-type {\n",
       "        vertical-align: middle;\n",
       "    }\n",
       "\n",
       "    .dataframe tbody tr th {\n",
       "        vertical-align: top;\n",
       "    }\n",
       "\n",
       "    .dataframe thead th {\n",
       "        text-align: right;\n",
       "    }\n",
       "</style>\n",
       "<table border=\"1\" class=\"dataframe\">\n",
       "  <thead>\n",
       "    <tr style=\"text-align: right;\">\n",
       "      <th></th>\n",
       "      <th>id</th>\n",
       "      <th>keyword</th>\n",
       "      <th>location</th>\n",
       "      <th>text</th>\n",
       "      <th>target</th>\n",
       "    </tr>\n",
       "  </thead>\n",
       "  <tbody>\n",
       "    <tr>\n",
       "      <th>0</th>\n",
       "      <td>1</td>\n",
       "      <td>NaN</td>\n",
       "      <td>NaN</td>\n",
       "      <td>Our Deeds are the Reason of this #earthquake M...</td>\n",
       "      <td>1</td>\n",
       "    </tr>\n",
       "    <tr>\n",
       "      <th>1</th>\n",
       "      <td>4</td>\n",
       "      <td>NaN</td>\n",
       "      <td>NaN</td>\n",
       "      <td>Forest fire near La Ronge Sask. Canada</td>\n",
       "      <td>1</td>\n",
       "    </tr>\n",
       "    <tr>\n",
       "      <th>2</th>\n",
       "      <td>5</td>\n",
       "      <td>NaN</td>\n",
       "      <td>NaN</td>\n",
       "      <td>All residents asked to 'shelter in place' are ...</td>\n",
       "      <td>1</td>\n",
       "    </tr>\n",
       "    <tr>\n",
       "      <th>3</th>\n",
       "      <td>6</td>\n",
       "      <td>NaN</td>\n",
       "      <td>NaN</td>\n",
       "      <td>13,000 people receive #wildfires evacuation or...</td>\n",
       "      <td>1</td>\n",
       "    </tr>\n",
       "    <tr>\n",
       "      <th>4</th>\n",
       "      <td>7</td>\n",
       "      <td>NaN</td>\n",
       "      <td>NaN</td>\n",
       "      <td>Just got sent this photo from Ruby #Alaska as ...</td>\n",
       "      <td>1</td>\n",
       "    </tr>\n",
       "    <tr>\n",
       "      <th>...</th>\n",
       "      <td>...</td>\n",
       "      <td>...</td>\n",
       "      <td>...</td>\n",
       "      <td>...</td>\n",
       "      <td>...</td>\n",
       "    </tr>\n",
       "    <tr>\n",
       "      <th>7608</th>\n",
       "      <td>10869</td>\n",
       "      <td>NaN</td>\n",
       "      <td>NaN</td>\n",
       "      <td>Two giant cranes holding a bridge collapse int...</td>\n",
       "      <td>1</td>\n",
       "    </tr>\n",
       "    <tr>\n",
       "      <th>7609</th>\n",
       "      <td>10870</td>\n",
       "      <td>NaN</td>\n",
       "      <td>NaN</td>\n",
       "      <td>@aria_ahrary @TheTawniest The out of control w...</td>\n",
       "      <td>1</td>\n",
       "    </tr>\n",
       "    <tr>\n",
       "      <th>7610</th>\n",
       "      <td>10871</td>\n",
       "      <td>NaN</td>\n",
       "      <td>NaN</td>\n",
       "      <td>M1.94 [01:04 UTC]?5km S of Volcano Hawaii. htt...</td>\n",
       "      <td>1</td>\n",
       "    </tr>\n",
       "    <tr>\n",
       "      <th>7611</th>\n",
       "      <td>10872</td>\n",
       "      <td>NaN</td>\n",
       "      <td>NaN</td>\n",
       "      <td>Police investigating after an e-bike collided ...</td>\n",
       "      <td>1</td>\n",
       "    </tr>\n",
       "    <tr>\n",
       "      <th>7612</th>\n",
       "      <td>10873</td>\n",
       "      <td>NaN</td>\n",
       "      <td>NaN</td>\n",
       "      <td>The Latest: More Homes Razed by Northern Calif...</td>\n",
       "      <td>1</td>\n",
       "    </tr>\n",
       "  </tbody>\n",
       "</table>\n",
       "<p>7613 rows × 5 columns</p>\n",
       "</div>"
      ],
      "text/plain": [
       "         id keyword location  \\\n",
       "0         1     NaN      NaN   \n",
       "1         4     NaN      NaN   \n",
       "2         5     NaN      NaN   \n",
       "3         6     NaN      NaN   \n",
       "4         7     NaN      NaN   \n",
       "...     ...     ...      ...   \n",
       "7608  10869     NaN      NaN   \n",
       "7609  10870     NaN      NaN   \n",
       "7610  10871     NaN      NaN   \n",
       "7611  10872     NaN      NaN   \n",
       "7612  10873     NaN      NaN   \n",
       "\n",
       "                                                   text  target  \n",
       "0     Our Deeds are the Reason of this #earthquake M...       1  \n",
       "1                Forest fire near La Ronge Sask. Canada       1  \n",
       "2     All residents asked to 'shelter in place' are ...       1  \n",
       "3     13,000 people receive #wildfires evacuation or...       1  \n",
       "4     Just got sent this photo from Ruby #Alaska as ...       1  \n",
       "...                                                 ...     ...  \n",
       "7608  Two giant cranes holding a bridge collapse int...       1  \n",
       "7609  @aria_ahrary @TheTawniest The out of control w...       1  \n",
       "7610  M1.94 [01:04 UTC]?5km S of Volcano Hawaii. htt...       1  \n",
       "7611  Police investigating after an e-bike collided ...       1  \n",
       "7612  The Latest: More Homes Razed by Northern Calif...       1  \n",
       "\n",
       "[7613 rows x 5 columns]"
      ]
     },
     "execution_count": 6,
     "metadata": {},
     "output_type": "execute_result"
    }
   ],
   "source": [
    "import pandas as pd\n",
    "\n",
    "train_df = pd.read_csv(\"data/nlp_getting_started/train.csv\")\n",
    "test_df = pd.read_csv(\"data/nlp_getting_started/test.csv\")"
   ]
  },
  {
   "cell_type": "code",
   "execution_count": 19,
   "id": "f79e1a19-d23d-44e4-9835-4e5614be2f61",
   "metadata": {},
   "outputs": [
    {
     "data": {
      "text/html": [
       "<div>\n",
       "<style scoped>\n",
       "    .dataframe tbody tr th:only-of-type {\n",
       "        vertical-align: middle;\n",
       "    }\n",
       "\n",
       "    .dataframe tbody tr th {\n",
       "        vertical-align: top;\n",
       "    }\n",
       "\n",
       "    .dataframe thead th {\n",
       "        text-align: right;\n",
       "    }\n",
       "</style>\n",
       "<table border=\"1\" class=\"dataframe\">\n",
       "  <thead>\n",
       "    <tr style=\"text-align: right;\">\n",
       "      <th></th>\n",
       "      <th>id</th>\n",
       "      <th>keyword</th>\n",
       "      <th>location</th>\n",
       "      <th>text</th>\n",
       "      <th>target</th>\n",
       "    </tr>\n",
       "  </thead>\n",
       "  <tbody>\n",
       "    <tr>\n",
       "      <th>2644</th>\n",
       "      <td>3796</td>\n",
       "      <td>destruction</td>\n",
       "      <td>NaN</td>\n",
       "      <td>So you have a new weapon that can cause un-ima...</td>\n",
       "      <td>1</td>\n",
       "    </tr>\n",
       "    <tr>\n",
       "      <th>2227</th>\n",
       "      <td>3185</td>\n",
       "      <td>deluge</td>\n",
       "      <td>NaN</td>\n",
       "      <td>The f$&amp;amp;@ing things I do for #GISHWHES Just...</td>\n",
       "      <td>0</td>\n",
       "    </tr>\n",
       "    <tr>\n",
       "      <th>5448</th>\n",
       "      <td>7769</td>\n",
       "      <td>police</td>\n",
       "      <td>UK</td>\n",
       "      <td>DT @georgegalloway: RT @Galloway4Mayor: ÛÏThe...</td>\n",
       "      <td>1</td>\n",
       "    </tr>\n",
       "    <tr>\n",
       "      <th>132</th>\n",
       "      <td>191</td>\n",
       "      <td>aftershock</td>\n",
       "      <td>NaN</td>\n",
       "      <td>Aftershock back to school kick off was great. ...</td>\n",
       "      <td>0</td>\n",
       "    </tr>\n",
       "    <tr>\n",
       "      <th>6845</th>\n",
       "      <td>9810</td>\n",
       "      <td>trauma</td>\n",
       "      <td>Montgomery County, MD</td>\n",
       "      <td>in response to trauma Children of Addicts deve...</td>\n",
       "      <td>0</td>\n",
       "    </tr>\n",
       "  </tbody>\n",
       "</table>\n",
       "</div>"
      ],
      "text/plain": [
       "        id      keyword               location  \\\n",
       "2644  3796  destruction                    NaN   \n",
       "2227  3185       deluge                    NaN   \n",
       "5448  7769       police                     UK   \n",
       "132    191   aftershock                    NaN   \n",
       "6845  9810       trauma  Montgomery County, MD   \n",
       "\n",
       "                                                   text  target  \n",
       "2644  So you have a new weapon that can cause un-ima...       1  \n",
       "2227  The f$&amp;@ing things I do for #GISHWHES Just...       0  \n",
       "5448  DT @georgegalloway: RT @Galloway4Mayor: ÛÏThe...       1  \n",
       "132   Aftershock back to school kick off was great. ...       0  \n",
       "6845  in response to trauma Children of Addicts deve...       0  "
      ]
     },
     "execution_count": 19,
     "metadata": {},
     "output_type": "execute_result"
    }
   ],
   "source": [
    "train_df_shuffled = train_df.sample(frac=1, random_state=42)\n",
    "train_df_shuffled.head()"
   ]
  },
  {
   "cell_type": "code",
   "execution_count": 9,
   "id": "be6cef31-a94d-491f-940c-310240a58795",
   "metadata": {},
   "outputs": [
    {
     "data": {
      "text/plain": [
       "0    4342\n",
       "1    3271\n",
       "Name: target, dtype: int64"
      ]
     },
     "execution_count": 9,
     "metadata": {},
     "output_type": "execute_result"
    }
   ],
   "source": [
    "train_df.target.value_counts()"
   ]
  },
  {
   "cell_type": "markdown",
   "id": "ffaba743-6fd4-42e2-9037-89f9688a0021",
   "metadata": {},
   "source": [
    "## split into validation"
   ]
  },
  {
   "cell_type": "code",
   "execution_count": 116,
   "id": "2fec72ab-84f3-4539-97bf-2ea68b6669db",
   "metadata": {},
   "outputs": [],
   "source": [
    "from sklearn.model_selection import train_test_split\n",
    "\n",
    "train_text, val_text, train_label, val_label = train_test_split(train_df_shuffled[\"text\"].to_numpy(),\n",
    "                                train_df_shuffled[\"target\"].to_numpy(), test_size=.1, random_state=42)"
   ]
  },
  {
   "cell_type": "code",
   "execution_count": 117,
   "id": "f6210de2-758a-4e66-a1a8-4236a85c5778",
   "metadata": {},
   "outputs": [
    {
     "data": {
      "text/plain": [
       "(6851, 6851, 762, 762)"
      ]
     },
     "execution_count": 117,
     "metadata": {},
     "output_type": "execute_result"
    }
   ],
   "source": [
    "len(train_text), len(train_label), len(val_text), len(val_label)"
   ]
  },
  {
   "cell_type": "code",
   "execution_count": 118,
   "id": "6fe0ca74-c324-4287-88aa-7e762b8dede1",
   "metadata": {},
   "outputs": [
    {
     "data": {
      "text/plain": [
       "(array(['@mogacola @zamtriossu i screamed after hitting tweet',\n",
       "        'Imagine getting flattened by Kurt Zouma',\n",
       "        '@Gurmeetramrahim #MSGDoing111WelfareWorks Green S welfare force ke appx 65000 members har time disaster victim ki help ke liye tyar hai....',\n",
       "        \"@shakjn @C7 @Magnums im shaking in fear he's gonna hack the planet\",\n",
       "        'Somehow find you and I collide http://t.co/Ee8RpOahPk',\n",
       "        '@EvaHanderek @MarleyKnysh great times until the bus driver held us hostage in the mall parking lot lmfao',\n",
       "        'destroy the free fandom honestly',\n",
       "        'Weapons stolen from National Guard Armory in New Albany still missing #Gunsense http://t.co/lKNU8902JE',\n",
       "        '@wfaaweather Pete when will the heat wave pass? Is it really going to be mid month? Frisco Boy Scouts have a canoe trip in Okla.',\n",
       "        'Patient-reported outcomes in long-term survivors of metastatic colorectal cancer - British Journal of Surgery http://t.co/5Yl4DC1Tqt'],\n",
       "       dtype=object),\n",
       " array([0, 0, 1, 0, 0, 1, 1, 0, 1, 1]))"
      ]
     },
     "execution_count": 118,
     "metadata": {},
     "output_type": "execute_result"
    }
   ],
   "source": [
    "train_text[:10], train_label[:10]"
   ]
  },
  {
   "cell_type": "markdown",
   "id": "77016a8f-a4c4-4381-814e-5d682e651451",
   "metadata": {},
   "source": [
    "## Vectorizing words\n"
   ]
  },
  {
   "cell_type": "code",
   "execution_count": 30,
   "id": "d285e995-9b6f-4768-8fc8-a6ea3f68a94e",
   "metadata": {},
   "outputs": [],
   "source": [
    "import tensorflow as tf\n",
    "from tensorflow.keras.layers import TextVectorization"
   ]
  },
  {
   "cell_type": "code",
   "execution_count": 33,
   "id": "18e82a6d-2c53-47ea-a111-9926ec9089e6",
   "metadata": {},
   "outputs": [
    {
     "data": {
      "text/plain": [
       "15"
      ]
     },
     "execution_count": 33,
     "metadata": {},
     "output_type": "execute_result"
    }
   ],
   "source": [
    "round(sum([len(i.split()) for i in train_text])/len(train_text)) # avg length of text"
   ]
  },
  {
   "cell_type": "code",
   "execution_count": 184,
   "id": "5be7df60-c8d4-49f2-b97d-63643d1ec112",
   "metadata": {},
   "outputs": [],
   "source": [
    "max_vocab_length =50000\n",
    "max_length = 15"
   ]
  },
  {
   "cell_type": "code",
   "execution_count": 185,
   "id": "26efa7e6-3917-4e4e-a190-9ec9b3dbdf3c",
   "metadata": {
    "jupyter": {
     "source_hidden": true
    },
    "tags": []
   },
   "outputs": [],
   "source": [
    "textvectorization = TextVectorization(max_tokens=max_vocab_length # length of volcabulary(rest to <OOV>)\n",
    "                                      , standardize='lower_and_strip_punctuation',\n",
    "    split='whitespace',ngrams=None,# ngram size\n",
    "                                      output_mode='int', # to numbers\n",
    "                                      output_sequence_length=max_length,# pad to max length\n",
    "                                      pad_to_max_tokens=True  \n",
    "                                     )"
   ]
  },
  {
   "cell_type": "code",
   "execution_count": 186,
   "id": "c777e60c-f689-4c8d-8fbe-7214d0dd573a",
   "metadata": {
    "jupyter": {
     "source_hidden": true
    },
    "tags": []
   },
   "outputs": [
    {
     "name": "stderr",
     "output_type": "stream",
     "text": [
      "2023-03-25 08:59:04.411718: I tensorflow/core/grappler/optimizers/custom_graph_optimizer_registry.cc:114] Plugin optimizer for device_type GPU is enabled.\n"
     ]
    }
   ],
   "source": [
    "textvectorization.adapt(train_text)"
   ]
  },
  {
   "cell_type": "code",
   "execution_count": 181,
   "id": "5eb6b73a-a06f-4bac-b795-7be343676faf",
   "metadata": {},
   "outputs": [
    {
     "data": {
      "text/plain": [
       "<tf.Tensor: shape=(1, 15), dtype=int64, numpy=\n",
       "array([[264,   3, 232,   4,  13, 698,   0,   0,   0,   0,   0,   0,   0,\n",
       "          0,   0]])>"
      ]
     },
     "execution_count": 181,
     "metadata": {},
     "output_type": "execute_result"
    }
   ],
   "source": [
    "sample = \"There's a flood in my street\"\n",
    "textvectorization([sample])"
   ]
  },
  {
   "cell_type": "code",
   "execution_count": 43,
   "id": "9992fa6b-7f99-436e-8bbb-fcf0a2bc0359",
   "metadata": {},
   "outputs": [],
   "source": [
    "import random"
   ]
  },
  {
   "cell_type": "code",
   "execution_count": 48,
   "id": "fdfc0fa4-c14d-4b90-afaf-3fbb20ce23a1",
   "metadata": {},
   "outputs": [
    {
     "name": "stdout",
     "output_type": "stream",
     "text": [
      "#NP Metallica - Damage Inc\n",
      "tf.Tensor(\n",
      "[[2836    1  233 5376    0    0    0    0    0    0    0    0    0    0\n",
      "     0]], shape=(1, 15), dtype=int64)\n"
     ]
    }
   ],
   "source": [
    "random_choice = random.choice(train_text)\n",
    "print(random_choice)\n",
    "print(textvectorization([random_choice]))"
   ]
  },
  {
   "cell_type": "code",
   "execution_count": 52,
   "id": "6c942009-53ad-444f-a976-1e2b5eab5de0",
   "metadata": {},
   "outputs": [
    {
     "data": {
      "text/plain": [
       "(10000,\n",
       " ['', '[UNK]', 'the', 'a', 'in'],\n",
       " ['pages', 'paeds', 'pads', 'padres', 'paddytomlinson1'])"
      ]
     },
     "execution_count": 52,
     "metadata": {},
     "output_type": "execute_result"
    }
   ],
   "source": [
    "our_vocabulary = textvectorization.get_vocabulary()\n",
    "len(our_vocabulary), our_vocabulary[:5], our_vocabulary[-5:]"
   ]
  },
  {
   "cell_type": "markdown",
   "id": "92115a3c-8a8c-4843-adb8-1a55b9e71d63",
   "metadata": {},
   "source": [
    "# Creating embedding layer\n"
   ]
  },
  {
   "cell_type": "code",
   "execution_count": 243,
   "id": "52ffcdf7-6a55-438c-83d8-821668ebcca5",
   "metadata": {},
   "outputs": [
    {
     "data": {
      "text/plain": [
       "<keras.layers.core.embedding.Embedding at 0x3d7ad2b50>"
      ]
     },
     "execution_count": 243,
     "metadata": {},
     "output_type": "execute_result"
    }
   ],
   "source": [
    "embedding = tf.keras.layers.Embedding(\n",
    "    input_dim=max_vocab_length,\n",
    "    output_dim=128, # set /8 when using gpu\n",
    "    embeddings_initializer='uniform',\n",
    "    embeddings_regularizer=None,\n",
    "    activity_regularizer=None,\n",
    "    embeddings_constraint=None,\n",
    "    mask_zero=False,\n",
    "    input_length=max_length\n",
    ")\n",
    "\n",
    "embedding"
   ]
  },
  {
   "cell_type": "code",
   "execution_count": 66,
   "id": "1f9385d0-676f-4d8b-a56a-9c1805e52b49",
   "metadata": {},
   "outputs": [
    {
     "name": "stdout",
     "output_type": "stream",
     "text": [
      "Sharing to help our cousin's family http://t.co/LSJowGYvQh\n",
      "tf.Tensor(\n",
      "[[4647    5  148  103 5902  302    1    0    0    0    0    0    0    0\n",
      "     0]], shape=(1, 15), dtype=int64)\n"
     ]
    }
   ],
   "source": [
    "random_choice = random.choice(train_text)\n",
    "print(random_choice)\n",
    "vector = textvectorization([random_choice])\n",
    "print(vector)\n",
    "sample_embed = embedding(vector)"
   ]
  },
  {
   "cell_type": "code",
   "execution_count": 69,
   "id": "cda0bc2b-5489-4475-a048-61513992fc2e",
   "metadata": {},
   "outputs": [
    {
     "data": {
      "text/plain": [
       "(<tf.Tensor: shape=(128,), dtype=float32, numpy=\n",
       " array([-0.03114157,  0.01967374, -0.04736068, -0.01796595, -0.04870046,\n",
       "        -0.0001228 , -0.03656517,  0.02118117, -0.02806422,  0.02665761,\n",
       "        -0.02381406, -0.02557567, -0.048534  ,  0.02123635,  0.04308787,\n",
       "         0.015731  ,  0.02820578,  0.03733463,  0.01771598,  0.04169016,\n",
       "         0.04608223,  0.00220302, -0.0491954 ,  0.02065032, -0.04925536,\n",
       "        -0.02303215, -0.04448877,  0.01592794, -0.04267229, -0.00565269,\n",
       "        -0.03344625,  0.03074105, -0.04407436,  0.00965048,  0.00337793,\n",
       "        -0.02072367,  0.00022598, -0.00970417,  0.00411699,  0.01119586,\n",
       "        -0.04921091,  0.02989355,  0.02834091,  0.04475928, -0.0474855 ,\n",
       "        -0.04036152, -0.00068638, -0.03608254, -0.02498015, -0.03486028,\n",
       "         0.02828873,  0.03030254,  0.04037792, -0.04536163,  0.01363734,\n",
       "        -0.00410252, -0.0279858 ,  0.0090971 ,  0.02767198,  0.02126597,\n",
       "        -0.04666856, -0.02895921, -0.01100662, -0.02405472,  0.0262517 ,\n",
       "        -0.04849511, -0.01929963, -0.0468083 , -0.00919782, -0.01102855,\n",
       "         0.01107346, -0.016529  ,  0.00328162,  0.00156162, -0.02922638,\n",
       "        -0.03007269, -0.00629671,  0.04969553,  0.03664808,  0.04599588,\n",
       "        -0.03993946,  0.02228111, -0.04306377,  0.01999528,  0.04060855,\n",
       "        -0.02116134,  0.00571148,  0.04809267, -0.01486618, -0.03829668,\n",
       "         0.01670455,  0.03350661, -0.01255114,  0.00904204,  0.03768   ,\n",
       "        -0.01195144, -0.01299082, -0.03640677, -0.0102142 , -0.01930791,\n",
       "        -0.02663486, -0.03019509,  0.03994569, -0.04858139,  0.03883391,\n",
       "         0.00012294, -0.02316803,  0.04794187, -0.02757875, -0.01058792,\n",
       "         0.03773602,  0.04451687, -0.00754621, -0.03707521, -0.03919972,\n",
       "        -0.03455935, -0.00584569,  0.01358718,  0.03586309, -0.04653511,\n",
       "        -0.04465178, -0.04952227,  0.02342154, -0.00045009,  0.04022226,\n",
       "        -0.01263685, -0.04337568,  0.02771856], dtype=float32)>,\n",
       " TensorShape([128]),\n",
       " \"Sharing to help our cousin's family http://t.co/LSJowGYvQh\")"
      ]
     },
     "execution_count": 69,
     "metadata": {},
     "output_type": "execute_result"
    }
   ],
   "source": [
    "sample_embed[0][0], sample_embed[0][0].shape, random_choice"
   ]
  },
  {
   "cell_type": "markdown",
   "id": "6fde78af-a742-41d8-a86e-2f2d876e264f",
   "metadata": {},
   "source": [
    "# Experiment list\n",
    "\n",
    "- naive bayes with tf-idf\n",
    "- dense model\n",
    "- LSTM(RNN)\n",
    "- GRU (RNN) (gated recurrent unit)\n",
    "- Bidrectional-LSTM (RNN)\n",
    "- 1d CNN\n",
    "- TF pretrained model feature extractor\n",
    "- TF pretrained model feature extractor (10% data)"
   ]
  },
  {
   "cell_type": "code",
   "execution_count": 75,
   "id": "694ac654-d8c8-41e1-8e3e-a4a0f80004b9",
   "metadata": {},
   "outputs": [],
   "source": [
    "\n",
    "model_0 = tf.keras.models.Sequential()\n",
    "model_0.add(tf.keras.layers.Input(shape=(1,), dtype=tf.string, name=\"input_layer\"))\n",
    "\n",
    "model_0.add(textvectorization)\n",
    "\n",
    "model_0.add(embedding)\n",
    "\n"
   ]
  },
  {
   "cell_type": "code",
   "execution_count": 76,
   "id": "31627ae8-b634-4619-9c68-06cc9920c97a",
   "metadata": {},
   "outputs": [
    {
     "name": "stdout",
     "output_type": "stream",
     "text": [
      "1/1 [==============================] - 0s 78ms/step\n"
     ]
    },
    {
     "name": "stderr",
     "output_type": "stream",
     "text": [
      "2023-03-23 07:37:48.208123: I tensorflow/core/grappler/optimizers/custom_graph_optimizer_registry.cc:114] Plugin optimizer for device_type GPU is enabled.\n"
     ]
    },
    {
     "data": {
      "text/plain": [
       "array([[[ 0.03648401, -0.01343995,  0.02726519, ..., -0.01601354,\n",
       "          0.0075595 , -0.03912764],\n",
       "        [-0.00736792, -0.04412271,  0.03118983, ..., -0.01487361,\n",
       "         -0.03070074,  0.04722324],\n",
       "        [-0.03944248,  0.03668461, -0.02891522, ...,  0.01199384,\n",
       "          0.03239999, -0.03269011],\n",
       "        ...,\n",
       "        [ 0.02208832,  0.04889195,  0.0108219 , ...,  0.00643492,\n",
       "          0.00560063, -0.02738208],\n",
       "        [ 0.03689495, -0.04735472,  0.01407543, ..., -0.03450272,\n",
       "          0.04619033, -0.02157602],\n",
       "        [-0.02808598, -0.01386461,  0.00114881, ...,  0.02699247,\n",
       "          0.04818046, -0.01146827]]], dtype=float32)"
      ]
     },
     "execution_count": 76,
     "metadata": {},
     "output_type": "execute_result"
    }
   ],
   "source": [
    "random_choice = random.choice(train_text)\n",
    "model_0.predict([random_choice])"
   ]
  },
  {
   "cell_type": "markdown",
   "id": "e047bb85-587c-473f-ae68-7a55ffe699b4",
   "metadata": {},
   "source": [
    "## Baseline model 0\n",
    "using sklearn navie bayes with tfidf\n",
    "\n",
    "    its common to use non-dl algorithm first as baseline and then use dl to improve on it."
   ]
  },
  {
   "cell_type": "code",
   "execution_count": 80,
   "id": "dc5436a4-4e3e-4c4e-8ef8-57fefdc095a1",
   "metadata": {},
   "outputs": [
    {
     "data": {
      "text/html": [
       "<style>#sk-container-id-2 {color: black;background-color: white;}#sk-container-id-2 pre{padding: 0;}#sk-container-id-2 div.sk-toggleable {background-color: white;}#sk-container-id-2 label.sk-toggleable__label {cursor: pointer;display: block;width: 100%;margin-bottom: 0;padding: 0.3em;box-sizing: border-box;text-align: center;}#sk-container-id-2 label.sk-toggleable__label-arrow:before {content: \"▸\";float: left;margin-right: 0.25em;color: #696969;}#sk-container-id-2 label.sk-toggleable__label-arrow:hover:before {color: black;}#sk-container-id-2 div.sk-estimator:hover label.sk-toggleable__label-arrow:before {color: black;}#sk-container-id-2 div.sk-toggleable__content {max-height: 0;max-width: 0;overflow: hidden;text-align: left;background-color: #f0f8ff;}#sk-container-id-2 div.sk-toggleable__content pre {margin: 0.2em;color: black;border-radius: 0.25em;background-color: #f0f8ff;}#sk-container-id-2 input.sk-toggleable__control:checked~div.sk-toggleable__content {max-height: 200px;max-width: 100%;overflow: auto;}#sk-container-id-2 input.sk-toggleable__control:checked~label.sk-toggleable__label-arrow:before {content: \"▾\";}#sk-container-id-2 div.sk-estimator input.sk-toggleable__control:checked~label.sk-toggleable__label {background-color: #d4ebff;}#sk-container-id-2 div.sk-label input.sk-toggleable__control:checked~label.sk-toggleable__label {background-color: #d4ebff;}#sk-container-id-2 input.sk-hidden--visually {border: 0;clip: rect(1px 1px 1px 1px);clip: rect(1px, 1px, 1px, 1px);height: 1px;margin: -1px;overflow: hidden;padding: 0;position: absolute;width: 1px;}#sk-container-id-2 div.sk-estimator {font-family: monospace;background-color: #f0f8ff;border: 1px dotted black;border-radius: 0.25em;box-sizing: border-box;margin-bottom: 0.5em;}#sk-container-id-2 div.sk-estimator:hover {background-color: #d4ebff;}#sk-container-id-2 div.sk-parallel-item::after {content: \"\";width: 100%;border-bottom: 1px solid gray;flex-grow: 1;}#sk-container-id-2 div.sk-label:hover label.sk-toggleable__label {background-color: #d4ebff;}#sk-container-id-2 div.sk-serial::before {content: \"\";position: absolute;border-left: 1px solid gray;box-sizing: border-box;top: 0;bottom: 0;left: 50%;z-index: 0;}#sk-container-id-2 div.sk-serial {display: flex;flex-direction: column;align-items: center;background-color: white;padding-right: 0.2em;padding-left: 0.2em;position: relative;}#sk-container-id-2 div.sk-item {position: relative;z-index: 1;}#sk-container-id-2 div.sk-parallel {display: flex;align-items: stretch;justify-content: center;background-color: white;position: relative;}#sk-container-id-2 div.sk-item::before, #sk-container-id-2 div.sk-parallel-item::before {content: \"\";position: absolute;border-left: 1px solid gray;box-sizing: border-box;top: 0;bottom: 0;left: 50%;z-index: -1;}#sk-container-id-2 div.sk-parallel-item {display: flex;flex-direction: column;z-index: 1;position: relative;background-color: white;}#sk-container-id-2 div.sk-parallel-item:first-child::after {align-self: flex-end;width: 50%;}#sk-container-id-2 div.sk-parallel-item:last-child::after {align-self: flex-start;width: 50%;}#sk-container-id-2 div.sk-parallel-item:only-child::after {width: 0;}#sk-container-id-2 div.sk-dashed-wrapped {border: 1px dashed gray;margin: 0 0.4em 0.5em 0.4em;box-sizing: border-box;padding-bottom: 0.4em;background-color: white;}#sk-container-id-2 div.sk-label label {font-family: monospace;font-weight: bold;display: inline-block;line-height: 1.2em;}#sk-container-id-2 div.sk-label-container {text-align: center;}#sk-container-id-2 div.sk-container {/* jupyter's `normalize.less` sets `[hidden] { display: none; }` but bootstrap.min.css set `[hidden] { display: none !important; }` so we also need the `!important` here to be able to override the default hidden behavior on the sphinx rendered scikit-learn.org. See: https://github.com/scikit-learn/scikit-learn/issues/21755 */display: inline-block !important;position: relative;}#sk-container-id-2 div.sk-text-repr-fallback {display: none;}</style><div id=\"sk-container-id-2\" class=\"sk-top-container\"><div class=\"sk-text-repr-fallback\"><pre>Pipeline(steps=[(&#x27;tfidf&#x27;, TfidfVectorizer()), (&#x27;clf&#x27;, MultinomialNB())])</pre><b>In a Jupyter environment, please rerun this cell to show the HTML representation or trust the notebook. <br />On GitHub, the HTML representation is unable to render, please try loading this page with nbviewer.org.</b></div><div class=\"sk-container\" hidden><div class=\"sk-item sk-dashed-wrapped\"><div class=\"sk-label-container\"><div class=\"sk-label sk-toggleable\"><input class=\"sk-toggleable__control sk-hidden--visually\" id=\"sk-estimator-id-4\" type=\"checkbox\" ><label for=\"sk-estimator-id-4\" class=\"sk-toggleable__label sk-toggleable__label-arrow\">Pipeline</label><div class=\"sk-toggleable__content\"><pre>Pipeline(steps=[(&#x27;tfidf&#x27;, TfidfVectorizer()), (&#x27;clf&#x27;, MultinomialNB())])</pre></div></div></div><div class=\"sk-serial\"><div class=\"sk-item\"><div class=\"sk-estimator sk-toggleable\"><input class=\"sk-toggleable__control sk-hidden--visually\" id=\"sk-estimator-id-5\" type=\"checkbox\" ><label for=\"sk-estimator-id-5\" class=\"sk-toggleable__label sk-toggleable__label-arrow\">TfidfVectorizer</label><div class=\"sk-toggleable__content\"><pre>TfidfVectorizer()</pre></div></div></div><div class=\"sk-item\"><div class=\"sk-estimator sk-toggleable\"><input class=\"sk-toggleable__control sk-hidden--visually\" id=\"sk-estimator-id-6\" type=\"checkbox\" ><label for=\"sk-estimator-id-6\" class=\"sk-toggleable__label sk-toggleable__label-arrow\">MultinomialNB</label><div class=\"sk-toggleable__content\"><pre>MultinomialNB()</pre></div></div></div></div></div></div></div>"
      ],
      "text/plain": [
       "Pipeline(steps=[('tfidf', TfidfVectorizer()), ('clf', MultinomialNB())])"
      ]
     },
     "execution_count": 80,
     "metadata": {},
     "output_type": "execute_result"
    }
   ],
   "source": [
    "from sklearn.feature_extraction.text import TfidfVectorizer\n",
    "from sklearn.naive_bayes import MultinomialNB\n",
    "\n",
    "from sklearn.pipeline import Pipeline\n",
    "\n",
    "model_0 = Pipeline([\n",
    "    (\"tfidf\", TfidfVectorizer()),\n",
    "    (\"clf\", MultinomialNB())\n",
    "])\n",
    "\n",
    "model_0.fit(train_text, train_label)"
   ]
  },
  {
   "cell_type": "code",
   "execution_count": 82,
   "id": "cc033613-1a2f-4bb3-8dcc-b0f67be67aa8",
   "metadata": {},
   "outputs": [],
   "source": [
    "baseline_score = model_0.score(val_text, val_label)"
   ]
  },
  {
   "cell_type": "code",
   "execution_count": 83,
   "id": "216f6d4c-0e85-40c0-a078-8cde58ca0d1e",
   "metadata": {},
   "outputs": [
    {
     "data": {
      "text/plain": [
       "0.7926509186351706"
      ]
     },
     "execution_count": 83,
     "metadata": {},
     "output_type": "execute_result"
    }
   ],
   "source": [
    "baseline_score"
   ]
  },
  {
   "cell_type": "code",
   "execution_count": 85,
   "id": "71174d3d-c37c-4763-858a-8f6affbe6f8d",
   "metadata": {},
   "outputs": [
    {
     "data": {
      "text/plain": [
       "(array([1, 1, 1, 0, 0, 1, 1, 1, 1, 0]), array([0, 0, 1, 1, 1, 1, 1, 1, 1, 0]))"
      ]
     },
     "execution_count": 85,
     "metadata": {},
     "output_type": "execute_result"
    }
   ],
   "source": [
    "baseline_preds = model_0.predict(val_text)\n",
    "baseline_preds[:10], val_label[:10]"
   ]
  },
  {
   "cell_type": "code",
   "execution_count": 99,
   "id": "fb24b978-4a31-4a7e-ac95-e572fd630e30",
   "metadata": {},
   "outputs": [],
   "source": [
    "import tensorflow as tf\n",
    "from sklearn.metrics import precision_recall_fscore_support\n",
    "\n",
    "def get_metrcis(baseline_preds,val_label):\n",
    "    Acc = tf.metrics.Accuracy()\n",
    "    Acc.update_state(baseline_preds,val_label)\n",
    "    acc = Acc.result().numpy()\n",
    "    p, r, f, _ = precision_recall_fscore_support(baseline_preds,val_label, average=\"weighted\") \n",
    "    return acc, p, r, f"
   ]
  },
  {
   "cell_type": "code",
   "execution_count": 100,
   "id": "e185ad35-8654-4103-91cc-7b6338a6877f",
   "metadata": {},
   "outputs": [
    {
     "data": {
      "text/plain": [
       "(0.79265094, 0.8336022277575122, 0.7926509186351706, 0.7990828614653861)"
      ]
     },
     "execution_count": 100,
     "metadata": {},
     "output_type": "execute_result"
    }
   ],
   "source": [
    "get_metrcis(baseline_preds,val_label) "
   ]
  },
  {
   "cell_type": "code",
   "execution_count": 101,
   "id": "99fdf914-0777-4e1a-9aac-73940bb8ab1d",
   "metadata": {},
   "outputs": [],
   "source": [
    "from helper_functions import calculate_results, create_tensorboard_callback"
   ]
  },
  {
   "cell_type": "code",
   "execution_count": 102,
   "id": "93cfba78-e21e-4dc3-a3d5-00fa8b57cc3a",
   "metadata": {},
   "outputs": [
    {
     "data": {
      "text/plain": [
       "{'accuracy': 79.26509186351706,\n",
       " 'precision': 0.8336022277575122,\n",
       " 'recall': 0.7926509186351706,\n",
       " 'f1': 0.7990828614653861}"
      ]
     },
     "execution_count": 102,
     "metadata": {},
     "output_type": "execute_result"
    }
   ],
   "source": [
    "calculate_results(baseline_preds,val_label)"
   ]
  },
  {
   "cell_type": "markdown",
   "id": "38fc517f-002f-4651-a62d-50745951a68a",
   "metadata": {},
   "source": [
    "## Model 1 - using dense layers"
   ]
  },
  {
   "cell_type": "code",
   "execution_count": 140,
   "id": "3558db99-f55b-4328-8e99-88346b10ddb5",
   "metadata": {},
   "outputs": [],
   "source": [
    "# Build model with the Functional API\n",
    "from tensorflow.keras import layers\n",
    "inputs = layers.Input(shape=(1,), dtype=\"string\") # inputs are 1-dimensional strings\n",
    "x = textvectorization(inputs) # turn the input text into numbers\n",
    "\n",
    "x = embedding(x) # create an embedding of the numerized numbers\n",
    "x = layers.GlobalAveragePooling1D()(x)\n",
    "outputs = layers.Dense(1, activation=\"sigmoid\")(x) # create the output layer, want binary outputs so use sigmoid activation\n",
    "model_1 = tf.keras.Model(inputs, outputs, name=\"model_1_dense\") # construct the model"
   ]
  },
  {
   "cell_type": "code",
   "execution_count": 141,
   "id": "0d17ce9c-9654-41ad-a199-d1e4c818cf78",
   "metadata": {},
   "outputs": [
    {
     "name": "stdout",
     "output_type": "stream",
     "text": [
      "Model: \"model_1_dense\"\n",
      "_________________________________________________________________\n",
      " Layer (type)                Output Shape              Param #   \n",
      "=================================================================\n",
      " input_6 (InputLayer)        [(None, 1)]               0         \n",
      "                                                                 \n",
      " text_vectorization_2 (TextV  (None, 15)               0         \n",
      " ectorization)                                                   \n",
      "                                                                 \n",
      " embedding_2 (Embedding)     (None, 15, 128)           1280000   \n",
      "                                                                 \n",
      " global_average_pooling1d_1   (None, 128)              0         \n",
      " (GlobalAveragePooling1D)                                        \n",
      "                                                                 \n",
      " dense_17 (Dense)            (None, 1)                 129       \n",
      "                                                                 \n",
      "=================================================================\n",
      "Total params: 1,280,129\n",
      "Trainable params: 1,280,129\n",
      "Non-trainable params: 0\n",
      "_________________________________________________________________\n"
     ]
    }
   ],
   "source": [
    "model_1.summary()"
   ]
  },
  {
   "cell_type": "code",
   "execution_count": 142,
   "id": "c92f35f6-57b5-4e28-a0f5-262d492d658a",
   "metadata": {},
   "outputs": [
    {
     "name": "stdout",
     "output_type": "stream",
     "text": [
      "Model: \"model_1_dense\"\n",
      "_________________________________________________________________\n",
      " Layer (type)                Output Shape              Param #   \n",
      "=================================================================\n",
      " input_6 (InputLayer)        [(None, 1)]               0         \n",
      "                                                                 \n",
      " text_vectorization_2 (TextV  (None, 15)               0         \n",
      " ectorization)                                                   \n",
      "                                                                 \n",
      " embedding_2 (Embedding)     (None, 15, 128)           1280000   \n",
      "                                                                 \n",
      " global_average_pooling1d_1   (None, 128)              0         \n",
      " (GlobalAveragePooling1D)                                        \n",
      "                                                                 \n",
      " dense_17 (Dense)            (None, 1)                 129       \n",
      "                                                                 \n",
      "=================================================================\n",
      "Total params: 1,280,129\n",
      "Trainable params: 1,280,129\n",
      "Non-trainable params: 0\n",
      "_________________________________________________________________\n"
     ]
    }
   ],
   "source": [
    "# Compile model\n",
    "model_1.compile(loss=\"binary_crossentropy\",\n",
    "                optimizer=tf.keras.optimizers.Adam(),\n",
    "                metrics=[\"accuracy\"])\n",
    "# Get a summary of the model\n",
    "model_1.summary()"
   ]
  },
  {
   "cell_type": "code",
   "execution_count": 143,
   "id": "96144b20-1b64-41fa-a329-8aef6093d3e7",
   "metadata": {
    "collapsed": true,
    "jupyter": {
     "outputs_hidden": true
    },
    "tags": []
   },
   "outputs": [
    {
     "name": "stdout",
     "output_type": "stream",
     "text": [
      "Saving TensorBoard log files to: tensorboard_hub_07/07_model_1/20230324-075500\n",
      "Epoch 1/5\n"
     ]
    },
    {
     "name": "stderr",
     "output_type": "stream",
     "text": [
      "2023-03-24 07:55:00.528855: I tensorflow/core/grappler/optimizers/custom_graph_optimizer_registry.cc:114] Plugin optimizer for device_type GPU is enabled.\n"
     ]
    },
    {
     "name": "stdout",
     "output_type": "stream",
     "text": [
      "215/215 [==============================] - ETA: 0s - loss: 0.6014 - accuracy: 0.7046"
     ]
    },
    {
     "name": "stderr",
     "output_type": "stream",
     "text": [
      "2023-03-24 07:55:05.801574: I tensorflow/core/grappler/optimizers/custom_graph_optimizer_registry.cc:114] Plugin optimizer for device_type GPU is enabled.\n"
     ]
    },
    {
     "name": "stdout",
     "output_type": "stream",
     "text": [
      "215/215 [==============================] - 6s 25ms/step - loss: 0.6014 - accuracy: 0.7046 - val_loss: 0.5450 - val_accuracy: 0.7507\n",
      "Epoch 2/5\n",
      "215/215 [==============================] - 3s 16ms/step - loss: 0.4552 - accuracy: 0.8301 - val_loss: 0.4868 - val_accuracy: 0.7808\n",
      "Epoch 3/5\n",
      "215/215 [==============================] - 3s 15ms/step - loss: 0.3891 - accuracy: 0.8524 - val_loss: 0.4726 - val_accuracy: 0.7835\n",
      "Epoch 4/5\n",
      "215/215 [==============================] - 3s 15ms/step - loss: 0.3500 - accuracy: 0.8643 - val_loss: 0.4619 - val_accuracy: 0.7861\n",
      "Epoch 5/5\n",
      "215/215 [==============================] - 3s 14ms/step - loss: 0.3203 - accuracy: 0.8793 - val_loss: 0.4588 - val_accuracy: 0.7861\n"
     ]
    }
   ],
   "source": [
    "# Fit the model\n",
    "model_1_history = model_1.fit(train_text, # input sentences can be a list of strings due to text preprocessing layer built-in model\n",
    "                              train_label,\n",
    "                              epochs=5,\n",
    "                              validation_data=(val_text, val_label),\n",
    "                              callbacks=[create_tensorboard_callback(dir_name=\"tensorboard_hub_07\", \n",
    "                                                                     experiment_name=\"07_model_1\")])"
   ]
  },
  {
   "cell_type": "code",
   "execution_count": 145,
   "id": "11401388-eae0-496c-b6b4-4d90071ed50f",
   "metadata": {},
   "outputs": [
    {
     "name": "stdout",
     "output_type": "stream",
     "text": [
      "24/24 [==============================] - 0s 3ms/step\n"
     ]
    }
   ],
   "source": [
    "pred_probs = model_1.predict(val_text)"
   ]
  },
  {
   "cell_type": "code",
   "execution_count": 147,
   "id": "d7b0be03-0c43-4f58-aa30-153a30f2728b",
   "metadata": {
    "collapsed": true,
    "jupyter": {
     "outputs_hidden": true
    },
    "tags": []
   },
   "outputs": [
    {
     "data": {
      "text/plain": [
       "{'accuracy': 78.60892388451444,\n",
       " 'precision': 0.8081602243497674,\n",
       " 'recall': 0.7860892388451444,\n",
       " 'f1': 0.7899560900047056}"
      ]
     },
     "execution_count": 147,
     "metadata": {},
     "output_type": "execute_result"
    }
   ],
   "source": [
    "calculate_results(tf.squeeze(tf.round(pred_probs)), val_label)"
   ]
  },
  {
   "cell_type": "code",
   "execution_count": 203,
   "id": "03cd28da-339d-4c90-8e95-43227b5c46ee",
   "metadata": {},
   "outputs": [
    {
     "data": {
      "text/plain": [
       "[array([[-0.703444  , -0.65944374, -2.8652966 , ..., -1.0783211 ,\n",
       "          0.09009187,  1.8993644 ],\n",
       "        [-0.3668171 , -2.7066085 , -3.4043317 , ..., -3.8402143 ,\n",
       "          1.8158928 ,  3.8957393 ],\n",
       "        [ 0.0728832 ,  0.68576545,  0.9892081 , ..., -1.5324095 ,\n",
       "         -2.2225018 ,  0.6028229 ],\n",
       "        ...,\n",
       "        [ 0.04161023, -0.04872613, -0.02946119, ...,  0.01696889,\n",
       "          0.00421565, -0.01182178],\n",
       "        [ 0.4400814 ,  0.16629887,  0.5899824 , ...,  0.21868843,\n",
       "         -0.1266775 , -0.5093425 ],\n",
       "        [ 0.7097707 , -0.8439144 ,  0.95670563, ...,  0.5303669 ,\n",
       "          0.5005894 , -0.825076  ]], dtype=float32)]"
      ]
     },
     "execution_count": 203,
     "metadata": {},
     "output_type": "execute_result"
    }
   ],
   "source": [
    "embedding_weights = model_1.get_layer(\"embedding_2\").get_weights()\n",
    "embedding_weights"
   ]
  },
  {
   "cell_type": "code",
   "execution_count": 205,
   "id": "e77e586d-74fc-4202-a5ce-cde1bc20b70d",
   "metadata": {},
   "outputs": [
    {
     "data": {
      "text/plain": [
       "(10000, 128)"
      ]
     },
     "execution_count": 205,
     "metadata": {},
     "output_type": "execute_result"
    }
   ],
   "source": [
    "embedding_weights[0].shape"
   ]
  },
  {
   "cell_type": "markdown",
   "id": "54c13c20-a0ac-49bd-bfb9-6babaea30b43",
   "metadata": {},
   "source": [
    "Now we have embedding, let visualize it\n",
    "\n",
    "using http://projector.tensorflow.org\n",
    "\n",
    "\n",
    "also read https://www.tensorflow.org/text/guide/word_embeddings"
   ]
  },
  {
   "cell_type": "code",
   "execution_count": 208,
   "id": "39163c5d-9a39-4cbd-b191-cba24cd1ad53",
   "metadata": {},
   "outputs": [],
   "source": [
    "# from https://www.tensorflow.org/text/guide/word_embeddings\n",
    "import io\n",
    "out_v = io.open('vectors.tsv', 'w', encoding='utf-8')\n",
    "out_m = io.open('metadata.tsv', 'w', encoding='utf-8')\n",
    "\n",
    "for index, word in enumerate(our_vocabulary):\n",
    "  if index == 0:\n",
    "    continue  # skip 0, it's padding.\n",
    "  vec = embedding_weights[0][index]\n",
    "  out_v.write('\\t'.join([str(x) for x in vec]) + \"\\n\")\n",
    "  out_m.write(word + \"\\n\")\n",
    "out_v.close()\n",
    "out_m.close()"
   ]
  },
  {
   "cell_type": "code",
   "execution_count": null,
   "id": "acd8e531-1bdd-4d47-a47f-97edaa9db869",
   "metadata": {},
   "outputs": [],
   "source": []
  },
  {
   "cell_type": "markdown",
   "id": "267ca521-2c9b-443a-91ae-89d72e5e419a",
   "metadata": {},
   "source": [
    "## Pratice model 2 lstm rnn"
   ]
  },
  {
   "cell_type": "code",
   "execution_count": 156,
   "id": "7c93195d-f300-419c-a0b7-5ad7aa10d24a",
   "metadata": {
    "tags": []
   },
   "outputs": [],
   "source": [
    "# Build model with the Functional API\n",
    "from tensorflow.keras import layers\n",
    "inputs = layers.Input(shape=(1,), dtype=\"string\") # inputs are 1-dimensional strings\n",
    "x = textvectorization(inputs) # turn the input text into numbers\n",
    "\n",
    "x = embedding(x) # create an embedding of the numerized numbers\n",
    "x = layers.LSTM(8)(x)\n",
    "\n",
    "\n",
    "outputs = layers.Dense(1, activation=\"sigmoid\")(x) # create the output layer, want binary outputs so use sigmoid activation\n",
    "model_2 = tf.keras.Model(inputs, outputs, name=\"model_2_dense\") # construct the model"
   ]
  },
  {
   "cell_type": "code",
   "execution_count": 157,
   "id": "4acf8b66-d451-4b3b-bac7-88b6c013e5f6",
   "metadata": {
    "tags": []
   },
   "outputs": [
    {
     "name": "stdout",
     "output_type": "stream",
     "text": [
      "Model: \"model_2_dense\"\n",
      "_________________________________________________________________\n",
      " Layer (type)                Output Shape              Param #   \n",
      "=================================================================\n",
      " input_11 (InputLayer)       [(None, 1)]               0         \n",
      "                                                                 \n",
      " text_vectorization_2 (TextV  (None, 15)               0         \n",
      " ectorization)                                                   \n",
      "                                                                 \n",
      " embedding_2 (Embedding)     (None, 15, 128)           1280000   \n",
      "                                                                 \n",
      " lstm_4 (LSTM)               (None, 8)                 4384      \n",
      "                                                                 \n",
      " dense_19 (Dense)            (None, 1)                 9         \n",
      "                                                                 \n",
      "=================================================================\n",
      "Total params: 1,284,393\n",
      "Trainable params: 1,284,393\n",
      "Non-trainable params: 0\n",
      "_________________________________________________________________\n"
     ]
    }
   ],
   "source": [
    "# Compile model\n",
    "model_2.compile(loss=\"binary_crossentropy\",\n",
    "                optimizer=tf.keras.optimizers.Adam(),\n",
    "                metrics=[\"accuracy\"])\n",
    "# Get a summary of the model\n",
    "model_2.summary()"
   ]
  },
  {
   "cell_type": "code",
   "execution_count": 158,
   "id": "cd084900-7cb6-4ca9-bbb5-6e40031142d3",
   "metadata": {},
   "outputs": [
    {
     "name": "stdout",
     "output_type": "stream",
     "text": [
      "Saving TensorBoard log files to: tensorboard_hub_07/07_model_2/20230325-083434\n",
      "Epoch 1/5\n"
     ]
    },
    {
     "name": "stderr",
     "output_type": "stream",
     "text": [
      "2023-03-25 08:34:35.239857: I tensorflow/core/grappler/optimizers/custom_graph_optimizer_registry.cc:114] Plugin optimizer for device_type GPU is enabled.\n",
      "2023-03-25 08:34:35.398664: I tensorflow/core/grappler/optimizers/custom_graph_optimizer_registry.cc:114] Plugin optimizer for device_type GPU is enabled.\n",
      "2023-03-25 08:34:35.679375: I tensorflow/core/grappler/optimizers/custom_graph_optimizer_registry.cc:114] Plugin optimizer for device_type GPU is enabled.\n"
     ]
    },
    {
     "name": "stdout",
     "output_type": "stream",
     "text": [
      "215/215 [==============================] - ETA: 0s - loss: 0.4015 - accuracy: 0.8324"
     ]
    },
    {
     "name": "stderr",
     "output_type": "stream",
     "text": [
      "2023-03-25 08:34:43.339200: I tensorflow/core/grappler/optimizers/custom_graph_optimizer_registry.cc:114] Plugin optimizer for device_type GPU is enabled.\n",
      "2023-03-25 08:34:43.407442: I tensorflow/core/grappler/optimizers/custom_graph_optimizer_registry.cc:114] Plugin optimizer for device_type GPU is enabled.\n"
     ]
    },
    {
     "name": "stdout",
     "output_type": "stream",
     "text": [
      "215/215 [==============================] - 10s 37ms/step - loss: 0.4015 - accuracy: 0.8324 - val_loss: 0.4625 - val_accuracy: 0.7940\n",
      "Epoch 2/5\n",
      "215/215 [==============================] - 5s 25ms/step - loss: 0.2299 - accuracy: 0.9206 - val_loss: 0.4893 - val_accuracy: 0.7966\n",
      "Epoch 3/5\n",
      "215/215 [==============================] - 5s 24ms/step - loss: 0.1759 - accuracy: 0.9415 - val_loss: 0.5416 - val_accuracy: 0.7979\n",
      "Epoch 4/5\n",
      "215/215 [==============================] - 5s 24ms/step - loss: 0.1481 - accuracy: 0.9491 - val_loss: 0.5741 - val_accuracy: 0.7992\n",
      "Epoch 5/5\n",
      "215/215 [==============================] - 5s 23ms/step - loss: 0.1268 - accuracy: 0.9581 - val_loss: 0.5879 - val_accuracy: 0.7953\n"
     ]
    }
   ],
   "source": [
    "# Fit the model\n",
    "model_2_history = model_2.fit(train_text, # input sentences can be a list of strings due to text preprocessing layer built-in model\n",
    "                              train_label,\n",
    "                              epochs=5,\n",
    "                              validation_data=(val_text, val_label),\n",
    "                              callbacks=[create_tensorboard_callback(dir_name=\"tensorboard_hub_07\", \n",
    "                                                                     experiment_name=\"07_model_2\")])"
   ]
  },
  {
   "cell_type": "code",
   "execution_count": 159,
   "id": "c60f2f07-066f-4ea6-924e-c87c76a59e49",
   "metadata": {},
   "outputs": [
    {
     "name": "stdout",
     "output_type": "stream",
     "text": [
      "\n",
      "New experiment created. View your TensorBoard at: https://tensorboard.dev/experiment/GGG8QjeGT6exY2pQ3fEcYw/\n",
      "\n",
      "\u001b[1m[2023-03-25T08:37:20]\u001b[0m Started scanning logdir.\n",
      "\u001b[1m[2023-03-25T08:38:05]\u001b[0m Total uploaded: 366 scalars, 0 tensors, 19 binary objects (13.3 MB)\n",
      "\u001b[1m[2023-03-25T08:38:05]\u001b[0m Done scanning logdir.\n",
      "\n",
      "\n",
      "Done. View your TensorBoard at https://tensorboard.dev/experiment/GGG8QjeGT6exY2pQ3fEcYw/\n"
     ]
    }
   ],
   "source": [
    "# !tensorboard dev upload --logdir ./tensorboard_hub_07 --name \"07\"    --description \"disater\" --one_shot"
   ]
  },
  {
   "cell_type": "markdown",
   "id": "6a40e54d-a65e-4405-80e0-db81c841ac87",
   "metadata": {},
   "source": [
    "### using glove\n",
    "https://keras.io/examples/nlp/pretrained_word_embeddings/\n"
   ]
  },
  {
   "cell_type": "code",
   "execution_count": 160,
   "id": "e580f483-e221-43c1-ab56-000caee7987b",
   "metadata": {},
   "outputs": [
    {
     "name": "stdout",
     "output_type": "stream",
     "text": [
      "--2023-03-25 08:49:02--  http://nlp.stanford.edu/data/glove.6B.zip\n",
      "Resolving nlp.stanford.edu (nlp.stanford.edu)... 171.64.67.140\n",
      "Connecting to nlp.stanford.edu (nlp.stanford.edu)|171.64.67.140|:80... connected.\n",
      "HTTP request sent, awaiting response... 302 Found\n",
      "Location: https://nlp.stanford.edu/data/glove.6B.zip [following]\n",
      "--2023-03-25 08:49:02--  https://nlp.stanford.edu/data/glove.6B.zip\n",
      "Connecting to nlp.stanford.edu (nlp.stanford.edu)|171.64.67.140|:443... connected.\n",
      "HTTP request sent, awaiting response... 301 Moved Permanently\n",
      "Location: https://downloads.cs.stanford.edu/nlp/data/glove.6B.zip [following]\n",
      "--2023-03-25 08:49:03--  https://downloads.cs.stanford.edu/nlp/data/glove.6B.zip\n",
      "Resolving downloads.cs.stanford.edu (downloads.cs.stanford.edu)... 171.64.64.22\n",
      "Connecting to downloads.cs.stanford.edu (downloads.cs.stanford.edu)|171.64.64.22|:443... connected.\n",
      "HTTP request sent, awaiting response... 200 OK\n",
      "Length: 862182613 (822M) [application/zip]\n",
      "Saving to: ‘glove.6B.zip’\n",
      "\n",
      "glove.6B.zip        100%[===================>] 822.24M  4.33MB/s    in 2m 49s  \n",
      "\n",
      "2023-03-25 08:51:53 (4.86 MB/s) - ‘glove.6B.zip’ saved [862182613/862182613]\n",
      "\n"
     ]
    }
   ],
   "source": [
    "# !wget http://nlp.stanford.edu/data/glove.6B.zip"
   ]
  },
  {
   "cell_type": "code",
   "execution_count": 161,
   "id": "40a758bc-50fe-4cc3-b22f-d588da634e7d",
   "metadata": {},
   "outputs": [
    {
     "data": {
      "text/plain": [
       "['', '[UNK]', 'the', 'a', 'in']"
      ]
     },
     "execution_count": 161,
     "metadata": {},
     "output_type": "execute_result"
    }
   ],
   "source": [
    "textvectorization.get_vocabulary()[:5]"
   ]
  },
  {
   "cell_type": "code",
   "execution_count": 162,
   "id": "45f1e9e7-35a3-426d-ba40-5433ebaf3427",
   "metadata": {},
   "outputs": [
    {
     "data": {
      "text/plain": [
       "array([   2, 1427, 2721,   11,    2,    1])"
      ]
     },
     "execution_count": 162,
     "metadata": {},
     "output_type": "execute_result"
    }
   ],
   "source": [
    "output = textvectorization([[\"the cat sat on the mat\"]])\n",
    "output.numpy()[0, :6]"
   ]
  },
  {
   "cell_type": "code",
   "execution_count": 187,
   "id": "68e15024-d0db-44eb-ab25-826218a049c6",
   "metadata": {},
   "outputs": [],
   "source": [
    "voc = textvectorization.get_vocabulary()\n",
    "word_index = dict(zip(voc, range(len(voc))))"
   ]
  },
  {
   "cell_type": "code",
   "execution_count": 199,
   "id": "b6b9122e-2cd9-49d5-8b32-00aba2cb0b2c",
   "metadata": {},
   "outputs": [
    {
     "name": "stdout",
     "output_type": "stream",
     "text": [
      "Found 400000 word vectors.\n"
     ]
    }
   ],
   "source": [
    "import os\n",
    "import numpy as np\n",
    "path_to_glove_file = os.path.join(\n",
    "    os.path.expanduser(\"~\"), \"Personal Projects/code/MachineLearning/Udemy ztmdeeplearning/data/glove.6B/glove.6B.100d.txt\"\n",
    ")\n",
    "\n",
    "embeddings_index = {}\n",
    "with open(path_to_glove_file) as f:\n",
    "    for line in f:\n",
    "        word, coefs = line.split(maxsplit=1)\n",
    "        coefs = np.fromstring(coefs, \"f\", sep=\" \")\n",
    "        embeddings_index[word] = coefs\n",
    "\n",
    "print(\"Found %s word vectors.\" % len(embeddings_index))"
   ]
  },
  {
   "cell_type": "code",
   "execution_count": 201,
   "id": "af9ba9dc-9a7b-442b-bb52-768cdb2df038",
   "metadata": {},
   "outputs": [
    {
     "name": "stdout",
     "output_type": "stream",
     "text": [
      "Converted 11713 words (9343 misses)\n"
     ]
    }
   ],
   "source": [
    "num_tokens = len(voc) + 2\n",
    "embedding_dim = 100\n",
    "hits = 0\n",
    "misses = 0\n",
    "\n",
    "# Prepare embedding matrix\n",
    "embedding_matrix = np.zeros((num_tokens, embedding_dim))\n",
    "for word, i in word_index.items():\n",
    "    embedding_vector = embeddings_index.get(word)\n",
    "    if embedding_vector is not None:\n",
    "        # Words not found in embedding index will be all-zeros.\n",
    "        # This includes the representation for \"padding\" and \"OOV\"\n",
    "        embedding_matrix[i] = embedding_vector\n",
    "        hits += 1\n",
    "    else:\n",
    "        misses += 1\n",
    "print(\"Converted %d words (%d misses)\" % (hits, misses))"
   ]
  },
  {
   "cell_type": "code",
   "execution_count": 202,
   "id": "b46b14b2-697d-4d80-b665-5e9aaf11b118",
   "metadata": {},
   "outputs": [],
   "source": [
    "del embeddings_index"
   ]
  },
  {
   "cell_type": "code",
   "execution_count": 191,
   "id": "80138185-897f-46f5-8c63-d86fcbcc0757",
   "metadata": {},
   "outputs": [],
   "source": [
    "from tensorflow.keras.layers import Embedding\n",
    "\n",
    "prebuilt_embedding_layer = Embedding(\n",
    "    num_tokens,\n",
    "    embedding_dim,\n",
    "    embeddings_initializer=tf.keras.initializers.Constant(embedding_matrix),\n",
    "    trainable=False,\n",
    ")"
   ]
  },
  {
   "cell_type": "code",
   "execution_count": 195,
   "id": "cae225d2-6c73-41ee-af9c-d32fca4aeb13",
   "metadata": {
    "tags": []
   },
   "outputs": [],
   "source": [
    "# Build model with the Functional API\n",
    "from tensorflow.keras import layers\n",
    "inputs = layers.Input(shape=(1,), dtype=\"string\") # inputs are 1-dimensional strings\n",
    "x = textvectorization(inputs) # turn the input text into numbers\n",
    "\n",
    "x = prebuilt_embedding_layer(x) # create an embedding of the numerized numbers\n",
    "x = layers.LSTM(8)(x)\n",
    "\n",
    "\n",
    "outputs = layers.Dense(1, activation=\"sigmoid\")(x) # create the output layer, want binary outputs so use sigmoid activation\n",
    "model_2_1 = tf.keras.Model(inputs, outputs, name=\"model_2_1_lstm\") # construct the model"
   ]
  },
  {
   "cell_type": "code",
   "execution_count": 196,
   "id": "eb2573ab-121c-4d4b-a1d7-a053190f963a",
   "metadata": {
    "tags": []
   },
   "outputs": [
    {
     "name": "stdout",
     "output_type": "stream",
     "text": [
      "Model: \"model_2_1_lstm\"\n",
      "_________________________________________________________________\n",
      " Layer (type)                Output Shape              Param #   \n",
      "=================================================================\n",
      " input_13 (InputLayer)       [(None, 1)]               0         \n",
      "                                                                 \n",
      " text_vectorization_4 (TextV  (None, 15)               0         \n",
      " ectorization)                                                   \n",
      "                                                                 \n",
      " embedding_3 (Embedding)     (None, 15, 100)           2105800   \n",
      "                                                                 \n",
      " lstm_6 (LSTM)               (None, 8)                 3488      \n",
      "                                                                 \n",
      " dense_21 (Dense)            (None, 1)                 9         \n",
      "                                                                 \n",
      "=================================================================\n",
      "Total params: 2,109,297\n",
      "Trainable params: 3,497\n",
      "Non-trainable params: 2,105,800\n",
      "_________________________________________________________________\n"
     ]
    }
   ],
   "source": [
    "# Compile model\n",
    "model_2_1.compile(loss=\"binary_crossentropy\",\n",
    "                optimizer=tf.keras.optimizers.Adam(),\n",
    "                metrics=[\"accuracy\"])\n",
    "# Get a summary of the model\n",
    "model_2_1.summary()"
   ]
  },
  {
   "cell_type": "code",
   "execution_count": 197,
   "id": "5db8e2c7-5b15-4821-ac8b-27eeae06e135",
   "metadata": {},
   "outputs": [
    {
     "name": "stdout",
     "output_type": "stream",
     "text": [
      "Saving TensorBoard log files to: tensorboard_hub_07/07_model_2_1/20230325-090247\n",
      "Epoch 1/20\n"
     ]
    },
    {
     "name": "stderr",
     "output_type": "stream",
     "text": [
      "2023-03-25 09:02:49.321837: I tensorflow/core/grappler/optimizers/custom_graph_optimizer_registry.cc:114] Plugin optimizer for device_type GPU is enabled.\n",
      "2023-03-25 09:02:49.469906: I tensorflow/core/grappler/optimizers/custom_graph_optimizer_registry.cc:114] Plugin optimizer for device_type GPU is enabled.\n",
      "2023-03-25 09:02:49.889047: I tensorflow/core/grappler/optimizers/custom_graph_optimizer_registry.cc:114] Plugin optimizer for device_type GPU is enabled.\n"
     ]
    },
    {
     "name": "stdout",
     "output_type": "stream",
     "text": [
      "215/215 [==============================] - ETA: 0s - loss: 0.5895 - accuracy: 0.6913"
     ]
    },
    {
     "name": "stderr",
     "output_type": "stream",
     "text": [
      "2023-03-25 09:02:55.916290: I tensorflow/core/grappler/optimizers/custom_graph_optimizer_registry.cc:114] Plugin optimizer for device_type GPU is enabled.\n",
      "2023-03-25 09:02:55.991499: I tensorflow/core/grappler/optimizers/custom_graph_optimizer_registry.cc:114] Plugin optimizer for device_type GPU is enabled.\n"
     ]
    },
    {
     "name": "stdout",
     "output_type": "stream",
     "text": [
      "215/215 [==============================] - 9s 30ms/step - loss: 0.5895 - accuracy: 0.6913 - val_loss: 0.5159 - val_accuracy: 0.7493\n",
      "Epoch 2/20\n",
      "215/215 [==============================] - 4s 18ms/step - loss: 0.4638 - accuracy: 0.7993 - val_loss: 0.4991 - val_accuracy: 0.7703\n",
      "Epoch 3/20\n",
      "215/215 [==============================] - 4s 17ms/step - loss: 0.4409 - accuracy: 0.8063 - val_loss: 0.4817 - val_accuracy: 0.7756\n",
      "Epoch 4/20\n",
      "215/215 [==============================] - 4s 19ms/step - loss: 0.4255 - accuracy: 0.8137 - val_loss: 0.4804 - val_accuracy: 0.7756\n",
      "Epoch 5/20\n",
      "215/215 [==============================] - 4s 19ms/step - loss: 0.4139 - accuracy: 0.8219 - val_loss: 0.4756 - val_accuracy: 0.7808\n",
      "Epoch 6/20\n",
      "215/215 [==============================] - 4s 18ms/step - loss: 0.4091 - accuracy: 0.8240 - val_loss: 0.4723 - val_accuracy: 0.7835\n",
      "Epoch 7/20\n",
      "215/215 [==============================] - 4s 18ms/step - loss: 0.4006 - accuracy: 0.8329 - val_loss: 0.4749 - val_accuracy: 0.7822\n",
      "Epoch 8/20\n",
      "215/215 [==============================] - 4s 18ms/step - loss: 0.3934 - accuracy: 0.8358 - val_loss: 0.4798 - val_accuracy: 0.7808\n",
      "Epoch 9/20\n",
      "215/215 [==============================] - 4s 18ms/step - loss: 0.3906 - accuracy: 0.8374 - val_loss: 0.4789 - val_accuracy: 0.7822\n",
      "Epoch 10/20\n",
      "215/215 [==============================] - 4s 18ms/step - loss: 0.3836 - accuracy: 0.8387 - val_loss: 0.4782 - val_accuracy: 0.7835\n",
      "Epoch 11/20\n",
      "215/215 [==============================] - 4s 18ms/step - loss: 0.3765 - accuracy: 0.8451 - val_loss: 0.4842 - val_accuracy: 0.7782\n",
      "Epoch 12/20\n",
      "215/215 [==============================] - 4s 17ms/step - loss: 0.3737 - accuracy: 0.8422 - val_loss: 0.4726 - val_accuracy: 0.7835\n",
      "Epoch 13/20\n",
      "215/215 [==============================] - 4s 17ms/step - loss: 0.3651 - accuracy: 0.8526 - val_loss: 0.4815 - val_accuracy: 0.7835\n",
      "Epoch 14/20\n",
      "215/215 [==============================] - 4s 17ms/step - loss: 0.3637 - accuracy: 0.8511 - val_loss: 0.4823 - val_accuracy: 0.7835\n",
      "Epoch 15/20\n",
      "215/215 [==============================] - 4s 17ms/step - loss: 0.3582 - accuracy: 0.8558 - val_loss: 0.4863 - val_accuracy: 0.7887\n",
      "Epoch 16/20\n",
      "215/215 [==============================] - 4s 17ms/step - loss: 0.3528 - accuracy: 0.8568 - val_loss: 0.4927 - val_accuracy: 0.7822\n",
      "Epoch 17/20\n",
      "215/215 [==============================] - 4s 17ms/step - loss: 0.3485 - accuracy: 0.8612 - val_loss: 0.4961 - val_accuracy: 0.7822\n",
      "Epoch 18/20\n",
      "215/215 [==============================] - 4s 18ms/step - loss: 0.3432 - accuracy: 0.8628 - val_loss: 0.4905 - val_accuracy: 0.7861\n",
      "Epoch 19/20\n",
      "215/215 [==============================] - 4s 18ms/step - loss: 0.3393 - accuracy: 0.8637 - val_loss: 0.5133 - val_accuracy: 0.7874\n",
      "Epoch 20/20\n",
      "215/215 [==============================] - 4s 17ms/step - loss: 0.3340 - accuracy: 0.8699 - val_loss: 0.5048 - val_accuracy: 0.7835\n"
     ]
    }
   ],
   "source": [
    "# Fit the model\n",
    "model_2_1_history = model_2_1.fit(train_text, # input sentences can be a list of strings due to text preprocessing layer built-in model\n",
    "                              train_label,\n",
    "                              epochs=20,\n",
    "                              validation_data=(val_text, val_label),\n",
    "                              callbacks=[create_tensorboard_callback(dir_name=\"tensorboard_hub_07\", \n",
    "                                                                     experiment_name=\"07_model_2_1\")])"
   ]
  },
  {
   "cell_type": "markdown",
   "id": "432af439-abb3-4c4f-b112-6796dd1a80df",
   "metadata": {},
   "source": [
    "## Recurrent neuron network\n",
    "\n",
    "its useful for sequence data\n",
    "\n",
    "\n",
    "it uses feedback from previous into \n",
    "\n",
    "\n",
    "https://deeplearning.mit.edu\n",
    "\n",
    "http://introtodeeplearning.com\n",
    "\n",
    "https://www.youtube.com/watch?v=ySEx_Bqxvvo&list=PLtBw6njQRU-rwp5__7C0oIVt26ZgjG9NI&index=2\n",
    "\n",
    "https://colah.github.io/posts/2015-08-Understanding-LSTMs/\n",
    "\n",
    "http://karpathy.github.io/2015/05/21/rnn-effectiveness/"
   ]
  },
  {
   "cell_type": "markdown",
   "id": "4ecd7777-7a25-476a-b823-1e9853858339",
   "metadata": {},
   "source": [
    "## Model 2 - LSTM RNN"
   ]
  },
  {
   "cell_type": "code",
   "execution_count": 209,
   "id": "949c94e2-4d55-48dc-8ba9-002a42e9767f",
   "metadata": {
    "tags": []
   },
   "outputs": [],
   "source": [
    "embedding = tf.keras.layers.Embedding(\n",
    "    input_dim=max_vocab_length,\n",
    "    output_dim=128, # set /8 when using gpu\n",
    "    embeddings_initializer='uniform',\n",
    "    embeddings_regularizer=None,\n",
    "    activity_regularizer=None,\n",
    "    embeddings_constraint=None,\n",
    "    mask_zero=False,\n",
    "    input_length=max_length\n",
    ")\n",
    "\n",
    "embedding"
   ]
  },
  {
   "cell_type": "code",
   "execution_count": 210,
   "id": "a87d53dc-e8c9-42c4-8b1e-6fe52d1a5ed5",
   "metadata": {
    "tags": []
   },
   "outputs": [
    {
     "name": "stderr",
     "output_type": "stream",
     "text": [
      "2023-03-25 11:11:43.681758: I tensorflow/core/grappler/optimizers/custom_graph_optimizer_registry.cc:114] Plugin optimizer for device_type GPU is enabled.\n"
     ]
    }
   ],
   "source": [
    "textvectorization.adapt(train_text)"
   ]
  },
  {
   "cell_type": "code",
   "execution_count": 220,
   "id": "cc81be47-3916-49fa-a486-a818574b1285",
   "metadata": {},
   "outputs": [],
   "source": [
    "# Build model with the Functional API\n",
    "from tensorflow.keras import layers\n",
    "inputs = layers.Input(shape=(1,), dtype=\"string\") # inputs are 1-dimensional strings\n",
    "x = textvectorization(inputs) # turn the input text into numbers\n",
    "\n",
    "x = embedding(x) # create an embedding of the numerized numbers\n",
    "\n",
    "# when stacking RNN's set return_sequences\n",
    "# x = layers.LSTM(64, return_sequences=True)(x) # input - (None, 15, 128), output - (None, 15, 64) \n",
    "\n",
    "x = layers.LSTM(64)(x) # input - (None, 15, 64), output - (None, 15) \n",
    "# x = layers.Dense(64, activation=\"relu\")(x)\n",
    "\n",
    "\n",
    "outputs = layers.Dense(1, activation=\"sigmoid\")(x) # create the output layer, want binary outputs so use sigmoid activation\n",
    "model_2 = tf.keras.Model(inputs, outputs, name=\"model_2_lstm\") # construct the model"
   ]
  },
  {
   "cell_type": "code",
   "execution_count": 221,
   "id": "c8b0ffab-89ac-4f8b-91eb-b7a2ed25d629",
   "metadata": {},
   "outputs": [
    {
     "name": "stdout",
     "output_type": "stream",
     "text": [
      "Model: \"model_2_lstm\"\n",
      "_________________________________________________________________\n",
      " Layer (type)                Output Shape              Param #   \n",
      "=================================================================\n",
      " input_18 (InputLayer)       [(None, 1)]               0         \n",
      "                                                                 \n",
      " text_vectorization_5 (TextV  (None, 15)               0         \n",
      " ectorization)                                                   \n",
      "                                                                 \n",
      " embedding_2 (Embedding)     (None, 15, 128)           1280000   \n",
      "                                                                 \n",
      " lstm_13 (LSTM)              (None, 64)                49408     \n",
      "                                                                 \n",
      " dense_28 (Dense)            (None, 1)                 65        \n",
      "                                                                 \n",
      "=================================================================\n",
      "Total params: 1,329,473\n",
      "Trainable params: 1,329,473\n",
      "Non-trainable params: 0\n",
      "_________________________________________________________________\n"
     ]
    }
   ],
   "source": [
    "# Compile model\n",
    "model_2.compile(loss=\"binary_crossentropy\",\n",
    "                optimizer=tf.keras.optimizers.Adam(),\n",
    "                metrics=[\"accuracy\"])\n",
    "model_2.summary()"
   ]
  },
  {
   "cell_type": "code",
   "execution_count": 222,
   "id": "c257bd18-6600-4896-ae59-4449d5ddccc5",
   "metadata": {},
   "outputs": [
    {
     "name": "stdout",
     "output_type": "stream",
     "text": [
      "Saving TensorBoard log files to: tensorboard_hub_08/08_model_2/20230325-112124\n",
      "Epoch 1/5\n"
     ]
    },
    {
     "name": "stderr",
     "output_type": "stream",
     "text": [
      "2023-03-25 11:21:25.343083: I tensorflow/core/grappler/optimizers/custom_graph_optimizer_registry.cc:114] Plugin optimizer for device_type GPU is enabled.\n",
      "2023-03-25 11:21:25.515752: I tensorflow/core/grappler/optimizers/custom_graph_optimizer_registry.cc:114] Plugin optimizer for device_type GPU is enabled.\n",
      "2023-03-25 11:21:25.948686: I tensorflow/core/grappler/optimizers/custom_graph_optimizer_registry.cc:114] Plugin optimizer for device_type GPU is enabled.\n"
     ]
    },
    {
     "name": "stdout",
     "output_type": "stream",
     "text": [
      "215/215 [==============================] - ETA: 0s - loss: 0.2366 - accuracy: 0.8980"
     ]
    },
    {
     "name": "stderr",
     "output_type": "stream",
     "text": [
      "2023-03-25 11:21:34.664773: I tensorflow/core/grappler/optimizers/custom_graph_optimizer_registry.cc:114] Plugin optimizer for device_type GPU is enabled.\n",
      "2023-03-25 11:21:34.737850: I tensorflow/core/grappler/optimizers/custom_graph_optimizer_registry.cc:114] Plugin optimizer for device_type GPU is enabled.\n"
     ]
    },
    {
     "name": "stdout",
     "output_type": "stream",
     "text": [
      "215/215 [==============================] - 11s 42ms/step - loss: 0.2366 - accuracy: 0.8980 - val_loss: 0.6348 - val_accuracy: 0.7887\n",
      "Epoch 2/5\n",
      "215/215 [==============================] - 5s 25ms/step - loss: 0.1131 - accuracy: 0.9588 - val_loss: 0.6755 - val_accuracy: 0.7717\n",
      "Epoch 3/5\n",
      "215/215 [==============================] - 5s 24ms/step - loss: 0.0905 - accuracy: 0.9680 - val_loss: 0.8712 - val_accuracy: 0.7756\n",
      "Epoch 4/5\n",
      "215/215 [==============================] - 5s 25ms/step - loss: 0.0786 - accuracy: 0.9721 - val_loss: 0.7429 - val_accuracy: 0.7861\n",
      "Epoch 5/5\n",
      "215/215 [==============================] - 5s 22ms/step - loss: 0.0695 - accuracy: 0.9739 - val_loss: 0.7880 - val_accuracy: 0.7730\n"
     ]
    }
   ],
   "source": [
    "# Fit the model\n",
    "model_2_history = model_2.fit(train_text, # input sentences can be a list of strings due to text preprocessing layer built-in model\n",
    "                              train_label,\n",
    "                              epochs=5,\n",
    "                              validation_data=(val_text, val_label),\n",
    "                              callbacks=[create_tensorboard_callback(dir_name=\"tensorboard_hub_08\", \n",
    "                                                                     experiment_name=\"08_model_2\")])"
   ]
  },
  {
   "cell_type": "code",
   "execution_count": 223,
   "id": "38b839c0-968a-48bb-93e3-d514bd7c457c",
   "metadata": {},
   "outputs": [
    {
     "name": "stderr",
     "output_type": "stream",
     "text": [
      "2023-03-25 11:23:56.854196: I tensorflow/core/grappler/optimizers/custom_graph_optimizer_registry.cc:114] Plugin optimizer for device_type GPU is enabled.\n",
      "2023-03-25 11:23:56.911084: I tensorflow/core/grappler/optimizers/custom_graph_optimizer_registry.cc:114] Plugin optimizer for device_type GPU is enabled.\n"
     ]
    },
    {
     "name": "stdout",
     "output_type": "stream",
     "text": [
      "24/24 [==============================] - 1s 13ms/step\n"
     ]
    },
    {
     "data": {
      "text/plain": [
       "array([[1.6139824e-02],\n",
       "       [9.5087600e-01],\n",
       "       [9.9917400e-01],\n",
       "       [8.1583951e-03],\n",
       "       [4.6778444e-04],\n",
       "       [9.9761760e-01],\n",
       "       [9.9564362e-01],\n",
       "       [9.9967742e-01],\n",
       "       [9.9940693e-01],\n",
       "       [4.5312569e-01]], dtype=float32)"
      ]
     },
     "execution_count": 223,
     "metadata": {},
     "output_type": "execute_result"
    }
   ],
   "source": [
    "model_2_pred_prods = model_2.predict(val_text)\n",
    "model_2_pred_prods[:10]"
   ]
  },
  {
   "cell_type": "markdown",
   "id": "a2c0363c-6ae9-40f6-80c8-36315b9f9f6b",
   "metadata": {},
   "source": [
    "## Model 3 - GRU RNN\n",
    "\n",
    "similar to LSTM, but has less parameter !?\n"
   ]
  },
  {
   "cell_type": "code",
   "execution_count": 225,
   "id": "ee79af92-e299-4dc7-a3d7-93cf6ad5fdd9",
   "metadata": {},
   "outputs": [
    {
     "data": {
      "text/plain": [
       "<keras.layers.core.embedding.Embedding at 0x4136e15e0>"
      ]
     },
     "execution_count": 225,
     "metadata": {},
     "output_type": "execute_result"
    }
   ],
   "source": [
    "embedding = tf.keras.layers.Embedding(\n",
    "    input_dim=max_vocab_length,\n",
    "    output_dim=128, # set /8 when using gpu\n",
    "    embeddings_initializer='uniform',\n",
    "    embeddings_regularizer=None,\n",
    "    activity_regularizer=None,\n",
    "    embeddings_constraint=None,\n",
    "    mask_zero=False,\n",
    "    input_length=max_length\n",
    ")\n",
    "\n",
    "embedding"
   ]
  },
  {
   "cell_type": "code",
   "execution_count": 244,
   "id": "f0eb20a0-b401-4395-904f-fadb6f9651ef",
   "metadata": {},
   "outputs": [],
   "source": [
    "# Build model with the Functional API\n",
    "from tensorflow.keras import layers\n",
    "inputs = layers.Input(shape=(1,), dtype=\"string\") # inputs are 1-dimensional strings\n",
    "x = textvectorization(inputs) # turn the input text into numbers\n",
    "\n",
    "x = embedding(x) # create an embedding of the numerized numbers\n",
    "\n",
    "# x = layers.GRU(64, return_sequences=True)(x)\n",
    "# x = layers.LSTM(64, return_sequences=True)(x)\n",
    "x = layers.GRU(64)(x)\n",
    "# x = layers.Dense(64, activation=\"relu\")(x)\n",
    "\n",
    "outputs = layers.Dense(1, activation=\"sigmoid\")(x) # create the output layer, want binary outputs so use sigmoid activation\n",
    "model_3 = tf.keras.Model(inputs, outputs, name=\"model_3_gru\") # construct the model"
   ]
  },
  {
   "cell_type": "code",
   "execution_count": 245,
   "id": "0434f99c-ec30-4968-af07-e7769ff93386",
   "metadata": {},
   "outputs": [
    {
     "name": "stdout",
     "output_type": "stream",
     "text": [
      "Model: \"model_3_gru\"\n",
      "_________________________________________________________________\n",
      " Layer (type)                Output Shape              Param #   \n",
      "=================================================================\n",
      " input_25 (InputLayer)       [(None, 1)]               0         \n",
      "                                                                 \n",
      " text_vectorization_5 (TextV  (None, 15)               0         \n",
      " ectorization)                                                   \n",
      "                                                                 \n",
      " embedding_5 (Embedding)     (None, 15, 128)           6400000   \n",
      "                                                                 \n",
      " gru_8 (GRU)                 (None, 64)                37248     \n",
      "                                                                 \n",
      " dense_33 (Dense)            (None, 1)                 65        \n",
      "                                                                 \n",
      "=================================================================\n",
      "Total params: 6,437,313\n",
      "Trainable params: 6,437,313\n",
      "Non-trainable params: 0\n",
      "_________________________________________________________________\n"
     ]
    }
   ],
   "source": [
    "# Compile model\n",
    "model_3.compile(loss=\"binary_crossentropy\",\n",
    "                optimizer=tf.keras.optimizers.Adam(),\n",
    "                metrics=[\"accuracy\"])\n",
    "model_3.summary()"
   ]
  },
  {
   "cell_type": "code",
   "execution_count": 242,
   "id": "d050f732-d1f4-4ae7-93eb-eb3fab3db943",
   "metadata": {},
   "outputs": [
    {
     "name": "stdout",
     "output_type": "stream",
     "text": [
      "Saving TensorBoard log files to: tensorboard_hub_08/08_model_3/20230325-113440\n",
      "Epoch 1/5\n"
     ]
    },
    {
     "name": "stderr",
     "output_type": "stream",
     "text": [
      "2023-03-25 11:34:41.327095: I tensorflow/core/grappler/optimizers/custom_graph_optimizer_registry.cc:114] Plugin optimizer for device_type GPU is enabled.\n",
      "2023-03-25 11:34:41.503382: I tensorflow/core/grappler/optimizers/custom_graph_optimizer_registry.cc:114] Plugin optimizer for device_type GPU is enabled.\n",
      "2023-03-25 11:34:41.934499: I tensorflow/core/grappler/optimizers/custom_graph_optimizer_registry.cc:114] Plugin optimizer for device_type GPU is enabled.\n"
     ]
    },
    {
     "name": "stdout",
     "output_type": "stream",
     "text": [
      "215/215 [==============================] - ETA: 0s - loss: 0.0896 - accuracy: 0.9726"
     ]
    },
    {
     "name": "stderr",
     "output_type": "stream",
     "text": [
      "2023-03-25 11:34:51.791846: I tensorflow/core/grappler/optimizers/custom_graph_optimizer_registry.cc:114] Plugin optimizer for device_type GPU is enabled.\n",
      "2023-03-25 11:34:51.869355: I tensorflow/core/grappler/optimizers/custom_graph_optimizer_registry.cc:114] Plugin optimizer for device_type GPU is enabled.\n"
     ]
    },
    {
     "name": "stdout",
     "output_type": "stream",
     "text": [
      "215/215 [==============================] - 12s 48ms/step - loss: 0.0896 - accuracy: 0.9726 - val_loss: 0.9034 - val_accuracy: 0.7454\n",
      "Epoch 2/5\n",
      "215/215 [==============================] - 7s 32ms/step - loss: 0.0237 - accuracy: 0.9911 - val_loss: 0.8766 - val_accuracy: 0.7507\n",
      "Epoch 3/5\n",
      "215/215 [==============================] - 6s 30ms/step - loss: 0.0193 - accuracy: 0.9923 - val_loss: 0.8866 - val_accuracy: 0.7454\n",
      "Epoch 4/5\n",
      "215/215 [==============================] - 6s 29ms/step - loss: 0.0185 - accuracy: 0.9917 - val_loss: 1.2398 - val_accuracy: 0.7559\n",
      "Epoch 5/5\n",
      "215/215 [==============================] - 6s 29ms/step - loss: 0.0201 - accuracy: 0.9918 - val_loss: 1.0237 - val_accuracy: 0.7677\n"
     ]
    }
   ],
   "source": [
    "# Fit the model\n",
    "model_3_history = model_3.fit(train_text, # input sentences can be a list of strings due to text preprocessing layer built-in model\n",
    "                              train_label,\n",
    "                              epochs=5,\n",
    "                              validation_data=(val_text, val_label),\n",
    "                              callbacks=[create_tensorboard_callback(dir_name=\"tensorboard_hub_08\", \n",
    "                                                                     experiment_name=\"08_model_3\")])"
   ]
  },
  {
   "cell_type": "markdown",
   "id": "d5d0bde4-653d-4273-9303-de016ed9765d",
   "metadata": {},
   "source": [
    "## Model 4 - Bidirectional RNN"
   ]
  },
  {
   "cell_type": "code",
   "execution_count": 246,
   "id": "bd53216f-383c-4f21-81eb-99807836d005",
   "metadata": {},
   "outputs": [
    {
     "data": {
      "text/plain": [
       "<keras.layers.core.embedding.Embedding at 0x4aa9698e0>"
      ]
     },
     "execution_count": 246,
     "metadata": {},
     "output_type": "execute_result"
    }
   ],
   "source": [
    "embedding = tf.keras.layers.Embedding(\n",
    "    input_dim=max_vocab_length,\n",
    "    output_dim=128, # set /8 when using gpu\n",
    "    embeddings_initializer='uniform',\n",
    "    embeddings_regularizer=None,\n",
    "    activity_regularizer=None,\n",
    "    embeddings_constraint=None,\n",
    "    mask_zero=False,\n",
    "    input_length=max_length\n",
    ")\n",
    "\n",
    "embedding"
   ]
  },
  {
   "cell_type": "code",
   "execution_count": 268,
   "id": "db5c22af-e9d2-4c67-95eb-db410e4c0fc5",
   "metadata": {},
   "outputs": [],
   "source": [
    "# Build model with the Functional API\n",
    "from tensorflow.keras import layers\n",
    "inputs = layers.Input(shape=(1,), dtype=\"string\") # inputs are 1-dimensional strings\n",
    "x = textvectorization(inputs) # turn the input text into numbers\n",
    "\n",
    "x = embedding(x) # create an embedding of the numerized numbers\n",
    "\n",
    "forward_layer = layers.LSTM(64\n",
    "                           # , return_sequences=True\n",
    "                           )\n",
    "# backward_layer = layers.LSTM(64, activation='relu', return_sequences=True,\n",
    "#                       go_backwards=True)\n",
    "\n",
    "\n",
    "x = layers.Bidirectional(forward_layer)(x)\n",
    "\n",
    "# x = layers.Dense(15)(x)\n",
    "\n",
    "outputs = layers.Dense(1, activation=\"sigmoid\")(x) # create the output layer, want binary outputs so use sigmoid activation\n",
    "model_4 = tf.keras.Model(inputs, outputs, name=\"model_4_bi\") # construct the model"
   ]
  },
  {
   "cell_type": "code",
   "execution_count": 270,
   "id": "3ac5e748-2f8f-45ce-97e0-7c6d2724cb80",
   "metadata": {},
   "outputs": [
    {
     "name": "stdout",
     "output_type": "stream",
     "text": [
      "Model: \"model_4_bi\"\n",
      "_________________________________________________________________\n",
      " Layer (type)                Output Shape              Param #   \n",
      "=================================================================\n",
      " input_40 (InputLayer)       [(None, 1)]               0         \n",
      "                                                                 \n",
      " text_vectorization_5 (TextV  (None, 15)               0         \n",
      " ectorization)                                                   \n",
      "                                                                 \n",
      " embedding_6 (Embedding)     (None, 15, 128)           6400000   \n",
      "                                                                 \n",
      " bidirectional_11 (Bidirecti  (None, 128)              98816     \n",
      " onal)                                                           \n",
      "                                                                 \n",
      " dense_46 (Dense)            (None, 1)                 129       \n",
      "                                                                 \n",
      "=================================================================\n",
      "Total params: 6,498,945\n",
      "Trainable params: 6,498,945\n",
      "Non-trainable params: 0\n",
      "_________________________________________________________________\n"
     ]
    }
   ],
   "source": [
    "# Compile model\n",
    "model_4.compile(loss=\"binary_crossentropy\",\n",
    "                optimizer=tf.keras.optimizers.Adam(),\n",
    "                metrics=[\"accuracy\"])\n",
    "model_4.summary()"
   ]
  },
  {
   "cell_type": "code",
   "execution_count": 271,
   "id": "472955cf-9440-4418-af2a-1f5d698bf0e9",
   "metadata": {},
   "outputs": [
    {
     "name": "stdout",
     "output_type": "stream",
     "text": [
      "Saving TensorBoard log files to: tensorboard_hub_08/08_model_4/20230325-115252\n",
      "Epoch 1/5\n"
     ]
    },
    {
     "name": "stderr",
     "output_type": "stream",
     "text": [
      "2023-03-25 11:52:54.196087: I tensorflow/core/grappler/optimizers/custom_graph_optimizer_registry.cc:114] Plugin optimizer for device_type GPU is enabled.\n",
      "2023-03-25 11:52:54.473250: I tensorflow/core/grappler/optimizers/custom_graph_optimizer_registry.cc:114] Plugin optimizer for device_type GPU is enabled.\n",
      "2023-03-25 11:52:54.489773: I tensorflow/core/grappler/optimizers/custom_graph_optimizer_registry.cc:114] Plugin optimizer for device_type GPU is enabled.\n",
      "2023-03-25 11:52:55.030953: I tensorflow/core/grappler/optimizers/custom_graph_optimizer_registry.cc:114] Plugin optimizer for device_type GPU is enabled.\n",
      "2023-03-25 11:52:55.052171: I tensorflow/core/grappler/optimizers/custom_graph_optimizer_registry.cc:114] Plugin optimizer for device_type GPU is enabled.\n"
     ]
    },
    {
     "name": "stdout",
     "output_type": "stream",
     "text": [
      "215/215 [==============================] - ETA: 0s - loss: 0.5081 - accuracy: 0.7475"
     ]
    },
    {
     "name": "stderr",
     "output_type": "stream",
     "text": [
      "2023-03-25 11:53:09.246613: I tensorflow/core/grappler/optimizers/custom_graph_optimizer_registry.cc:114] Plugin optimizer for device_type GPU is enabled.\n",
      "2023-03-25 11:53:09.356803: I tensorflow/core/grappler/optimizers/custom_graph_optimizer_registry.cc:114] Plugin optimizer for device_type GPU is enabled.\n",
      "2023-03-25 11:53:09.368298: I tensorflow/core/grappler/optimizers/custom_graph_optimizer_registry.cc:114] Plugin optimizer for device_type GPU is enabled.\n"
     ]
    },
    {
     "name": "stdout",
     "output_type": "stream",
     "text": [
      "215/215 [==============================] - 18s 68ms/step - loss: 0.5081 - accuracy: 0.7475 - val_loss: 0.4657 - val_accuracy: 0.7730\n",
      "Epoch 2/5\n",
      "215/215 [==============================] - 9s 44ms/step - loss: 0.2464 - accuracy: 0.9024 - val_loss: 0.5276 - val_accuracy: 0.7887\n",
      "Epoch 3/5\n",
      "215/215 [==============================] - 9s 42ms/step - loss: 0.1126 - accuracy: 0.9603 - val_loss: 0.6831 - val_accuracy: 0.7677\n",
      "Epoch 4/5\n",
      "215/215 [==============================] - 9s 40ms/step - loss: 0.0592 - accuracy: 0.9834 - val_loss: 0.9481 - val_accuracy: 0.7808\n",
      "Epoch 5/5\n",
      "215/215 [==============================] - 9s 41ms/step - loss: 0.0434 - accuracy: 0.9874 - val_loss: 0.7594 - val_accuracy: 0.7690\n"
     ]
    }
   ],
   "source": [
    "# Fit the model\n",
    "model_4_history = model_4.fit(train_text, # input sentences can be a list of strings due to text preprocessing layer built-in model\n",
    "                              train_label,\n",
    "                              epochs=5,\n",
    "                              validation_data=(val_text, val_label),\n",
    "                              callbacks=[create_tensorboard_callback(dir_name=\"tensorboard_hub_08\", \n",
    "                                                                     experiment_name=\"08_model_4\")])"
   ]
  },
  {
   "cell_type": "markdown",
   "id": "c9c6276b-7acd-4588-86b1-5e61d2bb1bc5",
   "metadata": {},
   "source": [
    "## Model 5 - 1D CNN"
   ]
  },
  {
   "cell_type": "code",
   "execution_count": 272,
   "id": "4958a5fc-14be-4487-896c-c7ab2aa8ea93",
   "metadata": {},
   "outputs": [
    {
     "data": {
      "text/plain": [
       "<keras.layers.core.embedding.Embedding at 0x49b6a5c10>"
      ]
     },
     "execution_count": 272,
     "metadata": {},
     "output_type": "execute_result"
    }
   ],
   "source": [
    "embedding = tf.keras.layers.Embedding(\n",
    "    input_dim=max_vocab_length,\n",
    "    output_dim=128, # set /8 when using gpu\n",
    "    embeddings_initializer='uniform',\n",
    "    embeddings_regularizer=None,\n",
    "    activity_regularizer=None,\n",
    "    embeddings_constraint=None,\n",
    "    mask_zero=False,\n",
    "    input_length=max_length\n",
    ")\n",
    "\n",
    "embedding"
   ]
  },
  {
   "cell_type": "code",
   "execution_count": 342,
   "id": "4f7bc9ee-d045-46c5-ab2e-aa31b199bd03",
   "metadata": {},
   "outputs": [],
   "source": [
    "# Build model with the Functional API\n",
    "from tensorflow.keras import layers\n",
    "inputs = layers.Input(shape=(1,), dtype=\"string\") # inputs are 1-dimensional strings\n",
    "x = textvectorization(inputs) # turn the input text into numbers\n",
    "\n",
    "x = embedding(x) # create an embedding of the numerized numbers\n",
    "\n",
    "x =  layers.Conv1D(64,5, activation='relu' )(x)\n",
    "\n",
    "x = layers.GlobalMaxPool1D()(x)\n",
    "\n",
    "outputs = layers.Dense(1, activation=\"sigmoid\")(x) # create the output layer, want binary outputs so use sigmoid activation\n",
    "model_5 = tf.keras.Model(inputs, outputs, name=\"model_5_conv1d\") # construct the model"
   ]
  },
  {
   "cell_type": "code",
   "execution_count": 343,
   "id": "4ca1070b-ba51-4717-8596-410a4bfadfd1",
   "metadata": {},
   "outputs": [
    {
     "name": "stdout",
     "output_type": "stream",
     "text": [
      "Model: \"model_5_conv1d\"\n",
      "_________________________________________________________________\n",
      " Layer (type)                Output Shape              Param #   \n",
      "=================================================================\n",
      " input_75 (InputLayer)       [(None, 1)]               0         \n",
      "                                                                 \n",
      " text_vectorization_5 (TextV  (None, 15)               0         \n",
      " ectorization)                                                   \n",
      "                                                                 \n",
      " embedding_7 (Embedding)     (None, 15, 128)           6400000   \n",
      "                                                                 \n",
      " conv1d_32 (Conv1D)          (None, 11, 64)            41024     \n",
      "                                                                 \n",
      " global_max_pooling1d_8 (Glo  (None, 64)               0         \n",
      " balMaxPooling1D)                                                \n",
      "                                                                 \n",
      " dense_75 (Dense)            (None, 1)                 65        \n",
      "                                                                 \n",
      "=================================================================\n",
      "Total params: 6,441,089\n",
      "Trainable params: 6,441,089\n",
      "Non-trainable params: 0\n",
      "_________________________________________________________________\n"
     ]
    }
   ],
   "source": [
    "# Compile model\n",
    "model_5.compile(loss=\"binary_crossentropy\",\n",
    "                optimizer=tf.keras.optimizers.Adam(),\n",
    "                metrics=[\"accuracy\"])\n",
    "model_5.summary()"
   ]
  },
  {
   "cell_type": "code",
   "execution_count": 344,
   "id": "49af9348-2eaf-45c8-8472-912751d28e1e",
   "metadata": {},
   "outputs": [
    {
     "name": "stdout",
     "output_type": "stream",
     "text": [
      "Saving TensorBoard log files to: tensorboard_hub_08/08_model_5/20230326-074229\n",
      "Epoch 1/5\n"
     ]
    },
    {
     "name": "stderr",
     "output_type": "stream",
     "text": [
      "2023-03-26 07:42:31.604407: I tensorflow/core/grappler/optimizers/custom_graph_optimizer_registry.cc:114] Plugin optimizer for device_type GPU is enabled.\n"
     ]
    },
    {
     "name": "stdout",
     "output_type": "stream",
     "text": [
      "215/215 [==============================] - ETA: 0s - loss: 0.0547 - accuracy: 0.9869"
     ]
    },
    {
     "name": "stderr",
     "output_type": "stream",
     "text": [
      "2023-03-26 07:42:42.219533: I tensorflow/core/grappler/optimizers/custom_graph_optimizer_registry.cc:114] Plugin optimizer for device_type GPU is enabled.\n"
     ]
    },
    {
     "name": "stdout",
     "output_type": "stream",
     "text": [
      "215/215 [==============================] - 12s 49ms/step - loss: 0.0547 - accuracy: 0.9869 - val_loss: 0.8187 - val_accuracy: 0.7690\n",
      "Epoch 2/5\n",
      "215/215 [==============================] - 6s 27ms/step - loss: 0.0175 - accuracy: 0.9924 - val_loss: 0.8721 - val_accuracy: 0.7769\n",
      "Epoch 3/5\n",
      "215/215 [==============================] - 5s 24ms/step - loss: 0.0163 - accuracy: 0.9931 - val_loss: 0.8820 - val_accuracy: 0.7677\n",
      "Epoch 4/5\n",
      "215/215 [==============================] - 5s 24ms/step - loss: 0.0163 - accuracy: 0.9918 - val_loss: 0.9268 - val_accuracy: 0.7598\n",
      "Epoch 5/5\n",
      "215/215 [==============================] - 5s 24ms/step - loss: 0.0153 - accuracy: 0.9920 - val_loss: 0.9312 - val_accuracy: 0.7769\n"
     ]
    }
   ],
   "source": [
    "# Fit the model\n",
    "model_5_history = model_5.fit(train_text, # input sentences can be a list of strings due to text preprocessing layer built-in model\n",
    "                              train_label,\n",
    "                              epochs=5,\n",
    "                              validation_data=(val_text, val_label),\n",
    "                              callbacks=[create_tensorboard_callback(dir_name=\"tensorboard_hub_08\", \n",
    "                                                                     experiment_name=\"08_model_5\")])"
   ]
  },
  {
   "cell_type": "markdown",
   "id": "81838674-a1ad-4137-9cf5-497d170813c7",
   "metadata": {},
   "source": [
    "## Model 6 - pretrained embedding glove 1D CNN"
   ]
  },
  {
   "cell_type": "code",
   "execution_count": 346,
   "id": "5cc7671f-9254-4e8c-a9a9-d0b0fb5e1dcb",
   "metadata": {},
   "outputs": [],
   "source": [
    "# using prebuilt_embedding_layer glove"
   ]
  },
  {
   "cell_type": "code",
   "execution_count": 347,
   "id": "ed151077-ab4d-48ec-b037-aa51b9037efe",
   "metadata": {},
   "outputs": [],
   "source": [
    "# Build model with the Functional API\n",
    "from tensorflow.keras import layers\n",
    "inputs = layers.Input(shape=(1,), dtype=\"string\") # inputs are 1-dimensional strings\n",
    "x = textvectorization(inputs) # turn the input text into numbers\n",
    "\n",
    "x = prebuilt_embedding_layer(x) # create an embedding of the numerized numbers\n",
    "\n",
    "x =  layers.Conv1D(64,5, activation='relu' )(x)\n",
    "\n",
    "x = layers.GlobalMaxPool1D()(x)\n",
    "\n",
    "outputs = layers.Dense(1, activation=\"sigmoid\")(x) # create the output layer, want binary outputs so use sigmoid activation\n",
    "model_6_1 = tf.keras.Model(inputs, outputs, name=\"model_6_1_conv1d\") # construct the model"
   ]
  },
  {
   "cell_type": "code",
   "execution_count": 348,
   "id": "97156dd9-347c-4fcf-9c48-3798f1c4be45",
   "metadata": {},
   "outputs": [
    {
     "name": "stdout",
     "output_type": "stream",
     "text": [
      "Model: \"model_5_conv1d\"\n",
      "_________________________________________________________________\n",
      " Layer (type)                Output Shape              Param #   \n",
      "=================================================================\n",
      " input_76 (InputLayer)       [(None, 1)]               0         \n",
      "                                                                 \n",
      " text_vectorization_5 (TextV  (None, 15)               0         \n",
      " ectorization)                                                   \n",
      "                                                                 \n",
      " embedding_3 (Embedding)     (None, 15, 100)           2105800   \n",
      "                                                                 \n",
      " conv1d_33 (Conv1D)          (None, 11, 64)            32064     \n",
      "                                                                 \n",
      " global_max_pooling1d_9 (Glo  (None, 64)               0         \n",
      " balMaxPooling1D)                                                \n",
      "                                                                 \n",
      " dense_76 (Dense)            (None, 1)                 65        \n",
      "                                                                 \n",
      "=================================================================\n",
      "Total params: 2,137,929\n",
      "Trainable params: 32,129\n",
      "Non-trainable params: 2,105,800\n",
      "_________________________________________________________________\n"
     ]
    }
   ],
   "source": [
    "# Compile model\n",
    "model_6_1.compile(loss=\"binary_crossentropy\",\n",
    "                optimizer=tf.keras.optimizers.Adam(),\n",
    "                metrics=[\"accuracy\"])\n",
    "model_6_1.summary()"
   ]
  },
  {
   "cell_type": "code",
   "execution_count": 349,
   "id": "e2533c20-167c-454c-ab81-a764b2ce676b",
   "metadata": {},
   "outputs": [
    {
     "name": "stdout",
     "output_type": "stream",
     "text": [
      "Saving TensorBoard log files to: tensorboard_hub_08/08_model_6_1/20230326-074652\n",
      "Epoch 1/5\n"
     ]
    },
    {
     "name": "stderr",
     "output_type": "stream",
     "text": [
      "2023-03-26 07:46:53.919750: I tensorflow/core/grappler/optimizers/custom_graph_optimizer_registry.cc:114] Plugin optimizer for device_type GPU is enabled.\n"
     ]
    },
    {
     "name": "stdout",
     "output_type": "stream",
     "text": [
      "215/215 [==============================] - ETA: 0s - loss: 0.4843 - accuracy: 0.7761"
     ]
    },
    {
     "name": "stderr",
     "output_type": "stream",
     "text": [
      "2023-03-26 07:46:58.352152: I tensorflow/core/grappler/optimizers/custom_graph_optimizer_registry.cc:114] Plugin optimizer for device_type GPU is enabled.\n"
     ]
    },
    {
     "name": "stdout",
     "output_type": "stream",
     "text": [
      "215/215 [==============================] - 6s 20ms/step - loss: 0.4843 - accuracy: 0.7761 - val_loss: 0.4702 - val_accuracy: 0.7822\n",
      "Epoch 2/5\n",
      "215/215 [==============================] - 2s 10ms/step - loss: 0.3927 - accuracy: 0.8339 - val_loss: 0.4763 - val_accuracy: 0.7913\n",
      "Epoch 3/5\n",
      "215/215 [==============================] - 2s 11ms/step - loss: 0.3435 - accuracy: 0.8584 - val_loss: 0.4579 - val_accuracy: 0.7874\n",
      "Epoch 4/5\n",
      "215/215 [==============================] - 2s 10ms/step - loss: 0.2979 - accuracy: 0.8847 - val_loss: 0.4681 - val_accuracy: 0.7848\n",
      "Epoch 5/5\n",
      "215/215 [==============================] - 2s 11ms/step - loss: 0.2610 - accuracy: 0.9044 - val_loss: 0.5132 - val_accuracy: 0.7874\n"
     ]
    }
   ],
   "source": [
    "# Fit the model\n",
    "model_6_1_history = model_6_1.fit(train_text, # input sentences can be a list of strings due to text preprocessing layer built-in model\n",
    "                              train_label,\n",
    "                              epochs=5,\n",
    "                              validation_data=(val_text, val_label),\n",
    "                              callbacks=[create_tensorboard_callback(dir_name=\"tensorboard_hub_08\", \n",
    "                                                                     experiment_name=\"08_model_6_1\")])"
   ]
  },
  {
   "cell_type": "markdown",
   "id": "85a9df2c-a7c8-4ee5-b314-81349cf2fe49",
   "metadata": {},
   "source": [
    "## Model 6 - pretrained embedding USE 1D CNN"
   ]
  },
  {
   "cell_type": "code",
   "execution_count": 351,
   "id": "c00c9222-bf94-460a-ba9b-dea9e8984b15",
   "metadata": {},
   "outputs": [
    {
     "name": "stderr",
     "output_type": "stream",
     "text": [
      "2023-03-26 07:58:13.632648: I tensorflow/core/grappler/optimizers/custom_graph_optimizer_registry.cc:114] Plugin optimizer for device_type GPU is enabled.\n",
      "2023-03-26 07:58:14.530378: I tensorflow/core/grappler/optimizers/custom_graph_optimizer_registry.cc:114] Plugin optimizer for device_type GPU is enabled.\n"
     ]
    }
   ],
   "source": [
    "import tensorflow_hub as hub\n",
    "\n",
    "USE_embedding_layer = hub.load(\"https://tfhub.dev/google/universal-sentence-encoder/4\")\n",
    "embeddings = USE_embedding_layer([\n",
    "    \"The quick brown fox jumps over the lazy dog.\",\n",
    "    \"I am a sentence for which I would like to get its embedding\"])"
   ]
  },
  {
   "cell_type": "code",
   "execution_count": 353,
   "id": "a614f9d3-1a34-4358-80c4-68593b739133",
   "metadata": {},
   "outputs": [
    {
     "data": {
      "text/plain": [
       "<tf.Tensor: shape=(2, 512), dtype=float32, numpy=\n",
       "array([[-0.03133017, -0.06338633, -0.01607502, ..., -0.0324278 ,\n",
       "        -0.04575741,  0.05370455],\n",
       "       [ 0.05080861, -0.01652432,  0.01573779, ...,  0.00976656,\n",
       "         0.0317012 ,  0.01788118]], dtype=float32)>"
      ]
     },
     "execution_count": 353,
     "metadata": {},
     "output_type": "execute_result"
    }
   ],
   "source": [
    "embeddings"
   ]
  },
  {
   "cell_type": "code",
   "execution_count": 356,
   "id": "86158aed-58e1-466f-b96e-400238dc7840",
   "metadata": {},
   "outputs": [
    {
     "name": "stderr",
     "output_type": "stream",
     "text": [
      "2023-03-26 08:08:03.041758: I tensorflow/core/grappler/optimizers/custom_graph_optimizer_registry.cc:114] Plugin optimizer for device_type GPU is enabled.\n"
     ]
    }
   ],
   "source": [
    "sentence_encoder_layer = hub.KerasLayer(\"https://tfhub.dev/google/universal-sentence-encoder/4\", input_shape=[],\n",
    "                                       output_shape=[512], dtype=\"string\", trainable=False, name=\"USE\")"
   ]
  },
  {
   "cell_type": "code",
   "execution_count": 371,
   "id": "439cffbd-7730-4294-86c7-4212b0d3ae73",
   "metadata": {},
   "outputs": [],
   "source": [
    "# Build model with the Functional API\n",
    "from tensorflow.keras import layers\n",
    "from tensorflow.keras import Sequential\n",
    "\n",
    "model_6 = Sequential([\n",
    "    sentence_encoder_layer,\n",
    "    layers.Dense(54, activation=\"relu\"),\n",
    "    layers.Dense(1, activation=\"sigmoid\")\n",
    "])\n",
    "\n"
   ]
  },
  {
   "cell_type": "code",
   "execution_count": 372,
   "id": "d9938d76-6fed-404e-9c00-e3b813ad8862",
   "metadata": {},
   "outputs": [
    {
     "name": "stdout",
     "output_type": "stream",
     "text": [
      "Model: \"sequential_11\"\n",
      "_________________________________________________________________\n",
      " Layer (type)                Output Shape              Param #   \n",
      "=================================================================\n",
      " USE (KerasLayer)            (None, 512)               256797824 \n",
      "                                                                 \n",
      " dense_82 (Dense)            (None, 54)                27702     \n",
      "                                                                 \n",
      " dense_83 (Dense)            (None, 1)                 55        \n",
      "                                                                 \n",
      "=================================================================\n",
      "Total params: 256,825,581\n",
      "Trainable params: 27,757\n",
      "Non-trainable params: 256,797,824\n",
      "_________________________________________________________________\n"
     ]
    }
   ],
   "source": [
    "# Compile model\n",
    "model_6.compile(loss=\"binary_crossentropy\",\n",
    "                optimizer=tf.keras.optimizers.Adam(),\n",
    "                metrics=[\"accuracy\"])\n",
    "model_6.summary()"
   ]
  },
  {
   "cell_type": "code",
   "execution_count": 373,
   "id": "808ea00f-dd94-451c-b4b0-6e4234dacc02",
   "metadata": {},
   "outputs": [
    {
     "name": "stdout",
     "output_type": "stream",
     "text": [
      "Saving TensorBoard log files to: tensorboard_hub_08/08_model_6/20230326-081509\n",
      "Epoch 1/5\n"
     ]
    },
    {
     "name": "stderr",
     "output_type": "stream",
     "text": [
      "2023-03-26 08:15:10.079629: I tensorflow/core/grappler/optimizers/custom_graph_optimizer_registry.cc:114] Plugin optimizer for device_type GPU is enabled.\n"
     ]
    },
    {
     "name": "stdout",
     "output_type": "stream",
     "text": [
      "215/215 [==============================] - ETA: 0s - loss: 0.5124 - accuracy: 0.7786"
     ]
    },
    {
     "name": "stderr",
     "output_type": "stream",
     "text": [
      "2023-03-26 08:15:39.936242: I tensorflow/core/grappler/optimizers/custom_graph_optimizer_registry.cc:114] Plugin optimizer for device_type GPU is enabled.\n"
     ]
    },
    {
     "name": "stdout",
     "output_type": "stream",
     "text": [
      "215/215 [==============================] - 38s 164ms/step - loss: 0.5124 - accuracy: 0.7786 - val_loss: 0.4483 - val_accuracy: 0.7966\n",
      "Epoch 2/5\n",
      "215/215 [==============================] - 20s 94ms/step - loss: 0.4163 - accuracy: 0.8127 - val_loss: 0.4368 - val_accuracy: 0.8163\n",
      "Epoch 3/5\n",
      "215/215 [==============================] - 19s 86ms/step - loss: 0.4023 - accuracy: 0.8216 - val_loss: 0.4341 - val_accuracy: 0.8136\n",
      "Epoch 4/5\n",
      "215/215 [==============================] - 19s 90ms/step - loss: 0.3938 - accuracy: 0.8270 - val_loss: 0.4316 - val_accuracy: 0.8123\n",
      "Epoch 5/5\n",
      "215/215 [==============================] - 19s 89ms/step - loss: 0.3875 - accuracy: 0.8273 - val_loss: 0.4335 - val_accuracy: 0.8150\n"
     ]
    }
   ],
   "source": [
    "# Fit the model\n",
    "model_6_history = model_6.fit(train_text, # input sentences can be a list of strings due to text preprocessing layer built-in model\n",
    "                              train_label,\n",
    "                              epochs=5,\n",
    "                              validation_data=(val_text, val_label),\n",
    "                              callbacks=[create_tensorboard_callback(dir_name=\"tensorboard_hub_08\", \n",
    "                                                                     experiment_name=\"08_model_6\")])"
   ]
  },
  {
   "cell_type": "code",
   "execution_count": 369,
   "id": "19d19c91-22f0-4f48-bad5-faa00efeb92c",
   "metadata": {},
   "outputs": [
    {
     "data": {
      "text/plain": [
       "0.7926509186351706"
      ]
     },
     "execution_count": 369,
     "metadata": {},
     "output_type": "execute_result"
    }
   ],
   "source": [
    "baseline_score"
   ]
  },
  {
   "cell_type": "code",
   "execution_count": 374,
   "id": "5961576f-62f9-46d9-9e8a-4f23b97ce1ac",
   "metadata": {},
   "outputs": [
    {
     "name": "stdout",
     "output_type": "stream",
     "text": [
      "Model: \"sequential_12\"\n",
      "_________________________________________________________________\n",
      " Layer (type)                Output Shape              Param #   \n",
      "=================================================================\n",
      " USE (KerasLayer)            (None, 512)               256797824 \n",
      "                                                                 \n",
      " dense_84 (Dense)            (None, 128)               65664     \n",
      "                                                                 \n",
      " dense_85 (Dense)            (None, 1)                 129       \n",
      "                                                                 \n",
      "=================================================================\n",
      "Total params: 256,863,617\n",
      "Trainable params: 65,793\n",
      "Non-trainable params: 256,797,824\n",
      "_________________________________________________________________\n",
      "Saving TensorBoard log files to: tensorboard_hub_08/08_model_6_2/20230326-081922\n",
      "Epoch 1/5\n"
     ]
    },
    {
     "name": "stderr",
     "output_type": "stream",
     "text": [
      "2023-03-26 08:19:23.319123: I tensorflow/core/grappler/optimizers/custom_graph_optimizer_registry.cc:114] Plugin optimizer for device_type GPU is enabled.\n"
     ]
    },
    {
     "name": "stdout",
     "output_type": "stream",
     "text": [
      "215/215 [==============================] - ETA: 0s - loss: 0.4854 - accuracy: 0.7867"
     ]
    },
    {
     "name": "stderr",
     "output_type": "stream",
     "text": [
      "2023-03-26 08:20:07.280476: I tensorflow/core/grappler/optimizers/custom_graph_optimizer_registry.cc:114] Plugin optimizer for device_type GPU is enabled.\n"
     ]
    },
    {
     "name": "stdout",
     "output_type": "stream",
     "text": [
      "215/215 [==============================] - 55s 239ms/step - loss: 0.4854 - accuracy: 0.7867 - val_loss: 0.4478 - val_accuracy: 0.8018\n",
      "Epoch 2/5\n",
      "215/215 [==============================] - 29s 134ms/step - loss: 0.4100 - accuracy: 0.8194 - val_loss: 0.4392 - val_accuracy: 0.8097\n",
      "Epoch 3/5\n",
      "215/215 [==============================] - 25s 115ms/step - loss: 0.3942 - accuracy: 0.8264 - val_loss: 0.4305 - val_accuracy: 0.8163\n",
      "Epoch 4/5\n",
      "215/215 [==============================] - 23s 109ms/step - loss: 0.3845 - accuracy: 0.8314 - val_loss: 0.4254 - val_accuracy: 0.8189\n",
      "Epoch 5/5\n",
      "215/215 [==============================] - 22s 101ms/step - loss: 0.3750 - accuracy: 0.8342 - val_loss: 0.4226 - val_accuracy: 0.8215\n"
     ]
    }
   ],
   "source": [
    "# Build model with the Functional API\n",
    "from tensorflow.keras import layers\n",
    "from tensorflow.keras import Sequential\n",
    "\n",
    "model_6_2 = Sequential([\n",
    "    sentence_encoder_layer,\n",
    "    layers.Dense(128, activation=\"relu\"),\n",
    "    layers.Dense(1, activation=\"sigmoid\")\n",
    "])\n",
    "\n",
    "# Compile model\n",
    "model_6_2.compile(loss=\"binary_crossentropy\",\n",
    "                optimizer=tf.keras.optimizers.Adam(),\n",
    "                metrics=[\"accuracy\"])\n",
    "model_6_2.summary()\n",
    "\n",
    "# Fit the model\n",
    "model_6_2_history = model_6_2.fit(train_text, # input sentences can be a list of strings due to text preprocessing layer built-in model\n",
    "                              train_label,\n",
    "                              epochs=5,\n",
    "                              validation_data=(val_text, val_label),\n",
    "                              callbacks=[create_tensorboard_callback(dir_name=\"tensorboard_hub_08\", \n",
    "                                                                     experiment_name=\"08_model_6_2\")])"
   ]
  },
  {
   "cell_type": "code",
   "execution_count": 393,
   "id": "e76ec8a7-dbf6-4df5-8acc-46133e886b4b",
   "metadata": {},
   "outputs": [],
   "source": [
    "model_6_2.save_weights(\"08_model_6_2\")"
   ]
  },
  {
   "cell_type": "markdown",
   "id": "e6370f49-4c47-413b-ad47-ff4a0c92b913",
   "metadata": {},
   "source": [
    "## Model 7 - 10% using USE"
   ]
  },
  {
   "cell_type": "code",
   "execution_count": 375,
   "id": "3944cbff-4cf7-4de9-bb92-f3376296280a",
   "metadata": {},
   "outputs": [],
   "source": [
    "from sklearn.model_selection import train_test_split\n",
    "\n",
    "train_90_text, train_10_text, train_90_label, train_10_label = train_test_split(train_text,\n",
    "                                train_label, test_size=.1111, random_state=42)"
   ]
  },
  {
   "cell_type": "code",
   "execution_count": 376,
   "id": "4dbfe9b5-d866-4fc4-85d0-e73c230c2c2b",
   "metadata": {},
   "outputs": [
    {
     "name": "stdout",
     "output_type": "stream",
     "text": [
      "Model: \"sequential_13\"\n",
      "_________________________________________________________________\n",
      " Layer (type)                Output Shape              Param #   \n",
      "=================================================================\n",
      " USE (KerasLayer)            (None, 512)               256797824 \n",
      "                                                                 \n",
      " dense_86 (Dense)            (None, 128)               65664     \n",
      "                                                                 \n",
      " dense_87 (Dense)            (None, 1)                 129       \n",
      "                                                                 \n",
      "=================================================================\n",
      "Total params: 256,863,617\n",
      "Trainable params: 65,793\n",
      "Non-trainable params: 256,797,824\n",
      "_________________________________________________________________\n",
      "Saving TensorBoard log files to: tensorboard_hub_08/08_model_7/20230326-082448\n",
      "Epoch 1/5\n"
     ]
    },
    {
     "name": "stderr",
     "output_type": "stream",
     "text": [
      "2023-03-26 08:24:48.516673: I tensorflow/core/grappler/optimizers/custom_graph_optimizer_registry.cc:114] Plugin optimizer for device_type GPU is enabled.\n"
     ]
    },
    {
     "name": "stdout",
     "output_type": "stream",
     "text": [
      "24/24 [==============================] - ETA: 0s - loss: 0.6512 - accuracy: 0.6850"
     ]
    },
    {
     "name": "stderr",
     "output_type": "stream",
     "text": [
      "2023-03-26 08:25:02.381726: I tensorflow/core/grappler/optimizers/custom_graph_optimizer_registry.cc:114] Plugin optimizer for device_type GPU is enabled.\n"
     ]
    },
    {
     "name": "stdout",
     "output_type": "stream",
     "text": [
      "24/24 [==============================] - 26s 996ms/step - loss: 0.6512 - accuracy: 0.6850 - val_loss: 0.6211 - val_accuracy: 0.7205\n",
      "Epoch 2/5\n",
      "24/24 [==============================] - 11s 471ms/step - loss: 0.5433 - accuracy: 0.8097 - val_loss: 0.5391 - val_accuracy: 0.7690\n",
      "Epoch 3/5\n",
      "24/24 [==============================] - 9s 382ms/step - loss: 0.4525 - accuracy: 0.8294 - val_loss: 0.4938 - val_accuracy: 0.7769\n",
      "Epoch 4/5\n",
      "24/24 [==============================] - 7s 313ms/step - loss: 0.3962 - accuracy: 0.8294 - val_loss: 0.4798 - val_accuracy: 0.7795\n",
      "Epoch 5/5\n",
      "24/24 [==============================] - 7s 293ms/step - loss: 0.3633 - accuracy: 0.8373 - val_loss: 0.4775 - val_accuracy: 0.7808\n"
     ]
    }
   ],
   "source": [
    "# Build model with the Functional API\n",
    "from tensorflow.keras import layers\n",
    "from tensorflow.keras import Sequential\n",
    "\n",
    "model_7 = Sequential([\n",
    "    sentence_encoder_layer,\n",
    "    layers.Dense(128, activation=\"relu\"),\n",
    "    layers.Dense(1, activation=\"sigmoid\")\n",
    "])\n",
    "\n",
    "# Compile model\n",
    "model_7.compile(loss=\"binary_crossentropy\",\n",
    "                optimizer=tf.keras.optimizers.Adam(),\n",
    "                metrics=[\"accuracy\"])\n",
    "model_7.summary()\n",
    "\n",
    "# Fit the model\n",
    "model_7_history = model_7.fit(train_10_text, # input sentences can be a list of strings due to text preprocessing layer built-in model\n",
    "                              train_10_label,\n",
    "                              epochs=5,\n",
    "                              validation_data=(val_text, val_label),\n",
    "                              callbacks=[create_tensorboard_callback(dir_name=\"tensorboard_hub_08\", \n",
    "                                                                     experiment_name=\"08_model_7\")])"
   ]
  },
  {
   "cell_type": "code",
   "execution_count": 377,
   "id": "55eb1689-3161-4945-9635-1d1ef4cfe94b",
   "metadata": {},
   "outputs": [
    {
     "name": "stdout",
     "output_type": "stream",
     "text": [
      "Model: \"sequential_14\"\n",
      "_________________________________________________________________\n",
      " Layer (type)                Output Shape              Param #   \n",
      "=================================================================\n",
      " USE (KerasLayer)            (None, 512)               256797824 \n",
      "                                                                 \n",
      " dense_88 (Dense)            (None, 64)                32832     \n",
      "                                                                 \n",
      " dense_89 (Dense)            (None, 1)                 65        \n",
      "                                                                 \n",
      "=================================================================\n",
      "Total params: 256,830,721\n",
      "Trainable params: 32,897\n",
      "Non-trainable params: 256,797,824\n",
      "_________________________________________________________________\n",
      "Saving TensorBoard log files to: tensorboard_hub_08/08_model_7_1/20230326-082627\n",
      "Epoch 1/5\n"
     ]
    },
    {
     "name": "stderr",
     "output_type": "stream",
     "text": [
      "2023-03-26 08:26:28.148462: I tensorflow/core/grappler/optimizers/custom_graph_optimizer_registry.cc:114] Plugin optimizer for device_type GPU is enabled.\n"
     ]
    },
    {
     "name": "stdout",
     "output_type": "stream",
     "text": [
      "24/24 [==============================] - ETA: 0s - loss: 0.6622 - accuracy: 0.6929"
     ]
    },
    {
     "name": "stderr",
     "output_type": "stream",
     "text": [
      "2023-03-26 08:26:44.652723: I tensorflow/core/grappler/optimizers/custom_graph_optimizer_registry.cc:114] Plugin optimizer for device_type GPU is enabled.\n"
     ]
    },
    {
     "name": "stdout",
     "output_type": "stream",
     "text": [
      "24/24 [==============================] - 29s 1s/step - loss: 0.6622 - accuracy: 0.6929 - val_loss: 0.6338 - val_accuracy: 0.7336\n",
      "Epoch 2/5\n",
      "24/24 [==============================] - 11s 466ms/step - loss: 0.5727 - accuracy: 0.8150 - val_loss: 0.5651 - val_accuracy: 0.7638\n",
      "Epoch 3/5\n",
      "24/24 [==============================] - 9s 390ms/step - loss: 0.4888 - accuracy: 0.8163 - val_loss: 0.5159 - val_accuracy: 0.7703\n",
      "Epoch 4/5\n",
      "24/24 [==============================] - 8s 354ms/step - loss: 0.4331 - accuracy: 0.8268 - val_loss: 0.4892 - val_accuracy: 0.7874\n",
      "Epoch 5/5\n",
      "24/24 [==============================] - 7s 313ms/step - loss: 0.3969 - accuracy: 0.8320 - val_loss: 0.4797 - val_accuracy: 0.7808\n"
     ]
    }
   ],
   "source": [
    "# Build model with the Functional API\n",
    "from tensorflow.keras import layers\n",
    "from tensorflow.keras import Sequential\n",
    "\n",
    "model_7_1 = Sequential([\n",
    "    sentence_encoder_layer,\n",
    "    layers.Dense(64, activation=\"relu\"),\n",
    "    layers.Dense(1, activation=\"sigmoid\")\n",
    "])\n",
    "\n",
    "# Compile model\n",
    "model_7_1.compile(loss=\"binary_crossentropy\",\n",
    "                optimizer=tf.keras.optimizers.Adam(),\n",
    "                metrics=[\"accuracy\"])\n",
    "model_7_1.summary()\n",
    "\n",
    "# Fit the model\n",
    "model_7_1_history = model_7_1.fit(train_10_text, # input sentences can be a list of strings due to text preprocessing layer built-in model\n",
    "                              train_10_label,\n",
    "                              epochs=5,\n",
    "                              validation_data=(val_text, val_label),\n",
    "                              callbacks=[create_tensorboard_callback(dir_name=\"tensorboard_hub_08\", \n",
    "                                                                     experiment_name=\"08_model_7_1\")])"
   ]
  },
  {
   "cell_type": "markdown",
   "id": "ae59b234-efc1-4136-a651-9b2315ac314e",
   "metadata": {},
   "source": [
    "### This is wrong \n",
    " spliting from original, creates dataset with val text in them ,  hence in calidating val accuracy"
   ]
  },
  {
   "cell_type": "code",
   "execution_count": 383,
   "id": "bc3f5222-0398-4495-9511-15bc585d188f",
   "metadata": {},
   "outputs": [],
   "source": [
    "# Using original dataset\n",
    "train_10_text = train_df_shuffled[\"text\"].sample(frac=.1, random_state=42)\n",
    "train_10_label = train_df_shuffled[\"target\"].sample(frac=.1, random_state=42)"
   ]
  },
  {
   "cell_type": "code",
   "execution_count": 385,
   "id": "efb08236-6a1d-4f5b-bacb-e69314632f65",
   "metadata": {},
   "outputs": [
    {
     "name": "stderr",
     "output_type": "stream",
     "text": [
      "2023-03-26 08:35:02.000895: I tensorflow/core/grappler/optimizers/custom_graph_optimizer_registry.cc:114] Plugin optimizer for device_type GPU is enabled.\n"
     ]
    },
    {
     "name": "stdout",
     "output_type": "stream",
     "text": [
      "Model: \"sequential_14\"\n",
      "_________________________________________________________________\n",
      " Layer (type)                Output Shape              Param #   \n",
      "=================================================================\n",
      " USE (KerasLayer)            (None, 512)               256797824 \n",
      "                                                                 \n",
      " dense_88 (Dense)            (None, 64)                32832     \n",
      "                                                                 \n",
      " dense_89 (Dense)            (None, 1)                 65        \n",
      "                                                                 \n",
      "=================================================================\n",
      "Total params: 256,830,721\n",
      "Trainable params: 32,897\n",
      "Non-trainable params: 256,797,824\n",
      "_________________________________________________________________\n",
      "Saving TensorBoard log files to: tensorboard_hub_08/08_model_7_1/20230326-083503\n",
      "Epoch 1/5\n"
     ]
    },
    {
     "name": "stderr",
     "output_type": "stream",
     "text": [
      "2023-03-26 08:35:04.428669: I tensorflow/core/grappler/optimizers/custom_graph_optimizer_registry.cc:114] Plugin optimizer for device_type GPU is enabled.\n"
     ]
    },
    {
     "name": "stdout",
     "output_type": "stream",
     "text": [
      "24/24 [==============================] - ETA: 0s - loss: 0.6690 - accuracy: 0.6491"
     ]
    },
    {
     "name": "stderr",
     "output_type": "stream",
     "text": [
      "2023-03-26 08:35:20.522288: I tensorflow/core/grappler/optimizers/custom_graph_optimizer_registry.cc:114] Plugin optimizer for device_type GPU is enabled.\n"
     ]
    },
    {
     "name": "stdout",
     "output_type": "stream",
     "text": [
      "24/24 [==============================] - 31s 1s/step - loss: 0.6690 - accuracy: 0.6491 - val_loss: 0.6326 - val_accuracy: 0.8045\n",
      "Epoch 2/5\n",
      "24/24 [==============================] - 12s 520ms/step - loss: 0.6007 - accuracy: 0.7976 - val_loss: 0.5562 - val_accuracy: 0.8045\n",
      "Epoch 3/5\n",
      "24/24 [==============================] - 10s 413ms/step - loss: 0.5265 - accuracy: 0.8003 - val_loss: 0.4890 - val_accuracy: 0.8031\n",
      "Epoch 4/5\n",
      "24/24 [==============================] - 9s 385ms/step - loss: 0.4713 - accuracy: 0.8042 - val_loss: 0.4421 - val_accuracy: 0.8163\n",
      "Epoch 5/5\n",
      "24/24 [==============================] - 8s 352ms/step - loss: 0.4326 - accuracy: 0.8147 - val_loss: 0.4120 - val_accuracy: 0.8281\n"
     ]
    }
   ],
   "source": [
    "model_7_2 = tf.keras.models.clone_model(model_7_1)\n",
    "\n",
    "model_7_2.compile(loss=\"binary_crossentropy\",\n",
    "                optimizer=tf.keras.optimizers.Adam(),\n",
    "                metrics=[\"accuracy\"])\n",
    "model_7_2.summary()\n",
    "\n",
    "# Fit the model\n",
    "model_7_2_history = model_7_2.fit(train_10_text, # input sentences can be a list of strings due to text preprocessing layer built-in model\n",
    "                              train_10_label,\n",
    "                              epochs=5,\n",
    "                              validation_data=(val_text, val_label),\n",
    "                              callbacks=[create_tensorboard_callback(dir_name=\"tensorboard_hub_08\", \n",
    "                                                                     experiment_name=\"08_model_7_1\")])"
   ]
  },
  {
   "cell_type": "code",
   "execution_count": 386,
   "id": "a57c1d3d-daca-46f1-9697-c681c836b971",
   "metadata": {},
   "outputs": [
    {
     "name": "stderr",
     "output_type": "stream",
     "text": [
      "2023-03-26 08:36:44.508638: I tensorflow/core/grappler/optimizers/custom_graph_optimizer_registry.cc:114] Plugin optimizer for device_type GPU is enabled.\n"
     ]
    },
    {
     "name": "stdout",
     "output_type": "stream",
     "text": [
      "24/24 [==============================] - 13s 495ms/step\n"
     ]
    },
    {
     "data": {
      "text/plain": [
       "array([[0.25420064],\n",
       "       [0.7809625 ],\n",
       "       [0.890362  ],\n",
       "       [0.31554118],\n",
       "       [0.7827334 ],\n",
       "       [0.8166281 ],\n",
       "       [0.868586  ],\n",
       "       [0.9107538 ],\n",
       "       [0.8135094 ],\n",
       "       [0.05851967]], dtype=float32)"
      ]
     },
     "execution_count": 386,
     "metadata": {},
     "output_type": "execute_result"
    }
   ],
   "source": [
    "model7_preds = model_7_2.predict(val_text)\n",
    "model7_preds[:10]"
   ]
  },
  {
   "cell_type": "code",
   "execution_count": 387,
   "id": "0cd5b872-9847-4dab-9a61-265ae7eed72c",
   "metadata": {},
   "outputs": [
    {
     "data": {
      "text/plain": [
       "<tf.Tensor: shape=(10,), dtype=float32, numpy=array([0., 1., 1., 0., 1., 1., 1., 1., 1., 0.], dtype=float32)>"
      ]
     },
     "execution_count": 387,
     "metadata": {},
     "output_type": "execute_result"
    }
   ],
   "source": [
    "model7_preds = tf.squeeze(tf.round(model7_preds))\n",
    "model7_preds[:10]"
   ]
  },
  {
   "cell_type": "code",
   "execution_count": 388,
   "id": "5db65abf-fe98-4c3f-a9c6-70edce652636",
   "metadata": {},
   "outputs": [],
   "source": [
    "model7_results = calculate_results(val_label, model7_preds)"
   ]
  },
  {
   "cell_type": "code",
   "execution_count": 389,
   "id": "b17b70f8-fb92-4e29-bf06-3d00c1cff7f3",
   "metadata": {},
   "outputs": [
    {
     "data": {
      "text/plain": [
       "{'accuracy': 82.80839895013123,\n",
       " 'precision': 0.8281587277144384,\n",
       " 'recall': 0.8280839895013123,\n",
       " 'f1': 0.8275997984351715}"
      ]
     },
     "execution_count": 389,
     "metadata": {},
     "output_type": "execute_result"
    }
   ],
   "source": [
    "model7_results"
   ]
  },
  {
   "cell_type": "markdown",
   "id": "93d856f4-d2f9-40c4-8050-19db36baa63a",
   "metadata": {},
   "source": [
    "# Upload to board"
   ]
  },
  {
   "cell_type": "code",
   "execution_count": 394,
   "id": "0b6d4e62-545a-40bb-8683-62bad4e7cb46",
   "metadata": {},
   "outputs": [],
   "source": [
    "# !tensorboard dev upload --logdir ./tensorboard_hub_08 --name \"08\"    --description \"disater\" --one_shot"
   ]
  },
  {
   "cell_type": "markdown",
   "id": "d2b0d436-87c8-4607-bf4f-93fb03cdc419",
   "metadata": {},
   "source": [
    "# Finding most wrong examples\n",
    "\n",
    "It hard to find most wrong in text data.\n",
    "\n",
    "we use active learning to use trained model to get wrong examples."
   ]
  },
  {
   "cell_type": "code",
   "execution_count": 396,
   "id": "25a444b0-2ada-412a-be6a-ad8ae7130a68",
   "metadata": {},
   "outputs": [
    {
     "name": "stdout",
     "output_type": "stream",
     "text": [
      "24/24 [==============================] - 5s 171ms/step - loss: 0.4226 - accuracy: 0.8215\n"
     ]
    },
    {
     "data": {
      "text/plain": [
       "[0.4225907623767853, 0.8215222954750061]"
      ]
     },
     "execution_count": 396,
     "metadata": {},
     "output_type": "execute_result"
    }
   ],
   "source": [
    "model_6_2.evaluate(val_text, val_label)"
   ]
  },
  {
   "cell_type": "code",
   "execution_count": 399,
   "id": "7020dd18-e726-4a52-b32f-71a5e6df0833",
   "metadata": {},
   "outputs": [
    {
     "name": "stdout",
     "output_type": "stream",
     "text": [
      "24/24 [==============================] - 5s 175ms/step\n"
     ]
    }
   ],
   "source": [
    "pred_probs = model_6_2.predict(val_text)\n",
    "val_pred = tf.squeeze(tf.round(pred_probs))"
   ]
  },
  {
   "cell_type": "code",
   "execution_count": 402,
   "id": "863508ae-aca0-41fc-bec8-52e49da01633",
   "metadata": {},
   "outputs": [],
   "source": [
    "val_df = pd.DataFrame({\n",
    "    \"text\": val_text,\n",
    "    \"target\": val_label,\n",
    "    \"pred\": val_pred,\n",
    "    \"pred_probs\": tf.squeeze(pred_probs)\n",
    "})"
   ]
  },
  {
   "cell_type": "code",
   "execution_count": 403,
   "id": "6b9249d9-cd44-49f2-a9da-307a2cbd6f93",
   "metadata": {},
   "outputs": [
    {
     "data": {
      "text/html": [
       "<div>\n",
       "<style scoped>\n",
       "    .dataframe tbody tr th:only-of-type {\n",
       "        vertical-align: middle;\n",
       "    }\n",
       "\n",
       "    .dataframe tbody tr th {\n",
       "        vertical-align: top;\n",
       "    }\n",
       "\n",
       "    .dataframe thead th {\n",
       "        text-align: right;\n",
       "    }\n",
       "</style>\n",
       "<table border=\"1\" class=\"dataframe\">\n",
       "  <thead>\n",
       "    <tr style=\"text-align: right;\">\n",
       "      <th></th>\n",
       "      <th>text</th>\n",
       "      <th>target</th>\n",
       "      <th>pred</th>\n",
       "      <th>pred_probs</th>\n",
       "    </tr>\n",
       "  </thead>\n",
       "  <tbody>\n",
       "    <tr>\n",
       "      <th>0</th>\n",
       "      <td>DFR EP016 Monthly Meltdown - On Dnbheaven 2015...</td>\n",
       "      <td>0</td>\n",
       "      <td>0.0</td>\n",
       "      <td>0.238345</td>\n",
       "    </tr>\n",
       "    <tr>\n",
       "      <th>1</th>\n",
       "      <td>FedEx no longer to transport bioterror germs i...</td>\n",
       "      <td>0</td>\n",
       "      <td>1.0</td>\n",
       "      <td>0.759551</td>\n",
       "    </tr>\n",
       "    <tr>\n",
       "      <th>2</th>\n",
       "      <td>Gunmen kill four in El Salvador bus attack: Su...</td>\n",
       "      <td>1</td>\n",
       "      <td>1.0</td>\n",
       "      <td>0.992284</td>\n",
       "    </tr>\n",
       "    <tr>\n",
       "      <th>3</th>\n",
       "      <td>@camilacabello97 Internally and externally scr...</td>\n",
       "      <td>1</td>\n",
       "      <td>0.0</td>\n",
       "      <td>0.229405</td>\n",
       "    </tr>\n",
       "    <tr>\n",
       "      <th>4</th>\n",
       "      <td>Radiation emergency #preparedness starts with ...</td>\n",
       "      <td>1</td>\n",
       "      <td>1.0</td>\n",
       "      <td>0.743955</td>\n",
       "    </tr>\n",
       "  </tbody>\n",
       "</table>\n",
       "</div>"
      ],
      "text/plain": [
       "                                                text  target  pred  pred_probs\n",
       "0  DFR EP016 Monthly Meltdown - On Dnbheaven 2015...       0   0.0    0.238345\n",
       "1  FedEx no longer to transport bioterror germs i...       0   1.0    0.759551\n",
       "2  Gunmen kill four in El Salvador bus attack: Su...       1   1.0    0.992284\n",
       "3  @camilacabello97 Internally and externally scr...       1   0.0    0.229405\n",
       "4  Radiation emergency #preparedness starts with ...       1   1.0    0.743955"
      ]
     },
     "execution_count": 403,
     "metadata": {},
     "output_type": "execute_result"
    }
   ],
   "source": [
    "val_df.head()"
   ]
  },
  {
   "cell_type": "code",
   "execution_count": 409,
   "id": "f5dadfcc-59a0-4032-8958-31296b48a608",
   "metadata": {},
   "outputs": [],
   "source": [
    "most_wrong = val_df[val_df[\"target\"] != val_df[\"pred\"]].sort_values(by=[\"pred_probs\"], ascending=False)"
   ]
  },
  {
   "cell_type": "code",
   "execution_count": 410,
   "id": "22fd79bd-3d9d-4ffb-bc87-7ff39497da3c",
   "metadata": {},
   "outputs": [
    {
     "data": {
      "text/html": [
       "<div>\n",
       "<style scoped>\n",
       "    .dataframe tbody tr th:only-of-type {\n",
       "        vertical-align: middle;\n",
       "    }\n",
       "\n",
       "    .dataframe tbody tr th {\n",
       "        vertical-align: top;\n",
       "    }\n",
       "\n",
       "    .dataframe thead th {\n",
       "        text-align: right;\n",
       "    }\n",
       "</style>\n",
       "<table border=\"1\" class=\"dataframe\">\n",
       "  <thead>\n",
       "    <tr style=\"text-align: right;\">\n",
       "      <th></th>\n",
       "      <th>text</th>\n",
       "      <th>target</th>\n",
       "      <th>pred</th>\n",
       "      <th>pred_probs</th>\n",
       "    </tr>\n",
       "  </thead>\n",
       "  <tbody>\n",
       "    <tr>\n",
       "      <th>31</th>\n",
       "      <td>? High Skies - Burning Buildings ? http://t.co...</td>\n",
       "      <td>0</td>\n",
       "      <td>1.0</td>\n",
       "      <td>0.893212</td>\n",
       "    </tr>\n",
       "    <tr>\n",
       "      <th>759</th>\n",
       "      <td>FedEx will no longer transport bioterror patho...</td>\n",
       "      <td>0</td>\n",
       "      <td>1.0</td>\n",
       "      <td>0.876747</td>\n",
       "    </tr>\n",
       "    <tr>\n",
       "      <th>628</th>\n",
       "      <td>@noah_anyname That's where the concentration c...</td>\n",
       "      <td>0</td>\n",
       "      <td>1.0</td>\n",
       "      <td>0.871282</td>\n",
       "    </tr>\n",
       "    <tr>\n",
       "      <th>109</th>\n",
       "      <td>[55436] 1950 LIONEL TRAINS SMOKE LOCOMOTIVES W...</td>\n",
       "      <td>0</td>\n",
       "      <td>1.0</td>\n",
       "      <td>0.867149</td>\n",
       "    </tr>\n",
       "    <tr>\n",
       "      <th>49</th>\n",
       "      <td>@madonnamking RSPCA site multiple 7 story high...</td>\n",
       "      <td>0</td>\n",
       "      <td>1.0</td>\n",
       "      <td>0.838776</td>\n",
       "    </tr>\n",
       "  </tbody>\n",
       "</table>\n",
       "</div>"
      ],
      "text/plain": [
       "                                                  text  target  pred  \\\n",
       "31   ? High Skies - Burning Buildings ? http://t.co...       0   1.0   \n",
       "759  FedEx will no longer transport bioterror patho...       0   1.0   \n",
       "628  @noah_anyname That's where the concentration c...       0   1.0   \n",
       "109  [55436] 1950 LIONEL TRAINS SMOKE LOCOMOTIVES W...       0   1.0   \n",
       "49   @madonnamking RSPCA site multiple 7 story high...       0   1.0   \n",
       "\n",
       "     pred_probs  \n",
       "31     0.893212  \n",
       "759    0.876747  \n",
       "628    0.871282  \n",
       "109    0.867149  \n",
       "49     0.838776  "
      ]
     },
     "execution_count": 410,
     "metadata": {},
     "output_type": "execute_result"
    }
   ],
   "source": [
    "most_wrong.head()"
   ]
  },
  {
   "cell_type": "code",
   "execution_count": 411,
   "id": "874bb754-4183-4214-91b4-d88d838ea0e9",
   "metadata": {},
   "outputs": [
    {
     "data": {
      "text/html": [
       "<div>\n",
       "<style scoped>\n",
       "    .dataframe tbody tr th:only-of-type {\n",
       "        vertical-align: middle;\n",
       "    }\n",
       "\n",
       "    .dataframe tbody tr th {\n",
       "        vertical-align: top;\n",
       "    }\n",
       "\n",
       "    .dataframe thead th {\n",
       "        text-align: right;\n",
       "    }\n",
       "</style>\n",
       "<table border=\"1\" class=\"dataframe\">\n",
       "  <thead>\n",
       "    <tr style=\"text-align: right;\">\n",
       "      <th></th>\n",
       "      <th>text</th>\n",
       "      <th>target</th>\n",
       "      <th>pred</th>\n",
       "      <th>pred_probs</th>\n",
       "    </tr>\n",
       "  </thead>\n",
       "  <tbody>\n",
       "    <tr>\n",
       "      <th>233</th>\n",
       "      <td>I get to smoke my shit in peace</td>\n",
       "      <td>1</td>\n",
       "      <td>0.0</td>\n",
       "      <td>0.049293</td>\n",
       "    </tr>\n",
       "    <tr>\n",
       "      <th>59</th>\n",
       "      <td>You can never escape me. Bullets don't harm me...</td>\n",
       "      <td>1</td>\n",
       "      <td>0.0</td>\n",
       "      <td>0.043141</td>\n",
       "    </tr>\n",
       "    <tr>\n",
       "      <th>244</th>\n",
       "      <td>Reddit Will Now QuarantineÛ_ http://t.co/pkUA...</td>\n",
       "      <td>1</td>\n",
       "      <td>0.0</td>\n",
       "      <td>0.042913</td>\n",
       "    </tr>\n",
       "    <tr>\n",
       "      <th>38</th>\n",
       "      <td>Why are you deluged with low self-image? Take ...</td>\n",
       "      <td>1</td>\n",
       "      <td>0.0</td>\n",
       "      <td>0.032078</td>\n",
       "    </tr>\n",
       "    <tr>\n",
       "      <th>23</th>\n",
       "      <td>Ron &amp;amp; Fez - Dave's High School Crush https...</td>\n",
       "      <td>1</td>\n",
       "      <td>0.0</td>\n",
       "      <td>0.031326</td>\n",
       "    </tr>\n",
       "  </tbody>\n",
       "</table>\n",
       "</div>"
      ],
      "text/plain": [
       "                                                  text  target  pred  \\\n",
       "233                    I get to smoke my shit in peace       1   0.0   \n",
       "59   You can never escape me. Bullets don't harm me...       1   0.0   \n",
       "244  Reddit Will Now QuarantineÛ_ http://t.co/pkUA...       1   0.0   \n",
       "38   Why are you deluged with low self-image? Take ...       1   0.0   \n",
       "23   Ron &amp; Fez - Dave's High School Crush https...       1   0.0   \n",
       "\n",
       "     pred_probs  \n",
       "233    0.049293  \n",
       "59     0.043141  \n",
       "244    0.042913  \n",
       "38     0.032078  \n",
       "23     0.031326  "
      ]
     },
     "execution_count": 411,
     "metadata": {},
     "output_type": "execute_result"
    }
   ],
   "source": [
    "most_wrong.tail()"
   ]
  },
  {
   "cell_type": "markdown",
   "id": "d1d69fff-adff-4458-b664-d72d9090124d",
   "metadata": {},
   "source": [
    "# Speed/score tradeoff"
   ]
  },
  {
   "cell_type": "code",
   "execution_count": 416,
   "id": "a6f27829-bcfb-43b8-a765-e29e3b0fd6d3",
   "metadata": {},
   "outputs": [],
   "source": [
    "import time\n",
    "\n",
    "def pred_timer(model, samples):\n",
    "    start_time = time.perf_counter()\n",
    "    model.predict(samples)\n",
    "    return time.perf_counter() - start_time    \n",
    "    "
   ]
  },
  {
   "cell_type": "code",
   "execution_count": 417,
   "id": "6a224792-0d0b-423c-8773-a07294732c83",
   "metadata": {},
   "outputs": [
    {
     "name": "stdout",
     "output_type": "stream",
     "text": [
      "24/24 [==============================] - 4s 159ms/step\n"
     ]
    },
    {
     "data": {
      "text/plain": [
       "4.401971125000273"
      ]
     },
     "execution_count": 417,
     "metadata": {},
     "output_type": "execute_result"
    }
   ],
   "source": [
    "pred_timer(model_6_2, val_text)"
   ]
  },
  {
   "cell_type": "code",
   "execution_count": 418,
   "id": "f2caaf7d-ead7-4040-bb81-efa22d0e4e01",
   "metadata": {},
   "outputs": [
    {
     "data": {
      "text/plain": [
       "0.03021912500844337"
      ]
     },
     "execution_count": 418,
     "metadata": {},
     "output_type": "execute_result"
    },
    {
     "name": "stderr",
     "output_type": "stream",
     "text": [
      "2023-03-26 10:20:11.885323: I tensorflow/core/grappler/optimizers/custom_graph_optimizer_registry.cc:114] Plugin optimizer for device_type GPU is enabled.\n"
     ]
    }
   ],
   "source": [
    "pred_timer(model_0, val_text)"
   ]
  },
  {
   "cell_type": "code",
   "execution_count": null,
   "id": "debe2f92-bc46-40f8-9543-3b7657f26abd",
   "metadata": {},
   "outputs": [],
   "source": []
  }
 ],
 "metadata": {
  "kernelspec": {
   "display_name": "Python 3 (ipykernel)",
   "language": "python",
   "name": "python3"
  },
  "language_info": {
   "codemirror_mode": {
    "name": "ipython",
    "version": 3
   },
   "file_extension": ".py",
   "mimetype": "text/x-python",
   "name": "python",
   "nbconvert_exporter": "python",
   "pygments_lexer": "ipython3",
   "version": "3.8.13"
  }
 },
 "nbformat": 4,
 "nbformat_minor": 5
}
