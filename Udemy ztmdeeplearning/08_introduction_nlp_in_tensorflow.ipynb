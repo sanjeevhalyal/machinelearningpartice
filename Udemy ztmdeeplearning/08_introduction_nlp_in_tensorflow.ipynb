{
 "cells": [
  {
   "cell_type": "markdown",
   "id": "fa462162-d2c9-41b1-bf24-8070be9f737d",
   "metadata": {},
   "source": [
    "# Introduction to NLP fundamental using tensorflow\n",
    "Deriving information from text or speech\n",
    "\n",
    "or sequence 2 sequence generation"
   ]
  },
  {
   "cell_type": "code",
   "execution_count": 1,
   "id": "99dab05e-feef-4146-91cb-b94208b0bc87",
   "metadata": {},
   "outputs": [],
   "source": [
    "# !wget https://raw.githubusercontent.com/mrdbourke/tensorflow-deep-learning/main/extras/helper_functions.py\n",
    "from helper_functions import unzip_data,create_tensorboard_callback, plot_loss_curves, compare_historys"
   ]
  },
  {
   "cell_type": "markdown",
   "id": "471fde6b-1314-42a3-9f15-c07ae2e9ee40",
   "metadata": {},
   "source": [
    "## Get Data\n",
    "twitter disaster"
   ]
  },
  {
   "cell_type": "code",
   "execution_count": 2,
   "id": "947d882c-b21b-4971-ab4f-c43aa01a0563",
   "metadata": {},
   "outputs": [
    {
     "name": "stdout",
     "output_type": "stream",
     "text": [
      "--2023-03-22 20:06:00--  https://storage.googleapis.com/ztm_tf_course/nlp_getting_started.zip\n",
      "Resolving storage.googleapis.com (storage.googleapis.com)... 74.125.193.128, 209.85.202.128, 172.253.116.128, ...\n",
      "Connecting to storage.googleapis.com (storage.googleapis.com)|74.125.193.128|:443... connected.\n",
      "HTTP request sent, awaiting response... 200 OK\n",
      "Length: 607343 (593K) [application/zip]\n",
      "Saving to: ‘nlp_getting_started.zip’\n",
      "\n",
      "nlp_getting_started 100%[===================>] 593.11K  1.10MB/s    in 0.5s    \n",
      "\n",
      "2023-03-22 20:06:01 (1.10 MB/s) - ‘nlp_getting_started.zip’ saved [607343/607343]\n",
      "\n"
     ]
    }
   ],
   "source": [
    "# !wget https://storage.googleapis.com/ztm_tf_course/nlp_getting_started.zip"
   ]
  },
  {
   "cell_type": "code",
   "execution_count": 3,
   "id": "713bf194-7768-4d7d-9a5c-b1bd24c016b9",
   "metadata": {},
   "outputs": [],
   "source": [
    "# unzip_data(\"nlp_getting_started.zip\")"
   ]
  },
  {
   "cell_type": "markdown",
   "id": "6e14920b-dccc-41d8-85c8-1aad2a8191ad",
   "metadata": {},
   "source": [
    "# Visualize, Visualize, Visualize\n",
    "\n",
    "can use panda (limited by ram)\n",
    "using tf load_text\n",
    "using python loader"
   ]
  },
  {
   "cell_type": "code",
   "execution_count": 6,
   "id": "eaa0aa83-e3a1-4bb7-a776-e2fd71b7c422",
   "metadata": {},
   "outputs": [
    {
     "data": {
      "text/html": [
       "<div>\n",
       "<style scoped>\n",
       "    .dataframe tbody tr th:only-of-type {\n",
       "        vertical-align: middle;\n",
       "    }\n",
       "\n",
       "    .dataframe tbody tr th {\n",
       "        vertical-align: top;\n",
       "    }\n",
       "\n",
       "    .dataframe thead th {\n",
       "        text-align: right;\n",
       "    }\n",
       "</style>\n",
       "<table border=\"1\" class=\"dataframe\">\n",
       "  <thead>\n",
       "    <tr style=\"text-align: right;\">\n",
       "      <th></th>\n",
       "      <th>id</th>\n",
       "      <th>keyword</th>\n",
       "      <th>location</th>\n",
       "      <th>text</th>\n",
       "      <th>target</th>\n",
       "    </tr>\n",
       "  </thead>\n",
       "  <tbody>\n",
       "    <tr>\n",
       "      <th>0</th>\n",
       "      <td>1</td>\n",
       "      <td>NaN</td>\n",
       "      <td>NaN</td>\n",
       "      <td>Our Deeds are the Reason of this #earthquake M...</td>\n",
       "      <td>1</td>\n",
       "    </tr>\n",
       "    <tr>\n",
       "      <th>1</th>\n",
       "      <td>4</td>\n",
       "      <td>NaN</td>\n",
       "      <td>NaN</td>\n",
       "      <td>Forest fire near La Ronge Sask. Canada</td>\n",
       "      <td>1</td>\n",
       "    </tr>\n",
       "    <tr>\n",
       "      <th>2</th>\n",
       "      <td>5</td>\n",
       "      <td>NaN</td>\n",
       "      <td>NaN</td>\n",
       "      <td>All residents asked to 'shelter in place' are ...</td>\n",
       "      <td>1</td>\n",
       "    </tr>\n",
       "    <tr>\n",
       "      <th>3</th>\n",
       "      <td>6</td>\n",
       "      <td>NaN</td>\n",
       "      <td>NaN</td>\n",
       "      <td>13,000 people receive #wildfires evacuation or...</td>\n",
       "      <td>1</td>\n",
       "    </tr>\n",
       "    <tr>\n",
       "      <th>4</th>\n",
       "      <td>7</td>\n",
       "      <td>NaN</td>\n",
       "      <td>NaN</td>\n",
       "      <td>Just got sent this photo from Ruby #Alaska as ...</td>\n",
       "      <td>1</td>\n",
       "    </tr>\n",
       "    <tr>\n",
       "      <th>...</th>\n",
       "      <td>...</td>\n",
       "      <td>...</td>\n",
       "      <td>...</td>\n",
       "      <td>...</td>\n",
       "      <td>...</td>\n",
       "    </tr>\n",
       "    <tr>\n",
       "      <th>7608</th>\n",
       "      <td>10869</td>\n",
       "      <td>NaN</td>\n",
       "      <td>NaN</td>\n",
       "      <td>Two giant cranes holding a bridge collapse int...</td>\n",
       "      <td>1</td>\n",
       "    </tr>\n",
       "    <tr>\n",
       "      <th>7609</th>\n",
       "      <td>10870</td>\n",
       "      <td>NaN</td>\n",
       "      <td>NaN</td>\n",
       "      <td>@aria_ahrary @TheTawniest The out of control w...</td>\n",
       "      <td>1</td>\n",
       "    </tr>\n",
       "    <tr>\n",
       "      <th>7610</th>\n",
       "      <td>10871</td>\n",
       "      <td>NaN</td>\n",
       "      <td>NaN</td>\n",
       "      <td>M1.94 [01:04 UTC]?5km S of Volcano Hawaii. htt...</td>\n",
       "      <td>1</td>\n",
       "    </tr>\n",
       "    <tr>\n",
       "      <th>7611</th>\n",
       "      <td>10872</td>\n",
       "      <td>NaN</td>\n",
       "      <td>NaN</td>\n",
       "      <td>Police investigating after an e-bike collided ...</td>\n",
       "      <td>1</td>\n",
       "    </tr>\n",
       "    <tr>\n",
       "      <th>7612</th>\n",
       "      <td>10873</td>\n",
       "      <td>NaN</td>\n",
       "      <td>NaN</td>\n",
       "      <td>The Latest: More Homes Razed by Northern Calif...</td>\n",
       "      <td>1</td>\n",
       "    </tr>\n",
       "  </tbody>\n",
       "</table>\n",
       "<p>7613 rows × 5 columns</p>\n",
       "</div>"
      ],
      "text/plain": [
       "         id keyword location  \\\n",
       "0         1     NaN      NaN   \n",
       "1         4     NaN      NaN   \n",
       "2         5     NaN      NaN   \n",
       "3         6     NaN      NaN   \n",
       "4         7     NaN      NaN   \n",
       "...     ...     ...      ...   \n",
       "7608  10869     NaN      NaN   \n",
       "7609  10870     NaN      NaN   \n",
       "7610  10871     NaN      NaN   \n",
       "7611  10872     NaN      NaN   \n",
       "7612  10873     NaN      NaN   \n",
       "\n",
       "                                                   text  target  \n",
       "0     Our Deeds are the Reason of this #earthquake M...       1  \n",
       "1                Forest fire near La Ronge Sask. Canada       1  \n",
       "2     All residents asked to 'shelter in place' are ...       1  \n",
       "3     13,000 people receive #wildfires evacuation or...       1  \n",
       "4     Just got sent this photo from Ruby #Alaska as ...       1  \n",
       "...                                                 ...     ...  \n",
       "7608  Two giant cranes holding a bridge collapse int...       1  \n",
       "7609  @aria_ahrary @TheTawniest The out of control w...       1  \n",
       "7610  M1.94 [01:04 UTC]?5km S of Volcano Hawaii. htt...       1  \n",
       "7611  Police investigating after an e-bike collided ...       1  \n",
       "7612  The Latest: More Homes Razed by Northern Calif...       1  \n",
       "\n",
       "[7613 rows x 5 columns]"
      ]
     },
     "execution_count": 6,
     "metadata": {},
     "output_type": "execute_result"
    }
   ],
   "source": [
    "import pandas as pd\n",
    "\n",
    "train_df = pd.read_csv(\"data/nlp_getting_started/train.csv\")\n",
    "test_df = pd.read_csv(\"data/nlp_getting_started/test.csv\")"
   ]
  },
  {
   "cell_type": "code",
   "execution_count": 19,
   "id": "f79e1a19-d23d-44e4-9835-4e5614be2f61",
   "metadata": {},
   "outputs": [
    {
     "data": {
      "text/html": [
       "<div>\n",
       "<style scoped>\n",
       "    .dataframe tbody tr th:only-of-type {\n",
       "        vertical-align: middle;\n",
       "    }\n",
       "\n",
       "    .dataframe tbody tr th {\n",
       "        vertical-align: top;\n",
       "    }\n",
       "\n",
       "    .dataframe thead th {\n",
       "        text-align: right;\n",
       "    }\n",
       "</style>\n",
       "<table border=\"1\" class=\"dataframe\">\n",
       "  <thead>\n",
       "    <tr style=\"text-align: right;\">\n",
       "      <th></th>\n",
       "      <th>id</th>\n",
       "      <th>keyword</th>\n",
       "      <th>location</th>\n",
       "      <th>text</th>\n",
       "      <th>target</th>\n",
       "    </tr>\n",
       "  </thead>\n",
       "  <tbody>\n",
       "    <tr>\n",
       "      <th>2644</th>\n",
       "      <td>3796</td>\n",
       "      <td>destruction</td>\n",
       "      <td>NaN</td>\n",
       "      <td>So you have a new weapon that can cause un-ima...</td>\n",
       "      <td>1</td>\n",
       "    </tr>\n",
       "    <tr>\n",
       "      <th>2227</th>\n",
       "      <td>3185</td>\n",
       "      <td>deluge</td>\n",
       "      <td>NaN</td>\n",
       "      <td>The f$&amp;amp;@ing things I do for #GISHWHES Just...</td>\n",
       "      <td>0</td>\n",
       "    </tr>\n",
       "    <tr>\n",
       "      <th>5448</th>\n",
       "      <td>7769</td>\n",
       "      <td>police</td>\n",
       "      <td>UK</td>\n",
       "      <td>DT @georgegalloway: RT @Galloway4Mayor: ÛÏThe...</td>\n",
       "      <td>1</td>\n",
       "    </tr>\n",
       "    <tr>\n",
       "      <th>132</th>\n",
       "      <td>191</td>\n",
       "      <td>aftershock</td>\n",
       "      <td>NaN</td>\n",
       "      <td>Aftershock back to school kick off was great. ...</td>\n",
       "      <td>0</td>\n",
       "    </tr>\n",
       "    <tr>\n",
       "      <th>6845</th>\n",
       "      <td>9810</td>\n",
       "      <td>trauma</td>\n",
       "      <td>Montgomery County, MD</td>\n",
       "      <td>in response to trauma Children of Addicts deve...</td>\n",
       "      <td>0</td>\n",
       "    </tr>\n",
       "  </tbody>\n",
       "</table>\n",
       "</div>"
      ],
      "text/plain": [
       "        id      keyword               location  \\\n",
       "2644  3796  destruction                    NaN   \n",
       "2227  3185       deluge                    NaN   \n",
       "5448  7769       police                     UK   \n",
       "132    191   aftershock                    NaN   \n",
       "6845  9810       trauma  Montgomery County, MD   \n",
       "\n",
       "                                                   text  target  \n",
       "2644  So you have a new weapon that can cause un-ima...       1  \n",
       "2227  The f$&amp;@ing things I do for #GISHWHES Just...       0  \n",
       "5448  DT @georgegalloway: RT @Galloway4Mayor: ÛÏThe...       1  \n",
       "132   Aftershock back to school kick off was great. ...       0  \n",
       "6845  in response to trauma Children of Addicts deve...       0  "
      ]
     },
     "execution_count": 19,
     "metadata": {},
     "output_type": "execute_result"
    }
   ],
   "source": [
    "train_df_shuffled = train_df.sample(frac=1, random_state=42)\n",
    "train_df_shuffled.head()"
   ]
  },
  {
   "cell_type": "code",
   "execution_count": 9,
   "id": "be6cef31-a94d-491f-940c-310240a58795",
   "metadata": {},
   "outputs": [
    {
     "data": {
      "text/plain": [
       "0    4342\n",
       "1    3271\n",
       "Name: target, dtype: int64"
      ]
     },
     "execution_count": 9,
     "metadata": {},
     "output_type": "execute_result"
    }
   ],
   "source": [
    "train_df.target.value_counts()"
   ]
  },
  {
   "cell_type": "markdown",
   "id": "ffaba743-6fd4-42e2-9037-89f9688a0021",
   "metadata": {},
   "source": [
    "## split into validation"
   ]
  },
  {
   "cell_type": "code",
   "execution_count": 23,
   "id": "2fec72ab-84f3-4539-97bf-2ea68b6669db",
   "metadata": {},
   "outputs": [],
   "source": [
    "from sklearn.model_selection import train_test_split\n",
    "\n",
    "train_text, val_text, train_label, val_label = train_test_split(train_df_shuffled[\"text\"].to_numpy(),\n",
    "                                train_df_shuffled[\"target\"].to_numpy(), test_size=.1, random_state=42)"
   ]
  },
  {
   "cell_type": "code",
   "execution_count": 24,
   "id": "f6210de2-758a-4e66-a1a8-4236a85c5778",
   "metadata": {},
   "outputs": [
    {
     "data": {
      "text/plain": [
       "(6851, 6851, 762, 762)"
      ]
     },
     "execution_count": 24,
     "metadata": {},
     "output_type": "execute_result"
    }
   ],
   "source": [
    "len(train_text), len(train_label), len(val_text), len(val_label)"
   ]
  },
  {
   "cell_type": "code",
   "execution_count": 26,
   "id": "6fe0ca74-c324-4287-88aa-7e762b8dede1",
   "metadata": {},
   "outputs": [
    {
     "data": {
      "text/plain": [
       "(array(['@mogacola @zamtriossu i screamed after hitting tweet',\n",
       "        'Imagine getting flattened by Kurt Zouma',\n",
       "        '@Gurmeetramrahim #MSGDoing111WelfareWorks Green S welfare force ke appx 65000 members har time disaster victim ki help ke liye tyar hai....',\n",
       "        \"@shakjn @C7 @Magnums im shaking in fear he's gonna hack the planet\",\n",
       "        'Somehow find you and I collide http://t.co/Ee8RpOahPk',\n",
       "        '@EvaHanderek @MarleyKnysh great times until the bus driver held us hostage in the mall parking lot lmfao',\n",
       "        'destroy the free fandom honestly',\n",
       "        'Weapons stolen from National Guard Armory in New Albany still missing #Gunsense http://t.co/lKNU8902JE',\n",
       "        '@wfaaweather Pete when will the heat wave pass? Is it really going to be mid month? Frisco Boy Scouts have a canoe trip in Okla.',\n",
       "        'Patient-reported outcomes in long-term survivors of metastatic colorectal cancer - British Journal of Surgery http://t.co/5Yl4DC1Tqt'],\n",
       "       dtype=object),\n",
       " array([0, 0, 1, 0, 0, 1, 1, 0, 1, 1]))"
      ]
     },
     "execution_count": 26,
     "metadata": {},
     "output_type": "execute_result"
    }
   ],
   "source": [
    "train_text[:10], train_label[:10]"
   ]
  },
  {
   "cell_type": "markdown",
   "id": "77016a8f-a4c4-4381-814e-5d682e651451",
   "metadata": {},
   "source": [
    "## Vectorizing words\n"
   ]
  },
  {
   "cell_type": "code",
   "execution_count": 30,
   "id": "d285e995-9b6f-4768-8fc8-a6ea3f68a94e",
   "metadata": {},
   "outputs": [],
   "source": [
    "import tensorflow as tf\n",
    "from tensorflow.keras.layers import TextVectorization"
   ]
  },
  {
   "cell_type": "code",
   "execution_count": 33,
   "id": "18e82a6d-2c53-47ea-a111-9926ec9089e6",
   "metadata": {},
   "outputs": [
    {
     "data": {
      "text/plain": [
       "15"
      ]
     },
     "execution_count": 33,
     "metadata": {},
     "output_type": "execute_result"
    }
   ],
   "source": [
    "round(sum([len(i.split()) for i in train_text])/len(train_text)) # avg length of text"
   ]
  },
  {
   "cell_type": "code",
   "execution_count": 34,
   "id": "5be7df60-c8d4-49f2-b97d-63643d1ec112",
   "metadata": {},
   "outputs": [],
   "source": [
    "max_vocab_length =10000\n",
    "max_length = 15"
   ]
  },
  {
   "cell_type": "code",
   "execution_count": 40,
   "id": "26efa7e6-3917-4e4e-a190-9ec9b3dbdf3c",
   "metadata": {
    "tags": []
   },
   "outputs": [],
   "source": [
    "textvectorization = TextVectorization(max_tokens=max_vocab_length # length of volcabulary(rest to <OOV>)\n",
    "                                      , standardize='lower_and_strip_punctuation',\n",
    "    split='whitespace',ngrams=None,# ngram size\n",
    "                                      output_mode='int', # to numbers\n",
    "                                      output_sequence_length=max_length,# pad to max length\n",
    "                                      pad_to_max_tokens=True  \n",
    "                                     )"
   ]
  },
  {
   "cell_type": "code",
   "execution_count": 41,
   "id": "c777e60c-f689-4c8d-8fbe-7214d0dd573a",
   "metadata": {},
   "outputs": [
    {
     "name": "stderr",
     "output_type": "stream",
     "text": [
      "2023-03-23 07:07:23.722182: I tensorflow/core/grappler/optimizers/custom_graph_optimizer_registry.cc:114] Plugin optimizer for device_type GPU is enabled.\n"
     ]
    }
   ],
   "source": [
    "textvectorization.adapt(train_text)"
   ]
  },
  {
   "cell_type": "code",
   "execution_count": 42,
   "id": "5eb6b73a-a06f-4bac-b795-7be343676faf",
   "metadata": {},
   "outputs": [
    {
     "data": {
      "text/plain": [
       "<tf.Tensor: shape=(1, 15), dtype=int64, numpy=\n",
       "array([[264,   3, 232,   4,  13, 698,   0,   0,   0,   0,   0,   0,   0,\n",
       "          0,   0]])>"
      ]
     },
     "execution_count": 42,
     "metadata": {},
     "output_type": "execute_result"
    }
   ],
   "source": [
    "sample = \"There's a flood in my street\"\n",
    "textvectorization([sample])"
   ]
  },
  {
   "cell_type": "code",
   "execution_count": 43,
   "id": "9992fa6b-7f99-436e-8bbb-fcf0a2bc0359",
   "metadata": {},
   "outputs": [],
   "source": [
    "import random"
   ]
  },
  {
   "cell_type": "code",
   "execution_count": 48,
   "id": "fdfc0fa4-c14d-4b90-afaf-3fbb20ce23a1",
   "metadata": {},
   "outputs": [
    {
     "name": "stdout",
     "output_type": "stream",
     "text": [
      "#NP Metallica - Damage Inc\n",
      "tf.Tensor(\n",
      "[[2836    1  233 5376    0    0    0    0    0    0    0    0    0    0\n",
      "     0]], shape=(1, 15), dtype=int64)\n"
     ]
    }
   ],
   "source": [
    "random_choice = random.choice(train_text)\n",
    "print(random_choice)\n",
    "print(textvectorization([random_choice]))"
   ]
  },
  {
   "cell_type": "code",
   "execution_count": 52,
   "id": "6c942009-53ad-444f-a976-1e2b5eab5de0",
   "metadata": {},
   "outputs": [
    {
     "data": {
      "text/plain": [
       "(10000,\n",
       " ['', '[UNK]', 'the', 'a', 'in'],\n",
       " ['pages', 'paeds', 'pads', 'padres', 'paddytomlinson1'])"
      ]
     },
     "execution_count": 52,
     "metadata": {},
     "output_type": "execute_result"
    }
   ],
   "source": [
    "our_vocabulary = textvectorization.get_vocabulary()\n",
    "len(our_vocabulary), our_vocabulary[:5], our_vocabulary[-5:]"
   ]
  },
  {
   "cell_type": "markdown",
   "id": "92115a3c-8a8c-4843-adb8-1a55b9e71d63",
   "metadata": {},
   "source": [
    "# Creating embedding layer\n"
   ]
  },
  {
   "cell_type": "code",
   "execution_count": 56,
   "id": "52ffcdf7-6a55-438c-83d8-821668ebcca5",
   "metadata": {},
   "outputs": [
    {
     "data": {
      "text/plain": [
       "<keras.layers.core.embedding.Embedding at 0x29a5911f0>"
      ]
     },
     "execution_count": 56,
     "metadata": {},
     "output_type": "execute_result"
    }
   ],
   "source": [
    "embedding = tf.keras.layers.Embedding(\n",
    "    input_dim=max_vocab_length,\n",
    "    output_dim=128, # set /8 when using gpu\n",
    "    embeddings_initializer='uniform',\n",
    "    embeddings_regularizer=None,\n",
    "    activity_regularizer=None,\n",
    "    embeddings_constraint=None,\n",
    "    mask_zero=False,\n",
    "    input_length=max_length\n",
    ")\n",
    "\n",
    "embedding"
   ]
  },
  {
   "cell_type": "code",
   "execution_count": 66,
   "id": "1f9385d0-676f-4d8b-a56a-9c1805e52b49",
   "metadata": {},
   "outputs": [
    {
     "name": "stdout",
     "output_type": "stream",
     "text": [
      "Sharing to help our cousin's family http://t.co/LSJowGYvQh\n",
      "tf.Tensor(\n",
      "[[4647    5  148  103 5902  302    1    0    0    0    0    0    0    0\n",
      "     0]], shape=(1, 15), dtype=int64)\n"
     ]
    }
   ],
   "source": [
    "random_choice = random.choice(train_text)\n",
    "print(random_choice)\n",
    "vector = textvectorization([random_choice])\n",
    "print(vector)\n",
    "sample_embed = embedding(vector)"
   ]
  },
  {
   "cell_type": "code",
   "execution_count": 69,
   "id": "cda0bc2b-5489-4475-a048-61513992fc2e",
   "metadata": {},
   "outputs": [
    {
     "data": {
      "text/plain": [
       "(<tf.Tensor: shape=(128,), dtype=float32, numpy=\n",
       " array([-0.03114157,  0.01967374, -0.04736068, -0.01796595, -0.04870046,\n",
       "        -0.0001228 , -0.03656517,  0.02118117, -0.02806422,  0.02665761,\n",
       "        -0.02381406, -0.02557567, -0.048534  ,  0.02123635,  0.04308787,\n",
       "         0.015731  ,  0.02820578,  0.03733463,  0.01771598,  0.04169016,\n",
       "         0.04608223,  0.00220302, -0.0491954 ,  0.02065032, -0.04925536,\n",
       "        -0.02303215, -0.04448877,  0.01592794, -0.04267229, -0.00565269,\n",
       "        -0.03344625,  0.03074105, -0.04407436,  0.00965048,  0.00337793,\n",
       "        -0.02072367,  0.00022598, -0.00970417,  0.00411699,  0.01119586,\n",
       "        -0.04921091,  0.02989355,  0.02834091,  0.04475928, -0.0474855 ,\n",
       "        -0.04036152, -0.00068638, -0.03608254, -0.02498015, -0.03486028,\n",
       "         0.02828873,  0.03030254,  0.04037792, -0.04536163,  0.01363734,\n",
       "        -0.00410252, -0.0279858 ,  0.0090971 ,  0.02767198,  0.02126597,\n",
       "        -0.04666856, -0.02895921, -0.01100662, -0.02405472,  0.0262517 ,\n",
       "        -0.04849511, -0.01929963, -0.0468083 , -0.00919782, -0.01102855,\n",
       "         0.01107346, -0.016529  ,  0.00328162,  0.00156162, -0.02922638,\n",
       "        -0.03007269, -0.00629671,  0.04969553,  0.03664808,  0.04599588,\n",
       "        -0.03993946,  0.02228111, -0.04306377,  0.01999528,  0.04060855,\n",
       "        -0.02116134,  0.00571148,  0.04809267, -0.01486618, -0.03829668,\n",
       "         0.01670455,  0.03350661, -0.01255114,  0.00904204,  0.03768   ,\n",
       "        -0.01195144, -0.01299082, -0.03640677, -0.0102142 , -0.01930791,\n",
       "        -0.02663486, -0.03019509,  0.03994569, -0.04858139,  0.03883391,\n",
       "         0.00012294, -0.02316803,  0.04794187, -0.02757875, -0.01058792,\n",
       "         0.03773602,  0.04451687, -0.00754621, -0.03707521, -0.03919972,\n",
       "        -0.03455935, -0.00584569,  0.01358718,  0.03586309, -0.04653511,\n",
       "        -0.04465178, -0.04952227,  0.02342154, -0.00045009,  0.04022226,\n",
       "        -0.01263685, -0.04337568,  0.02771856], dtype=float32)>,\n",
       " TensorShape([128]),\n",
       " \"Sharing to help our cousin's family http://t.co/LSJowGYvQh\")"
      ]
     },
     "execution_count": 69,
     "metadata": {},
     "output_type": "execute_result"
    }
   ],
   "source": [
    "sample_embed[0][0], sample_embed[0][0].shape, random_choice"
   ]
  },
  {
   "cell_type": "markdown",
   "id": "6fde78af-a742-41d8-a86e-2f2d876e264f",
   "metadata": {},
   "source": [
    "# Experiment list\n",
    "\n",
    "- naive bayes with tf-idf\n",
    "- dense model\n",
    "- LSTM(RNN)\n",
    "- GRU (RNN) (gated recurrent unit)\n",
    "- Bidrectional-LSTM (RNN)\n",
    "- 1d CNN\n",
    "- TF pretrained model feature extractor\n",
    "- TF pretrained model feature extractor (10% data)"
   ]
  },
  {
   "cell_type": "code",
   "execution_count": 75,
   "id": "694ac654-d8c8-41e1-8e3e-a4a0f80004b9",
   "metadata": {},
   "outputs": [],
   "source": [
    "\n",
    "model_0 = tf.keras.models.Sequential()\n",
    "model_0.add(tf.keras.layers.Input(shape=(1,), dtype=tf.string, name=\"input_layer\"))\n",
    "\n",
    "model_0.add(textvectorization)\n",
    "\n",
    "model_0.add(embedding)\n",
    "\n"
   ]
  },
  {
   "cell_type": "code",
   "execution_count": 76,
   "id": "31627ae8-b634-4619-9c68-06cc9920c97a",
   "metadata": {},
   "outputs": [
    {
     "name": "stdout",
     "output_type": "stream",
     "text": [
      "1/1 [==============================] - 0s 78ms/step\n"
     ]
    },
    {
     "name": "stderr",
     "output_type": "stream",
     "text": [
      "2023-03-23 07:37:48.208123: I tensorflow/core/grappler/optimizers/custom_graph_optimizer_registry.cc:114] Plugin optimizer for device_type GPU is enabled.\n"
     ]
    },
    {
     "data": {
      "text/plain": [
       "array([[[ 0.03648401, -0.01343995,  0.02726519, ..., -0.01601354,\n",
       "          0.0075595 , -0.03912764],\n",
       "        [-0.00736792, -0.04412271,  0.03118983, ..., -0.01487361,\n",
       "         -0.03070074,  0.04722324],\n",
       "        [-0.03944248,  0.03668461, -0.02891522, ...,  0.01199384,\n",
       "          0.03239999, -0.03269011],\n",
       "        ...,\n",
       "        [ 0.02208832,  0.04889195,  0.0108219 , ...,  0.00643492,\n",
       "          0.00560063, -0.02738208],\n",
       "        [ 0.03689495, -0.04735472,  0.01407543, ..., -0.03450272,\n",
       "          0.04619033, -0.02157602],\n",
       "        [-0.02808598, -0.01386461,  0.00114881, ...,  0.02699247,\n",
       "          0.04818046, -0.01146827]]], dtype=float32)"
      ]
     },
     "execution_count": 76,
     "metadata": {},
     "output_type": "execute_result"
    }
   ],
   "source": [
    "random_choice = random.choice(train_text)\n",
    "model_0.predict([random_choice])"
   ]
  },
  {
   "cell_type": "code",
   "execution_count": null,
   "id": "6974019f-41b7-4854-b513-837930860e04",
   "metadata": {},
   "outputs": [],
   "source": []
  }
 ],
 "metadata": {
  "kernelspec": {
   "display_name": "Python 3 (ipykernel)",
   "language": "python",
   "name": "python3"
  },
  "language_info": {
   "codemirror_mode": {
    "name": "ipython",
    "version": 3
   },
   "file_extension": ".py",
   "mimetype": "text/x-python",
   "name": "python",
   "nbconvert_exporter": "python",
   "pygments_lexer": "ipython3",
   "version": "3.8.13"
  }
 },
 "nbformat": 4,
 "nbformat_minor": 5
}
