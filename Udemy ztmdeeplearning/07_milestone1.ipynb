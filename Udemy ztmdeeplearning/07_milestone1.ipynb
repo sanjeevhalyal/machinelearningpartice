{
 "cells": [
  {
   "cell_type": "code",
   "execution_count": 1,
   "id": "ae4370b2-67c2-49d9-bffc-526247713990",
   "metadata": {},
   "outputs": [],
   "source": [
    "# from tensorflow.keras import mixed_precision"
   ]
  },
  {
   "cell_type": "code",
   "execution_count": 2,
   "id": "9f43aaac-7f9f-478b-8669-2f31b703bed8",
   "metadata": {},
   "outputs": [],
   "source": [
    "# policy = mixed_precision.Policy('mixed_float16')\n",
    "# mixed_precision.set_global_policy(policy)\n",
    "# !wget https://raw.githubusercontent.com/mrdbourke/tensorflow-deep-learning/main/extras/helper_functions.py"
   ]
  },
  {
   "cell_type": "code",
   "execution_count": 3,
   "id": "c7836c50-b46e-41b8-a33f-44a611827666",
   "metadata": {},
   "outputs": [],
   "source": [
    "from helper_functions import  plot_loss_curves, create_tensorboard_callback, compare_historys\n",
    "\n",
    "import tensorflow as tf"
   ]
  },
  {
   "cell_type": "code",
   "execution_count": 4,
   "id": "1b217d9f-5c36-4625-9577-5b106cb06676",
   "metadata": {
    "tags": []
   },
   "outputs": [
    {
     "name": "stdout",
     "output_type": "stream",
     "text": [
      "Metal device set to: Apple M1 Pro\n"
     ]
    },
    {
     "name": "stderr",
     "output_type": "stream",
     "text": [
      "2023-03-21 08:14:42.296123: I tensorflow/core/common_runtime/pluggable_device/pluggable_device_factory.cc:306] Could not identify NUMA node of platform GPU ID 0, defaulting to 0. Your kernel may not have been built with NUMA support.\n",
      "2023-03-21 08:14:42.296355: I tensorflow/core/common_runtime/pluggable_device/pluggable_device_factory.cc:272] Created TensorFlow device (/job:localhost/replica:0/task:0/device:GPU:0 with 0 MB memory) -> physical PluggableDevice (device: 0, name: METAL, pci bus id: <undefined>)\n"
     ]
    }
   ],
   "source": [
    "import tensorflow_datasets as tfds\n",
    "\n",
    "ds = tfds.load('food101')\n"
   ]
  },
  {
   "cell_type": "code",
   "execution_count": 5,
   "id": "4dc436a4-cc97-47ac-b011-8c89bd838ad2",
   "metadata": {
    "tags": []
   },
   "outputs": [
    {
     "name": "stderr",
     "output_type": "stream",
     "text": [
      "2023-03-21 08:14:42.404507: W tensorflow/core/platform/cloud/google_auth_provider.cc:184] All attempts to get a Google authentication bearer token failed, returning an empty token. Retrieving token from files failed with \"NOT_FOUND: Could not locate the credentials file.\". Retrieving token from GCE failed with \"FAILED_PRECONDITION: Error executing an HTTP request: libcurl code 6 meaning 'Couldn't resolve host name', error details: Could not resolve host: metadata\".\n"
     ]
    },
    {
     "data": {
      "text/plain": [
       "['abstract_reasoning',\n",
       " 'accentdb',\n",
       " 'aeslc',\n",
       " 'aflw2k3d',\n",
       " 'ag_news_subset',\n",
       " 'ai2_arc',\n",
       " 'ai2_arc_with_ir',\n",
       " 'amazon_us_reviews',\n",
       " 'anli',\n",
       " 'answer_equivalence',\n",
       " 'arc',\n",
       " 'asqa',\n",
       " 'asset',\n",
       " 'assin2',\n",
       " 'bair_robot_pushing_small',\n",
       " 'bccd',\n",
       " 'beans',\n",
       " 'bee_dataset',\n",
       " 'beir',\n",
       " 'big_patent',\n",
       " 'bigearthnet',\n",
       " 'billsum',\n",
       " 'binarized_mnist',\n",
       " 'binary_alpha_digits',\n",
       " 'ble_wind_field',\n",
       " 'blimp',\n",
       " 'booksum',\n",
       " 'bool_q',\n",
       " 'bucc',\n",
       " 'c4',\n",
       " 'c4_wsrs',\n",
       " 'caltech101',\n",
       " 'caltech_birds2010',\n",
       " 'caltech_birds2011',\n",
       " 'cardiotox',\n",
       " 'cars196',\n",
       " 'cassava',\n",
       " 'cats_vs_dogs',\n",
       " 'celeb_a',\n",
       " 'celeb_a_hq',\n",
       " 'cfq',\n",
       " 'cherry_blossoms',\n",
       " 'chexpert',\n",
       " 'cifar10',\n",
       " 'cifar100',\n",
       " 'cifar100_n',\n",
       " 'cifar10_1',\n",
       " 'cifar10_corrupted',\n",
       " 'cifar10_n',\n",
       " 'citrus_leaves',\n",
       " 'cityscapes',\n",
       " 'civil_comments',\n",
       " 'clevr',\n",
       " 'clic',\n",
       " 'clinc_oos',\n",
       " 'cmaterdb',\n",
       " 'cnn_dailymail',\n",
       " 'coco',\n",
       " 'coco_captions',\n",
       " 'coil100',\n",
       " 'colorectal_histology',\n",
       " 'colorectal_histology_large',\n",
       " 'common_voice',\n",
       " 'conll2002',\n",
       " 'conll2003',\n",
       " 'controlled_noisy_web_labels',\n",
       " 'coqa',\n",
       " 'cos_e',\n",
       " 'cosmos_qa',\n",
       " 'covid19',\n",
       " 'covid19sum',\n",
       " 'crema_d',\n",
       " 'criteo',\n",
       " 'cs_restaurants',\n",
       " 'curated_breast_imaging_ddsm',\n",
       " 'cycle_gan',\n",
       " 'd4rl_adroit_door',\n",
       " 'd4rl_adroit_hammer',\n",
       " 'd4rl_adroit_pen',\n",
       " 'd4rl_adroit_relocate',\n",
       " 'd4rl_antmaze',\n",
       " 'd4rl_mujoco_ant',\n",
       " 'd4rl_mujoco_halfcheetah',\n",
       " 'd4rl_mujoco_hopper',\n",
       " 'd4rl_mujoco_walker2d',\n",
       " 'dart',\n",
       " 'davis',\n",
       " 'deep1b',\n",
       " 'deep_weeds',\n",
       " 'definite_pronoun_resolution',\n",
       " 'dementiabank',\n",
       " 'diabetic_retinopathy_detection',\n",
       " 'diamonds',\n",
       " 'div2k',\n",
       " 'dmlab',\n",
       " 'doc_nli',\n",
       " 'dolphin_number_word',\n",
       " 'domainnet',\n",
       " 'downsampled_imagenet',\n",
       " 'drop',\n",
       " 'dsprites',\n",
       " 'dtd',\n",
       " 'duke_ultrasound',\n",
       " 'e2e_cleaned',\n",
       " 'efron_morris75',\n",
       " 'emnist',\n",
       " 'eraser_multi_rc',\n",
       " 'esnli',\n",
       " 'eurosat',\n",
       " 'fashion_mnist',\n",
       " 'flic',\n",
       " 'flores',\n",
       " 'food101',\n",
       " 'forest_fires',\n",
       " 'fuss',\n",
       " 'gap',\n",
       " 'geirhos_conflict_stimuli',\n",
       " 'gem',\n",
       " 'genomics_ood',\n",
       " 'german_credit_numeric',\n",
       " 'gigaword',\n",
       " 'glove100_angular',\n",
       " 'glue',\n",
       " 'goemotions',\n",
       " 'gov_report',\n",
       " 'gpt3',\n",
       " 'gref',\n",
       " 'groove',\n",
       " 'grounded_scan',\n",
       " 'gsm8k',\n",
       " 'gtzan',\n",
       " 'gtzan_music_speech',\n",
       " 'hellaswag',\n",
       " 'higgs',\n",
       " 'hillstrom',\n",
       " 'horses_or_humans',\n",
       " 'howell',\n",
       " 'i_naturalist2017',\n",
       " 'i_naturalist2018',\n",
       " 'i_naturalist2021',\n",
       " 'imagenet2012',\n",
       " 'imagenet2012_corrupted',\n",
       " 'imagenet2012_fewshot',\n",
       " 'imagenet2012_multilabel',\n",
       " 'imagenet2012_real',\n",
       " 'imagenet2012_subset',\n",
       " 'imagenet_a',\n",
       " 'imagenet_lt',\n",
       " 'imagenet_r',\n",
       " 'imagenet_resized',\n",
       " 'imagenet_sketch',\n",
       " 'imagenet_v2',\n",
       " 'imagenette',\n",
       " 'imagewang',\n",
       " 'imdb_reviews',\n",
       " 'irc_disentanglement',\n",
       " 'iris',\n",
       " 'istella',\n",
       " 'kddcup99',\n",
       " 'kitti',\n",
       " 'kmnist',\n",
       " 'laion400m',\n",
       " 'lambada',\n",
       " 'lfw',\n",
       " 'librispeech',\n",
       " 'librispeech_lm',\n",
       " 'libritts',\n",
       " 'ljspeech',\n",
       " 'lm1b',\n",
       " 'locomotion',\n",
       " 'lost_and_found',\n",
       " 'lsun',\n",
       " 'lvis',\n",
       " 'malaria',\n",
       " 'math_dataset',\n",
       " 'math_qa',\n",
       " 'mctaco',\n",
       " 'media_sum',\n",
       " 'mlqa',\n",
       " 'mnist',\n",
       " 'mnist_corrupted',\n",
       " 'movie_lens',\n",
       " 'movie_rationales',\n",
       " 'movielens',\n",
       " 'moving_mnist',\n",
       " 'mrqa',\n",
       " 'mslr_web',\n",
       " 'mt_opt',\n",
       " 'mtnt',\n",
       " 'multi_news',\n",
       " 'multi_nli',\n",
       " 'multi_nli_mismatch',\n",
       " 'natural_instructions',\n",
       " 'natural_questions',\n",
       " 'natural_questions_open',\n",
       " 'newsroom',\n",
       " 'nsynth',\n",
       " 'nyu_depth_v2',\n",
       " 'ogbg_molpcba',\n",
       " 'omniglot',\n",
       " 'open_images_challenge2019_detection',\n",
       " 'open_images_v4',\n",
       " 'openbookqa',\n",
       " 'opinion_abstracts',\n",
       " 'opinosis',\n",
       " 'opus',\n",
       " 'oxford_flowers102',\n",
       " 'oxford_iiit_pet',\n",
       " 'para_crawl',\n",
       " 'pass',\n",
       " 'patch_camelyon',\n",
       " 'paws_wiki',\n",
       " 'paws_x_wiki',\n",
       " 'penguins',\n",
       " 'pet_finder',\n",
       " 'pg19',\n",
       " 'piqa',\n",
       " 'places365_small',\n",
       " 'placesfull',\n",
       " 'plant_leaves',\n",
       " 'plant_village',\n",
       " 'plantae_k',\n",
       " 'protein_net',\n",
       " 'q_re_cc',\n",
       " 'qa4mre',\n",
       " 'qasc',\n",
       " 'quac',\n",
       " 'quality',\n",
       " 'quickdraw_bitmap',\n",
       " 'race',\n",
       " 'radon',\n",
       " 'reddit',\n",
       " 'reddit_disentanglement',\n",
       " 'reddit_tifu',\n",
       " 'ref_coco',\n",
       " 'resisc45',\n",
       " 'rlu_atari',\n",
       " 'rlu_atari_checkpoints',\n",
       " 'rlu_atari_checkpoints_ordered',\n",
       " 'rlu_control_suite',\n",
       " 'rlu_dmlab_explore_object_rewards_few',\n",
       " 'rlu_dmlab_explore_object_rewards_many',\n",
       " 'rlu_dmlab_rooms_select_nonmatching_object',\n",
       " 'rlu_dmlab_rooms_watermaze',\n",
       " 'rlu_dmlab_seekavoid_arena01',\n",
       " 'rlu_locomotion',\n",
       " 'rlu_rwrl',\n",
       " 'robomimic_ph',\n",
       " 'robonet',\n",
       " 'robosuite_panda_pick_place_can',\n",
       " 'rock_paper_scissors',\n",
       " 'rock_you',\n",
       " 's3o4d',\n",
       " 'salient_span_wikipedia',\n",
       " 'samsum',\n",
       " 'savee',\n",
       " 'scan',\n",
       " 'scene_parse150',\n",
       " 'schema_guided_dialogue',\n",
       " 'sci_tail',\n",
       " 'scicite',\n",
       " 'scientific_papers',\n",
       " 'scrolls',\n",
       " 'sentiment140',\n",
       " 'shapes3d',\n",
       " 'sift1m',\n",
       " 'simpte',\n",
       " 'siscore',\n",
       " 'smallnorb',\n",
       " 'smartwatch_gestures',\n",
       " 'snli',\n",
       " 'so2sat',\n",
       " 'speech_commands',\n",
       " 'spoken_digit',\n",
       " 'squad',\n",
       " 'squad_question_generation',\n",
       " 'stanford_dogs',\n",
       " 'stanford_online_products',\n",
       " 'star_cfq',\n",
       " 'starcraft_video',\n",
       " 'stl10',\n",
       " 'story_cloze',\n",
       " 'summscreen',\n",
       " 'sun397',\n",
       " 'super_glue',\n",
       " 'svhn_cropped',\n",
       " 'symmetric_solids',\n",
       " 'tao',\n",
       " 'tatoeba',\n",
       " 'ted_hrlr_translate',\n",
       " 'ted_multi_translate',\n",
       " 'tedlium',\n",
       " 'tf_flowers',\n",
       " 'the300w_lp',\n",
       " 'tiny_shakespeare',\n",
       " 'titanic',\n",
       " 'trec',\n",
       " 'trivia_qa',\n",
       " 'tydi_qa',\n",
       " 'uc_merced',\n",
       " 'ucf101',\n",
       " 'unified_qa',\n",
       " 'universal_dependencies',\n",
       " 'unnatural_instructions',\n",
       " 'user_libri_audio',\n",
       " 'user_libri_text',\n",
       " 'vctk',\n",
       " 'visual_domain_decathlon',\n",
       " 'voc',\n",
       " 'voxceleb',\n",
       " 'voxforge',\n",
       " 'waymo_open_dataset',\n",
       " 'web_graph',\n",
       " 'web_nlg',\n",
       " 'web_questions',\n",
       " 'wider_face',\n",
       " 'wiki40b',\n",
       " 'wiki_auto',\n",
       " 'wiki_bio',\n",
       " 'wiki_dialog',\n",
       " 'wiki_table_questions',\n",
       " 'wiki_table_text',\n",
       " 'wikiann',\n",
       " 'wikihow',\n",
       " 'wikipedia',\n",
       " 'wikipedia_toxicity_subtypes',\n",
       " 'wine_quality',\n",
       " 'winogrande',\n",
       " 'wit',\n",
       " 'wit_kaggle',\n",
       " 'wmt13_translate',\n",
       " 'wmt14_translate',\n",
       " 'wmt15_translate',\n",
       " 'wmt16_translate',\n",
       " 'wmt17_translate',\n",
       " 'wmt18_translate',\n",
       " 'wmt19_translate',\n",
       " 'wmt_t2t_translate',\n",
       " 'wmt_translate',\n",
       " 'wordnet',\n",
       " 'wsc273',\n",
       " 'xnli',\n",
       " 'xquad',\n",
       " 'xsum',\n",
       " 'xtreme_pawsx',\n",
       " 'xtreme_pos',\n",
       " 'xtreme_s',\n",
       " 'xtreme_xnli',\n",
       " 'yahoo_ltrc',\n",
       " 'yelp_polarity_reviews',\n",
       " 'yes_no',\n",
       " 'youtube_vis',\n",
       " 'huggingface:acronym_identification',\n",
       " 'huggingface:ade_corpus_v2',\n",
       " 'huggingface:adv_glue',\n",
       " 'huggingface:adversarial_qa',\n",
       " 'huggingface:aeslc',\n",
       " 'huggingface:afrikaans_ner_corpus',\n",
       " 'huggingface:ag_news',\n",
       " 'huggingface:ai2_arc',\n",
       " 'huggingface:air_dialogue',\n",
       " 'huggingface:ajgt_twitter_ar',\n",
       " 'huggingface:allegro_reviews',\n",
       " 'huggingface:allocine',\n",
       " 'huggingface:alt',\n",
       " 'huggingface:amazon_polarity',\n",
       " 'huggingface:amazon_reviews_multi',\n",
       " 'huggingface:amazon_us_reviews',\n",
       " 'huggingface:ambig_qa',\n",
       " 'huggingface:americas_nli',\n",
       " 'huggingface:ami',\n",
       " 'huggingface:amttl',\n",
       " 'huggingface:anli',\n",
       " 'huggingface:app_reviews',\n",
       " 'huggingface:aqua_rat',\n",
       " 'huggingface:aquamuse',\n",
       " 'huggingface:ar_cov19',\n",
       " 'huggingface:ar_res_reviews',\n",
       " 'huggingface:ar_sarcasm',\n",
       " 'huggingface:arabic_billion_words',\n",
       " 'huggingface:arabic_pos_dialect',\n",
       " 'huggingface:arabic_speech_corpus',\n",
       " 'huggingface:arcd',\n",
       " 'huggingface:arsentd_lev',\n",
       " 'huggingface:art',\n",
       " 'huggingface:arxiv_dataset',\n",
       " 'huggingface:ascent_kb',\n",
       " 'huggingface:aslg_pc12',\n",
       " 'huggingface:asnq',\n",
       " 'huggingface:asset',\n",
       " 'huggingface:assin',\n",
       " 'huggingface:assin2',\n",
       " 'huggingface:atomic',\n",
       " 'huggingface:autshumato',\n",
       " 'huggingface:babi_qa',\n",
       " 'huggingface:banking77',\n",
       " 'huggingface:bbaw_egyptian',\n",
       " 'huggingface:bbc_hindi_nli',\n",
       " 'huggingface:bc2gm_corpus',\n",
       " 'huggingface:beans',\n",
       " 'huggingface:best2009',\n",
       " 'huggingface:bianet',\n",
       " 'huggingface:bible_para',\n",
       " 'huggingface:big_patent',\n",
       " 'huggingface:bigbench',\n",
       " 'huggingface:billsum',\n",
       " 'huggingface:bing_coronavirus_query_set',\n",
       " 'huggingface:biomrc',\n",
       " 'huggingface:biosses',\n",
       " 'huggingface:biwi_kinect_head_pose',\n",
       " 'huggingface:blbooks',\n",
       " 'huggingface:blbooksgenre',\n",
       " 'huggingface:blended_skill_talk',\n",
       " 'huggingface:blimp',\n",
       " 'huggingface:blog_authorship_corpus',\n",
       " 'huggingface:bn_hate_speech',\n",
       " 'huggingface:bnl_newspapers',\n",
       " 'huggingface:bookcorpus',\n",
       " 'huggingface:bookcorpusopen',\n",
       " 'huggingface:boolq',\n",
       " 'huggingface:bprec',\n",
       " 'huggingface:break_data',\n",
       " 'huggingface:brwac',\n",
       " 'huggingface:bsd_ja_en',\n",
       " 'huggingface:bswac',\n",
       " 'huggingface:c3',\n",
       " 'huggingface:c4',\n",
       " 'huggingface:cail2018',\n",
       " 'huggingface:caner',\n",
       " 'huggingface:capes',\n",
       " 'huggingface:casino',\n",
       " 'huggingface:catalonia_independence',\n",
       " 'huggingface:cats_vs_dogs',\n",
       " 'huggingface:cawac',\n",
       " 'huggingface:cbt',\n",
       " 'huggingface:cc100',\n",
       " 'huggingface:cc_news',\n",
       " 'huggingface:ccaligned_multilingual',\n",
       " 'huggingface:cdsc',\n",
       " 'huggingface:cdt',\n",
       " 'huggingface:cedr',\n",
       " 'huggingface:cfq',\n",
       " 'huggingface:chr_en',\n",
       " 'huggingface:cifar10',\n",
       " 'huggingface:cifar100',\n",
       " 'huggingface:circa',\n",
       " 'huggingface:civil_comments',\n",
       " 'huggingface:clickbait_news_bg',\n",
       " 'huggingface:climate_fever',\n",
       " 'huggingface:clinc_oos',\n",
       " 'huggingface:clue',\n",
       " 'huggingface:cmrc2018',\n",
       " 'huggingface:cmu_hinglish_dog',\n",
       " 'huggingface:cnn_dailymail',\n",
       " 'huggingface:coached_conv_pref',\n",
       " 'huggingface:coarse_discourse',\n",
       " 'huggingface:codah',\n",
       " 'huggingface:code_search_net',\n",
       " 'huggingface:code_x_glue_cc_clone_detection_big_clone_bench',\n",
       " 'huggingface:code_x_glue_cc_clone_detection_poj104',\n",
       " 'huggingface:code_x_glue_cc_cloze_testing_all',\n",
       " 'huggingface:code_x_glue_cc_cloze_testing_maxmin',\n",
       " 'huggingface:code_x_glue_cc_code_completion_line',\n",
       " 'huggingface:code_x_glue_cc_code_completion_token',\n",
       " 'huggingface:code_x_glue_cc_code_refinement',\n",
       " 'huggingface:code_x_glue_cc_code_to_code_trans',\n",
       " 'huggingface:code_x_glue_cc_defect_detection',\n",
       " 'huggingface:code_x_glue_ct_code_to_text',\n",
       " 'huggingface:code_x_glue_tc_nl_code_search_adv',\n",
       " 'huggingface:code_x_glue_tc_text_to_code',\n",
       " 'huggingface:code_x_glue_tt_text_to_text',\n",
       " 'huggingface:com_qa',\n",
       " 'huggingface:common_gen',\n",
       " 'huggingface:common_language',\n",
       " 'huggingface:common_voice',\n",
       " 'huggingface:commonsense_qa',\n",
       " 'huggingface:competition_math',\n",
       " 'huggingface:compguesswhat',\n",
       " 'huggingface:conceptnet5',\n",
       " 'huggingface:conceptual_12m',\n",
       " 'huggingface:conceptual_captions',\n",
       " 'huggingface:conll2000',\n",
       " 'huggingface:conll2002',\n",
       " 'huggingface:conll2003',\n",
       " 'huggingface:conll2012_ontonotesv5',\n",
       " 'huggingface:conllpp',\n",
       " 'huggingface:consumer-finance-complaints',\n",
       " 'huggingface:conv_ai',\n",
       " 'huggingface:conv_ai_2',\n",
       " 'huggingface:conv_ai_3',\n",
       " 'huggingface:conv_questions',\n",
       " 'huggingface:coqa',\n",
       " 'huggingface:cord19',\n",
       " 'huggingface:cornell_movie_dialog',\n",
       " 'huggingface:cos_e',\n",
       " 'huggingface:cosmos_qa',\n",
       " 'huggingface:counter',\n",
       " 'huggingface:covid_qa_castorini',\n",
       " 'huggingface:covid_qa_deepset',\n",
       " 'huggingface:covid_qa_ucsd',\n",
       " 'huggingface:covid_tweets_japanese',\n",
       " 'huggingface:covost2',\n",
       " 'huggingface:cppe-5',\n",
       " 'huggingface:craigslist_bargains',\n",
       " 'huggingface:crawl_domain',\n",
       " 'huggingface:crd3',\n",
       " 'huggingface:crime_and_punish',\n",
       " 'huggingface:crows_pairs',\n",
       " 'huggingface:cryptonite',\n",
       " 'huggingface:cs_restaurants',\n",
       " 'huggingface:cuad',\n",
       " 'huggingface:curiosity_dialogs',\n",
       " 'huggingface:daily_dialog',\n",
       " 'huggingface:dane',\n",
       " 'huggingface:danish_political_comments',\n",
       " 'huggingface:dart',\n",
       " 'huggingface:datacommons_factcheck',\n",
       " 'huggingface:dbpedia_14',\n",
       " 'huggingface:dbrd',\n",
       " 'huggingface:deal_or_no_dialog',\n",
       " 'huggingface:definite_pronoun_resolution',\n",
       " 'huggingface:dengue_filipino',\n",
       " 'huggingface:dialog_re',\n",
       " 'huggingface:diplomacy_detection',\n",
       " 'huggingface:disaster_response_messages',\n",
       " 'huggingface:discofuse',\n",
       " 'huggingface:discovery',\n",
       " 'huggingface:disfl_qa',\n",
       " 'huggingface:doc2dial',\n",
       " 'huggingface:docred',\n",
       " 'huggingface:doqa',\n",
       " 'huggingface:dream',\n",
       " 'huggingface:drop',\n",
       " 'huggingface:duorc',\n",
       " 'huggingface:dutch_social',\n",
       " 'huggingface:dyk',\n",
       " 'huggingface:e2e_nlg',\n",
       " 'huggingface:e2e_nlg_cleaned',\n",
       " 'huggingface:ecb',\n",
       " 'huggingface:ecthr_cases',\n",
       " 'huggingface:eduge',\n",
       " 'huggingface:ehealth_kd',\n",
       " 'huggingface:eitb_parcc',\n",
       " 'huggingface:electricity_load_diagrams',\n",
       " 'huggingface:eli5',\n",
       " 'huggingface:eli5_category',\n",
       " 'huggingface:elkarhizketak',\n",
       " 'huggingface:emea',\n",
       " 'huggingface:emo',\n",
       " 'huggingface:emotion',\n",
       " 'huggingface:emotone_ar',\n",
       " 'huggingface:empathetic_dialogues',\n",
       " 'huggingface:enriched_web_nlg',\n",
       " 'huggingface:enwik8',\n",
       " 'huggingface:eraser_multi_rc',\n",
       " 'huggingface:esnli',\n",
       " 'huggingface:eth_py150_open',\n",
       " 'huggingface:ethos',\n",
       " 'huggingface:ett',\n",
       " 'huggingface:eu_regulatory_ir',\n",
       " 'huggingface:eurlex',\n",
       " 'huggingface:euronews',\n",
       " 'huggingface:europa_eac_tm',\n",
       " 'huggingface:europa_ecdc_tm',\n",
       " 'huggingface:europarl_bilingual',\n",
       " 'huggingface:event2Mind',\n",
       " 'huggingface:evidence_infer_treatment',\n",
       " 'huggingface:exams',\n",
       " 'huggingface:factckbr',\n",
       " 'huggingface:fake_news_english',\n",
       " 'huggingface:fake_news_filipino',\n",
       " 'huggingface:farsi_news',\n",
       " 'huggingface:fashion_mnist',\n",
       " 'huggingface:fever',\n",
       " 'huggingface:few_rel',\n",
       " 'huggingface:financial_phrasebank',\n",
       " 'huggingface:finer',\n",
       " 'huggingface:flores',\n",
       " 'huggingface:flue',\n",
       " 'huggingface:food101',\n",
       " 'huggingface:fquad',\n",
       " 'huggingface:freebase_qa',\n",
       " 'huggingface:gap',\n",
       " 'huggingface:gem',\n",
       " 'huggingface:generated_reviews_enth',\n",
       " 'huggingface:generics_kb',\n",
       " 'huggingface:german_legal_entity_recognition',\n",
       " 'huggingface:germaner',\n",
       " 'huggingface:germeval_14',\n",
       " 'huggingface:giga_fren',\n",
       " 'huggingface:gigaword',\n",
       " 'huggingface:glucose',\n",
       " 'huggingface:glue',\n",
       " 'huggingface:gnad10',\n",
       " 'huggingface:go_emotions',\n",
       " 'huggingface:gooaq',\n",
       " 'huggingface:google_wellformed_query',\n",
       " 'huggingface:grail_qa',\n",
       " 'huggingface:great_code',\n",
       " 'huggingface:greek_legal_code',\n",
       " 'huggingface:gsm8k',\n",
       " 'huggingface:guardian_authorship',\n",
       " 'huggingface:gutenberg_time',\n",
       " 'huggingface:hans',\n",
       " 'huggingface:hansards',\n",
       " 'huggingface:hard',\n",
       " 'huggingface:harem',\n",
       " 'huggingface:has_part',\n",
       " 'huggingface:hate_offensive',\n",
       " 'huggingface:hate_speech18',\n",
       " 'huggingface:hate_speech_filipino',\n",
       " 'huggingface:hate_speech_offensive',\n",
       " 'huggingface:hate_speech_pl',\n",
       " 'huggingface:hate_speech_portuguese',\n",
       " 'huggingface:hatexplain',\n",
       " 'huggingface:hausa_voa_ner',\n",
       " 'huggingface:hausa_voa_topics',\n",
       " 'huggingface:hda_nli_hindi',\n",
       " 'huggingface:head_qa',\n",
       " 'huggingface:health_fact',\n",
       " 'huggingface:hebrew_projectbenyehuda',\n",
       " 'huggingface:hebrew_sentiment',\n",
       " 'huggingface:hebrew_this_world',\n",
       " 'huggingface:hellaswag',\n",
       " 'huggingface:hendrycks_test',\n",
       " 'huggingface:hind_encorp',\n",
       " 'huggingface:hindi_discourse',\n",
       " 'huggingface:hippocorpus',\n",
       " 'huggingface:hkcancor',\n",
       " 'huggingface:hlgd',\n",
       " 'huggingface:hope_edi',\n",
       " 'huggingface:hotpot_qa',\n",
       " 'huggingface:hover',\n",
       " 'huggingface:hrenwac_para',\n",
       " 'huggingface:hrwac',\n",
       " 'huggingface:humicroedit',\n",
       " 'huggingface:hybrid_qa',\n",
       " 'huggingface:hyperpartisan_news_detection',\n",
       " 'huggingface:iapp_wiki_qa_squad',\n",
       " 'huggingface:id_clickbait',\n",
       " 'huggingface:id_liputan6',\n",
       " 'huggingface:id_nergrit_corpus',\n",
       " 'huggingface:id_newspapers_2018',\n",
       " 'huggingface:id_panl_bppt',\n",
       " 'huggingface:id_puisi',\n",
       " 'huggingface:igbo_english_machine_translation',\n",
       " 'huggingface:igbo_monolingual',\n",
       " 'huggingface:igbo_ner',\n",
       " 'huggingface:ilist',\n",
       " 'huggingface:imagenet-1k',\n",
       " 'huggingface:imagenet_sketch',\n",
       " 'huggingface:imdb',\n",
       " 'huggingface:imdb_urdu_reviews',\n",
       " 'huggingface:imppres',\n",
       " 'huggingface:indic_glue',\n",
       " 'huggingface:indonli',\n",
       " 'huggingface:indonlu',\n",
       " 'huggingface:inquisitive_qg',\n",
       " 'huggingface:interpress_news_category_tr',\n",
       " 'huggingface:interpress_news_category_tr_lite',\n",
       " 'huggingface:irc_disentangle',\n",
       " 'huggingface:isixhosa_ner_corpus',\n",
       " 'huggingface:isizulu_ner_corpus',\n",
       " 'huggingface:iwslt2017',\n",
       " 'huggingface:jeopardy',\n",
       " 'huggingface:jfleg',\n",
       " 'huggingface:jigsaw_toxicity_pred',\n",
       " 'huggingface:jigsaw_unintended_bias',\n",
       " 'huggingface:jnlpba',\n",
       " 'huggingface:journalists_questions',\n",
       " 'huggingface:kan_hope',\n",
       " 'huggingface:kannada_news',\n",
       " 'huggingface:kd_conv',\n",
       " 'huggingface:kde4',\n",
       " 'huggingface:kelm',\n",
       " 'huggingface:kilt_tasks',\n",
       " 'huggingface:kilt_wikipedia',\n",
       " 'huggingface:kinnews_kirnews',\n",
       " 'huggingface:klue',\n",
       " 'huggingface:kor_3i4k',\n",
       " 'huggingface:kor_hate',\n",
       " 'huggingface:kor_ner',\n",
       " 'huggingface:kor_nli',\n",
       " 'huggingface:kor_nlu',\n",
       " 'huggingface:kor_qpair',\n",
       " 'huggingface:kor_sae',\n",
       " 'huggingface:kor_sarcasm',\n",
       " 'huggingface:labr',\n",
       " 'huggingface:lama',\n",
       " 'huggingface:lambada',\n",
       " 'huggingface:large_spanish_corpus',\n",
       " 'huggingface:laroseda',\n",
       " 'huggingface:lc_quad',\n",
       " 'huggingface:lccc',\n",
       " 'huggingface:lener_br',\n",
       " 'huggingface:lex_glue',\n",
       " 'huggingface:liar',\n",
       " 'huggingface:librispeech_asr',\n",
       " 'huggingface:librispeech_lm',\n",
       " 'huggingface:limit',\n",
       " 'huggingface:lince',\n",
       " 'huggingface:linnaeus',\n",
       " 'huggingface:liveqa',\n",
       " 'huggingface:lj_speech',\n",
       " 'huggingface:lm1b',\n",
       " 'huggingface:lst20',\n",
       " 'huggingface:m_lama',\n",
       " 'huggingface:mac_morpho',\n",
       " 'huggingface:makhzan',\n",
       " 'huggingface:masakhaner',\n",
       " 'huggingface:math_dataset',\n",
       " 'huggingface:math_qa',\n",
       " 'huggingface:matinf',\n",
       " 'huggingface:mbpp',\n",
       " 'huggingface:mc4',\n",
       " 'huggingface:mc_taco',\n",
       " 'huggingface:md_gender_bias',\n",
       " 'huggingface:mdd',\n",
       " 'huggingface:med_hop',\n",
       " 'huggingface:medal',\n",
       " 'huggingface:medical_dialog',\n",
       " 'huggingface:medical_questions_pairs',\n",
       " 'huggingface:medmcqa',\n",
       " 'huggingface:menyo20k_mt',\n",
       " 'huggingface:meta_woz',\n",
       " 'huggingface:metashift',\n",
       " 'huggingface:metooma',\n",
       " 'huggingface:metrec',\n",
       " 'huggingface:miam',\n",
       " 'huggingface:mkb',\n",
       " 'huggingface:mkqa',\n",
       " 'huggingface:mlqa',\n",
       " 'huggingface:mlsum',\n",
       " 'huggingface:mnist',\n",
       " 'huggingface:mocha',\n",
       " 'huggingface:monash_tsf',\n",
       " 'huggingface:moroco',\n",
       " 'huggingface:movie_rationales',\n",
       " 'huggingface:mrqa',\n",
       " 'huggingface:ms_marco',\n",
       " 'huggingface:ms_terms',\n",
       " 'huggingface:msr_genomics_kbcomp',\n",
       " 'huggingface:msr_sqa',\n",
       " 'huggingface:msr_text_compression',\n",
       " 'huggingface:msr_zhen_translation_parity',\n",
       " 'huggingface:msra_ner',\n",
       " 'huggingface:mt_eng_vietnamese',\n",
       " 'huggingface:muchocine',\n",
       " 'huggingface:multi_booked',\n",
       " 'huggingface:multi_eurlex',\n",
       " 'huggingface:multi_news',\n",
       " 'huggingface:multi_nli',\n",
       " 'huggingface:multi_nli_mismatch',\n",
       " 'huggingface:multi_para_crawl',\n",
       " 'huggingface:multi_re_qa',\n",
       " 'huggingface:multi_woz_v22',\n",
       " 'huggingface:multi_x_science_sum',\n",
       " 'huggingface:multidoc2dial',\n",
       " 'huggingface:multilingual_librispeech',\n",
       " 'huggingface:mutual_friends',\n",
       " 'huggingface:mwsc',\n",
       " 'huggingface:myanmar_news',\n",
       " 'huggingface:narrativeqa',\n",
       " 'huggingface:narrativeqa_manual',\n",
       " 'huggingface:natural_questions',\n",
       " 'huggingface:ncbi_disease',\n",
       " 'huggingface:nchlt',\n",
       " 'huggingface:ncslgr',\n",
       " 'huggingface:nell',\n",
       " 'huggingface:neural_code_search',\n",
       " 'huggingface:news_commentary',\n",
       " 'huggingface:newsgroup',\n",
       " 'huggingface:newsph',\n",
       " 'huggingface:newsph_nli',\n",
       " 'huggingface:newspop',\n",
       " 'huggingface:newsqa',\n",
       " 'huggingface:newsroom',\n",
       " 'huggingface:nkjp-ner',\n",
       " 'huggingface:nli_tr',\n",
       " 'huggingface:nlu_evaluation_data',\n",
       " 'huggingface:norec',\n",
       " 'huggingface:norne',\n",
       " 'huggingface:norwegian_ner',\n",
       " 'huggingface:nq_open',\n",
       " 'huggingface:nsmc',\n",
       " 'huggingface:numer_sense',\n",
       " 'huggingface:numeric_fused_head',\n",
       " 'huggingface:oclar',\n",
       " 'huggingface:offcombr',\n",
       " 'huggingface:offenseval2020_tr',\n",
       " 'huggingface:offenseval_dravidian',\n",
       " 'huggingface:ofis_publik',\n",
       " 'huggingface:ohsumed',\n",
       " 'huggingface:ollie',\n",
       " 'huggingface:omp',\n",
       " 'huggingface:onestop_english',\n",
       " 'huggingface:onestop_qa',\n",
       " 'huggingface:open_subtitles',\n",
       " 'huggingface:openai_humaneval',\n",
       " 'huggingface:openbookqa',\n",
       " 'huggingface:openslr',\n",
       " 'huggingface:openwebtext',\n",
       " 'huggingface:opinosis',\n",
       " 'huggingface:opus100',\n",
       " 'huggingface:opus_books',\n",
       " 'huggingface:opus_dgt',\n",
       " 'huggingface:opus_dogc',\n",
       " 'huggingface:opus_elhuyar',\n",
       " 'huggingface:opus_euconst',\n",
       " 'huggingface:opus_finlex',\n",
       " 'huggingface:opus_fiskmo',\n",
       " 'huggingface:opus_gnome',\n",
       " 'huggingface:opus_infopankki',\n",
       " 'huggingface:opus_memat',\n",
       " 'huggingface:opus_montenegrinsubs',\n",
       " 'huggingface:opus_openoffice',\n",
       " 'huggingface:opus_paracrawl',\n",
       " 'huggingface:opus_rf',\n",
       " 'huggingface:opus_tedtalks',\n",
       " 'huggingface:opus_ubuntu',\n",
       " 'huggingface:opus_wikipedia',\n",
       " 'huggingface:opus_xhosanavy',\n",
       " 'huggingface:orange_sum',\n",
       " 'huggingface:oscar',\n",
       " 'huggingface:para_crawl',\n",
       " 'huggingface:para_pat',\n",
       " 'huggingface:parsinlu_reading_comprehension',\n",
       " 'huggingface:pass',\n",
       " 'huggingface:paws',\n",
       " 'huggingface:paws-x',\n",
       " 'huggingface:pec',\n",
       " 'huggingface:peer_read',\n",
       " 'huggingface:peoples_daily_ner',\n",
       " 'huggingface:per_sent',\n",
       " 'huggingface:persian_ner',\n",
       " 'huggingface:pg19',\n",
       " 'huggingface:php',\n",
       " 'huggingface:piaf',\n",
       " 'huggingface:pib',\n",
       " 'huggingface:piqa',\n",
       " 'huggingface:pn_summary',\n",
       " 'huggingface:poem_sentiment',\n",
       " 'huggingface:polemo2',\n",
       " 'huggingface:poleval2019_cyberbullying',\n",
       " 'huggingface:poleval2019_mt',\n",
       " 'huggingface:polsum',\n",
       " 'huggingface:polyglot_ner',\n",
       " 'huggingface:prachathai67k',\n",
       " 'huggingface:pragmeval',\n",
       " 'huggingface:proto_qa',\n",
       " 'huggingface:psc',\n",
       " 'huggingface:ptb_text_only',\n",
       " 'huggingface:pubmed',\n",
       " 'huggingface:pubmed_qa',\n",
       " 'huggingface:py_ast',\n",
       " 'huggingface:qa4mre',\n",
       " 'huggingface:qa_srl',\n",
       " 'huggingface:qa_zre',\n",
       " 'huggingface:qangaroo',\n",
       " 'huggingface:qanta',\n",
       " 'huggingface:qasc',\n",
       " 'huggingface:qasper',\n",
       " 'huggingface:qed',\n",
       " 'huggingface:qed_amara',\n",
       " 'huggingface:quac',\n",
       " 'huggingface:quail',\n",
       " 'huggingface:quarel',\n",
       " 'huggingface:quartz',\n",
       " 'huggingface:quickdraw',\n",
       " 'huggingface:quora',\n",
       " 'huggingface:quoref',\n",
       " 'huggingface:race',\n",
       " 'huggingface:re_dial',\n",
       " 'huggingface:reasoning_bg',\n",
       " 'huggingface:recipe_nlg',\n",
       " 'huggingface:reclor',\n",
       " 'huggingface:red_caps',\n",
       " 'huggingface:reddit',\n",
       " 'huggingface:reddit_tifu',\n",
       " 'huggingface:refresd',\n",
       " 'huggingface:reuters21578',\n",
       " 'huggingface:riddle_sense',\n",
       " 'huggingface:ro_sent',\n",
       " 'huggingface:ro_sts',\n",
       " 'huggingface:ro_sts_parallel',\n",
       " 'huggingface:roman_urdu',\n",
       " 'huggingface:roman_urdu_hate_speech',\n",
       " 'huggingface:ronec',\n",
       " 'huggingface:ropes',\n",
       " 'huggingface:rotten_tomatoes',\n",
       " 'huggingface:russian_super_glue',\n",
       " 'huggingface:rvl_cdip',\n",
       " 'huggingface:s2orc',\n",
       " 'huggingface:samsum',\n",
       " 'huggingface:sanskrit_classic',\n",
       " 'huggingface:saudinewsnet',\n",
       " 'huggingface:sberquad',\n",
       " 'huggingface:sbu_captions',\n",
       " 'huggingface:scan',\n",
       " 'huggingface:scb_mt_enth_2020',\n",
       " 'huggingface:scene_parse_150',\n",
       " 'huggingface:schema_guided_dstc8',\n",
       " 'huggingface:scicite',\n",
       " 'huggingface:scielo',\n",
       " 'huggingface:scientific_papers',\n",
       " 'huggingface:scifact',\n",
       " 'huggingface:sciq',\n",
       " 'huggingface:scitail',\n",
       " 'huggingface:scitldr',\n",
       " 'huggingface:search_qa',\n",
       " 'huggingface:sede',\n",
       " 'huggingface:selqa',\n",
       " 'huggingface:sem_eval_2010_task_8',\n",
       " 'huggingface:sem_eval_2014_task_1',\n",
       " 'huggingface:sem_eval_2018_task_1',\n",
       " 'huggingface:sem_eval_2020_task_11',\n",
       " 'huggingface:sent_comp',\n",
       " 'huggingface:senti_lex',\n",
       " 'huggingface:senti_ws',\n",
       " 'huggingface:sentiment140',\n",
       " 'huggingface:sepedi_ner',\n",
       " 'huggingface:sesotho_ner_corpus',\n",
       " 'huggingface:setimes',\n",
       " 'huggingface:setswana_ner_corpus',\n",
       " 'huggingface:sharc',\n",
       " 'huggingface:sharc_modified',\n",
       " 'huggingface:sick',\n",
       " 'huggingface:silicone',\n",
       " 'huggingface:simple_questions_v2',\n",
       " 'huggingface:siswati_ner_corpus',\n",
       " 'huggingface:smartdata',\n",
       " 'huggingface:sms_spam',\n",
       " 'huggingface:snips_built_in_intents',\n",
       " 'huggingface:snli',\n",
       " 'huggingface:snow_simplified_japanese_corpus',\n",
       " 'huggingface:so_stacksample',\n",
       " 'huggingface:social_bias_frames',\n",
       " 'huggingface:social_i_qa',\n",
       " 'huggingface:sofc_materials_articles',\n",
       " 'huggingface:sogou_news',\n",
       " 'huggingface:spanish_billion_words',\n",
       " 'huggingface:spc',\n",
       " 'huggingface:species_800',\n",
       " 'huggingface:speech_commands',\n",
       " 'huggingface:spider',\n",
       " 'huggingface:squad',\n",
       " 'huggingface:squad_adversarial',\n",
       " 'huggingface:squad_es',\n",
       " 'huggingface:squad_it',\n",
       " 'huggingface:squad_kor_v1',\n",
       " 'huggingface:squad_kor_v2',\n",
       " 'huggingface:squad_v1_pt',\n",
       " 'huggingface:squad_v2',\n",
       " 'huggingface:squadshifts',\n",
       " 'huggingface:srwac',\n",
       " 'huggingface:sst',\n",
       " 'huggingface:stereoset',\n",
       " 'huggingface:story_cloze',\n",
       " 'huggingface:stsb_mt_sv',\n",
       " 'huggingface:stsb_multi_mt',\n",
       " 'huggingface:style_change_detection',\n",
       " 'huggingface:subjqa',\n",
       " 'huggingface:super_glue',\n",
       " 'huggingface:superb',\n",
       " 'huggingface:svhn',\n",
       " 'huggingface:swag',\n",
       " 'huggingface:swahili',\n",
       " 'huggingface:swahili_news',\n",
       " 'huggingface:swda',\n",
       " 'huggingface:swedish_medical_ner',\n",
       " 'huggingface:swedish_ner_corpus',\n",
       " 'huggingface:swedish_reviews',\n",
       " 'huggingface:swiss_judgment_prediction',\n",
       " 'huggingface:tab_fact',\n",
       " 'huggingface:tamilmixsentiment',\n",
       " 'huggingface:tanzil',\n",
       " 'huggingface:tapaco',\n",
       " 'huggingface:tashkeela',\n",
       " 'huggingface:taskmaster1',\n",
       " 'huggingface:taskmaster2',\n",
       " 'huggingface:taskmaster3',\n",
       " 'huggingface:tatoeba',\n",
       " 'huggingface:ted_hrlr',\n",
       " 'huggingface:ted_iwlst2013',\n",
       " 'huggingface:ted_multi',\n",
       " 'huggingface:ted_talks_iwslt',\n",
       " 'huggingface:telugu_books',\n",
       " 'huggingface:telugu_news',\n",
       " 'huggingface:tep_en_fa_para',\n",
       " 'huggingface:text2log',\n",
       " 'huggingface:textvqa',\n",
       " 'huggingface:thai_toxicity_tweet',\n",
       " 'huggingface:thainer',\n",
       " 'huggingface:thaiqa_squad',\n",
       " 'huggingface:thaisum',\n",
       " 'huggingface:the_pile',\n",
       " 'huggingface:the_pile_books3',\n",
       " 'huggingface:the_pile_openwebtext2',\n",
       " 'huggingface:the_pile_stack_exchange',\n",
       " 'huggingface:tilde_model',\n",
       " ...]"
      ]
     },
     "execution_count": 5,
     "metadata": {},
     "output_type": "execute_result"
    }
   ],
   "source": [
    "tfds.list_builders()"
   ]
  },
  {
   "cell_type": "code",
   "execution_count": 6,
   "id": "003c99ef-c411-408b-b0ce-fbf500e5042b",
   "metadata": {},
   "outputs": [],
   "source": [
    "(train_data, test_data), ds_info = tfds.load('food101', split=[\"train\", \"validation\"], shuffle_files=True,\n",
    "                                             with_info=True\n",
    "                                            )"
   ]
  },
  {
   "cell_type": "code",
   "execution_count": 7,
   "id": "0493bffe-7643-49bb-9718-88f1c95ca09b",
   "metadata": {},
   "outputs": [
    {
     "data": {
      "text/plain": [
       "FeaturesDict({\n",
       "    'image': Image(shape=(None, None, 3), dtype=uint8),\n",
       "    'label': ClassLabel(shape=(), dtype=int64, num_classes=101),\n",
       "})"
      ]
     },
     "execution_count": 7,
     "metadata": {},
     "output_type": "execute_result"
    }
   ],
   "source": [
    "ds_info.features"
   ]
  },
  {
   "cell_type": "code",
   "execution_count": 8,
   "id": "cd42cad7-9ca0-43d8-a3a1-d343d4d52d57",
   "metadata": {},
   "outputs": [],
   "source": [
    "class_names = ds_info.features[\"label\"].names"
   ]
  },
  {
   "cell_type": "code",
   "execution_count": 9,
   "id": "4245aee8-3cdf-4588-b552-b9c03ed123da",
   "metadata": {},
   "outputs": [
    {
     "data": {
      "text/plain": [
       "['apple_pie',\n",
       " 'baby_back_ribs',\n",
       " 'baklava',\n",
       " 'beef_carpaccio',\n",
       " 'beef_tartare',\n",
       " 'beet_salad',\n",
       " 'beignets',\n",
       " 'bibimbap',\n",
       " 'bread_pudding',\n",
       " 'breakfast_burrito']"
      ]
     },
     "execution_count": 9,
     "metadata": {},
     "output_type": "execute_result"
    }
   ],
   "source": [
    "class_names[:10]"
   ]
  },
  {
   "cell_type": "code",
   "execution_count": 10,
   "id": "63e1df71-0f8d-47a3-a481-dabea877c7ae",
   "metadata": {},
   "outputs": [
    {
     "data": {
      "text/plain": [
       "tensorflow.python.data.ops.dataset_ops.PrefetchDataset"
      ]
     },
     "execution_count": 10,
     "metadata": {},
     "output_type": "execute_result"
    }
   ],
   "source": [
    "type(train_data)"
   ]
  },
  {
   "cell_type": "code",
   "execution_count": 11,
   "id": "59e922af-6930-451e-98cf-10c75877753a",
   "metadata": {},
   "outputs": [
    {
     "name": "stderr",
     "output_type": "stream",
     "text": [
      "2023-03-21 08:14:44.818722: W tensorflow/core/platform/profile_utils/cpu_utils.cc:128] Failed to get CPU frequency: 0 Hz\n"
     ]
    },
    {
     "data": {
      "text/plain": [
       "(<tensorflow.python.data.ops.dataset_ops._NumpyIterator at 0x293451550>,\n",
       " tensorflow.python.data.ops.dataset_ops.PrefetchDataset)"
      ]
     },
     "execution_count": 11,
     "metadata": {},
     "output_type": "execute_result"
    }
   ],
   "source": [
    "train_sample_one = train_data.take(1)\n",
    "train_sample_one.as_numpy_iterator(), type(train_data)"
   ]
  },
  {
   "cell_type": "code",
   "execution_count": 12,
   "id": "875b001c-45cb-4548-90a1-c447bc61090a",
   "metadata": {
    "tags": []
   },
   "outputs": [
    {
     "data": {
      "text/plain": [
       "Text(0.5, 1.0, 'class: fried_calamari')"
      ]
     },
     "execution_count": 12,
     "metadata": {},
     "output_type": "execute_result"
    },
    {
     "data": {
      "image/png": "[encoded data removed]",
      "text/plain": [
       "<Figure size 640x480 with 1 Axes>"
      ]
     },
     "metadata": {},
     "output_type": "display_data"
    }
   ],
   "source": [
    "import matplotlib.pyplot as plt\n",
    "sample = list(train_sample_one.as_numpy_iterator())[0]\n",
    "image = sample['image']/255.\n",
    "label = sample['label']\n",
    "\n",
    "\n",
    "plt.axis(False)\n",
    "plt.imshow(image)\n",
    "plt.title(f\"class: {class_names[label]}\")\n"
   ]
  },
  {
   "cell_type": "code",
   "execution_count": 13,
   "id": "bd0ec206-5268-4dc6-ba40-5b7f44f049a0",
   "metadata": {},
   "outputs": [
    {
     "data": {
      "text/plain": [
       "tensorflow.python.data.ops.dataset_ops.PrefetchDataset"
      ]
     },
     "execution_count": 13,
     "metadata": {},
     "output_type": "execute_result"
    }
   ],
   "source": [
    "\n",
    "\n",
    "type(train_data)"
   ]
  },
  {
   "cell_type": "markdown",
   "id": "40664602-d66e-4374-b271-e82dad833726",
   "metadata": {},
   "source": [
    "# Create pre processing functions\n",
    "\n",
    "Current data is not\n",
    "- different sizes\n",
    "- not batched\n",
    "- labels not one hot encoded\n",
    "- uint8\n",
    "- 0 to 255\n",
    "\n",
    "\n",
    "\n",
    "\n"
   ]
  },
  {
   "cell_type": "code",
   "execution_count": 14,
   "id": "029fada3-78c6-46c0-afed-f8e5f1fcee5e",
   "metadata": {},
   "outputs": [],
   "source": [
    "def preprocess_image(sample, img_size=224):\n",
    "    image = sample['image']\n",
    "    label = sample['label']\n",
    "\n",
    "    image = tf.image.resize(image, [img_size, img_size])\n",
    "    # image = image/255 # not required for effienctnetBX\n",
    "    return tf.cast(image, tf.float32), label"
   ]
  },
  {
   "cell_type": "code",
   "execution_count": 15,
   "id": "8e214e0a-76d9-445a-8757-3502d136da70",
   "metadata": {},
   "outputs": [
    {
     "data": {
      "text/plain": [
       "(TensorShape([224, 224, 3]), tf.float32)"
      ]
     },
     "execution_count": 15,
     "metadata": {},
     "output_type": "execute_result"
    }
   ],
   "source": [
    "sample = list(train_sample_one.as_numpy_iterator())[0]\n",
    "\n",
    "# print(image.shape)\n",
    "# print(image.dtype)\n",
    "\n",
    "\n",
    "preprocessed_image = preprocess_image(sample)\n",
    "preprocessed_image[0].shape, preprocessed_image[0].dtype"
   ]
  },
  {
   "cell_type": "markdown",
   "id": "d2a331f4-5b55-4427-8875-4f800a282bd8",
   "metadata": {},
   "source": [
    "#  Optimize data pipeline\n",
    "\n",
    "https://www.tensorflow.org/guide/data_performance\n",
    "\n",
    "map preprocessing function to train data"
   ]
  },
  {
   "cell_type": "code",
   "execution_count": 16,
   "id": "76b8889e-3083-497e-9f2c-31e3250c3085",
   "metadata": {},
   "outputs": [],
   "source": [
    "train_data = train_data.map(preprocess_image, num_parallel_calls=tf.data.AUTOTUNE)\n",
    "train_data = train_data.shuffle(10000)\n",
    "train_data = train_data.batch(32)\n",
    "train_data = train_data.prefetch(tf.data.AUTOTUNE)"
   ]
  },
  {
   "cell_type": "code",
   "execution_count": 17,
   "id": "26d9f6f5-a5db-49ba-8b2e-658176a5ff5f",
   "metadata": {},
   "outputs": [],
   "source": [
    "test_data = test_data.map(preprocess_image, num_parallel_calls=tf.data.AUTOTUNE)\n",
    "test_data = test_data.shuffle(10000)\n",
    "test_data = test_data.batch(32)\n",
    "test_data = test_data.prefetch(tf.data.AUTOTUNE)"
   ]
  },
  {
   "cell_type": "code",
   "execution_count": 18,
   "id": "86177e25-cf7c-4cba-a8f8-0da06d2abf75",
   "metadata": {},
   "outputs": [
    {
     "data": {
      "text/plain": [
       "(<PrefetchDataset element_spec=(TensorSpec(shape=(None, 224, 224, 3), dtype=tf.float32, name=None), TensorSpec(shape=(None,), dtype=tf.int64, name=None))>,\n",
       " <PrefetchDataset element_spec=(TensorSpec(shape=(None, 224, 224, 3), dtype=tf.float32, name=None), TensorSpec(shape=(None,), dtype=tf.int64, name=None))>,\n",
       " 2368)"
      ]
     },
     "execution_count": 18,
     "metadata": {},
     "output_type": "execute_result"
    }
   ],
   "source": [
    "train_data, test_data, len(train_data)"
   ]
  },
  {
   "cell_type": "markdown",
   "id": "9da4127f-c71b-4333-8537-1d57f35975fe",
   "metadata": {},
   "source": [
    "## Callbacks\n",
    "-  tensorboard\n",
    "- checkpoint\n"
   ]
  },
  {
   "cell_type": "code",
   "execution_count": 19,
   "id": "c53fdbe4-d701-4a50-b96b-6b026653e76d",
   "metadata": {},
   "outputs": [],
   "source": [
    "# tensorboard callback\n",
    "from helper_functions import create_tensorboard_callback\n",
    "\n",
    "# model checkpoint callback\n",
    "checkpoint_path = \"model_checkpoints/cp.ckpt\"\n",
    "model_checkpoint = tf.keras.callbacks.ModelCheckpoint(checkpoint_path, monitor=\"val_loss\", save_best_only=True,\n",
    "                                                     save_weights_only=True, verbose=0)"
   ]
  },
  {
   "cell_type": "markdown",
   "id": "e6ab8f7b-ef67-4daf-ba7f-8e1f23093672",
   "metadata": {},
   "source": [
    "## setup mixed precision"
   ]
  },
  {
   "cell_type": "code",
   "execution_count": 151,
   "id": "2d044913-ce4f-4dd3-8458-d89edebdeb48",
   "metadata": {},
   "outputs": [],
   "source": [
    "from tensorflow.keras import mixed_precision\n",
    "policy = mixed_precision.Policy('float32')\n",
    "mixed_precision.set_global_policy(policy)"
   ]
  },
  {
   "cell_type": "code",
   "execution_count": 154,
   "id": "ec1cf522-a68a-4f89-96ed-570b8c012c22",
   "metadata": {},
   "outputs": [
    {
     "name": "stdout",
     "output_type": "stream",
     "text": [
      "(None, 224, 224, 3)\n",
      "(None, 7, 7, 1280)\n",
      "Model: \"model_1\"\n",
      "_________________________________________________________________\n",
      " Layer (type)                Output Shape              Param #   \n",
      "=================================================================\n",
      " input_layer (InputLayer)    [(None, 224, 224, 3)]     0         \n",
      "                                                                 \n",
      " efficientnetb0 (Functional)  (None, None, None, 1280)  4049571  \n",
      "                                                                 \n",
      " gloable_average_pooling2d (  (None, 1280)             0         \n",
      " GlobalAveragePooling2D)                                         \n",
      "                                                                 \n",
      " output_layer (Dense)        (None, 101)               129381    \n",
      "                                                                 \n",
      "=================================================================\n",
      "Total params: 4,178,952\n",
      "Trainable params: 129,381\n",
      "Non-trainable params: 4,049,571\n",
      "_________________________________________________________________\n",
      "Saving TensorBoard log files to: tensorboard_hub_07/07_model_1/20230320-201914\n",
      "WARNING:tensorflow:Model failed to serialize as JSON. Ignoring... Unable to serialize [2.0896919 2.1128855 2.108185 ] to JSON. Unrecognized type <class 'tensorflow.python.framework.ops.EagerTensor'>.\n"
     ]
    },
    {
     "name": "stderr",
     "output_type": "stream",
     "text": [
      "WARNING:tensorflow:Model failed to serialize as JSON. Ignoring... Unable to serialize [2.0896919 2.1128855 2.108185 ] to JSON. Unrecognized type <class 'tensorflow.python.framework.ops.EagerTensor'>.\n"
     ]
    },
    {
     "name": "stdout",
     "output_type": "stream",
     "text": [
      "Epoch 1/5\n"
     ]
    },
    {
     "name": "stderr",
     "output_type": "stream",
     "text": [
      "2023-03-20 20:19:17.912542: I tensorflow/core/grappler/optimizers/custom_graph_optimizer_registry.cc:114] Plugin optimizer for device_type GPU is enabled.\n"
     ]
    },
    {
     "name": "stdout",
     "output_type": "stream",
     "text": [
      "2368/2368 [==============================] - ETA: 0s - loss: 1.7194 - accuracy: 0.5821"
     ]
    },
    {
     "name": "stderr",
     "output_type": "stream",
     "text": [
      "2023-03-20 20:23:36.568218: I tensorflow/core/grappler/optimizers/custom_graph_optimizer_registry.cc:114] Plugin optimizer for device_type GPU is enabled.\n"
     ]
    },
    {
     "name": "stdout",
     "output_type": "stream",
     "text": [
      "2368/2368 [==============================] - 290s 118ms/step - loss: 1.7194 - accuracy: 0.5821 - val_loss: 1.0965 - val_accuracy: 0.7064\n",
      "Epoch 2/5\n",
      "2368/2368 [==============================] - 283s 117ms/step - loss: 1.1996 - accuracy: 0.6879 - val_loss: 1.0115 - val_accuracy: 0.7244\n",
      "Epoch 3/5\n",
      "2368/2368 [==============================] - 281s 117ms/step - loss: 1.0535 - accuracy: 0.7227 - val_loss: 0.9814 - val_accuracy: 0.7304\n",
      "Epoch 4/5\n",
      "2368/2368 [==============================] - 285s 118ms/step - loss: 0.9606 - accuracy: 0.7470 - val_loss: 0.9551 - val_accuracy: 0.7322\n",
      "Epoch 5/5\n",
      "2368/2368 [==============================] - 281s 116ms/step - loss: 0.8889 - accuracy: 0.7655 - val_loss: 0.9702 - val_accuracy: 0.7355\n"
     ]
    }
   ],
   "source": [
    "#  Model 1 using keras functional api without data augmentation\n",
    "\n",
    "base_model = tf.keras.applications.efficientnet.EfficientNetB0(\n",
    "    include_top=False, # top is output layer we want to change it to 10 classes\n",
    "    )\n",
    "base_model.trainable = False\n",
    "\n",
    "inputs =  tf.keras.layers.Input(shape=(224,224,3), name=\"input_layer\")\n",
    "\n",
    "# resnet50v2 needs rescaling, not for efficientnet as they have rescaling builtin \n",
    "# x = tf.keras.layers.experimental.preprocessing.Rescaling(1/.255)(inputs)\n",
    "\n",
    "x = inputs\n",
    "print(x.shape)\n",
    "\n",
    "x = base_model(x, training=False)\n",
    "print(x.shape)\n",
    "\n",
    "\n",
    "\n",
    "#  average pooling our outputs from base model to get most important models.\n",
    "x = tf.keras.layers.GlobalAveragePooling2D(name=\"gloable_average_pooling2d\")(x)\n",
    "x.shape\n",
    "\n",
    "# output activation layers\n",
    "outputs = tf.keras.layers.Dense(101, activation=\"softmax\", name=\"output_layer\")(x)\n",
    "\n",
    "model_1 = tf.keras.Model(inputs, outputs)\n",
    "\n",
    "model_1.compile(loss='sparse_categorical_crossentropy',\n",
    "                optimizer=tf.keras.optimizers.Adam(),\n",
    "                metrics='accuracy')\n",
    "model_1.summary()\n",
    "\n",
    "\n",
    "# history_model_1 = model_1.fit(train_data, epochs=5, steps_per_epoch=len(train_data), validation_data=test_data, \n",
    "#                        validation_steps=(0.25 * len(test_data)), callbacks=[model_checkpoint, create_tensorboard_callback(dir_name=\"tensorboard_hub_07\", experiment_name=\"07_model_1\")])"
   ]
  },
  {
   "cell_type": "code",
   "execution_count": 155,
   "id": "30931750-2e01-4256-83a7-30378baf710e",
   "metadata": {},
   "outputs": [
    {
     "name": "stdout",
     "output_type": "stream",
     "text": [
      "790/790 [==============================] - 84s 102ms/step - loss: 0.9766 - accuracy: 0.7356\n"
     ]
    },
    {
     "data": {
      "text/plain": [
       "[0.9765814542770386, 0.7355643510818481]"
      ]
     },
     "execution_count": 155,
     "metadata": {},
     "output_type": "execute_result"
    }
   ],
   "source": [
    "model_1.evaluate(test_data)"
   ]
  },
  {
   "cell_type": "code",
   "execution_count": 156,
   "id": "d3f1af54-3e29-46f3-81e8-3f552a9afd76",
   "metadata": {},
   "outputs": [],
   "source": [
    "# model_1.save_weights(\"07_model_1\")"
   ]
  },
  {
   "cell_type": "code",
   "execution_count": 170,
   "id": "9bd6c01d-3b50-4237-a002-8020f98fb6cb",
   "metadata": {
    "collapsed": true,
    "jupyter": {
     "outputs_hidden": true
    },
    "tags": []
   },
   "outputs": [
    {
     "name": "stdout",
     "output_type": "stream",
     "text": [
      "237 input_2 True\n",
      "237 rescaling_2 True\n",
      "237 normalization_1 True\n",
      "237 rescaling_3 True\n",
      "237 stem_conv_pad True\n",
      "237 stem_conv True\n",
      "237 stem_bn True\n",
      "237 stem_activation True\n",
      "237 block1a_dwconv True\n",
      "237 block1a_bn True\n",
      "237 block1a_activation True\n",
      "237 block1a_se_squeeze True\n",
      "237 block1a_se_reshape True\n",
      "237 block1a_se_reduce True\n",
      "237 block1a_se_expand True\n",
      "237 block1a_se_excite True\n",
      "237 block1a_project_conv True\n",
      "237 block1a_project_bn True\n",
      "237 block2a_expand_conv True\n",
      "237 block2a_expand_bn True\n",
      "237 block2a_expand_activation True\n",
      "237 block2a_dwconv_pad True\n",
      "237 block2a_dwconv True\n",
      "237 block2a_bn True\n",
      "237 block2a_activation True\n",
      "237 block2a_se_squeeze True\n",
      "237 block2a_se_reshape True\n",
      "237 block2a_se_reduce True\n",
      "237 block2a_se_expand True\n",
      "237 block2a_se_excite True\n",
      "237 block2a_project_conv True\n",
      "237 block2a_project_bn True\n",
      "237 block2b_expand_conv True\n",
      "237 block2b_expand_bn True\n",
      "237 block2b_expand_activation True\n",
      "237 block2b_dwconv True\n",
      "237 block2b_bn True\n",
      "237 block2b_activation True\n",
      "237 block2b_se_squeeze True\n",
      "237 block2b_se_reshape True\n",
      "237 block2b_se_reduce True\n",
      "237 block2b_se_expand True\n",
      "237 block2b_se_excite True\n",
      "237 block2b_project_conv True\n",
      "237 block2b_project_bn True\n",
      "237 block2b_drop True\n",
      "237 block2b_add True\n",
      "237 block3a_expand_conv True\n",
      "237 block3a_expand_bn True\n",
      "237 block3a_expand_activation True\n",
      "237 block3a_dwconv_pad True\n",
      "237 block3a_dwconv True\n",
      "237 block3a_bn True\n",
      "237 block3a_activation True\n",
      "237 block3a_se_squeeze True\n",
      "237 block3a_se_reshape True\n",
      "237 block3a_se_reduce True\n",
      "237 block3a_se_expand True\n",
      "237 block3a_se_excite True\n",
      "237 block3a_project_conv True\n",
      "237 block3a_project_bn True\n",
      "237 block3b_expand_conv True\n",
      "237 block3b_expand_bn True\n",
      "237 block3b_expand_activation True\n",
      "237 block3b_dwconv True\n",
      "237 block3b_bn True\n",
      "237 block3b_activation True\n",
      "237 block3b_se_squeeze True\n",
      "237 block3b_se_reshape True\n",
      "237 block3b_se_reduce True\n",
      "237 block3b_se_expand True\n",
      "237 block3b_se_excite True\n",
      "237 block3b_project_conv True\n",
      "237 block3b_project_bn True\n",
      "237 block3b_drop True\n",
      "237 block3b_add True\n",
      "237 block4a_expand_conv True\n",
      "237 block4a_expand_bn True\n",
      "237 block4a_expand_activation True\n",
      "237 block4a_dwconv_pad True\n",
      "237 block4a_dwconv True\n",
      "237 block4a_bn True\n",
      "237 block4a_activation True\n",
      "237 block4a_se_squeeze True\n",
      "237 block4a_se_reshape True\n",
      "237 block4a_se_reduce True\n",
      "237 block4a_se_expand True\n",
      "237 block4a_se_excite True\n",
      "237 block4a_project_conv True\n",
      "237 block4a_project_bn True\n",
      "237 block4b_expand_conv True\n",
      "237 block4b_expand_bn True\n",
      "237 block4b_expand_activation True\n",
      "237 block4b_dwconv True\n",
      "237 block4b_bn True\n",
      "237 block4b_activation True\n",
      "237 block4b_se_squeeze True\n",
      "237 block4b_se_reshape True\n",
      "237 block4b_se_reduce True\n",
      "237 block4b_se_expand True\n",
      "237 block4b_se_excite True\n",
      "237 block4b_project_conv True\n",
      "237 block4b_project_bn True\n",
      "237 block4b_drop True\n",
      "237 block4b_add True\n",
      "237 block4c_expand_conv True\n",
      "237 block4c_expand_bn True\n",
      "237 block4c_expand_activation True\n",
      "237 block4c_dwconv True\n",
      "237 block4c_bn True\n",
      "237 block4c_activation True\n",
      "237 block4c_se_squeeze True\n",
      "237 block4c_se_reshape True\n",
      "237 block4c_se_reduce True\n",
      "237 block4c_se_expand True\n",
      "237 block4c_se_excite True\n",
      "237 block4c_project_conv True\n",
      "237 block4c_project_bn True\n",
      "237 block4c_drop True\n",
      "237 block4c_add True\n",
      "237 block5a_expand_conv True\n",
      "237 block5a_expand_bn True\n",
      "237 block5a_expand_activation True\n",
      "237 block5a_dwconv True\n",
      "237 block5a_bn True\n",
      "237 block5a_activation True\n",
      "237 block5a_se_squeeze True\n",
      "237 block5a_se_reshape True\n",
      "237 block5a_se_reduce True\n",
      "237 block5a_se_expand True\n",
      "237 block5a_se_excite True\n",
      "237 block5a_project_conv True\n",
      "237 block5a_project_bn True\n",
      "237 block5b_expand_conv True\n",
      "237 block5b_expand_bn True\n",
      "237 block5b_expand_activation True\n",
      "237 block5b_dwconv True\n",
      "237 block5b_bn True\n",
      "237 block5b_activation True\n",
      "237 block5b_se_squeeze True\n",
      "237 block5b_se_reshape True\n",
      "237 block5b_se_reduce True\n",
      "237 block5b_se_expand True\n",
      "237 block5b_se_excite True\n",
      "237 block5b_project_conv True\n",
      "237 block5b_project_bn True\n",
      "237 block5b_drop True\n",
      "237 block5b_add True\n",
      "237 block5c_expand_conv True\n",
      "237 block5c_expand_bn True\n",
      "237 block5c_expand_activation True\n",
      "237 block5c_dwconv True\n",
      "237 block5c_bn True\n",
      "237 block5c_activation True\n",
      "237 block5c_se_squeeze True\n",
      "237 block5c_se_reshape True\n",
      "237 block5c_se_reduce True\n",
      "237 block5c_se_expand True\n",
      "237 block5c_se_excite True\n",
      "237 block5c_project_conv True\n",
      "237 block5c_project_bn True\n",
      "237 block5c_drop True\n",
      "237 block5c_add True\n",
      "237 block6a_expand_conv True\n",
      "237 block6a_expand_bn True\n",
      "237 block6a_expand_activation True\n",
      "237 block6a_dwconv_pad True\n",
      "237 block6a_dwconv True\n",
      "237 block6a_bn True\n",
      "237 block6a_activation True\n",
      "237 block6a_se_squeeze True\n",
      "237 block6a_se_reshape True\n",
      "237 block6a_se_reduce True\n",
      "237 block6a_se_expand True\n",
      "237 block6a_se_excite True\n",
      "237 block6a_project_conv True\n",
      "237 block6a_project_bn True\n",
      "237 block6b_expand_conv True\n",
      "237 block6b_expand_bn True\n",
      "237 block6b_expand_activation True\n",
      "237 block6b_dwconv True\n",
      "237 block6b_bn True\n",
      "237 block6b_activation True\n",
      "237 block6b_se_squeeze True\n",
      "237 block6b_se_reshape True\n",
      "237 block6b_se_reduce True\n",
      "237 block6b_se_expand True\n",
      "237 block6b_se_excite True\n",
      "237 block6b_project_conv True\n",
      "237 block6b_project_bn True\n",
      "237 block6b_drop True\n",
      "237 block6b_add True\n",
      "237 block6c_expand_conv True\n",
      "237 block6c_expand_bn True\n",
      "237 block6c_expand_activation True\n",
      "237 block6c_dwconv True\n",
      "237 block6c_bn True\n",
      "237 block6c_activation True\n",
      "237 block6c_se_squeeze True\n",
      "237 block6c_se_reshape True\n",
      "237 block6c_se_reduce True\n",
      "237 block6c_se_expand True\n",
      "237 block6c_se_excite True\n",
      "237 block6c_project_conv True\n",
      "237 block6c_project_bn True\n",
      "237 block6c_drop True\n",
      "237 block6c_add True\n",
      "237 block6d_expand_conv True\n",
      "237 block6d_expand_bn True\n",
      "237 block6d_expand_activation True\n",
      "237 block6d_dwconv True\n",
      "237 block6d_bn True\n",
      "237 block6d_activation True\n",
      "237 block6d_se_squeeze True\n",
      "237 block6d_se_reshape True\n",
      "237 block6d_se_reduce True\n",
      "237 block6d_se_expand True\n",
      "237 block6d_se_excite True\n",
      "237 block6d_project_conv True\n",
      "237 block6d_project_bn True\n",
      "237 block6d_drop True\n",
      "237 block6d_add True\n",
      "237 block7a_expand_conv True\n",
      "237 block7a_expand_bn True\n",
      "237 block7a_expand_activation True\n",
      "237 block7a_dwconv True\n",
      "237 block7a_bn True\n",
      "237 block7a_activation True\n"
     ]
    }
   ],
   "source": [
    "base_model.trainable = False\n",
    "\n",
    "for layer in base_model.layers[:-10]:\n",
    "    layer.trainable = True\n",
    "    print(layer_number, layer.name, layer.trainable)"
   ]
  },
  {
   "cell_type": "code",
   "execution_count": 158,
   "id": "1f9e7a22-ae52-4cf0-9f88-2b77dbbfac62",
   "metadata": {},
   "outputs": [],
   "source": [
    "model_1.compile(loss='sparse_categorical_crossentropy',\n",
    "                optimizer=tf.keras.optimizers.Adam(learning_rate=0.0001),\n",
    "                metrics='accuracy')"
   ]
  },
  {
   "cell_type": "code",
   "execution_count": 160,
   "id": "443fe07b-471e-4fd0-bb8c-a8cc37e31278",
   "metadata": {},
   "outputs": [
    {
     "name": "stdout",
     "output_type": "stream",
     "text": [
      "Saving TensorBoard log files to: tensorboard_hub_07/07_model_2/20230320-204744\n",
      "WARNING:tensorflow:Model failed to serialize as JSON. Ignoring... Unable to serialize [2.0896919 2.1128855 2.108185 ] to JSON. Unrecognized type <class 'tensorflow.python.framework.ops.EagerTensor'>.\n"
     ]
    },
    {
     "name": "stderr",
     "output_type": "stream",
     "text": [
      "WARNING:tensorflow:Model failed to serialize as JSON. Ignoring... Unable to serialize [2.0896919 2.1128855 2.108185 ] to JSON. Unrecognized type <class 'tensorflow.python.framework.ops.EagerTensor'>.\n"
     ]
    },
    {
     "name": "stdout",
     "output_type": "stream",
     "text": [
      "Epoch 5/10\n"
     ]
    },
    {
     "name": "stderr",
     "output_type": "stream",
     "text": [
      "2023-03-20 20:47:49.158664: I tensorflow/core/grappler/optimizers/custom_graph_optimizer_registry.cc:114] Plugin optimizer for device_type GPU is enabled.\n"
     ]
    },
    {
     "name": "stdout",
     "output_type": "stream",
     "text": [
      "2368/2368 [==============================] - ETA: 0s - loss: 0.7572 - accuracy: 0.8064"
     ]
    },
    {
     "name": "stderr",
     "output_type": "stream",
     "text": [
      "2023-03-20 20:51:36.152195: I tensorflow/core/grappler/optimizers/custom_graph_optimizer_registry.cc:114] Plugin optimizer for device_type GPU is enabled.\n"
     ]
    },
    {
     "name": "stdout",
     "output_type": "stream",
     "text": [
      "2368/2368 [==============================] - 255s 103ms/step - loss: 0.7572 - accuracy: 0.8064 - val_loss: 0.9463 - val_accuracy: 0.7380\n",
      "Epoch 6/10\n",
      "2368/2368 [==============================] - 244s 101ms/step - loss: 0.7445 - accuracy: 0.8110 - val_loss: 0.9386 - val_accuracy: 0.7446\n",
      "Epoch 7/10\n",
      "2368/2368 [==============================] - 243s 101ms/step - loss: 0.7376 - accuracy: 0.8136 - val_loss: 0.9315 - val_accuracy: 0.7413\n",
      "Epoch 8/10\n",
      "2368/2368 [==============================] - 241s 100ms/step - loss: 0.7314 - accuracy: 0.8149 - val_loss: 0.9521 - val_accuracy: 0.7347\n",
      "Epoch 9/10\n",
      "2368/2368 [==============================] - 242s 100ms/step - loss: 0.7260 - accuracy: 0.8169 - val_loss: 0.9229 - val_accuracy: 0.7421\n",
      "Epoch 10/10\n",
      "2368/2368 [==============================] - 246s 102ms/step - loss: 0.7208 - accuracy: 0.8185 - val_loss: 0.9202 - val_accuracy: 0.7495\n"
     ]
    }
   ],
   "source": [
    "history_model_2 = model_1.fit(train_data, epochs=10, steps_per_epoch=len(train_data), validation_data=test_data, \n",
    "                              initial_epoch=history_model_1.epoch[-1],\n",
    "                              validation_steps=(0.25 * len(test_data)), \n",
    "                              callbacks=[create_tensorboard_callback(dir_name=\"tensorboard_hub_07\", experiment_name=\"07_model_2\")])"
   ]
  },
  {
   "cell_type": "code",
   "execution_count": 161,
   "id": "fc9c50fa-194c-426a-b25c-f8b3a775492b",
   "metadata": {},
   "outputs": [
    {
     "name": "stdout",
     "output_type": "stream",
     "text": [
      "790/790 [==============================] - 74s 90ms/step - loss: 0.9417 - accuracy: 0.7435\n"
     ]
    },
    {
     "data": {
      "text/plain": [
       "[0.9416666626930237, 0.7435247898101807]"
      ]
     },
     "execution_count": 161,
     "metadata": {},
     "output_type": "execute_result"
    }
   ],
   "source": [
    "model_1.evaluate(test_data)"
   ]
  },
  {
   "cell_type": "code",
   "execution_count": 162,
   "id": "ec768f43-361f-45a1-95e0-58474a7fa83b",
   "metadata": {},
   "outputs": [
    {
     "name": "stdout",
     "output_type": "stream",
     "text": [
      "Model: \"model_1\"\n",
      "_________________________________________________________________\n",
      " Layer (type)                Output Shape              Param #   \n",
      "=================================================================\n",
      " input_layer (InputLayer)    [(None, 224, 224, 3)]     0         \n",
      "                                                                 \n",
      " efficientnetb0 (Functional)  (None, None, None, 1280)  4049571  \n",
      "                                                                 \n",
      " gloable_average_pooling2d (  (None, 1280)             0         \n",
      " GlobalAveragePooling2D)                                         \n",
      "                                                                 \n",
      " output_layer (Dense)        (None, 101)               129381    \n",
      "                                                                 \n",
      "=================================================================\n",
      "Total params: 4,178,952\n",
      "Trainable params: 3,243,697\n",
      "Non-trainable params: 935,255\n",
      "_________________________________________________________________\n"
     ]
    }
   ],
   "source": [
    "model_2 = tf.keras.models.clone_model(\n",
    "    model_1\n",
    ")\n",
    "model_2.summary()"
   ]
  },
  {
   "cell_type": "code",
   "execution_count": 163,
   "id": "b8568fd1-ac33-4543-98d9-b58455d82729",
   "metadata": {},
   "outputs": [
    {
     "data": {
      "text/plain": [
       "<tensorflow.python.checkpoint.checkpoint.CheckpointLoadStatus at 0x50e250d30>"
      ]
     },
     "execution_count": 163,
     "metadata": {},
     "output_type": "execute_result"
    }
   ],
   "source": [
    "model_2.load_weights(\"07_model_1\")\n"
   ]
  },
  {
   "cell_type": "code",
   "execution_count": 165,
   "id": "eb13c708-1a5c-425e-8bb6-0d6eb7794242",
   "metadata": {},
   "outputs": [
    {
     "name": "stderr",
     "output_type": "stream",
     "text": [
      "2023-03-20 21:14:29.450569: I tensorflow/core/grappler/optimizers/custom_graph_optimizer_registry.cc:114] Plugin optimizer for device_type GPU is enabled.\n"
     ]
    },
    {
     "name": "stdout",
     "output_type": "stream",
     "text": [
      "790/790 [==============================] - 79s 91ms/step - loss: 1.3529 - accuracy: 0.6431\n"
     ]
    },
    {
     "data": {
      "text/plain": [
       "[1.352927803993225, 0.6430891156196594]"
      ]
     },
     "execution_count": 165,
     "metadata": {},
     "output_type": "execute_result"
    }
   ],
   "source": [
    "model_2.compile(loss='sparse_categorical_crossentropy',\n",
    "                optimizer=tf.keras.optimizers.Adam(),\n",
    "                metrics='accuracy')\n",
    "model_2.evaluate(test_data)"
   ]
  },
  {
   "cell_type": "code",
   "execution_count": 171,
   "id": "719fca5e-2e13-4c2a-80ae-91ddcbae228e",
   "metadata": {},
   "outputs": [
    {
     "name": "stdout",
     "output_type": "stream",
     "text": [
      "790/790 [==============================] - 74s 89ms/step - loss: 0.9417 - accuracy: 0.7435\n"
     ]
    },
    {
     "data": {
      "text/plain": [
       "[0.9416673183441162, 0.7435247898101807]"
      ]
     },
     "execution_count": 171,
     "metadata": {},
     "output_type": "execute_result"
    }
   ],
   "source": [
    "model_1.evaluate(test_data)"
   ]
  },
  {
   "cell_type": "code",
   "execution_count": 172,
   "id": "3560a687-1b1c-4eec-a5cb-6f2cb9f056e4",
   "metadata": {},
   "outputs": [
    {
     "name": "stdout",
     "output_type": "stream",
     "text": [
      "Saving TensorBoard log files to: tensorboard_hub_07/07_model_3/20230320-212722\n",
      "WARNING:tensorflow:Model failed to serialize as JSON. Ignoring... Unable to serialize [2.0896919 2.1128855 2.108185 ] to JSON. Unrecognized type <class 'tensorflow.python.framework.ops.EagerTensor'>.\n"
     ]
    },
    {
     "name": "stderr",
     "output_type": "stream",
     "text": [
      "WARNING:tensorflow:Model failed to serialize as JSON. Ignoring... Unable to serialize [2.0896919 2.1128855 2.108185 ] to JSON. Unrecognized type <class 'tensorflow.python.framework.ops.EagerTensor'>.\n"
     ]
    },
    {
     "name": "stdout",
     "output_type": "stream",
     "text": [
      "Epoch 10/100\n",
      "2368/2368 [==============================] - 245s 101ms/step - loss: 0.7157 - accuracy: 0.8206 - val_loss: 0.9517 - val_accuracy: 0.7380\n",
      "Epoch 11/100\n",
      "2368/2368 [==============================] - 241s 100ms/step - loss: 0.7109 - accuracy: 0.8212 - val_loss: 0.9202 - val_accuracy: 0.7446\n",
      "Epoch 12/100\n",
      "2368/2368 [==============================] - 240s 100ms/step - loss: 0.7063 - accuracy: 0.8233 - val_loss: 0.9149 - val_accuracy: 0.7491\n",
      "Epoch 13/100\n",
      "2368/2368 [==============================] - 240s 99ms/step - loss: 0.7017 - accuracy: 0.8246 - val_loss: 0.9441 - val_accuracy: 0.7407\n",
      "Epoch 14/100\n",
      "2368/2368 [==============================] - 240s 99ms/step - loss: 0.6971 - accuracy: 0.8258 - val_loss: 0.9213 - val_accuracy: 0.7465\n",
      "Epoch 15/100\n",
      "2368/2368 [==============================] - 241s 100ms/step - loss: 0.6927 - accuracy: 0.8269 - val_loss: 0.9320 - val_accuracy: 0.7404\n"
     ]
    }
   ],
   "source": [
    "history_model_3 = model_1.fit(train_data, epochs=100, steps_per_epoch=len(train_data), validation_data=test_data, \n",
    "                              initial_epoch=history_model_2.epoch[-1],\n",
    "                              validation_steps=(0.25 * len(test_data)), \n",
    "                              callbacks=[tf.keras.callbacks.EarlyStopping(monitor='val_accuracy',patience=3,\n",
    "                                                                          restore_best_weights=True),\n",
    "                                         create_tensorboard_callback(dir_name=\"tensorboard_hub_07\", experiment_name=\"07_model_3\")])"
   ]
  },
  {
   "cell_type": "code",
   "execution_count": 173,
   "id": "e6740ed3-3620-4b6d-8a0a-523874c018aa",
   "metadata": {},
   "outputs": [
    {
     "name": "stdout",
     "output_type": "stream",
     "text": [
      "790/790 [==============================] - 73s 89ms/step - loss: 0.9427 - accuracy: 0.7425\n"
     ]
    },
    {
     "data": {
      "text/plain": [
       "[0.942714273929596, 0.742495059967041]"
      ]
     },
     "execution_count": 173,
     "metadata": {},
     "output_type": "execute_result"
    }
   ],
   "source": [
    "model_1.evaluate(test_data)\n"
   ]
  },
  {
   "cell_type": "code",
   "execution_count": 37,
   "id": "e46ac768-d8f3-4e2f-a10b-cd3fc7b0a259",
   "metadata": {},
   "outputs": [],
   "source": [
    "from tensorflow.keras.layers.experimental import preprocessing\n",
    "\n",
    "data_agumentation =  tf.keras.Sequential([\n",
    "    preprocessing.RandomFlip(\"horizontal\")\n",
    "], name=\"data_agumentation\")"
   ]
  },
  {
   "cell_type": "code",
   "execution_count": 38,
   "id": "adf00693-17fc-4525-84cd-7db485cf8e3c",
   "metadata": {
    "tags": []
   },
   "outputs": [
    {
     "name": "stdout",
     "output_type": "stream",
     "text": [
      "(None, 224, 224, 3)\n",
      "(None, 7, 7, 1280)\n",
      "(None, 1280)\n",
      "Model: \"model_9\"\n",
      "_________________________________________________________________\n",
      " Layer (type)                Output Shape              Param #   \n",
      "=================================================================\n",
      " input_layer (InputLayer)    [(None, 224, 224, 3)]     0         \n",
      "                                                                 \n",
      " data_agumentation (Sequenti  (None, 224, 224, 3)      0         \n",
      " al)                                                             \n",
      "                                                                 \n",
      " efficientnetb0 (Functional)  (None, None, None, 1280)  4049571  \n",
      "                                                                 \n",
      " gloable_average_pooling2d (  (None, 1280)             0         \n",
      " GlobalAveragePooling2D)                                         \n",
      "                                                                 \n",
      " output_layer (Dense)        (None, 101)               129381    \n",
      "                                                                 \n",
      "=================================================================\n",
      "Total params: 4,178,952\n",
      "Trainable params: 129,381\n",
      "Non-trainable params: 4,049,571\n",
      "_________________________________________________________________\n",
      "Saving TensorBoard log files to: tensorboard_hub_07/07_model_2_1/20230321-083039\n",
      "WARNING:tensorflow:Model failed to serialize as JSON. Ignoring... Unable to serialize [2.0896919 2.1128855 2.108185 ] to JSON. Unrecognized type <class 'tensorflow.python.framework.ops.EagerTensor'>.\n"
     ]
    },
    {
     "name": "stderr",
     "output_type": "stream",
     "text": [
      "WARNING:tensorflow:Model failed to serialize as JSON. Ignoring... Unable to serialize [2.0896919 2.1128855 2.108185 ] to JSON. Unrecognized type <class 'tensorflow.python.framework.ops.EagerTensor'>.\n"
     ]
    },
    {
     "name": "stdout",
     "output_type": "stream",
     "text": [
      "Epoch 1/5\n"
     ]
    },
    {
     "name": "stderr",
     "output_type": "stream",
     "text": [
      "2023-03-21 08:30:42.343131: I tensorflow/core/grappler/optimizers/custom_graph_optimizer_registry.cc:114] Plugin optimizer for device_type GPU is enabled.\n"
     ]
    },
    {
     "name": "stdout",
     "output_type": "stream",
     "text": [
      "2368/2368 [==============================] - ETA: 0s - loss: 1.7199 - accuracy: 0.5830"
     ]
    },
    {
     "name": "stderr",
     "output_type": "stream",
     "text": [
      "2023-03-21 08:36:51.236964: I tensorflow/core/grappler/optimizers/custom_graph_optimizer_registry.cc:114] Plugin optimizer for device_type GPU is enabled.\n"
     ]
    },
    {
     "name": "stdout",
     "output_type": "stream",
     "text": [
      "2368/2368 [==============================] - 394s 163ms/step - loss: 1.7199 - accuracy: 0.5830 - val_loss: 1.1289 - val_accuracy: 0.6952\n",
      "Epoch 2/5\n",
      "2368/2368 [==============================] - 386s 161ms/step - loss: 1.1997 - accuracy: 0.6888 - val_loss: 1.0265 - val_accuracy: 0.7221\n",
      "Epoch 3/5\n",
      "2368/2368 [==============================] - 385s 161ms/step - loss: 1.0545 - accuracy: 0.7229 - val_loss: 1.0047 - val_accuracy: 0.7227\n",
      "Epoch 4/5\n",
      "2368/2368 [==============================] - 386s 161ms/step - loss: 0.9604 - accuracy: 0.7477 - val_loss: 0.9818 - val_accuracy: 0.7298\n",
      "Epoch 5/5\n",
      "2368/2368 [==============================] - 384s 161ms/step - loss: 0.8897 - accuracy: 0.7643 - val_loss: 0.9849 - val_accuracy: 0.7292\n"
     ]
    }
   ],
   "source": [
    "#  Model 2 using keras functional api with data augmentation\n",
    "\n",
    "base_model = tf.keras.applications.efficientnet.EfficientNetB0(\n",
    "    include_top=False, # top is output layer we want to change it to 10 classes\n",
    "    )\n",
    "base_model.trainable = False\n",
    "\n",
    "inputs =  tf.keras.layers.Input(shape=(224,224,3), name=\"input_layer\")\n",
    "\n",
    "# resnet50v2 needs rescaling, not for efficientnet as they have rescaling builtin \n",
    "# x = tf.keras.layers.experimental.preprocessing.Rescaling(1/.255)(inputs)\n",
    "\n",
    "x = data_agumentation(inputs)\n",
    "print(x.shape)\n",
    "\n",
    "x = base_model(x, training=False)\n",
    "print(x.shape)\n",
    "\n",
    "\n",
    "\n",
    "#  average pooling our outputs from base model to get most important models.\n",
    "x = tf.keras.layers.GlobalAveragePooling2D(name=\"gloable_average_pooling2d\")(x)\n",
    "print(x.shape)\n",
    "\n",
    "# output activation layers\n",
    "outputs = tf.keras.layers.Dense(101, activation=\"softmax\", name=\"output_layer\")(x)\n",
    "\n",
    "model_2 = tf.keras.Model(inputs, outputs)\n",
    "\n",
    "model_2.compile(loss='sparse_categorical_crossentropy',\n",
    "                optimizer=tf.keras.optimizers.Adam(),\n",
    "                metrics='accuracy')\n",
    "model_2.summary()\n",
    "\n",
    "\n",
    "history_model_2_1 = model_2.fit(train_data, epochs=5, steps_per_epoch=len(train_data), validation_data=test_data, \n",
    "                       validation_steps=(0.25 * len(test_data)), callbacks=[tf.keras.callbacks.ModelCheckpoint(\"model_2_checkpoints/cp.ckpt\", monitor=\"val_loss\", save_best_only=True,\n",
    "                                                     save_weights_only=True, verbose=0), create_tensorboard_callback(dir_name=\"tensorboard_hub_07\", experiment_name=\"07_model_2_1\")])"
   ]
  },
  {
   "cell_type": "code",
   "execution_count": 20,
   "id": "2b9aa83e-c24e-4b76-bb7f-e00ac3c14c03",
   "metadata": {},
   "outputs": [
    {
     "data": {
      "text/plain": [
       "'2.10.0'"
      ]
     },
     "execution_count": 20,
     "metadata": {},
     "output_type": "execute_result"
    }
   ],
   "source": [
    "tf.__version__"
   ]
  },
  {
   "cell_type": "code",
   "execution_count": 40,
   "id": "23e0b6db-8272-4f3b-afc0-f70c38386e6a",
   "metadata": {},
   "outputs": [],
   "source": [
    "base_model.trainable = False\n",
    "\n",
    "for layer in base_model.layers[:-10]:\n",
    "    layer.trainable = True"
   ]
  },
  {
   "cell_type": "code",
   "execution_count": 41,
   "id": "3dc0e2da-4b9f-479d-b669-c67225e99683",
   "metadata": {},
   "outputs": [],
   "source": [
    "model_2.compile(loss='sparse_categorical_crossentropy',\n",
    "                optimizer=tf.keras.optimizers.Adam(learning_rate=0.0001),\n",
    "                metrics='accuracy')"
   ]
  },
  {
   "cell_type": "code",
   "execution_count": 43,
   "id": "3ecb5b52-6d79-42c6-a566-877c8d345c7a",
   "metadata": {},
   "outputs": [
    {
     "name": "stdout",
     "output_type": "stream",
     "text": [
      "Saving TensorBoard log files to: tensorboard_hub_07/07_model_2_2/20230321-123033\n",
      "WARNING:tensorflow:Model failed to serialize as JSON. Ignoring... Unable to serialize [2.0896919 2.1128855 2.108185 ] to JSON. Unrecognized type <class 'tensorflow.python.framework.ops.EagerTensor'>.\n"
     ]
    },
    {
     "name": "stderr",
     "output_type": "stream",
     "text": [
      "WARNING:tensorflow:Model failed to serialize as JSON. Ignoring... Unable to serialize [2.0896919 2.1128855 2.108185 ] to JSON. Unrecognized type <class 'tensorflow.python.framework.ops.EagerTensor'>.\n"
     ]
    },
    {
     "name": "stdout",
     "output_type": "stream",
     "text": [
      "Epoch 5/100\n"
     ]
    },
    {
     "name": "stderr",
     "output_type": "stream",
     "text": [
      "2023-03-21 12:30:36.946051: I tensorflow/core/grappler/optimizers/custom_graph_optimizer_registry.cc:114] Plugin optimizer for device_type GPU is enabled.\n"
     ]
    },
    {
     "name": "stdout",
     "output_type": "stream",
     "text": [
      "2368/2368 [==============================] - ETA: 0s - loss: 0.7967 - accuracy: 0.7921"
     ]
    },
    {
     "name": "stderr",
     "output_type": "stream",
     "text": [
      "2023-03-21 12:37:10.704117: I tensorflow/core/grappler/optimizers/custom_graph_optimizer_registry.cc:114] Plugin optimizer for device_type GPU is enabled.\n"
     ]
    },
    {
     "name": "stdout",
     "output_type": "stream",
     "text": [
      "2368/2368 [==============================] - 420s 174ms/step - loss: 0.7967 - accuracy: 0.7921 - val_loss: 0.9502 - val_accuracy: 0.7407\n",
      "Epoch 6/100\n",
      "2368/2368 [==============================] - 395s 165ms/step - loss: 0.7814 - accuracy: 0.7961 - val_loss: 0.9341 - val_accuracy: 0.7382\n",
      "Epoch 7/100\n",
      "2368/2368 [==============================] - 400s 167ms/step - loss: 0.7726 - accuracy: 0.7999 - val_loss: 0.9451 - val_accuracy: 0.7355\n",
      "Epoch 8/100\n",
      "2368/2368 [==============================] - 389s 162ms/step - loss: 0.7653 - accuracy: 0.8024 - val_loss: 0.9273 - val_accuracy: 0.7420\n",
      "Epoch 9/100\n",
      "2368/2368 [==============================] - 390s 163ms/step - loss: 0.7586 - accuracy: 0.8047 - val_loss: 0.9474 - val_accuracy: 0.7375\n",
      "Epoch 10/100\n",
      "2368/2368 [==============================] - 383s 160ms/step - loss: 0.7523 - accuracy: 0.8061 - val_loss: 0.9552 - val_accuracy: 0.7391\n",
      "Epoch 11/100\n",
      "2368/2368 [==============================] - 382s 159ms/step - loss: 0.7465 - accuracy: 0.8084 - val_loss: 0.9390 - val_accuracy: 0.7391\n"
     ]
    }
   ],
   "source": [
    "history_model_2_2 = model_2.fit(train_data, epochs=100, steps_per_epoch=len(train_data), validation_data=test_data, \n",
    "                              initial_epoch=history_model_2_1.epoch[-1],\n",
    "                              validation_steps=(0.25 * len(test_data)), \n",
    "                              callbacks=[tf.keras.callbacks.EarlyStopping(monitor='val_accuracy',patience=3,\n",
    "                                                                          restore_best_weights=True),\n",
    "                                         create_tensorboard_callback(dir_name=\"tensorboard_hub_07\", experiment_name=\"07_model_2_2\")])"
   ]
  },
  {
   "cell_type": "code",
   "execution_count": 44,
   "id": "360c9f12-d14c-4085-b964-8ca5360b16d0",
   "metadata": {},
   "outputs": [],
   "source": [
    "# base_model.trainable = True\n",
    "\n",
    "# for layer in base_model.layers:\n",
    "#     layer.trainable = True"
   ]
  },
  {
   "cell_type": "code",
   "execution_count": 45,
   "id": "97bd3afe-d671-4000-bc98-3a3d6f1d6872",
   "metadata": {},
   "outputs": [],
   "source": [
    "# model_2.compile(loss='sparse_categorical_crossentropy',\n",
    "#                 optimizer=tf.keras.optimizers.Adam(learning_rate=0.0001),\n",
    "#                 metrics='accuracy')"
   ]
  },
  {
   "cell_type": "code",
   "execution_count": 46,
   "id": "58e693cf-2ba0-484d-a984-4c26b2fc4988",
   "metadata": {},
   "outputs": [
    {
     "name": "stdout",
     "output_type": "stream",
     "text": [
      "Saving TensorBoard log files to: tensorboard_hub_07/07_model_2_3/20230321-131632\n",
      "WARNING:tensorflow:Model failed to serialize as JSON. Ignoring... Unable to serialize [2.0896919 2.1128855 2.108185 ] to JSON. Unrecognized type <class 'tensorflow.python.framework.ops.EagerTensor'>.\n"
     ]
    },
    {
     "name": "stderr",
     "output_type": "stream",
     "text": [
      "WARNING:tensorflow:Model failed to serialize as JSON. Ignoring... Unable to serialize [2.0896919 2.1128855 2.108185 ] to JSON. Unrecognized type <class 'tensorflow.python.framework.ops.EagerTensor'>.\n"
     ]
    },
    {
     "name": "stdout",
     "output_type": "stream",
     "text": [
      "Epoch 11/100\n"
     ]
    },
    {
     "name": "stderr",
     "output_type": "stream",
     "text": [
      "2023-03-21 13:16:36.576341: I tensorflow/core/grappler/optimizers/custom_graph_optimizer_registry.cc:114] Plugin optimizer for device_type GPU is enabled.\n"
     ]
    },
    {
     "name": "stdout",
     "output_type": "stream",
     "text": [
      "2368/2368 [==============================] - ETA: 0s - loss: 0.7805 - accuracy: 0.7865"
     ]
    },
    {
     "name": "stderr",
     "output_type": "stream",
     "text": [
      "2023-03-21 13:32:01.114112: I tensorflow/core/grappler/optimizers/custom_graph_optimizer_registry.cc:114] Plugin optimizer for device_type GPU is enabled.\n"
     ]
    },
    {
     "name": "stdout",
     "output_type": "stream",
     "text": [
      "2368/2368 [==============================] - 955s 394ms/step - loss: 0.7805 - accuracy: 0.7865 - val_loss: 0.7951 - val_accuracy: 0.7789\n",
      "Epoch 12/100\n",
      "2368/2368 [==============================] - 944s 394ms/step - loss: 0.4736 - accuracy: 0.8671 - val_loss: 0.8078 - val_accuracy: 0.7888\n",
      "Epoch 13/100\n",
      "2368/2368 [==============================] - 939s 392ms/step - loss: 0.2632 - accuracy: 0.9236 - val_loss: 0.8989 - val_accuracy: 0.7738\n",
      "Epoch 14/100\n",
      "2368/2368 [==============================] - 928s 387ms/step - loss: 0.1446 - accuracy: 0.9563 - val_loss: 0.9594 - val_accuracy: 0.7801\n",
      "Epoch 15/100\n",
      "2368/2368 [==============================] - 933s 390ms/step - loss: 0.0977 - accuracy: 0.9694 - val_loss: 1.0557 - val_accuracy: 0.7850\n"
     ]
    }
   ],
   "source": [
    "# history_model_2_3 = model_2.fit(train_data, epochs=100, steps_per_epoch=len(train_data), validation_data=test_data, \n",
    "#                               initial_epoch=history_model_2_2.epoch[-1],\n",
    "#                               validation_steps=(0.25 * len(test_data)), \n",
    "#                               callbacks=[tf.keras.callbacks.EarlyStopping(monitor='val_accuracy',patience=3,\n",
    "#                                                                           restore_best_weights=True),\n",
    "#                                          create_tensorboard_callback(dir_name=\"tensorboard_hub_07\", experiment_name=\"07_model_2_3\")])"
   ]
  },
  {
   "cell_type": "code",
   "execution_count": 47,
   "id": "3739da41-3d8d-46c0-b683-274e3f82d835",
   "metadata": {},
   "outputs": [
    {
     "name": "stdout",
     "output_type": "stream",
     "text": [
      "790/790 [==============================] - 76s 91ms/step - loss: 0.8182 - accuracy: 0.7830\n"
     ]
    },
    {
     "data": {
      "text/plain": [
       "[0.8181533813476562, 0.783009946346283]"
      ]
     },
     "execution_count": 47,
     "metadata": {},
     "output_type": "execute_result"
    }
   ],
   "source": [
    "model_2.evaluate(test_data)"
   ]
  },
  {
   "cell_type": "code",
   "execution_count": 51,
   "id": "2e293a2f-2ace-435f-9e45-b1f29fcf2263",
   "metadata": {},
   "outputs": [],
   "source": [
    "model_2.save_weights('./checkpoint_07_model_2_3/07_model_2_3')\n"
   ]
  },
  {
   "cell_type": "code",
   "execution_count": 52,
   "id": "dd2aeb19-f271-4414-8d46-2f5d5d3d336c",
   "metadata": {},
   "outputs": [
    {
     "data": {
      "text/plain": [
       "<tensorflow.python.checkpoint.checkpoint.CheckpointLoadStatus at 0x64d13b160>"
      ]
     },
     "execution_count": 52,
     "metadata": {},
     "output_type": "execute_result"
    }
   ],
   "source": [
    "model_2.load_weights('./checkpoint_07_model_2_3/07_model_2_3')\n"
   ]
  },
  {
   "cell_type": "code",
   "execution_count": 53,
   "id": "ff22e8d6-c7fa-4cfa-8cf2-f5ba358768bf",
   "metadata": {},
   "outputs": [
    {
     "name": "stdout",
     "output_type": "stream",
     "text": [
      "790/790 [==============================] - 74s 88ms/step - loss: 0.8182 - accuracy: 0.7830\n"
     ]
    },
    {
     "data": {
      "text/plain": [
       "[0.8181527853012085, 0.783009946346283]"
      ]
     },
     "execution_count": 53,
     "metadata": {},
     "output_type": "execute_result"
    }
   ],
   "source": [
    "model_2.evaluate(test_data)"
   ]
  },
  {
   "cell_type": "code",
   "execution_count": null,
   "id": "329beb6e-f52e-4b11-909e-64ca1e3bc152",
   "metadata": {},
   "outputs": [],
   "source": []
  }
 ],
 "metadata": {
  "kernelspec": {
   "display_name": "Python 3 (ipykernel)",
   "language": "python",
   "name": "python3"
  },
  "language_info": {
   "codemirror_mode": {
    "name": "ipython",
    "version": 3
   },
   "file_extension": ".py",
   "mimetype": "text/x-python",
   "name": "python",
   "nbconvert_exporter": "python",
   "pygments_lexer": "ipython3",
   "version": "3.8.13"
  }
 },
 "nbformat": 4,
 "nbformat_minor": 5
}
