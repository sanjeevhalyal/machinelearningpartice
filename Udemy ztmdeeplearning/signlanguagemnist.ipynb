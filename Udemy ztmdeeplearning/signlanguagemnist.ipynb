{
 "cells": [
  {
   "cell_type": "code",
   "execution_count": 1,
   "id": "01a03eb0-e195-47f7-84ba-783f02a872d2",
   "metadata": {},
   "outputs": [],
   "source": [
    "\n",
    "import kaggle"
   ]
  },
  {
   "cell_type": "code",
   "execution_count": 2,
   "id": "cd8e115e-94a1-4f44-a3fb-b0637b75d619",
   "metadata": {},
   "outputs": [],
   "source": [
    "kaggle.api.authenticate()"
   ]
  },
  {
   "cell_type": "code",
   "execution_count": 3,
   "id": "a749405e-3e35-489a-91f3-373e4e7d1d95",
   "metadata": {},
   "outputs": [],
   "source": [
    "kaggle.api.dataset_download_files('datamunge/sign-language-mnist', path='./data/sign-language-mnist', unzip=True)"
   ]
  },
  {
   "cell_type": "code",
   "execution_count": 4,
   "id": "233e6acc-f8ff-47bd-ae58-c9347e074d2b",
   "metadata": {},
   "outputs": [],
   "source": [
    "import tensorflow as tf"
   ]
  },
  {
   "cell_type": "code",
   "execution_count": 5,
   "id": "4fb474c2-d0bf-425f-b1cf-005da714818d",
   "metadata": {},
   "outputs": [],
   "source": [
    "import pandas as pd\n",
    "import numpy as np"
   ]
  },
  {
   "cell_type": "code",
   "execution_count": 114,
   "id": "a834d654-beb5-4d48-ae9b-44f2c6da58de",
   "metadata": {},
   "outputs": [],
   "source": [
    "sign_train = pd.read_csv(\n",
    "    \"./data/sign-language-mnist/sign_mnist_train.csv\")\n",
    "sign_test = pd.read_csv(\n",
    "    \"./data/sign-language-mnist/sign_mnist_test.csv\")"
   ]
  },
  {
   "cell_type": "code",
   "execution_count": 97,
   "id": "75604283-ccb1-4510-879f-45ee4ce220c2",
   "metadata": {
    "collapsed": true,
    "jupyter": {
     "outputs_hidden": true
    },
    "tags": []
   },
   "outputs": [
    {
     "data": {
      "text/plain": [
       "(   label  pixel1  pixel2  pixel3  pixel4  pixel5  pixel6  pixel7  pixel8  \\\n",
       " 0      3     107     118     127     134     139     143     146     150   \n",
       " 1      6     155     157     156     156     156     157     156     158   \n",
       " 2      2     187     188     188     187     187     186     187     188   \n",
       " 3      2     211     211     212     212     211     210     211     210   \n",
       " 4     13     164     167     170     172     176     179     180     184   \n",
       " \n",
       "    pixel9  ...  pixel775  pixel776  pixel777  pixel778  pixel779  pixel780  \\\n",
       " 0     153  ...       207       207       207       207       206       206   \n",
       " 1     158  ...        69       149       128        87        94       163   \n",
       " 2     187  ...       202       201       200       199       198       199   \n",
       " 3     210  ...       235       234       233       231       230       226   \n",
       " 4     185  ...        92       105       105       108       133       163   \n",
       " \n",
       "    pixel781  pixel782  pixel783  pixel784  \n",
       " 0       206       204       203       202  \n",
       " 1       175       103       135       149  \n",
       " 2       198       195       194       195  \n",
       " 3       225       222       229       163  \n",
       " 4       157       163       164       179  \n",
       " \n",
       " [5 rows x 785 columns],\n",
       "    label  pixel1  pixel2  pixel3  pixel4  pixel5  pixel6  pixel7  pixel8  \\\n",
       " 0      6     149     149     150     150     150     151     151     150   \n",
       " 1      5     126     128     131     132     133     134     135     135   \n",
       " 2     10      85      88      92      96     105     123     135     143   \n",
       " 3      0     203     205     207     206     207     209     210     209   \n",
       " 4      3     188     191     193     195     199     201     202     203   \n",
       " \n",
       "    pixel9  ...  pixel775  pixel776  pixel777  pixel778  pixel779  pixel780  \\\n",
       " 0     151  ...       138       148       127        89        82        96   \n",
       " 1     136  ...        47       104       194       183       186       184   \n",
       " 2     147  ...        68       166       242       227       230       227   \n",
       " 3     210  ...       154       248       247       248       253       236   \n",
       " 4     203  ...        26        40        64        48        29        46   \n",
       " \n",
       "    pixel781  pixel782  pixel783  pixel784  \n",
       " 0       106       112       120       107  \n",
       " 1       184       184       182       180  \n",
       " 2       226       225       224       222  \n",
       " 3       230       240       253       255  \n",
       " 4        49        46        46        53  \n",
       " \n",
       " [5 rows x 785 columns])"
      ]
     },
     "execution_count": 97,
     "metadata": {},
     "output_type": "execute_result"
    }
   ],
   "source": [
    "sign_train.head(), sign_test.head()"
   ]
  },
  {
   "cell_type": "code",
   "execution_count": 115,
   "id": "8c73ebae-fc30-413e-a28d-5c6021ee4101",
   "metadata": {},
   "outputs": [],
   "source": [
    "train_labels = sign_train.pop('label')\n",
    "test_labels = sign_test.pop('label')"
   ]
  },
  {
   "cell_type": "code",
   "execution_count": 116,
   "id": "1ac2ed44-7668-4c5e-85d4-6bb4ceb7bf9d",
   "metadata": {},
   "outputs": [],
   "source": [
    "train_data = np.array(sign_train).reshape(-1,28, 28)\n",
    "test_data = np.array(sign_test).reshape(-1,28, 28)"
   ]
  },
  {
   "cell_type": "code",
   "execution_count": 121,
   "id": "779750f6-be41-4fc9-8f2c-5ce1c81b2232",
   "metadata": {},
   "outputs": [
    {
     "data": {
      "image/png": "[encoded data removed]",
      "text/plain": [
       "<Figure size 640x480 with 1 Axes>"
      ]
     },
     "metadata": {},
     "output_type": "display_data"
    },
    {
     "data": {
      "text/plain": [
       "8"
      ]
     },
     "execution_count": 121,
     "metadata": {},
     "output_type": "execute_result"
    }
   ],
   "source": [
    "\n",
    "import matplotlib.pyplot as plt\n",
    "\n",
    "plt.imshow(test_data[10], cmap='gray')\n",
    "plt.show()\n",
    "test_labels[10]"
   ]
  },
  {
   "cell_type": "code",
   "execution_count": 81,
   "id": "85bc3fc1-05f6-481e-b732-204372c13fa8",
   "metadata": {},
   "outputs": [
    {
     "data": {
      "text/plain": [
       "array([ 0,  1,  2,  3,  4,  5,  6,  7,  8, 10, 11, 12, 13, 14, 15, 16, 17,\n",
       "       18, 19, 20, 21, 22, 23, 24])"
      ]
     },
     "execution_count": 81,
     "metadata": {},
     "output_type": "execute_result"
    }
   ],
   "source": [
    "train_labels.dtype\n",
    "np.unique(train_labels)\n"
   ]
  },
  {
   "cell_type": "code",
   "execution_count": 122,
   "id": "ebde3329-0882-4522-ab88-b1c97d448419",
   "metadata": {},
   "outputs": [
    {
     "data": {
      "text/plain": [
       "25"
      ]
     },
     "execution_count": 122,
     "metadata": {},
     "output_type": "execute_result"
    }
   ],
   "source": [
    "class_names = [chr(i) for i in range(65,90) ]\n",
    "\n",
    "len(class_names)"
   ]
  },
  {
   "cell_type": "code",
   "execution_count": 166,
   "id": "50dfa5c7-1244-4e4a-ac39-8e43e295094a",
   "metadata": {},
   "outputs": [
    {
     "data": {
      "image/png": "[encoded data removed]",
      "text/plain": [
       "<Figure size 700x700 with 4 Axes>"
      ]
     },
     "metadata": {},
     "output_type": "display_data"
    }
   ],
   "source": [
    "import random\n",
    " \n",
    "plt.figure(figsize=(7,7))\n",
    "    \n",
    "for i in range(4):\n",
    "    ax = plt.subplot(2,2, i+1)\n",
    "    rand_index = random.choice(range(len(test_data)))\n",
    "    plt.imshow(test_data[rand_index], cmap=plt.cm.gray)\n",
    "    plt.title(class_names[train_labels[rand_index]])\n",
    "    plt.axis= \"off\""
   ]
  },
  {
   "cell_type": "code",
   "execution_count": 177,
   "id": "45bdba20-907b-4880-a8c5-04f991778236",
   "metadata": {},
   "outputs": [],
   "source": [
    "tf.random.set_seed(42)\n",
    "model_MCC = tf.keras.Sequential([\n",
    "    tf.keras.layers.Flatten(input_shape=(28,28)),\n",
    "    tf.keras.layers.Dense(25, activation=\"relu\"),\n",
    "    tf.keras.layers.Dense(25, activation=\"relu\"),\n",
    "    tf.keras.layers.Dense(25, activation=tf.keras.activations.softmax)\n",
    "    \n",
    "])\n",
    "model_MCC.compile(loss=tf.keras.losses.CategoricalCrossentropy(), optimizer=tf.keras.optimizers.Adam(), metrics=[\"accuracy\"])"
   ]
  },
  {
   "cell_type": "code",
   "execution_count": 178,
   "id": "3ca92465-4c1a-436b-8921-1158a8d15429",
   "metadata": {},
   "outputs": [
    {
     "name": "stdout",
     "output_type": "stream",
     "text": [
      "Model: \"sequential_9\"\n",
      "_________________________________________________________________\n",
      " Layer (type)                Output Shape              Param #   \n",
      "=================================================================\n",
      " flatten_9 (Flatten)         (None, 784)               0         \n",
      "                                                                 \n",
      " dense_27 (Dense)            (None, 25)                19625     \n",
      "                                                                 \n",
      " dense_28 (Dense)            (None, 25)                650       \n",
      "                                                                 \n",
      " dense_29 (Dense)            (None, 25)                650       \n",
      "                                                                 \n",
      "=================================================================\n",
      "Total params: 20,925\n",
      "Trainable params: 20,925\n",
      "Non-trainable params: 0\n",
      "_________________________________________________________________\n"
     ]
    }
   ],
   "source": [
    "model_MCC.summary()"
   ]
  },
  {
   "cell_type": "code",
   "execution_count": 179,
   "id": "0f33b77e-9a75-4b4c-ac37-773aaf97fea8",
   "metadata": {},
   "outputs": [],
   "source": [
    "train_oh_l = tf.one_hot(train_labels, depth=25)\n",
    "test_oh_l = tf.one_hot(test_labels, depth=25)"
   ]
  },
  {
   "cell_type": "code",
   "execution_count": 180,
   "id": "eb561e65-c52e-404c-9e01-00f9b75ec1fa",
   "metadata": {},
   "outputs": [
    {
     "name": "stdout",
     "output_type": "stream",
     "text": [
      "Epoch 1/10\n"
     ]
    },
    {
     "name": "stderr",
     "output_type": "stream",
     "text": [
      "2023-02-11 10:34:28.000562: I tensorflow/core/grappler/optimizers/custom_graph_optimizer_registry.cc:114] Plugin optimizer for device_type GPU is enabled.\n"
     ]
    },
    {
     "name": "stdout",
     "output_type": "stream",
     "text": [
      "856/858 [============================>.] - ETA: 0s - loss: 2.4288 - accuracy: 0.2397"
     ]
    },
    {
     "name": "stderr",
     "output_type": "stream",
     "text": [
      "2023-02-11 10:34:36.494398: I tensorflow/core/grappler/optimizers/custom_graph_optimizer_registry.cc:114] Plugin optimizer for device_type GPU is enabled.\n"
     ]
    },
    {
     "name": "stdout",
     "output_type": "stream",
     "text": [
      "858/858 [==============================] - 10s 11ms/step - loss: 2.4275 - accuracy: 0.2403 - val_loss: 1.9659 - val_accuracy: 0.3629\n",
      "Epoch 2/10\n",
      "858/858 [==============================] - 9s 11ms/step - loss: 1.6605 - accuracy: 0.4534 - val_loss: 1.7865 - val_accuracy: 0.4088\n",
      "Epoch 3/10\n",
      "858/858 [==============================] - 9s 11ms/step - loss: 1.3641 - accuracy: 0.5493 - val_loss: 1.5996 - val_accuracy: 0.4724\n",
      "Epoch 4/10\n",
      "858/858 [==============================] - 9s 11ms/step - loss: 1.1808 - accuracy: 0.6067 - val_loss: 1.6108 - val_accuracy: 0.4927\n",
      "Epoch 5/10\n",
      "858/858 [==============================] - 9s 11ms/step - loss: 1.0581 - accuracy: 0.6440 - val_loss: 1.4848 - val_accuracy: 0.5322\n",
      "Epoch 6/10\n",
      "858/858 [==============================] - 9s 11ms/step - loss: 0.9638 - accuracy: 0.6742 - val_loss: 1.4544 - val_accuracy: 0.5158\n",
      "Epoch 7/10\n",
      "858/858 [==============================] - 9s 11ms/step - loss: 0.8945 - accuracy: 0.6967 - val_loss: 1.4468 - val_accuracy: 0.5291\n",
      "Epoch 8/10\n",
      "858/858 [==============================] - 9s 11ms/step - loss: 0.8296 - accuracy: 0.7185 - val_loss: 1.4220 - val_accuracy: 0.5400\n",
      "Epoch 9/10\n",
      "858/858 [==============================] - 9s 11ms/step - loss: 0.7658 - accuracy: 0.7418 - val_loss: 1.4325 - val_accuracy: 0.5531\n",
      "Epoch 10/10\n",
      "858/858 [==============================] - 10s 12ms/step - loss: 0.7081 - accuracy: 0.7600 - val_loss: 1.4671 - val_accuracy: 0.5378\n"
     ]
    }
   ],
   "source": [
    "history = model_MCC.fit(train_data/255.0, train_oh_l, epochs=10, validation_data=(test_data/255.0, test_oh_l))"
   ]
  },
  {
   "cell_type": "code",
   "execution_count": 184,
   "id": "1ceb8c8b-e059-416d-b77f-b57cba547ceb",
   "metadata": {},
   "outputs": [],
   "source": [
    "tf.random.set_seed(42)\n",
    "model_MCC_2 = tf.keras.Sequential([\n",
    "    tf.keras.layers.Flatten(input_shape=(28,28)),\n",
    "    tf.keras.layers.Dense(50, activation=\"relu\"),\n",
    "    tf.keras.layers.Dense(50, activation=\"relu\"),\n",
    "    tf.keras.layers.Dense(25, activation=tf.keras.activations.softmax)\n",
    "    \n",
    "])\n",
    "model_MCC_2.compile(loss=tf.keras.losses.CategoricalCrossentropy(), optimizer=tf.keras.optimizers.Adam(), metrics=[\"accuracy\"])"
   ]
  },
  {
   "cell_type": "code",
   "execution_count": 186,
   "id": "87995228-8314-40d5-a05b-9908fbbb1d4a",
   "metadata": {},
   "outputs": [
    {
     "name": "stdout",
     "output_type": "stream",
     "text": [
      "Epoch 1/10\n",
      "  1/858 [..............................] - ETA: 4:33 - loss: 3.8060 - accuracy: 0.0312"
     ]
    },
    {
     "name": "stderr",
     "output_type": "stream",
     "text": [
      "2023-02-11 10:36:51.742319: I tensorflow/core/grappler/optimizers/custom_graph_optimizer_registry.cc:114] Plugin optimizer for device_type GPU is enabled.\n"
     ]
    },
    {
     "name": "stdout",
     "output_type": "stream",
     "text": [
      "858/858 [==============================] - ETA: 0s - loss: 2.1876 - accuracy: 0.3203"
     ]
    },
    {
     "name": "stderr",
     "output_type": "stream",
     "text": [
      "2023-02-11 10:37:00.197508: I tensorflow/core/grappler/optimizers/custom_graph_optimizer_registry.cc:114] Plugin optimizer for device_type GPU is enabled.\n"
     ]
    },
    {
     "name": "stdout",
     "output_type": "stream",
     "text": [
      "858/858 [==============================] - 10s 11ms/step - loss: 2.1876 - accuracy: 0.3203 - val_loss: 1.6606 - val_accuracy: 0.4810\n",
      "Epoch 2/10\n",
      "858/858 [==============================] - 10s 12ms/step - loss: 1.3329 - accuracy: 0.5671 - val_loss: 1.4900 - val_accuracy: 0.5406\n",
      "Epoch 3/10\n",
      "858/858 [==============================] - 10s 11ms/step - loss: 1.0158 - accuracy: 0.6661 - val_loss: 1.2551 - val_accuracy: 0.6054\n",
      "Epoch 4/10\n",
      "858/858 [==============================] - 10s 11ms/step - loss: 0.8238 - accuracy: 0.7339 - val_loss: 1.2963 - val_accuracy: 0.5917\n",
      "Epoch 5/10\n",
      "858/858 [==============================] - 10s 11ms/step - loss: 0.6711 - accuracy: 0.7898 - val_loss: 1.2581 - val_accuracy: 0.6180\n",
      "Epoch 6/10\n",
      "858/858 [==============================] - 10s 12ms/step - loss: 0.5584 - accuracy: 0.8270 - val_loss: 1.1840 - val_accuracy: 0.6488\n",
      "Epoch 7/10\n",
      "858/858 [==============================] - 10s 12ms/step - loss: 0.4597 - accuracy: 0.8607 - val_loss: 1.1942 - val_accuracy: 0.6810\n",
      "Epoch 8/10\n",
      "858/858 [==============================] - 10s 11ms/step - loss: 0.3931 - accuracy: 0.8794 - val_loss: 1.2360 - val_accuracy: 0.6832\n",
      "Epoch 9/10\n",
      "858/858 [==============================] - 10s 11ms/step - loss: 0.3238 - accuracy: 0.9042 - val_loss: 1.3246 - val_accuracy: 0.6588\n",
      "Epoch 10/10\n",
      "858/858 [==============================] - 10s 11ms/step - loss: 0.2705 - accuracy: 0.9197 - val_loss: 1.4255 - val_accuracy: 0.6516\n"
     ]
    }
   ],
   "source": [
    "history = model_MCC_2.fit(train_data/255.0, train_oh_l, epochs=10, validation_data=(test_data/255.0, test_oh_l))"
   ]
  },
  {
   "cell_type": "code",
   "execution_count": 188,
   "id": "45a1f2f2-b3ed-40a7-8ee2-7b7614511b2b",
   "metadata": {},
   "outputs": [],
   "source": [
    "tf.random.set_seed(42)\n",
    "model_MCC_3 = tf.keras.Sequential([\n",
    "    tf.keras.layers.Flatten(input_shape=(28,28)),\n",
    "    tf.keras.layers.Dense(100, activation=\"relu\"),\n",
    "    tf.keras.layers.Dense(100, activation=\"relu\"),\n",
    "    tf.keras.layers.Dense(25, activation=tf.keras.activations.softmax)\n",
    "    \n",
    "])\n",
    "model_MCC_3.compile(loss=tf.keras.losses.CategoricalCrossentropy(), optimizer=tf.keras.optimizers.Adam(), metrics=[\"accuracy\"])"
   ]
  },
  {
   "cell_type": "code",
   "execution_count": 189,
   "id": "744749a2-87df-4fc0-9939-046375133967",
   "metadata": {},
   "outputs": [
    {
     "name": "stdout",
     "output_type": "stream",
     "text": [
      "Epoch 1/10\n",
      "  1/858 [..............................] - ETA: 4:34 - loss: 3.4928 - accuracy: 0.0000e+00"
     ]
    },
    {
     "name": "stderr",
     "output_type": "stream",
     "text": [
      "2023-02-11 10:38:30.560578: I tensorflow/core/grappler/optimizers/custom_graph_optimizer_registry.cc:114] Plugin optimizer for device_type GPU is enabled.\n"
     ]
    },
    {
     "name": "stdout",
     "output_type": "stream",
     "text": [
      "858/858 [==============================] - ETA: 0s - loss: 1.9656 - accuracy: 0.3976"
     ]
    },
    {
     "name": "stderr",
     "output_type": "stream",
     "text": [
      "2023-02-11 10:38:39.029351: I tensorflow/core/grappler/optimizers/custom_graph_optimizer_registry.cc:114] Plugin optimizer for device_type GPU is enabled.\n"
     ]
    },
    {
     "name": "stdout",
     "output_type": "stream",
     "text": [
      "858/858 [==============================] - 10s 12ms/step - loss: 1.9656 - accuracy: 0.3976 - val_loss: 1.4330 - val_accuracy: 0.5736\n",
      "Epoch 2/10\n",
      "858/858 [==============================] - 10s 11ms/step - loss: 1.0185 - accuracy: 0.6697 - val_loss: 1.1831 - val_accuracy: 0.6212\n",
      "Epoch 3/10\n",
      "858/858 [==============================] - 10s 12ms/step - loss: 0.6698 - accuracy: 0.7843 - val_loss: 1.0724 - val_accuracy: 0.6470\n",
      "Epoch 4/10\n",
      "858/858 [==============================] - 9s 11ms/step - loss: 0.4395 - accuracy: 0.8631 - val_loss: 0.9560 - val_accuracy: 0.6987\n",
      "Epoch 5/10\n",
      "858/858 [==============================] - 9s 11ms/step - loss: 0.3001 - accuracy: 0.9087 - val_loss: 0.9774 - val_accuracy: 0.7170\n",
      "Epoch 6/10\n",
      "858/858 [==============================] - 10s 11ms/step - loss: 0.2129 - accuracy: 0.9384 - val_loss: 1.0092 - val_accuracy: 0.7168\n",
      "Epoch 7/10\n",
      "858/858 [==============================] - 9s 11ms/step - loss: 0.1458 - accuracy: 0.9617 - val_loss: 0.9550 - val_accuracy: 0.7302\n",
      "Epoch 8/10\n",
      "858/858 [==============================] - 10s 11ms/step - loss: 0.1018 - accuracy: 0.9746 - val_loss: 0.9716 - val_accuracy: 0.7610\n",
      "Epoch 9/10\n",
      "858/858 [==============================] - 10s 12ms/step - loss: 0.0784 - accuracy: 0.9814 - val_loss: 0.9510 - val_accuracy: 0.7687\n",
      "Epoch 10/10\n",
      "858/858 [==============================] - 10s 11ms/step - loss: 0.0622 - accuracy: 0.9846 - val_loss: 1.1182 - val_accuracy: 0.7451\n"
     ]
    }
   ],
   "source": [
    "history = model_MCC_3.fit(train_data/255.0, train_oh_l, epochs=10, validation_data=(test_data/255.0, test_oh_l))"
   ]
  },
  {
   "cell_type": "code",
   "execution_count": 190,
   "id": "0f41fb5b-dfde-4428-811d-b5b44c1843fb",
   "metadata": {},
   "outputs": [],
   "source": [
    "tf.random.set_seed(42)\n",
    "model_MCC_4 = tf.keras.Sequential([\n",
    "    tf.keras.layers.Flatten(input_shape=(28,28)),\n",
    "    tf.keras.layers.Dense(200, activation=\"relu\"),\n",
    "    tf.keras.layers.Dense(200, activation=\"relu\"),\n",
    "    tf.keras.layers.Dense(25, activation=tf.keras.activations.softmax)\n",
    "    \n",
    "])\n",
    "model_MCC_4.compile(loss=tf.keras.losses.CategoricalCrossentropy(), optimizer=tf.keras.optimizers.Adam(), metrics=[\"accuracy\"])"
   ]
  },
  {
   "cell_type": "code",
   "execution_count": 191,
   "id": "a73b162c-085a-4796-a37c-0ce166c48c3c",
   "metadata": {},
   "outputs": [
    {
     "name": "stdout",
     "output_type": "stream",
     "text": [
      "Epoch 1/10\n",
      "  1/858 [..............................] - ETA: 4:38 - loss: 3.5206 - accuracy: 0.0312"
     ]
    },
    {
     "name": "stderr",
     "output_type": "stream",
     "text": [
      "2023-02-11 10:40:07.966654: I tensorflow/core/grappler/optimizers/custom_graph_optimizer_registry.cc:114] Plugin optimizer for device_type GPU is enabled.\n"
     ]
    },
    {
     "name": "stdout",
     "output_type": "stream",
     "text": [
      "858/858 [==============================] - ETA: 0s - loss: 1.8002 - accuracy: 0.4408"
     ]
    },
    {
     "name": "stderr",
     "output_type": "stream",
     "text": [
      "2023-02-11 10:40:16.380439: I tensorflow/core/grappler/optimizers/custom_graph_optimizer_registry.cc:114] Plugin optimizer for device_type GPU is enabled.\n"
     ]
    },
    {
     "name": "stdout",
     "output_type": "stream",
     "text": [
      "858/858 [==============================] - 10s 11ms/step - loss: 1.8002 - accuracy: 0.4408 - val_loss: 1.3686 - val_accuracy: 0.5627\n",
      "Epoch 2/10\n",
      "858/858 [==============================] - 10s 11ms/step - loss: 0.8204 - accuracy: 0.7335 - val_loss: 1.0164 - val_accuracy: 0.6584\n",
      "Epoch 3/10\n",
      "858/858 [==============================] - 10s 11ms/step - loss: 0.4564 - accuracy: 0.8570 - val_loss: 0.9002 - val_accuracy: 0.7248\n",
      "Epoch 4/10\n",
      "858/858 [==============================] - 10s 11ms/step - loss: 0.2644 - accuracy: 0.9213 - val_loss: 0.8943 - val_accuracy: 0.7460\n",
      "Epoch 5/10\n",
      "858/858 [==============================] - 10s 11ms/step - loss: 0.1726 - accuracy: 0.9490 - val_loss: 0.9504 - val_accuracy: 0.7333\n",
      "Epoch 6/10\n",
      "858/858 [==============================] - 10s 12ms/step - loss: 0.1106 - accuracy: 0.9691 - val_loss: 0.9814 - val_accuracy: 0.7545\n",
      "Epoch 7/10\n",
      "858/858 [==============================] - 10s 11ms/step - loss: 0.0866 - accuracy: 0.9755 - val_loss: 0.9355 - val_accuracy: 0.7807\n",
      "Epoch 8/10\n",
      "858/858 [==============================] - 10s 11ms/step - loss: 0.0765 - accuracy: 0.9786 - val_loss: 0.9444 - val_accuracy: 0.7769\n",
      "Epoch 9/10\n",
      "858/858 [==============================] - 10s 12ms/step - loss: 0.0293 - accuracy: 0.9936 - val_loss: 0.9224 - val_accuracy: 0.7878\n",
      "Epoch 10/10\n",
      "858/858 [==============================] - 10s 12ms/step - loss: 0.0824 - accuracy: 0.9731 - val_loss: 0.9884 - val_accuracy: 0.7853\n"
     ]
    }
   ],
   "source": [
    "history = model_MCC_4.fit(train_data/255.0, train_oh_l, epochs=10, validation_data=(test_data/255.0, test_oh_l))"
   ]
  },
  {
   "cell_type": "code",
   "execution_count": 245,
   "id": "822748ae-1f80-4c8a-a664-ccc21f950cfe",
   "metadata": {},
   "outputs": [],
   "source": [
    "tf.random.set_seed(42)\n",
    "model_MCC_5 = tf.keras.Sequential([\n",
    "    tf.keras.layers.Flatten(input_shape=(28,28)),\n",
    "    tf.keras.layers.Dense(400, activation=\"relu\"),\n",
    "    tf.keras.layers.Dense(400, activation=\"relu\"),\n",
    "    tf.keras.layers.Dense(25, activation=tf.keras.activations.softmax)\n",
    "    \n",
    "])\n",
    "model_MCC_5.compile(loss=tf.keras.losses.CategoricalCrossentropy(), optimizer=tf.keras.optimizers.Adam(), metrics=[\"accuracy\"])"
   ]
  },
  {
   "cell_type": "code",
   "execution_count": 246,
   "id": "b864279e-b839-4ffb-a516-fe75e1303923",
   "metadata": {},
   "outputs": [
    {
     "name": "stdout",
     "output_type": "stream",
     "text": [
      "Epoch 1/50\n",
      "  3/858 [..............................] - ETA: 25s - loss: 3.2304 - accuracy: 0.0417 "
     ]
    },
    {
     "name": "stderr",
     "output_type": "stream",
     "text": [
      "2023-02-11 11:17:37.124742: I tensorflow/core/grappler/optimizers/custom_graph_optimizer_registry.cc:114] Plugin optimizer for device_type GPU is enabled.\n"
     ]
    },
    {
     "name": "stdout",
     "output_type": "stream",
     "text": [
      "856/858 [============================>.] - ETA: 0s - loss: 1.6135 - accuracy: 0.4898"
     ]
    },
    {
     "name": "stderr",
     "output_type": "stream",
     "text": [
      "2023-02-11 11:17:45.876420: I tensorflow/core/grappler/optimizers/custom_graph_optimizer_registry.cc:114] Plugin optimizer for device_type GPU is enabled.\n"
     ]
    },
    {
     "name": "stdout",
     "output_type": "stream",
     "text": [
      "858/858 [==============================] - 11s 12ms/step - loss: 1.6117 - accuracy: 0.4904 - val_loss: 1.3302 - val_accuracy: 0.5747\n",
      "Epoch 2/50\n",
      "858/858 [==============================] - 10s 12ms/step - loss: 0.6351 - accuracy: 0.7930 - val_loss: 0.9460 - val_accuracy: 0.6884\n",
      "Epoch 3/50\n",
      "858/858 [==============================] - 10s 12ms/step - loss: 0.3084 - accuracy: 0.9036 - val_loss: 0.9118 - val_accuracy: 0.7422\n",
      "Epoch 4/50\n",
      "858/858 [==============================] - 10s 12ms/step - loss: 0.1733 - accuracy: 0.9468 - val_loss: 0.8160 - val_accuracy: 0.7734\n",
      "Epoch 5/50\n",
      "858/858 [==============================] - 10s 12ms/step - loss: 0.1216 - accuracy: 0.9632 - val_loss: 0.8276 - val_accuracy: 0.7758\n",
      "Epoch 6/50\n",
      "858/858 [==============================] - 10s 12ms/step - loss: 0.0915 - accuracy: 0.9720 - val_loss: 1.0540 - val_accuracy: 0.7790\n",
      "Epoch 7/50\n",
      "858/858 [==============================] - 10s 12ms/step - loss: 0.0960 - accuracy: 0.9707 - val_loss: 1.0384 - val_accuracy: 0.7526\n",
      "Epoch 8/50\n",
      "858/858 [==============================] - 10s 12ms/step - loss: 0.0487 - accuracy: 0.9856 - val_loss: 0.8778 - val_accuracy: 0.8179\n",
      "Epoch 9/50\n",
      "858/858 [==============================] - 10s 12ms/step - loss: 0.0857 - accuracy: 0.9726 - val_loss: 1.1509 - val_accuracy: 0.7578\n",
      "Epoch 10/50\n",
      "858/858 [==============================] - 10s 12ms/step - loss: 0.0647 - accuracy: 0.9800 - val_loss: 0.8654 - val_accuracy: 0.8119\n",
      "Epoch 11/50\n",
      "858/858 [==============================] - 10s 12ms/step - loss: 0.0021 - accuracy: 1.0000 - val_loss: 0.9213 - val_accuracy: 0.8235\n",
      "Epoch 12/50\n",
      "858/858 [==============================] - 10s 12ms/step - loss: 0.0874 - accuracy: 0.9736 - val_loss: 0.8813 - val_accuracy: 0.7964\n",
      "Epoch 13/50\n",
      "858/858 [==============================] - 10s 12ms/step - loss: 0.0500 - accuracy: 0.9840 - val_loss: 0.8368 - val_accuracy: 0.8298\n",
      "Epoch 14/50\n",
      "858/858 [==============================] - 10s 12ms/step - loss: 0.0044 - accuracy: 0.9993 - val_loss: 0.8761 - val_accuracy: 0.8225\n",
      "Epoch 15/50\n",
      "858/858 [==============================] - 10s 12ms/step - loss: 0.0011 - accuracy: 1.0000 - val_loss: 1.0165 - val_accuracy: 0.8179\n",
      "Epoch 16/50\n",
      "858/858 [==============================] - 10s 12ms/step - loss: 0.1025 - accuracy: 0.9697 - val_loss: 0.8380 - val_accuracy: 0.8242\n",
      "Epoch 17/50\n",
      "858/858 [==============================] - 10s 12ms/step - loss: 0.0018 - accuracy: 1.0000 - val_loss: 0.9118 - val_accuracy: 0.8215\n",
      "Epoch 18/50\n",
      "858/858 [==============================] - 10s 12ms/step - loss: 0.0011 - accuracy: 1.0000 - val_loss: 0.9688 - val_accuracy: 0.8157\n"
     ]
    }
   ],
   "source": [
    "callback = tf.keras.callbacks.EarlyStopping(monitor='val_accuracy', patience=5, restore_best_weights=True)\n",
    "history = model_MCC_5.fit(train_data/255.0, train_oh_l, epochs=50, validation_data=(test_data/255.0, test_oh_l), callbacks=[callback])"
   ]
  },
  {
   "cell_type": "code",
   "execution_count": 247,
   "id": "ebb28d02-6518-4e53-80ec-db514368d528",
   "metadata": {},
   "outputs": [
    {
     "name": "stdout",
     "output_type": "stream",
     "text": [
      "INFO:tensorflow:Assets written to: ./data/sign-language-mnist/saveon8298_400/assets\n"
     ]
    }
   ],
   "source": [
    "model_MCC_6.save(\"./data/sign-language-mnist/saveon8298_400\")\n",
    "model_MCC_6.save(\"./data/sign-language-mnist/saveon8298_400.h5\")"
   ]
  },
  {
   "cell_type": "code",
   "execution_count": 207,
   "id": "bca71d83-72dc-4593-9486-fe2aa7e398de",
   "metadata": {},
   "outputs": [],
   "source": [
    "tf.random.set_seed(42)\n",
    "model_MCC_6 = tf.keras.Sequential([\n",
    "    tf.keras.layers.Flatten(input_shape=(28,28)),\n",
    "    tf.keras.layers.Dense(1000, activation=\"relu\"),\n",
    "    tf.keras.layers.Dense(1000, activation=\"relu\"),\n",
    "    tf.keras.layers.Dense(25, activation=tf.keras.activations.softmax)\n",
    "    \n",
    "])\n",
    "model_MCC_6.compile(loss=tf.keras.losses.CategoricalCrossentropy(), optimizer=tf.keras.optimizers.Adam(), metrics=[\"accuracy\"])"
   ]
  },
  {
   "cell_type": "code",
   "execution_count": 208,
   "id": "3601b8fe-8e5f-4002-b138-a8ef3e9f2eda",
   "metadata": {
    "tags": []
   },
   "outputs": [
    {
     "name": "stdout",
     "output_type": "stream",
     "text": [
      "Epoch 1/50\n",
      " 10/858 [..............................] - ETA: 10s - loss: 3.4890 - accuracy: 0.0813"
     ]
    },
    {
     "name": "stderr",
     "output_type": "stream",
     "text": [
      "2023-02-11 10:55:54.948513: I tensorflow/core/grappler/optimizers/custom_graph_optimizer_registry.cc:114] Plugin optimizer for device_type GPU is enabled.\n"
     ]
    },
    {
     "name": "stdout",
     "output_type": "stream",
     "text": [
      "858/858 [==============================] - ETA: 0s - loss: 1.5437 - accuracy: 0.5044"
     ]
    },
    {
     "name": "stderr",
     "output_type": "stream",
     "text": [
      "2023-02-11 10:56:04.116706: I tensorflow/core/grappler/optimizers/custom_graph_optimizer_registry.cc:114] Plugin optimizer for device_type GPU is enabled.\n"
     ]
    },
    {
     "name": "stdout",
     "output_type": "stream",
     "text": [
      "858/858 [==============================] - 11s 12ms/step - loss: 1.5437 - accuracy: 0.5044 - val_loss: 1.1410 - val_accuracy: 0.5955\n",
      "Epoch 2/50\n",
      "858/858 [==============================] - 10s 12ms/step - loss: 0.5492 - accuracy: 0.8158 - val_loss: 0.7958 - val_accuracy: 0.7486\n",
      "Epoch 3/50\n",
      "858/858 [==============================] - 11s 12ms/step - loss: 0.2507 - accuracy: 0.9169 - val_loss: 0.8432 - val_accuracy: 0.7688\n",
      "Epoch 4/50\n",
      "858/858 [==============================] - 11s 12ms/step - loss: 0.1288 - accuracy: 0.9610 - val_loss: 0.8949 - val_accuracy: 0.7797\n",
      "Epoch 5/50\n",
      "858/858 [==============================] - 11s 12ms/step - loss: 0.0982 - accuracy: 0.9692 - val_loss: 0.8307 - val_accuracy: 0.8030\n",
      "Epoch 6/50\n",
      "858/858 [==============================] - 10s 12ms/step - loss: 0.0915 - accuracy: 0.9725 - val_loss: 0.9464 - val_accuracy: 0.7828\n",
      "Epoch 7/50\n",
      "858/858 [==============================] - 10s 12ms/step - loss: 0.0617 - accuracy: 0.9817 - val_loss: 0.7931 - val_accuracy: 0.8328\n",
      "Epoch 8/50\n",
      "858/858 [==============================] - 11s 12ms/step - loss: 0.0022 - accuracy: 1.0000 - val_loss: 0.8638 - val_accuracy: 0.8289\n",
      "Epoch 9/50\n",
      "858/858 [==============================] - 11s 12ms/step - loss: 0.1614 - accuracy: 0.9523 - val_loss: 0.8102 - val_accuracy: 0.8067\n",
      "Epoch 10/50\n",
      "858/858 [==============================] - 11s 12ms/step - loss: 0.0059 - accuracy: 0.9993 - val_loss: 0.8852 - val_accuracy: 0.8263\n",
      "Epoch 11/50\n",
      "858/858 [==============================] - 11s 12ms/step - loss: 0.0782 - accuracy: 0.9766 - val_loss: 0.7461 - val_accuracy: 0.8344\n",
      "Epoch 12/50\n",
      "858/858 [==============================] - 11s 12ms/step - loss: 0.0022 - accuracy: 1.0000 - val_loss: 0.8068 - val_accuracy: 0.8422\n",
      "Epoch 13/50\n",
      "858/858 [==============================] - 11s 12ms/step - loss: 0.0880 - accuracy: 0.9745 - val_loss: 0.8069 - val_accuracy: 0.8299\n",
      "Epoch 14/50\n",
      "858/858 [==============================] - 11s 12ms/step - loss: 0.0476 - accuracy: 0.9854 - val_loss: 0.9268 - val_accuracy: 0.8127\n",
      "Epoch 15/50\n",
      "858/858 [==============================] - 11s 12ms/step - loss: 0.0036 - accuracy: 0.9995 - val_loss: 0.8838 - val_accuracy: 0.8431\n",
      "Epoch 16/50\n",
      "858/858 [==============================] - 11s 12ms/step - loss: 6.9767e-04 - accuracy: 1.0000 - val_loss: 0.9154 - val_accuracy: 0.8433\n",
      "Epoch 17/50\n",
      "858/858 [==============================] - 11s 12ms/step - loss: 0.1084 - accuracy: 0.9682 - val_loss: 0.8424 - val_accuracy: 0.8376\n",
      "Epoch 18/50\n",
      "858/858 [==============================] - 11s 12ms/step - loss: 0.0264 - accuracy: 0.9928 - val_loss: 1.0987 - val_accuracy: 0.7515\n",
      "Epoch 19/50\n",
      "858/858 [==============================] - 11s 12ms/step - loss: 0.0064 - accuracy: 0.9989 - val_loss: 0.8676 - val_accuracy: 0.8371\n",
      "Epoch 20/50\n",
      "858/858 [==============================] - 11s 12ms/step - loss: 6.1029e-04 - accuracy: 1.0000 - val_loss: 0.9055 - val_accuracy: 0.8358\n",
      "Epoch 21/50\n",
      "858/858 [==============================] - 11s 12ms/step - loss: 3.8066e-04 - accuracy: 1.0000 - val_loss: 0.9511 - val_accuracy: 0.8339\n"
     ]
    }
   ],
   "source": [
    "callback = tf.keras.callbacks.EarlyStopping(monitor='val_accuracy', patience=5, restore_best_weights=True)\n",
    "history = model_MCC_6.fit(train_data/255.0, train_oh_l, epochs=50, validation_data=(test_data/255.0, test_oh_l), callbacks=[callback])"
   ]
  },
  {
   "cell_type": "code",
   "execution_count": 210,
   "id": "7a766097-55d1-42a3-bef8-b2e040f52d92",
   "metadata": {},
   "outputs": [
    {
     "name": "stdout",
     "output_type": "stream",
     "text": [
      "INFO:tensorflow:Assets written to: ./data/sign-language-mnist/saveon8433/assets\n"
     ]
    }
   ],
   "source": [
    "model_MCC_6.save(\"./data/sign-language-mnist/saveon8433\")\n",
    "model_MCC_6.save(\"./data/sign-language-mnist/saveon8433.h5\")"
   ]
  },
  {
   "cell_type": "code",
   "execution_count": 264,
   "id": "d7fc5a15-49af-4c39-90b1-2e66923c8159",
   "metadata": {},
   "outputs": [],
   "source": [
    "import itertools\n",
    "from sklearn.metrics import confusion_matrix\n",
    "\n",
    "# Our function needs a different name to sklearn's plot_confusion_matrix\n",
    "def make_confusion_matrix(y_true, y_pred, classes=None, figsize=(15, 15), text_size=8): \n",
    "    \"\"\"Makes a labelled confusion matrix comparing predictions and ground truth labels.\n",
    "\n",
    "    If classes is passed, confusion matrix will be labelled, if not, integer class values\n",
    "    will be used.\n",
    "\n",
    "    Args:\n",
    "    y_true: Array of truth labels (must be same shape as y_pred).\n",
    "    y_pred: Array of predicted labels (must be same shape as y_true).\n",
    "    classes: Array of class labels (e.g. string form). If `None`, integer labels are used.\n",
    "    figsize: Size of output figure (default=(10, 10)).\n",
    "    text_size: Size of output figure text (default=15).\n",
    "\n",
    "    Returns:\n",
    "    A labelled confusion matrix plot comparing y_true and y_pred.\n",
    "\n",
    "    Example usage:\n",
    "    make_confusion_matrix(y_true=test_labels, # ground truth test labels\n",
    "                          y_pred=y_preds, # predicted labels\n",
    "                          classes=class_names, # array of class label names\n",
    "                          figsize=(15, 15),\n",
    "                          text_size=10)\n",
    "    \"\"\"  \n",
    "  # Create the confustion matrix\n",
    "    cm = confusion_matrix(y_true, y_pred)\n",
    "    cm_norm = cm.astype(\"float\") / cm.sum(axis=1)[:, np.newaxis] # normalize it\n",
    "    n_classes = cm.shape[0] # find the number of classes we're dealing with\n",
    "\n",
    "    # Plot the figure and make it pretty\n",
    "    fig, ax = plt.subplots(figsize=figsize)\n",
    "    cax = ax.matshow(cm, cmap=plt.cm.Blues) # colors will represent how 'correct' a class is, darker == better\n",
    "    fig.colorbar(cax)\n",
    "\n",
    "    # Are there a list of classes?\n",
    "    if classes:\n",
    "        labels = classes\n",
    "    else:\n",
    "        labels = np.arange(cm.shape[0])\n",
    "\n",
    "    # Label the axes\n",
    "    ax.set(title=\"Confusion Matrix\",\n",
    "         xlabel=\"Predicted label\",\n",
    "         ylabel=\"True label\",\n",
    "         xticks=np.arange(n_classes), # create enough axis slots for each class\n",
    "         yticks=np.arange(n_classes), \n",
    "         xticklabels=labels, # axes will labeled with class names (if they exist) or ints\n",
    "         yticklabels=labels)\n",
    "\n",
    "    # Make x-axis labels appear on bottom\n",
    "    ax.xaxis.set_label_position(\"bottom\")\n",
    "    ax.xaxis.tick_bottom()\n",
    "\n",
    "    # Set the threshold for different colors\n",
    "    threshold = (cm.max() + cm.min()) / 2.\n",
    "\n",
    "    # Plot the text on each cell\n",
    "    for i, j in itertools.product(range(cm.shape[0]), range(cm.shape[1])):\n",
    "        if cm_norm[i, j]>0.05:\n",
    "            text = f\"{cm_norm[i, j]*100:.1f}\"\n",
    "        else:\n",
    "            text = \"\"\n",
    "        plt.text(j, i, text,\n",
    "                 horizontalalignment=\"center\",\n",
    "                 color=\"white\" if cm[i, j] > threshold else \"black\",\n",
    "                 size=text_size)"
   ]
  },
  {
   "cell_type": "code",
   "execution_count": 268,
   "id": "0708019b-7e4e-4a20-96f3-cc07f5b6b575",
   "metadata": {},
   "outputs": [
    {
     "name": "stdout",
     "output_type": "stream",
     "text": [
      " 66/225 [=======>......................] - ETA: 0s"
     ]
    },
    {
     "name": "stderr",
     "output_type": "stream",
     "text": [
      "2023-02-11 14:34:44.999292: I tensorflow/core/grappler/optimizers/custom_graph_optimizer_registry.cc:114] Plugin optimizer for device_type GPU is enabled.\n"
     ]
    },
    {
     "name": "stdout",
     "output_type": "stream",
     "text": [
      "225/225 [==============================] - 1s 2ms/step\n"
     ]
    }
   ],
   "source": [
    "y_preds = model_MCC_6.predict(test_data/255.0)"
   ]
  },
  {
   "cell_type": "code",
   "execution_count": 265,
   "id": "6ec152f2-9707-484c-9dd1-ec914f7c06a4",
   "metadata": {
    "tags": []
   },
   "outputs": [
    {
     "data": {
      "image/png": "[encoded data removed]",
      "text/plain": [
       "<Figure size 1500x1500 with 2 Axes>"
      ]
     },
     "metadata": {},
     "output_type": "display_data"
    }
   ],
   "source": [
    "\n",
    "make_confusion_matrix(test_labels, y_preds.argmax(axis=1), classes=class_names)"
   ]
  },
  {
   "cell_type": "code",
   "execution_count": 266,
   "id": "f53b1fa5-288a-466e-9ac0-85be4c6de4cc",
   "metadata": {},
   "outputs": [
    {
     "name": "stdout",
     "output_type": "stream",
     "text": [
      " 61/225 [=======>......................] - ETA: 0s"
     ]
    },
    {
     "name": "stderr",
     "output_type": "stream",
     "text": [
      "2023-02-11 13:24:53.016740: I tensorflow/core/grappler/optimizers/custom_graph_optimizer_registry.cc:114] Plugin optimizer for device_type GPU is enabled.\n"
     ]
    },
    {
     "name": "stdout",
     "output_type": "stream",
     "text": [
      "225/225 [==============================] - 1s 2ms/step\n"
     ]
    }
   ],
   "source": [
    "y_preds = model_MCC_5.predict(test_data/255.0)"
   ]
  },
  {
   "cell_type": "code",
   "execution_count": 267,
   "id": "e2e9ca7c-7b89-4a24-b643-f3954c1421d9",
   "metadata": {
    "collapsed": true,
    "jupyter": {
     "outputs_hidden": true
    },
    "tags": []
   },
   "outputs": [
    {
     "data": {
      "image/png": "[encoded data removed]",
      "text/plain": [
       "<Figure size 1500x1500 with 2 Axes>"
      ]
     },
     "metadata": {},
     "output_type": "display_data"
    }
   ],
   "source": [
    "make_confusion_matrix(test_labels, y_preds.argmax(axis=1), classes=class_names)"
   ]
  },
  {
   "cell_type": "code",
   "execution_count": 355,
   "id": "d6ffb951-8656-45f0-9dce-4d802b9e2a7f",
   "metadata": {},
   "outputs": [],
   "source": [
    "cm = confusion_matrix(test_labels, y_preds.argmax(axis=1))"
   ]
  },
  {
   "cell_type": "code",
   "execution_count": 370,
   "id": "f905d56d-0760-472e-a3d3-bb332d56f153",
   "metadata": {},
   "outputs": [
    {
     "name": "stdout",
     "output_type": "stream",
     "text": [
      "A confused with: N - 3.9 \n",
      "B \n",
      "C \n",
      "D confused with: X - 7.3 \n",
      "E confused with: S - 0.2 \n",
      "F confused with: C - 7.3 \n",
      "G confused with: N - 6.0 , and Q - 5.7\n",
      "\n",
      "H confused with: G - 4.6 \n",
      "I confused with: R - 7.3 , and Y - 7.3\n",
      "\n",
      "K confused with: U - 14.5 , and R - 9.4\n",
      "\n",
      "L \n",
      "M confused with: S - 8.6 , and N - 5.3\n",
      "\n",
      "N , and Q - 7.2\n",
      "\n",
      "O confused with: T - 13.8 , and C - 8.5\n",
      "\n",
      "P \n",
      "Q \n",
      "R confused with: V - 14.6 , and U - 13.9\n",
      "\n",
      "S confused with: M - 14.2 , and N - 11.0\n",
      "\n",
      "T confused with: X - 25.0 , and L - 8.1\n",
      "\n",
      "U confused with: V - 13.9 , and K - 9.4\n",
      "\n",
      "V confused with: W - 6.1 , and F - 5.8\n",
      "\n",
      "W confused with: V - 10.2 , and R - 9.7\n",
      "\n",
      "X confused with: W - 22.8 \n",
      "Y confused with: T - 6.3 , and W - 6.0\n",
      "\n"
     ]
    }
   ],
   "source": [
    "cross_confusion = {}\n",
    "\n",
    "def top_3(i):\n",
    "    f_max = i.argmax(axis=0)\n",
    "    t_max = None\n",
    "    if i[f_max]:\n",
    "        i[f_max] = 0\n",
    "        s_max = i.argmax(axis=0)\n",
    "        if i[s_max]:\n",
    "            i[s_max] = 0\n",
    "            t_max = i.argmax(axis=0)\n",
    "            if not i[t_max]:\n",
    "                t_max = None\n",
    "        else:\n",
    "            s_max = None\n",
    "            \n",
    "    else:\n",
    "        f_max = None\n",
    "    return f_max, s_max, t_max\n",
    "\n",
    "for i in cm:\n",
    "\n",
    "    f_max, s_max, t_max= top_3(np.copy(i))\n",
    "    \n",
    "    t = np.sum(i)\n",
    "        \n",
    "    cross_confusion[f_max] = {}\n",
    "    print(class_names[f_max], end=' ')\n",
    "    if s_max:\n",
    "        print(\"confused with: \" + class_names[s_max] + f\" - {i[s_max]/t*100:.1f}\", end=' ')\n",
    "        cross_confusion[f_max][s_max] = i[s_max]/t*100\n",
    "        s_max = None\n",
    "    if t_max:\n",
    "        print(\", and \" + class_names[t_max]+ f\" - {i[t_max]/t*100:.1f}\")\n",
    "        cross_confusion[f_max][t_max] = i[t_max]/t*100\n",
    "        t_max = None\n",
    "    print()\n"
   ]
  },
  {
   "cell_type": "code",
   "execution_count": 381,
   "id": "3e2b4e75-2b9b-4092-af31-239ff890dc87",
   "metadata": {},
   "outputs": [
    {
     "name": "stdout",
     "output_type": "stream",
     "text": [
      "{9: {'U': 14.501510574018129, 'R': 9.365558912386707}}\n",
      "{11: {'S': 8.629441624365482, 'N': 5.32994923857868}}\n",
      "{17: {'M': 14.227642276422763, 'N': 10.975609756097562}}\n",
      "{19: {'V': 13.909774436090224, 'K': 9.398496240601503}}\n",
      "{20: {'W': 6.069364161849711, 'F': 5.780346820809249}}\n",
      "{21: {'V': 10.194174757281553, 'R': 9.70873786407767}}\n"
     ]
    }
   ],
   "source": [
    "for k, v in cross_confusion.items():\n",
    "    for vv in v:\n",
    "\n",
    "        if k in cross_confusion[vv].keys():\n",
    "            print({k:{class_names[vi]:v[vi] for vi in v}})\n"
   ]
  },
  {
   "cell_type": "code",
   "execution_count": 371,
   "id": "05b4c346-0ce9-42e0-8d28-65cb848106cc",
   "metadata": {},
   "outputs": [
    {
     "data": {
      "text/plain": [
       "{0: {12: 3.927492447129909},\n",
       " 1: {},\n",
       " 2: {},\n",
       " 3: {22: 7.346938775510205},\n",
       " 4: {17: 0.2008032128514056},\n",
       " 5: {2: 7.28744939271255},\n",
       " 6: {12: 6.0344827586206895, 15: 5.747126436781609},\n",
       " 7: {6: 4.587155963302752},\n",
       " 8: {16: 7.291666666666667, 23: 7.291666666666667},\n",
       " 9: {19: 14.501510574018129, 16: 9.365558912386707},\n",
       " 10: {},\n",
       " 11: {17: 8.629441624365482, 12: 5.32994923857868},\n",
       " 12: {15: 7.216494845360824},\n",
       " 13: {18: 13.821138211382115, 2: 8.536585365853659},\n",
       " 14: {},\n",
       " 15: {},\n",
       " 16: {20: 14.583333333333334, 19: 13.88888888888889},\n",
       " 17: {11: 14.227642276422763, 12: 10.975609756097562},\n",
       " 18: {22: 25.0, 10: 8.064516129032258},\n",
       " 19: {20: 13.909774436090224, 9: 9.398496240601503},\n",
       " 20: {21: 6.069364161849711, 5: 5.780346820809249},\n",
       " 21: {20: 10.194174757281553, 16: 9.70873786407767},\n",
       " 22: {21: 22.846441947565545},\n",
       " 23: {18: 6.325301204819277, 21: 6.024096385542169}}"
      ]
     },
     "execution_count": 371,
     "metadata": {},
     "output_type": "execute_result"
    }
   ],
   "source": [
    "cross_confusion"
   ]
  },
  {
   "cell_type": "code",
   "execution_count": null,
   "id": "8faed923-8d80-4e72-8b40-3818585a5e47",
   "metadata": {},
   "outputs": [],
   "source": []
  }
 ],
 "metadata": {
  "kernelspec": {
   "display_name": "Python 3 (ipykernel)",
   "language": "python",
   "name": "python3"
  },
  "language_info": {
   "codemirror_mode": {
    "name": "ipython",
    "version": 3
   },
   "file_extension": ".py",
   "mimetype": "text/x-python",
   "name": "python",
   "nbconvert_exporter": "python",
   "pygments_lexer": "ipython3",
   "version": "3.8.13"
  }
 },
 "nbformat": 4,
 "nbformat_minor": 5
}
