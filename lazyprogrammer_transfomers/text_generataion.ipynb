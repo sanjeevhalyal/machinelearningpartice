{
 "cells": [
  {
   "cell_type": "code",
   "execution_count": 1,
   "id": "0ea6c1f5-0a0e-4c33-a0a4-323a322b7cfd",
   "metadata": {},
   "outputs": [],
   "source": [
    "from transformers import pipeline"
   ]
  },
  {
   "cell_type": "code",
   "execution_count": 2,
   "id": "ed10d929-f1ec-4b61-84d7-987b30145537",
   "metadata": {},
   "outputs": [
    {
     "name": "stderr",
     "output_type": "stream",
     "text": [
      "No model was supplied, defaulted to gpt2 (https://huggingface.co/gpt2)\n"
     ]
    },
    {
     "name": "stdout",
     "output_type": "stream",
     "text": [
      "Metal device set to: Apple M1 Pro\n"
     ]
    },
    {
     "name": "stderr",
     "output_type": "stream",
     "text": [
      "2023-04-01 12:02:05.713055: I tensorflow/core/common_runtime/pluggable_device/pluggable_device_factory.cc:306] Could not identify NUMA node of platform GPU ID 0, defaulting to 0. Your kernel may not have been built with NUMA support.\n",
      "2023-04-01 12:02:05.713278: I tensorflow/core/common_runtime/pluggable_device/pluggable_device_factory.cc:272] Created TensorFlow device (/job:localhost/replica:0/task:0/device:GPU:0 with 0 MB memory) -> physical PluggableDevice (device: 0, name: METAL, pci bus id: <undefined>)\n"
     ]
    }
   ],
   "source": [
    "gen = pipeline(\"text-generation\")"
   ]
  },
  {
   "cell_type": "code",
   "execution_count": 3,
   "id": "e452ad45-0cfe-438f-a4a4-da531d92f267",
   "metadata": {},
   "outputs": [],
   "source": [
    "prompt = \"Today is a great to learning how to teach a machine and partice it\""
   ]
  },
  {
   "cell_type": "code",
   "execution_count": 4,
   "id": "d9583225-b418-44e2-8f8f-eb6535413775",
   "metadata": {},
   "outputs": [
    {
     "name": "stderr",
     "output_type": "stream",
     "text": [
      "The attention mask and the pad token id were not set. As a consequence, you may observe unexpected behavior. Please pass your input's `attention_mask` to obtain reliable results.\n",
      "Setting `pad_token_id` to `eos_token_id`:50256 for open-end generation.\n"
     ]
    },
    {
     "data": {
      "text/plain": [
       "[{'generated_text': 'Today is a great to learning how to teach a machine and partice it.\"\\n\\nThe system works by providing its users with short, simple commands to quickly and easily execute certain actions, but also is able to automatically alert users when other resources are'},\n",
       " {'generated_text': 'Today is a great to learning how to teach a machine and partice it to work on a system!\\n\\n\"Learning new things every day is like teaching the first lady to do something by hand or in a garage.\" ~Mikhail Tatar'},\n",
       " {'generated_text': 'Today is a great to learning how to teach a machine and partice it without having to ask one for it. This is a great time to start to see why people like the job better. A lot of other work may be hard to do,'},\n",
       " {'generated_text': 'Today is a great to learning how to teach a machine and partice it as I have done it recently; I also encourage you to try my new book, How to Teach a Machine. I am going to put out a book on the subject this'}]"
      ]
     },
     "execution_count": 4,
     "metadata": {},
     "output_type": "execute_result"
    }
   ],
   "source": [
    "gen(prompt, num_return_sequences=4, max_length=50)"
   ]
  },
  {
   "cell_type": "code",
   "execution_count": 11,
   "id": "d9f0f87c-4b67-49f3-8884-4408bc9db58b",
   "metadata": {},
   "outputs": [
    {
     "name": "stdout",
     "output_type": "stream",
     "text": [
      "huggingface/tokenizers: The current process just got forked, after parallelism has already been used. Disabling parallelism to avoid deadlocks...\n",
      "To disable this warning, you can either:\n",
      "\t- Avoid using `tokenizers` before the fork if possible\n",
      "\t- Explicitly set the environment variable TOKENIZERS_PARALLELISM=(true | false)\n",
      "--2023-04-01 11:59:10--  https://raw.githubusercontent.com/lazyprogrammer/machine_learning_examples/master/hmm_class/robert_frost.txt\n",
      "Resolving raw.githubusercontent.com (raw.githubusercontent.com)... 185.199.111.133, 185.199.108.133, 185.199.109.133, ...\n",
      "Connecting to raw.githubusercontent.com (raw.githubusercontent.com)|185.199.111.133|:443... connected.\n",
      "HTTP request sent, awaiting response... 200 OK\n",
      "Length: 56286 (55K) [text/plain]\n",
      "Saving to: ‘robert_frost.txt’\n",
      "\n",
      "robert_frost.txt    100%[===================>]  54.97K  --.-KB/s    in 0.02s   \n",
      "\n",
      "2023-04-01 11:59:10 (2.27 MB/s) - ‘robert_frost.txt’ saved [56286/56286]\n",
      "\n"
     ]
    }
   ],
   "source": [
    "# !wget -nc https://raw.githubusercontent.com/lazyprogrammer/machine_learning_examples/master/hmm_class/robert_frost.txt\n"
   ]
  },
  {
   "cell_type": "code",
   "execution_count": 5,
   "id": "3d00f11a-1e34-4d74-b3c7-9e4234d0f3c4",
   "metadata": {},
   "outputs": [],
   "source": [
    "from transformers import set_seed\n",
    "\n",
    "import textwrap\n",
    "import numpy as np\n",
    "import matplotlib.pyplot as plt\n",
    "\n",
    "from pprint import pprint\n"
   ]
  },
  {
   "cell_type": "code",
   "execution_count": 6,
   "id": "a82b752f-e4b0-4565-90b3-5e7e4c1a62bc",
   "metadata": {},
   "outputs": [],
   "source": [
    "lines = [line.rstrip() for line in open(\"./data/robert_frost.txt\") if line.strip()!=\"\"]"
   ]
  },
  {
   "cell_type": "code",
   "execution_count": 7,
   "id": "acecf023-c1bc-480f-899b-e0c06466c831",
   "metadata": {},
   "outputs": [
    {
     "data": {
      "text/plain": [
       "['Two roads diverged in a yellow wood,',\n",
       " 'And sorry I could not travel both',\n",
       " 'And be one traveler, long I stood',\n",
       " 'And looked down one as far as I could',\n",
       " 'To where it bent in the undergrowth;',\n",
       " 'Then took the other, as just as fair,',\n",
       " 'And having perhaps the better claim',\n",
       " 'Because it was grassy and wanted wear,',\n",
       " 'Though as for that the passing there',\n",
       " 'Had worn them really about the same,']"
      ]
     },
     "execution_count": 7,
     "metadata": {},
     "output_type": "execute_result"
    }
   ],
   "source": [
    "lines[:10]"
   ]
  },
  {
   "cell_type": "code",
   "execution_count": 8,
   "id": "e6bfecd7-d3cb-4890-b230-b584bbc76cbc",
   "metadata": {},
   "outputs": [],
   "source": [
    "set_seed(42)"
   ]
  },
  {
   "cell_type": "code",
   "execution_count": 9,
   "id": "820bc30c-529f-42de-8c88-06575f65b383",
   "metadata": {},
   "outputs": [
    {
     "data": {
      "text/plain": [
       "'Two roads diverged in a yellow wood,'"
      ]
     },
     "execution_count": 9,
     "metadata": {},
     "output_type": "execute_result"
    }
   ],
   "source": [
    "lines[0]"
   ]
  },
  {
   "cell_type": "code",
   "execution_count": 11,
   "id": "0f6c54e0-c7d4-4bdc-a23a-6309440aa19b",
   "metadata": {},
   "outputs": [
    {
     "name": "stderr",
     "output_type": "stream",
     "text": [
      "The attention mask and the pad token id were not set. As a consequence, you may observe unexpected behavior. Please pass your input's `attention_mask` to obtain reliable results.\n",
      "Setting `pad_token_id` to `eos_token_id`:50256 for open-end generation.\n"
     ]
    },
    {
     "data": {
      "text/plain": [
       "[[{'generated_text': 'Two roads diverged in a yellow wood, a short path leading straight with the west and east coasts toward the equator. I could make out the road as an abrupt turning motion of the west coast; and also the narrow, narrow lanes on both'}]]"
      ]
     },
     "execution_count": 11,
     "metadata": {},
     "output_type": "execute_result"
    }
   ],
   "source": [
    "gen(lines[:1])"
   ]
  },
  {
   "cell_type": "code",
   "execution_count": 13,
   "id": "5028b845-34c7-47bf-a583-30078786052f",
   "metadata": {},
   "outputs": [
    {
     "name": "stderr",
     "output_type": "stream",
     "text": [
      "The attention mask and the pad token id were not set. As a consequence, you may observe unexpected behavior. Please pass your input's `attention_mask` to obtain reliable results.\n",
      "Setting `pad_token_id` to `eos_token_id`:50256 for open-end generation.\n"
     ]
    }
   ],
   "source": [
    "output = gen(lines[:1], num_return_sequences=4, max_length=50)"
   ]
  },
  {
   "cell_type": "code",
   "execution_count": 14,
   "id": "f219684a-48b9-47b8-845e-b94734a7522d",
   "metadata": {},
   "outputs": [
    {
     "name": "stdout",
     "output_type": "stream",
     "text": [
      "[[{'generated_text': 'Two roads diverged in a yellow wood, but it was clear '\n",
      "                     'one of the sides was the front of the car, so it '\n",
      "                     'continued through the middle through the back toward the '\n",
      "                     'parking area, toward the rear. That turned out to be an '\n",
      "                     'old,'},\n",
      "  {'generated_text': 'Two roads diverged in a yellow wood, each side split in '\n",
      "                     'two, with one road running from one road to the other. A '\n",
      "                     'line of red blazes in the hills, followed by a sharp '\n",
      "                     'gradient of red blazes along the sides of the'},\n",
      "  {'generated_text': 'Two roads diverged in a yellow wood, there were more '\n",
      "                     'than 100 people on board and in control of control of '\n",
      "                     'the road, which was closed several times. There were '\n",
      "                     'some very heavy metal and other projectiles but the '\n",
      "                     'damage was minimal. One hit the'},\n",
      "  {'generated_text': 'Two roads diverged in a yellow wood, with the white '\n",
      "                     'light coming back into view from the same corner. I was '\n",
      "                     'standing, in a chair in the back, watching the clock '\n",
      "                     \"change. As I pulled up to the exit of IKEA's\"}]]\n"
     ]
    }
   ],
   "source": [
    "pprint(output)"
   ]
  },
  {
   "cell_type": "code",
   "execution_count": 19,
   "id": "e97df4d5-af60-4bb1-80a8-09dad869d13a",
   "metadata": {},
   "outputs": [
    {
     "name": "stderr",
     "output_type": "stream",
     "text": [
      "The attention mask and the pad token id were not set. As a consequence, you may observe unexpected behavior. Please pass your input's `attention_mask` to obtain reliable results.\n",
      "Setting `pad_token_id` to `eos_token_id`:50256 for open-end generation.\n"
     ]
    }
   ],
   "source": [
    "output = gen(\"\\n\".join(lines[:4]), num_return_sequences=2, max_length=100)"
   ]
  },
  {
   "cell_type": "code",
   "execution_count": 20,
   "id": "7edc4294-8eae-4f0c-bc29-a9d51d9418b2",
   "metadata": {},
   "outputs": [
    {
     "data": {
      "text/plain": [
       "'Two roads diverged in a yellow wood,\\nAnd sorry I could not travel both\\nAnd be one traveler, long I stood\\nAnd looked down one as far as I could'"
      ]
     },
     "execution_count": 20,
     "metadata": {},
     "output_type": "execute_result"
    }
   ],
   "source": [
    "\"\\n\".join(lines[:4])"
   ]
  },
  {
   "cell_type": "code",
   "execution_count": 21,
   "id": "52cdbccd-9aea-4cf2-8685-47289385619b",
   "metadata": {},
   "outputs": [
    {
     "name": "stdout",
     "output_type": "stream",
     "text": [
      "[{'generated_text': 'Two roads diverged in a yellow wood,\\n'\n",
      "                    'And sorry I could not travel both\\n'\n",
      "                    'And be one traveler, long I stood\\n'\n",
      "                    'And looked down one as far as I could.\\n'\n",
      "                    'One eye opened by a tree,and one eye stretched out upon '\n",
      "                    'the west:\\n'\n",
      "                    'To which all things that go about from the north into the '\n",
      "                    'south were all.\\n'\n",
      "                    'One side of the house stood so narrow that the narrow '\n",
      "                    'gates stood:\\n'\n",
      "                    'And another side stood so thick with smoke that it turned '\n",
      "                    'into a'},\n",
      " {'generated_text': 'Two roads diverged in a yellow wood,\\n'\n",
      "                    'And sorry I could not travel both\\n'\n",
      "                    'And be one traveler, long I stood\\n'\n",
      "                    'And looked down one as far as I could see.\"\\n'\n",
      "                    '\\n'\n",
      "                    'In the end, it was a different day—more of a different '\n",
      "                    'time.\\n'\n",
      "                    '\\n'\n",
      "                    'It was on that fateful day of the month of August, 1658, '\n",
      "                    'that I received the letters addressed to Edward II. from '\n",
      "                    'the Marquis H. of London, with their usual solemnity. And '\n",
      "                    'as'}]\n"
     ]
    }
   ],
   "source": [
    "pprint(output)"
   ]
  },
  {
   "cell_type": "code",
   "execution_count": null,
   "id": "e091db3f-3ca4-4ed5-82a9-f7130df26c9e",
   "metadata": {},
   "outputs": [],
   "source": []
  },
  {
   "cell_type": "code",
   "execution_count": null,
   "id": "972d2a38-4fa5-4822-b4ce-a96e1d1c9573",
   "metadata": {},
   "outputs": [],
   "source": []
  }
 ],
 "metadata": {
  "kernelspec": {
   "display_name": "Python 3 (ipykernel)",
   "language": "python",
   "name": "python3"
  },
  "language_info": {
   "codemirror_mode": {
    "name": "ipython",
    "version": 3
   },
   "file_extension": ".py",
   "mimetype": "text/x-python",
   "name": "python",
   "nbconvert_exporter": "python",
   "pygments_lexer": "ipython3",
   "version": "3.8.13"
  }
 },
 "nbformat": 4,
 "nbformat_minor": 5
}
