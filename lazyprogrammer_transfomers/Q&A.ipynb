{
 "cells": [
  {
   "cell_type": "code",
   "execution_count": 2,
   "id": "63adca9d-6cfe-4daa-8b70-7e854f4af081",
   "metadata": {},
   "outputs": [],
   "source": [
    "from transformers import pipeline"
   ]
  },
  {
   "cell_type": "code",
   "execution_count": 4,
   "id": "dcb9a19d-b524-403b-948a-1cb98364d571",
   "metadata": {
    "collapsed": true,
    "jupyter": {
     "outputs_hidden": true
    },
    "tags": []
   },
   "outputs": [
    {
     "name": "stderr",
     "output_type": "stream",
     "text": [
      "No model was supplied, defaulted to distilbert-base-cased-distilled-squad (https://huggingface.co/distilbert-base-cased-distilled-squad)\n"
     ]
    },
    {
     "data": {
      "application/vnd.jupyter.widget-view+json": {
       "model_id": "722acc87c9d34799bc7aa8eaa291f794",
       "version_major": 2,
       "version_minor": 0
      },
      "text/plain": [
       "Downloading:   0%|          | 0.00/473 [00:00<?, ?B/s]"
      ]
     },
     "metadata": {},
     "output_type": "display_data"
    },
    {
     "name": "stdout",
     "output_type": "stream",
     "text": [
      "Metal device set to: Apple M1 Pro\n"
     ]
    },
    {
     "name": "stderr",
     "output_type": "stream",
     "text": [
      "2023-04-01 20:19:14.845457: I tensorflow/core/common_runtime/pluggable_device/pluggable_device_factory.cc:306] Could not identify NUMA node of platform GPU ID 0, defaulting to 0. Your kernel may not have been built with NUMA support.\n",
      "2023-04-01 20:19:14.845583: I tensorflow/core/common_runtime/pluggable_device/pluggable_device_factory.cc:272] Created TensorFlow device (/job:localhost/replica:0/task:0/device:GPU:0 with 0 MB memory) -> physical PluggableDevice (device: 0, name: METAL, pci bus id: <undefined>)\n"
     ]
    },
    {
     "data": {
      "application/vnd.jupyter.widget-view+json": {
       "model_id": "bd271f8e879842f78d45022bc7b58af7",
       "version_major": 2,
       "version_minor": 0
      },
      "text/plain": [
       "Downloading:   0%|          | 0.00/249M [00:00<?, ?B/s]"
      ]
     },
     "metadata": {},
     "output_type": "display_data"
    },
    {
     "data": {
      "application/vnd.jupyter.widget-view+json": {
       "model_id": "92955fb89951451594bb783de5ba7136",
       "version_major": 2,
       "version_minor": 0
      },
      "text/plain": [
       "Downloading:   0%|          | 0.00/29.0 [00:00<?, ?B/s]"
      ]
     },
     "metadata": {},
     "output_type": "display_data"
    },
    {
     "data": {
      "application/vnd.jupyter.widget-view+json": {
       "model_id": "67b335c1934d4ca6aa2f1a453103afb5",
       "version_major": 2,
       "version_minor": 0
      },
      "text/plain": [
       "Downloading:   0%|          | 0.00/208k [00:00<?, ?B/s]"
      ]
     },
     "metadata": {},
     "output_type": "display_data"
    },
    {
     "data": {
      "application/vnd.jupyter.widget-view+json": {
       "model_id": "07ed3736cb1848caad3ff8d41b749131",
       "version_major": 2,
       "version_minor": 0
      },
      "text/plain": [
       "Downloading:   0%|          | 0.00/426k [00:00<?, ?B/s]"
      ]
     },
     "metadata": {},
     "output_type": "display_data"
    }
   ],
   "source": [
    "qna = pipeline(\"question-answering\")"
   ]
  },
  {
   "cell_type": "code",
   "execution_count": 7,
   "id": "d3838c7a-7163-4064-9c14-8f64d1970b08",
   "metadata": {},
   "outputs": [
    {
     "data": {
      "text/plain": [
       "{'score': 0.568618893623352, 'start': 15, 'end': 20, 'answer': 'a can'}"
      ]
     },
     "execution_count": 7,
     "metadata": {},
     "output_type": "execute_result"
    }
   ],
   "source": [
    "qna(context=\"Today i bought a can of milk\", question=\"how much milk did i buy?\")"
   ]
  },
  {
   "cell_type": "code",
   "execution_count": 8,
   "id": "750266e7-7dc8-44b6-8185-5a5a0559e6c2",
   "metadata": {},
   "outputs": [],
   "source": [
    "context = \"Albert Einstein (14 March 1879 – 18 April 1955) was a \" + \\\n",
    "  \"German-born theoretical physicist, widely acknowledged to be one of the \" + \\\n",
    "  \"greatest physicists of all time. Einstein is best known for developing \" + \\\n",
    "  \"the theory of relativity, but he also made important contributions to \" + \\\n",
    "  \"the development of the theory of quantum mechanics. Relativity and \" + \\\n",
    "  \"quantum mechanics are together the two pillars of modern physics.\""
   ]
  },
  {
   "cell_type": "code",
   "execution_count": 15,
   "id": "a8ec3c99-d9a9-4836-9cfa-bd59257a49f4",
   "metadata": {},
   "outputs": [],
   "source": [
    "question=\"when did einstein get married?\""
   ]
  },
  {
   "cell_type": "code",
   "execution_count": 16,
   "id": "30f3b424-0a37-49d4-949e-7af0260cadd0",
   "metadata": {},
   "outputs": [
    {
     "data": {
      "text/plain": [
       "{'score': 0.3554280996322632,\n",
       " 'start': 33,\n",
       " 'end': 46,\n",
       " 'answer': '18 April 1955'}"
      ]
     },
     "execution_count": 16,
     "metadata": {},
     "output_type": "execute_result"
    }
   ],
   "source": [
    "qna(context=context, question=question)"
   ]
  },
  {
   "cell_type": "code",
   "execution_count": null,
   "id": "0b172d4f-6383-49a7-bc0b-ecb66777b7a4",
   "metadata": {},
   "outputs": [],
   "source": []
  }
 ],
 "metadata": {
  "kernelspec": {
   "display_name": "Python 3 (ipykernel)",
   "language": "python",
   "name": "python3"
  },
  "language_info": {
   "codemirror_mode": {
    "name": "ipython",
    "version": 3
   },
   "file_extension": ".py",
   "mimetype": "text/x-python",
   "name": "python",
   "nbconvert_exporter": "python",
   "pygments_lexer": "ipython3",
   "version": "3.8.13"
  }
 },
 "nbformat": 4,
 "nbformat_minor": 5
}
