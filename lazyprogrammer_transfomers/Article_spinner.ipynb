{
 "cells": [
  {
   "cell_type": "code",
   "execution_count": 1,
   "id": "63afc51f-f138-4de7-bfa9-afbfe9316e9f",
   "metadata": {},
   "outputs": [
    {
     "name": "stdout",
     "output_type": "stream",
     "text": [
      "--2023-04-01 19:15:15--  https://lazyprogrammer.me/course_files/nlp/bbc_text_cls.csv\n",
      "Resolving lazyprogrammer.me (lazyprogrammer.me)... 104.21.23.210, 172.67.213.166\n",
      "Connecting to lazyprogrammer.me (lazyprogrammer.me)|104.21.23.210|:443... connected.\n",
      "HTTP request sent, awaiting response... 200 OK\n",
      "Length: 5085081 (4.8M) [text/csv]\n",
      "Saving to: ‘bbc_text_cls.csv’\n",
      "\n",
      "bbc_text_cls.csv    100%[===================>]   4.85M  2.19MB/s    in 2.2s    \n",
      "\n",
      "2023-04-01 19:15:21 (2.19 MB/s) - ‘bbc_text_cls.csv’ saved [5085081/5085081]\n",
      "\n"
     ]
    }
   ],
   "source": [
    "# !wget -nc https://lazyprogrammer.me/course_files/nlp/bbc_text_cls.csv"
   ]
  },
  {
   "cell_type": "code",
   "execution_count": 3,
   "id": "fe96f43f-b37b-4426-ba40-35993c897773",
   "metadata": {},
   "outputs": [],
   "source": [
    "from transformers import pipeline"
   ]
  },
  {
   "cell_type": "code",
   "execution_count": 4,
   "id": "59c8b4f4-bf95-45c7-897a-cde8ef300f88",
   "metadata": {},
   "outputs": [
    {
     "name": "stderr",
     "output_type": "stream",
     "text": [
      "No model was supplied, defaulted to distilroberta-base (https://huggingface.co/distilroberta-base)\n"
     ]
    },
    {
     "data": {
      "application/vnd.jupyter.widget-view+json": {
       "model_id": "45f5bebc023a4bcdac16c9cfec5c56b8",
       "version_major": 2,
       "version_minor": 0
      },
      "text/plain": [
       "Downloading:   0%|          | 0.00/480 [00:00<?, ?B/s]"
      ]
     },
     "metadata": {},
     "output_type": "display_data"
    },
    {
     "name": "stdout",
     "output_type": "stream",
     "text": [
      "Metal device set to: Apple M1 Pro\n"
     ]
    },
    {
     "name": "stderr",
     "output_type": "stream",
     "text": [
      "2023-04-01 19:16:16.991809: I tensorflow/core/common_runtime/pluggable_device/pluggable_device_factory.cc:306] Could not identify NUMA node of platform GPU ID 0, defaulting to 0. Your kernel may not have been built with NUMA support.\n",
      "2023-04-01 19:16:16.991934: I tensorflow/core/common_runtime/pluggable_device/pluggable_device_factory.cc:272] Created TensorFlow device (/job:localhost/replica:0/task:0/device:GPU:0 with 0 MB memory) -> physical PluggableDevice (device: 0, name: METAL, pci bus id: <undefined>)\n"
     ]
    },
    {
     "data": {
      "application/vnd.jupyter.widget-view+json": {
       "model_id": "0386f54f42a04625a68ffa9561ac153b",
       "version_major": 2,
       "version_minor": 0
      },
      "text/plain": [
       "Downloading:   0%|          | 0.00/316M [00:00<?, ?B/s]"
      ]
     },
     "metadata": {},
     "output_type": "display_data"
    },
    {
     "data": {
      "application/vnd.jupyter.widget-view+json": {
       "model_id": "432a006781b641cd99f4301616a59649",
       "version_major": 2,
       "version_minor": 0
      },
      "text/plain": [
       "Downloading:   0%|          | 0.00/878k [00:00<?, ?B/s]"
      ]
     },
     "metadata": {},
     "output_type": "display_data"
    },
    {
     "data": {
      "application/vnd.jupyter.widget-view+json": {
       "model_id": "58b2635618ac409896e05693de98f3e7",
       "version_major": 2,
       "version_minor": 0
      },
      "text/plain": [
       "Downloading:   0%|          | 0.00/446k [00:00<?, ?B/s]"
      ]
     },
     "metadata": {},
     "output_type": "display_data"
    },
    {
     "data": {
      "application/vnd.jupyter.widget-view+json": {
       "model_id": "de3a5ff65116465b927b8b1f5a972251",
       "version_major": 2,
       "version_minor": 0
      },
      "text/plain": [
       "Downloading:   0%|          | 0.00/1.29M [00:00<?, ?B/s]"
      ]
     },
     "metadata": {},
     "output_type": "display_data"
    }
   ],
   "source": [
    "fm = pipeline(\"fill-mask\")"
   ]
  },
  {
   "cell_type": "code",
   "execution_count": 5,
   "id": "c69adc29-ca60-4036-b1a4-277340cc9344",
   "metadata": {},
   "outputs": [],
   "source": [
    "import pandas as pd\n",
    "import numpy as np\n",
    "import textwrap\n",
    "from pprint import pprint\n"
   ]
  },
  {
   "cell_type": "code",
   "execution_count": 6,
   "id": "da44a7b2-8a31-4da4-b181-152ec9fffac4",
   "metadata": {},
   "outputs": [
    {
     "data": {
      "text/html": [
       "<div>\n",
       "<style scoped>\n",
       "    .dataframe tbody tr th:only-of-type {\n",
       "        vertical-align: middle;\n",
       "    }\n",
       "\n",
       "    .dataframe tbody tr th {\n",
       "        vertical-align: top;\n",
       "    }\n",
       "\n",
       "    .dataframe thead th {\n",
       "        text-align: right;\n",
       "    }\n",
       "</style>\n",
       "<table border=\"1\" class=\"dataframe\">\n",
       "  <thead>\n",
       "    <tr style=\"text-align: right;\">\n",
       "      <th></th>\n",
       "      <th>text</th>\n",
       "      <th>labels</th>\n",
       "    </tr>\n",
       "  </thead>\n",
       "  <tbody>\n",
       "    <tr>\n",
       "      <th>0</th>\n",
       "      <td>Ad sales boost Time Warner profit\\n\\nQuarterly...</td>\n",
       "      <td>business</td>\n",
       "    </tr>\n",
       "    <tr>\n",
       "      <th>1</th>\n",
       "      <td>Dollar gains on Greenspan speech\\n\\nThe dollar...</td>\n",
       "      <td>business</td>\n",
       "    </tr>\n",
       "    <tr>\n",
       "      <th>2</th>\n",
       "      <td>Yukos unit buyer faces loan claim\\n\\nThe owner...</td>\n",
       "      <td>business</td>\n",
       "    </tr>\n",
       "    <tr>\n",
       "      <th>3</th>\n",
       "      <td>High fuel prices hit BA's profits\\n\\nBritish A...</td>\n",
       "      <td>business</td>\n",
       "    </tr>\n",
       "    <tr>\n",
       "      <th>4</th>\n",
       "      <td>Pernod takeover talk lifts Domecq\\n\\nShares in...</td>\n",
       "      <td>business</td>\n",
       "    </tr>\n",
       "  </tbody>\n",
       "</table>\n",
       "</div>"
      ],
      "text/plain": [
       "                                                text    labels\n",
       "0  Ad sales boost Time Warner profit\\n\\nQuarterly...  business\n",
       "1  Dollar gains on Greenspan speech\\n\\nThe dollar...  business\n",
       "2  Yukos unit buyer faces loan claim\\n\\nThe owner...  business\n",
       "3  High fuel prices hit BA's profits\\n\\nBritish A...  business\n",
       "4  Pernod takeover talk lifts Domecq\\n\\nShares in...  business"
      ]
     },
     "execution_count": 6,
     "metadata": {},
     "output_type": "execute_result"
    }
   ],
   "source": [
    "df = pd.read_csv(\"./data/bbc_text_cls.csv\")\n",
    "df.head()"
   ]
  },
  {
   "cell_type": "code",
   "execution_count": 8,
   "id": "325148b8-ab6b-4501-854d-ed43a41db865",
   "metadata": {},
   "outputs": [
    {
     "data": {
      "text/plain": [
       "{'business', 'entertainment', 'politics', 'sport', 'tech'}"
      ]
     },
     "execution_count": 8,
     "metadata": {},
     "output_type": "execute_result"
    }
   ],
   "source": [
    "labels = set(df[\"labels\"])\n",
    "labels"
   ]
  },
  {
   "cell_type": "code",
   "execution_count": 9,
   "id": "c5338cc5-2232-498c-b8b2-3d27f6e1b0d2",
   "metadata": {},
   "outputs": [],
   "source": [
    "label = \"business\""
   ]
  },
  {
   "cell_type": "code",
   "execution_count": 10,
   "id": "557e967d-12e3-4234-bc7a-bcb8d34f54bb",
   "metadata": {},
   "outputs": [
    {
     "data": {
      "text/plain": [
       "0      Ad sales boost Time Warner profit\\n\\nQuarterly...\n",
       "1      Dollar gains on Greenspan speech\\n\\nThe dollar...\n",
       "2      Yukos unit buyer faces loan claim\\n\\nThe owner...\n",
       "3      High fuel prices hit BA's profits\\n\\nBritish A...\n",
       "4      Pernod takeover talk lifts Domecq\\n\\nShares in...\n",
       "                             ...                        \n",
       "505    Trial begins of Spain's top banker\\n\\nThe tria...\n",
       "506    UK economy ends year with spurt\\n\\nThe UK econ...\n",
       "507    HealthSouth ex-boss goes on trial\\n\\nThe forme...\n",
       "508    Euro firms miss out on optimism\\n\\nMore than 9...\n",
       "509    Lacroix label bought by US firm\\n\\nLuxury good...\n",
       "Name: text, Length: 510, dtype: object"
      ]
     },
     "execution_count": 10,
     "metadata": {},
     "output_type": "execute_result"
    }
   ],
   "source": [
    "texts = df[df[\"labels\"] == label][\"text\"]\n",
    "texts"
   ]
  },
  {
   "cell_type": "code",
   "execution_count": 11,
   "id": "b19bbc8a-eeb9-4e9f-8380-6d9ec917e451",
   "metadata": {},
   "outputs": [],
   "source": [
    "np.random.seed(42)"
   ]
  },
  {
   "cell_type": "code",
   "execution_count": 16,
   "id": "2eb676fa-39b2-4706-be4e-cd4c87b04f25",
   "metadata": {},
   "outputs": [],
   "source": [
    "doc = np.random.choice(texts)"
   ]
  },
  {
   "cell_type": "code",
   "execution_count": 18,
   "id": "6f32a579-4b52-4136-81d3-97fe22d24c70",
   "metadata": {},
   "outputs": [
    {
     "name": "stdout",
     "output_type": "stream",
     "text": [
      "('ECB holds rates amid growth fears\\n'\n",
      " '\\n'\n",
      " 'The European Central Bank has left its key interest rate unchanged at 2% for '\n",
      " 'the 19th month in succession.\\n'\n",
      " '\\n'\n",
      " 'Borrowing costs have remained on hold amid concerns about the strength of '\n",
      " 'economic growth in the 12 nations sharing the euro, analysts said. Despite '\n",
      " 'signs of pick-up, labour markets and consumer demand remain sluggish, while '\n",
      " 'firms are eyeing cost cutting measures such as redundancies. High oil '\n",
      " 'prices, meanwhile, have put upward pressure on the inflation rate.\\n'\n",
      " '\\n'\n",
      " 'Surveys of economists have shown that the majority expect borrowing costs to '\n",
      " 'stay at 2% in coming months, with an increase of a quarter of a percentage '\n",
      " 'point predicted some time in the second half of the year. If anything, there '\n",
      " 'may be greater calls for an interest rate cut, especially with the euro '\n",
      " 'continuing to strengthen against the dollar. \"The euro land economy is still '\n",
      " 'struggling with this recovery,\" said economist Dirk Schumacher. The ECB \"may '\n",
      " 'sound rather hawkish but once the data allows them to cut again, they will.\" '\n",
      " 'Data coming out of Germany on Thursday underlined the problems facing '\n",
      " \"European policy makers. While Germany's economy expanded by 1.7% in 2004, \"\n",
      " 'growth was driven by export sales and lost some of its momentum in the last '\n",
      " 'three months of the year.\\n'\n",
      " '\\n'\n",
      " 'The strength of the euro is threatening to dampen that foreign demand in '\n",
      " '2005, and domestic consumption currently is not strong enough to take up the '\n",
      " 'slack. Inflation in the eurozone, however, is estimated at about 2.3% in '\n",
      " 'December, above ECB guidelines of 2%. ECB President Jean-Claude Trichet has '\n",
      " 'remained upbeat about prospects for the region, and inflation is expected to '\n",
      " 'drop below 2% later in 2005. The ECB has forecast economic growth in the '\n",
      " 'eurozone of 1.9% in 2005.')\n"
     ]
    }
   ],
   "source": [
    "pprint(doc)"
   ]
  },
  {
   "cell_type": "code",
   "execution_count": 20,
   "id": "20fcf4f6-0ef5-4e1e-87ff-51d9d44c9372",
   "metadata": {},
   "outputs": [
    {
     "data": {
      "text/plain": [
       "[{'score': 0.5302468538284302,\n",
       "  'token': 773,\n",
       "  'token_str': ' interest',\n",
       "  'sequence': 'The European Central Bank has left its key interest rate unchanged at 2% for the 19th month in succession.'},\n",
       " {'score': 0.24895532429218292,\n",
       "  'token': 6946,\n",
       "  'token_str': ' lending',\n",
       "  'sequence': 'The European Central Bank has left its key lending rate unchanged at 2% for the 19th month in succession.'},\n",
       " {'score': 0.11526511609554291,\n",
       "  'token': 8068,\n",
       "  'token_str': ' deposit',\n",
       "  'sequence': 'The European Central Bank has left its key deposit rate unchanged at 2% for the 19th month in succession.'},\n",
       " {'score': 0.02119693160057068,\n",
       "  'token': 27640,\n",
       "  'token_str': ' repo',\n",
       "  'sequence': 'The European Central Bank has left its key repo rate unchanged at 2% for the 19th month in succession.'},\n",
       " {'score': 0.018192840740084648,\n",
       "  'token': 2081,\n",
       "  'token_str': ' exchange',\n",
       "  'sequence': 'The European Central Bank has left its key exchange rate unchanged at 2% for the 19th month in succession.'}]"
      ]
     },
     "execution_count": 20,
     "metadata": {},
     "output_type": "execute_result"
    }
   ],
   "source": [
    "fm(\"The European Central Bank has left its key <mask> rate unchanged at 2% for the 19th month in succession.\")"
   ]
  },
  {
   "cell_type": "code",
   "execution_count": 25,
   "id": "7be762ca-bf70-4739-b3c9-552967df4dcc",
   "metadata": {},
   "outputs": [
    {
     "data": {
      "text/plain": [
       "[{'score': 0.9949487447738647,\n",
       "  'token': 5363,\n",
       "  'token_str': ' Jean',\n",
       "  'sequence': 'ECB President Jean-Claude Trichet has remained upbeat about prospects for the region, and inflation is expected to drop below 2% later in 2005.'},\n",
       " {'score': 0.0019337671110406518,\n",
       "  'token': 9340,\n",
       "  'token_str': ' Marie',\n",
       "  'sequence': 'ECB President Marie-Claude Trichet has remained upbeat about prospects for the region, and inflation is expected to drop below 2% later in 2005.'},\n",
       " {'score': 0.0014969523763284087,\n",
       "  'token': 11300,\n",
       "  'token_str': ' Pierre',\n",
       "  'sequence': 'ECB President Pierre-Claude Trichet has remained upbeat about prospects for the region, and inflation is expected to drop below 2% later in 2005.'},\n",
       " {'score': 0.0013018702156841755,\n",
       "  'token': 24575,\n",
       "  'token_str': ' Claude',\n",
       "  'sequence': 'ECB President Claude-Claude Trichet has remained upbeat about prospects for the region, and inflation is expected to drop below 2% later in 2005.'},\n",
       " {'score': 0.00010264200682286173,\n",
       "  'token': 13047,\n",
       "  'token_str': ' Nicolas',\n",
       "  'sequence': 'ECB President Nicolas-Claude Trichet has remained upbeat about prospects for the region, and inflation is expected to drop below 2% later in 2005.'}]"
      ]
     },
     "execution_count": 25,
     "metadata": {},
     "output_type": "execute_result"
    }
   ],
   "source": [
    "fm(\"ECB President <mask>-Claude Trichet has remained upbeat about prospects for the region, and inflation is expected to drop below 2% later in 2005.\")"
   ]
  },
  {
   "cell_type": "code",
   "execution_count": null,
   "id": "8e91c98f-5916-4d73-82dc-7d8e641a0a8f",
   "metadata": {},
   "outputs": [],
   "source": []
  }
 ],
 "metadata": {
  "kernelspec": {
   "display_name": "Python 3 (ipykernel)",
   "language": "python",
   "name": "python3"
  },
  "language_info": {
   "codemirror_mode": {
    "name": "ipython",
    "version": 3
   },
   "file_extension": ".py",
   "mimetype": "text/x-python",
   "name": "python",
   "nbconvert_exporter": "python",
   "pygments_lexer": "ipython3",
   "version": "3.8.13"
  }
 },
 "nbformat": 4,
 "nbformat_minor": 5
}
